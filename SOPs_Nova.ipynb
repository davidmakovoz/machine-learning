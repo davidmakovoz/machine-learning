{
 "cells": [
  {
   "cell_type": "code",
   "execution_count": 1,
   "id": "bffaf211",
   "metadata": {},
   "outputs": [],
   "source": [
    "import chromadb\n",
    "from langchain.document_loaders import TextLoader\n",
    "from langchain.text_splitter import RecursiveCharacterTextSplitter\n",
    "from langchain.vectorstores import Chroma\n",
    "from langchain.embeddings import HuggingFaceBgeEmbeddings, OpenAIEmbeddings\n",
    "import glob\n",
    "import re"
   ]
  },
  {
   "cell_type": "code",
   "execution_count": 8,
   "id": "482b7a08",
   "metadata": {},
   "outputs": [],
   "source": [
    "text_files = glob.glob(r'./data/SOPs Nova/*.txt')\n",
    "all_pages = []\n",
    "for text in text_files:\n",
    "    loader = TextLoader(text,  encoding='utf-8')\n",
    "    pages = loader.load()\n",
    "    all_pages.extend(pages)"
   ]
  },
  {
   "cell_type": "code",
   "execution_count": 17,
   "id": "f3a11170",
   "metadata": {},
   "outputs": [],
   "source": [
    "text_splitter = RecursiveCharacterTextSplitter(\n",
    "    chunk_size = 10000,\n",
    "    chunk_overlap = 200,\n",
    "    separators = ['.', '\\n'],\n",
    "    add_start_index = True)"
   ]
  },
  {
   "cell_type": "code",
   "execution_count": 18,
   "id": "7ef40908",
   "metadata": {},
   "outputs": [
    {
     "data": {
      "text/plain": [
       "3"
      ]
     },
     "execution_count": 18,
     "metadata": {},
     "output_type": "execute_result"
    }
   ],
   "source": [
    "len(all_pages)"
   ]
  },
  {
   "cell_type": "code",
   "execution_count": 19,
   "id": "101526d8",
   "metadata": {},
   "outputs": [
    {
     "name": "stdout",
     "output_type": "stream",
     "text": [
      "30\n"
     ]
    }
   ],
   "source": [
    "texts = text_splitter.split_documents(all_pages)\n",
    "print (len(texts))"
   ]
  },
  {
   "cell_type": "code",
   "execution_count": 20,
   "id": "a91f3acc",
   "metadata": {},
   "outputs": [
    {
     "name": "stdout",
     "output_type": "stream",
     "text": [
      "30\n"
     ]
    }
   ],
   "source": [
    "long_texts = []\n",
    "for t in texts:\n",
    "    if len(t.page_content) > 300:\n",
    "        long_texts.append(t)\n",
    "    else:\n",
    "        print (t.page_content)\n",
    "print (len(long_texts))"
   ]
  },
  {
   "cell_type": "code",
   "execution_count": 91,
   "id": "ae9e182e",
   "metadata": {},
   "outputs": [
    {
     "data": {
      "text/plain": [
       "[9953,\n",
       " 9830,\n",
       " 9961,\n",
       " 9646,\n",
       " 9930,\n",
       " 9892,\n",
       " 9818,\n",
       " 9898,\n",
       " 9863,\n",
       " 9836,\n",
       " 9415,\n",
       " 9812,\n",
       " 9845,\n",
       " 9891,\n",
       " 9952,\n",
       " 9977,\n",
       " 9855,\n",
       " 9749,\n",
       " 9996,\n",
       " 9513,\n",
       " 9707,\n",
       " 9929,\n",
       " 9590,\n",
       " 9661,\n",
       " 8208,\n",
       " 9990,\n",
       " 9960,\n",
       " 7200,\n",
       " 9920,\n",
       " 3039]"
      ]
     },
     "execution_count": 91,
     "metadata": {},
     "output_type": "execute_result"
    }
   ],
   "source": [
    "[len(x.page_content) for x in long_texts]"
   ]
  },
  {
   "cell_type": "code",
   "execution_count": 2,
   "id": "5392c949",
   "metadata": {
    "scrolled": true
   },
   "outputs": [],
   "source": [
    "persist_directory = './chromadb_sops_nova/'\n",
    "embed_path  = '/embeddings/'"
   ]
  },
  {
   "cell_type": "code",
   "execution_count": 3,
   "id": "0a7bb0f8",
   "metadata": {
    "scrolled": true
   },
   "outputs": [],
   "source": [
    "embeddings = HuggingFaceBgeEmbeddings(model_name = 'BAAI/bge-large-en', cache_folder=embed_path)"
   ]
  },
  {
   "cell_type": "code",
   "execution_count": 92,
   "id": "13dde26d",
   "metadata": {
    "scrolled": false
   },
   "outputs": [],
   "source": [
    "\n",
    "collection_name = 'sops_nova_10000_200'\n",
    "client = chromadb.PersistentClient(path= persist_directory)\n",
    "db = Chroma(\n",
    "    client=client,\n",
    "    persist_directory=persist_directory,\n",
    "    collection_name = collection_name,\n",
    "    embedding_function=embeddings)"
   ]
  },
  {
   "cell_type": "code",
   "execution_count": 93,
   "id": "6e3954e2",
   "metadata": {},
   "outputs": [
    {
     "name": "stdout",
     "output_type": "stream",
     "text": [
      "CPU times: total: 4min 10s\n",
      "Wall time: 1min 4s\n"
     ]
    }
   ],
   "source": [
    "%%time\n",
    "added_documents = db.add_documents(texts)\n",
    "db.persist()"
   ]
  },
  {
   "cell_type": "code",
   "execution_count": 16,
   "id": "5ffba62f",
   "metadata": {},
   "outputs": [
    {
     "data": {
      "text/plain": [
       "[Collection(name=sops_nova_1000_20),\n",
       " Collection(name=sops_nova),\n",
       " Collection(name=sops_nova_10000_200)]"
      ]
     },
     "execution_count": 16,
     "metadata": {},
     "output_type": "execute_result"
    }
   ],
   "source": [
    "client.list_collections()"
   ]
  },
  {
   "cell_type": "code",
   "execution_count": 5,
   "id": "a3597eed",
   "metadata": {},
   "outputs": [],
   "source": [
    "question = 'What is impossible travel?'\n",
    "answer  = db.similarity_search_with_score(question)"
   ]
  },
  {
   "cell_type": "code",
   "execution_count": 6,
   "id": "10345804",
   "metadata": {},
   "outputs": [
    {
     "name": "stdout",
     "output_type": "stream",
     "text": [
      "{'source': './data/SOPs Nova\\\\MVP Runbook Ver 1.txt', 'start_index': 4648} 0.5201226472854614\n",
      "{'source': './data/SOPs Nova\\\\MVP Runbook Ver 1.txt', 'start_index': 7779} 0.5416182279586792\n",
      "{'source': './data/SOPs Nova\\\\MVP Runbook Ver 1.txt', 'start_index': 175638} 0.542321503162384\n",
      "{'source': './data/SOPs Nova\\\\MVP Runbook Ver 1.txt', 'start_index': 20445} 0.5476157069206238\n"
     ]
    }
   ],
   "source": [
    "for doc, score in answer:\n",
    "    print (doc.metadata, score)"
   ]
  },
  {
   "cell_type": "code",
   "execution_count": 14,
   "id": "f50df2db",
   "metadata": {
    "collapsed": true
   },
   "outputs": [
    {
     "name": "stdout",
     "output_type": "stream",
     "text": [
      ".1\tUse Case Mapping (To be filled by project teams)\t139\n",
      "58.2\tOpen-Source Tools\t139\n",
      "58.3\tKey Windows Event IDs\t139\n",
      "\n",
      "\n",
      " \n",
      "\n",
      "1\tImpossible Travel Activity/Unusual Remote Access\n",
      "\n",
      "Objective: The objective of this use-case is to identify potential compromised user ids by detecting anomalous/suspicious authentications into the environment e.g., change in user login location.\n",
      "False Positive Scenario:  User has travelled, is using VPN, connecting via two devices on different ISPs etc. In such cases check Host Names, Device IDs to identify if the login is from user’s usual device or from a new device.\n",
      "Things to be Identified for confirmed Incidents\n",
      "•\tWhen and how did user’s credential got compromised?\n",
      "•\tWere there other users who could have been compromised similarly e.g., Click on same phish URL etc \n",
      "\n",
      "\n",
      ".?\n",
      "o\tIs the IP blacklisted/hosting suspicious Machine (Debian Linux)/belong to a hostile geo?\n",
      "o\tIs login happening out of hours?\n",
      "o\tAny suspicious activity detected by endpoint security agent/SIEM on identified/User’s host machine?\n",
      "o\tAny anomalous network traffic detection (Lateral movement to other systems/C2C communication to Internet) on the identified/User’s host machine?\n",
      "o\tWhat’s the response from user’s manager for validating the travel?\n",
      "From the above questions if we are able to conclude that it’s a false positive, escalate the alert to L2 for review and finetuning. Else, If True positive\n",
      "•\tRemediation Steps:\n",
      "o\tTerminate all remote sessions for the identified user id/ids.\n",
      "o\tReset User Id/Ids involved.\n",
      "o\tBlock source IP/Source Geo.\n",
      "o\tRecommend MFA for remote access.\n",
      "o\tQuickly escalate to L2 to identify further impact and initial source of entry \n",
      "\n",
      "\n",
      ".\n",
      "Lesson Learnt\n",
      "o\tDid you perform any additional analysis step which has to be added in runbook?\n",
      "o\tDid you identify any tactic as part of analysis for which use-case can be created?\n",
      "o\tDid you identify any policy gap in authentication and security controls which could have prevented this incident or could have detected it early?\n",
      "o\tDid you identify any visibility gap due to unavailability of logs/security controls? \n",
      " \n",
      "43\tExcessive Deny Connections to a particular destination\n",
      "\n",
      "Objective: The objective of this use-case is to detect potential malware presence in a host by detecting anomalous blocked attempts to a particular destination.\n",
      "False Positive Scenario:  Application generated unwanted traffic blocked by firewalls \n",
      "\n",
      "\n",
      ".?\n",
      "o\tAny suspicious activity detected by endpoint security agent/SIEM on identified/User’s host machine??\n",
      "o\tAny Anomalous network traffic detection (Lateral movement to other systems/C2C communication to Internet) from identified/User’s host machine?\n",
      "o\tWhat’s the response from user’s manager for validating the travel?\n",
      "From the above questions if we are able to conclude that it’s a false positive, escalate the alert to L2 for review and finetuning. If True positive\n",
      "•\tRemediation Steps:\n",
      "o\tReset User Id/Ids involved.\n",
      "o\tBlock source IP.\n",
      "o\tRecommend Geofencing and MFA for remote access.\n",
      "o\tRecommend full AV scan post updating definition and cleanup actions for the identified host device. If required, isolate impacted Device post doing impact analysis.\n",
      "o\tQuickly escalate to L2 to identify further impact and initial source of entry \n",
      "\n",
      "\n"
     ]
    }
   ],
   "source": [
    "for doc, score in answer:\n",
    "    print (doc.page_content, '\\n\\n')"
   ]
  },
  {
   "cell_type": "markdown",
   "id": "2f757d42",
   "metadata": {},
   "source": [
    "## Generate Questions"
   ]
  },
  {
   "cell_type": "code",
   "execution_count": 7,
   "id": "6b8e0777",
   "metadata": {},
   "outputs": [],
   "source": [
    "import openai, os\n",
    "from openai import OpenAI\n",
    "import subprocess\n",
    "openai_client = OpenAI(\n",
    "    # This is the default and can be omitted\n",
    "    api_key=os.environ.get(\"OPENAI_API_KEY\"),\n",
    ")"
   ]
  },
  {
   "cell_type": "code",
   "execution_count": 36,
   "id": "f58e01a4",
   "metadata": {},
   "outputs": [],
   "source": [
    "\n",
    "question_generation_system_message_template = '''\n",
    "You are a network security expert. \n",
    "You are given sections from cyber security documentation.\n",
    "You are to generate {} meaningfull quesitons for each document. \n",
    "Do not generate questions if the document is just a table of content. Do not return anything.\n",
    "Just generate the question, no explanation, just a single sentence question.\n",
    "'''"
   ]
  },
  {
   "cell_type": "code",
   "execution_count": 72,
   "id": "70f77f89",
   "metadata": {},
   "outputs": [
    {
     "data": {
      "text/plain": [
       "'\\nYou are a network security expert. \\nYou are given sections from cyber security documentation.\\nYou are to generate 15 meaningfull quesitons for each document. \\nDo not generate questions if the document is just a table of content. Do not return anything.\\nJust generate the question, no explanation, just a single sentence question.\\n'"
      ]
     },
     "execution_count": 72,
     "metadata": {},
     "output_type": "execute_result"
    }
   ],
   "source": [
    "number_questions = 15\n",
    "question_generation_system_message_template.format(number_questions)"
   ]
  },
  {
   "cell_type": "code",
   "execution_count": 37,
   "id": "bde3880b",
   "metadata": {},
   "outputs": [],
   "source": [
    "model='gpt-4-turbo-preview'\n",
    "temperature = 0\n",
    "all_answers = []\n",
    "number_questions = 2\n",
    "for text in long_texts:\n",
    "\n",
    "    new_content = text.page_content\n",
    "    question_generation_system_message  = question_generation_system_message_template.format(number_questions)\n",
    "    messages = []\n",
    "    messages.append({\"role\": \"system\", \"content\": question_generation_system_message})\n",
    "    \n",
    "    messages.append({\"role\": \"user\", \"content\": new_content})\n",
    "\n",
    "    response = openai_client.chat.completions.create(\n",
    "        model=model,\n",
    "        messages=messages,\n",
    "        temperature=temperature,\n",
    "        max_tokens = 300\n",
    "    )\n",
    "\n",
    "    answer = response.choices[0].message.content\n",
    "    all_answers.append(answer)"
   ]
  },
  {
   "cell_type": "code",
   "execution_count": 38,
   "id": "2335a537",
   "metadata": {},
   "outputs": [
    {
     "name": "stdout",
     "output_type": "stream",
     "text": [
      "What steps should be taken if a recently published CVE with critical severity is identified in our environment?\n",
      "How should bulk IP, URL, or Domain IOC's be managed and utilized for network traffic analysis?\n"
     ]
    }
   ],
   "source": [
    "print (answer)"
   ]
  },
  {
   "cell_type": "code",
   "execution_count": 59,
   "id": "243e1e6c",
   "metadata": {},
   "outputs": [
    {
     "name": "stdout",
     "output_type": "stream",
     "text": [
      "For the section on \"Impossible Travel Activity/Unusual Remote Access\":\n",
      "1. How can SOC teams differentiate between legitimate travel-related login attempts and actual impossible travel activity?\n",
      "2. What steps should be taken if a user's device is identified as not belonging to them during the analysis of an impossible travel alert?\n",
      "\n",
      "For the section on \"Threat Intel Activity Detected/ Threat Intel Indicator Matched – IP Address\":\n",
      "1. What are the key indicators that a communication with a matched IP address is part of a malicious intrusion attempt rather than legitimate traffic?\n",
      "2. How should SOC teams proceed when multiple systems in the environment have communicated with known IOCs?\n",
      "For the section on External Unauthorized vulnerability scanning activity/Multiple Web Attack Detections from a Single IP/Multiple IPS/WAF Alerts detected on a Single Host in a short span of time:\n",
      "\n",
      "1. How can the initial information gathering process be improved to quickly differentiate between false positives and true threats in the context of unauthorized vulnerability scanning?\n",
      "2. What additional indicators of compromise (IoCs) could be considered to enhance the detection of successful exploitation post scanning?\n",
      "\n",
      "For the section on Unauthorized IPs/Region accessing Corporate Network:\n",
      "\n",
      "1. What strategies can be implemented to more effectively identify and mitigate risks associated with logins from unauthorized IPs or regions?\n",
      "2. How can organizations better prepare to respond to systemic ID compromises that result in complete Active Directory (AD) trust loss?\n",
      "\n",
      "For the section on \"External Port Scan/Port Sweep Activity\":\n",
      "1. How can an organization differentiate between authorized scans and malicious external port scans effectively?\n",
      "2. What remediation steps should be taken if a port scan is determined to be part of a coordinated attack?\n",
      "\n",
      "For the section on \"MFA Request from new device, user, phone number\":\n",
      "1. What indicators should security teams look for to identify MFA enrollment attempts from compromised accounts?\n",
      "2. How should organizations respond to confirmed incidents of unauthorized MFA enrollment attempts to ensure account security?\n",
      "\n",
      "For the section on \"Remote Desktop, SSH, SMB connection attempts from Public IP Address\":\n",
      "1. What are the key indicators of suspicious activities following unauthorized remote desktop, SSH, or SMB connection attempts?\n",
      "2. How can organizations effectively prevent unauthorized access through remotely exposed services such as RDP, SSH, and SMB?\n",
      "For the section on \"External Remote Services\":\n",
      "1. How can the reputation and geography of a source/remote IP address influence the initial assessment of a security event?\n",
      "2. What steps should be taken if unauthorized configuration changes are detected on an admin console as a result of an external remote service connection?\n",
      "\n",
      "For the section on \"Exploit Attempts for a vulnerable application\":\n",
      "1. How does identifying the targeted vulnerability help in assessing the impact of an exploit attempt on a web-facing application?\n",
      "2. What are the key indicators to determine if an exploitation attempt has led to unauthorized data download or upload activities?\n",
      "\n",
      "For the section on \"Web application accessed through a blacklisted User agent\":\n",
      "1. How can the detection of a blacklisted user agent contribute to identifying potential intrusion activities on web-facing applications?\n",
      "2. What analysis steps should be taken if a remote IP address using a blacklisted user agent accesses multiple unauthorized web pages?\n",
      "For the section on \"Suspicious Usage of Windows Utilities/ Suspicious PowerShell Script/ Suspicious Cmd Execution via WMI/ Persistence via BITS Job\":\n",
      "1. How can the use of native Windows utilities by adversaries be differentiated from legitimate administrative activities in real-time monitoring?\n",
      "2. What steps should be taken if a command executed via PowerShell is determined to be part of a malicious activity?\n",
      "\n",
      "For the section on \"Deletion of Shadow Copies\":\n",
      "1. How can an organization effectively monitor and differentiate between legitimate and malicious deletion of shadow copies?\n",
      "2. What immediate actions should be taken upon detection of unauthorized shadow copy deletion to mitigate potential ransomware attacks?\n",
      "\n",
      "For the section on \"Detection of Mimikatz\":\n",
      "1. What are the key indicators of Mimikatz usage on a network, and how can they be detected proactively?\n",
      "2. In the event of a Mimikatz detection, what are the first steps an organization should take to contain the threat and assess the extent of compromise?\n",
      "1. What steps should be taken if a NTDS.DIT dump is observed during the analysis of a credential dumping incident?\n",
      "2. How can one differentiate between a legitimate security testing exercise and an actual credential dumping attack based on the analysis steps provided?\n",
      "\n",
      "1. What indicators should be analyzed to confirm a phishing attack and differentiate it from a phishing awareness campaign?\n",
      "2. How should the response to a phishing incident change based on the number of users targeted and the number of users who got phished?\n",
      "For the Phishing section:\n",
      "1. How can the urgency in a phishing email's content contribute to its success in deceiving users?\n",
      "2. What steps should be taken if a user's system is found to have malware following a phishing attempt?\n",
      "\n",
      "For the Malware Detected section:\n",
      "1. How does the identification of a critical server or VIP's endpoint as part of a malware incident change the response strategy?\n",
      "2. What are the key indicators to determine if a malware download was successful and what immediate actions should be taken?\n",
      "\n",
      "For the Potential Webshell detection section:\n",
      "1. How can the detection of a webshell impact the security posture of internet-facing web servers?\n",
      "2. What are the initial steps to take upon detecting a webshell to prevent further unauthorized access?\n",
      "1. How can the process of identifying whether a command execution is a known application behavior be automated to improve incident response times?\n",
      "2. What steps should be taken if a webshell detection is confirmed to be a true positive to ensure comprehensive remediation and prevent future incidents?\n",
      "\n",
      "1. What are the key indicators to determine if a suspicious authentication attempt is due to a compromised user credential?\n",
      "2. How can organizations effectively baseline normal authentication behavior to quickly identify anomalies indicative of account compromise?\n",
      "\n",
      "1. In the context of detecting usage of compromised accounts for privilege escalation, how can organizations differentiate between legitimate and malicious use of Runas or alternate credentials?\n",
      "2. What measures can be implemented to detect and respond to unauthorized privilege escalation attempts in real-time?\n",
      "For document 21 \"Local authentication Detected/ Usage of Local Admin Credentials\":\n",
      "\n",
      "1. How can an organization effectively monitor and detect unauthorized use of local admin credentials to prevent potential security breaches?\n",
      "2. What steps should be taken to investigate and remediate a situation where local admin credentials have been compromised and used for malicious activities?\n",
      "\n",
      "For document 22 \"Un-authorized Account Creation/ User Account Creation/ User Account Enabled\":\n",
      "\n",
      "1. What are the key indicators that a newly created or enabled account might be unauthorized or part of a malicious activity?\n",
      "2. How can organizations ensure that the process of account creation and enabling is secure and monitored to prevent misuse by adversaries?\n",
      "For the section \"Suspicious authentication detected runbook\":\n",
      "\n",
      "1. How can we differentiate between a false positive and a true positive in suspicious authentication attempts?\n",
      "2. What additional analysis steps should be considered for inclusion in the runbook based on lessons learned from past incidents?\n",
      "\n",
      "For the section \"User added to sensitive/privileged local or global security group\":\n",
      "\n",
      "1. How can the process of adding a user to a sensitive or privileged group be monitored to detect unauthorized privilege escalation?\n",
      "2. What remediation steps should be taken if a user is wrongly added to a privileged group and suspicious activities are detected?\n",
      "\n",
      "For the section \"Suspicious Windows Shell Launched by a trusted (MS Office) process/Suspicious MS Office Child Process\":\n",
      "\n",
      "1. How can organizations effectively detect and respond to suspicious processes launched by trusted applications like MS Office?\n",
      "2. What are the key indicators to differentiate between legitimate and malicious use of macros or shell processes launched by office applications?\n",
      "For the section on \"Password reset by an unauthorized user\":\n",
      "1. How can the process of identifying a legitimate IT team password reset be improved to reduce false positives?\n",
      "2. What additional security measures can be implemented to detect unauthorized password reset attempts more effectively?\n",
      "\n",
      "For the section on \"Account is Enabled, disabled in short span of time\":\n",
      "1. What are the key indicators that differentiate between a legitimate account modification by the IT team and a malicious account manipulation attempt?\n",
      "2. How can continuous monitoring of account status changes be utilized to prevent unauthorized access and lateral movement within the network?\n",
      "\n",
      "For the section on \"Allowed/ Blocked web access to high severity/Malicious URL/IP\":\n",
      "1. What strategies can be employed to enhance the accuracy of threat intelligence feeds to reduce false positives related to malicious URL/IP blocking?\n",
      "2. How can an organization improve its response time from the first communication with a malicious URL/IP to the detection and mitigation of the threat?\n",
      "For the section on \"Unusual Web User Agent/ Web access using unknown/un-trusted user agents\":\n",
      "1. How can one differentiate between a legitimate browser upgrade and an anomalous user agent string that might indicate malicious activity?\n",
      "2. What steps should be taken if multiple systems within the environment are observed using the same suspicious user agent string?\n",
      "\n",
      "For the section on \"Unauthorized VM Provisioning/Deprovisioning/Modification Activity\":\n",
      "1. What indicators should be monitored to detect unauthorized access or modifications within the virtual layer?\n",
      "2. How can organizations effectively track and manage changes to VMs to prevent unauthorized activities?\n",
      "For document 30 \"Unauthorized Cloud Resource Provisioning/Deprovisioning/modification Activity\":\n",
      "1. How can the initial compromise of an ID be accurately determined in the context of unauthorized cloud resource activities?\n",
      "2. What steps should be taken to isolate unauthorized VMs created by adversaries?\n",
      "\n",
      "For document 31 \"Audit Log Cleared\":\n",
      "1. How can an organization differentiate between legitimate and malicious audit log clearing activities?\n",
      "2. What are the recommended steps for remediating a system where audit logs have been cleared by an adversary?\n",
      "\n",
      "For document 32 \"Unexpected system reboot, shutdown\":\n",
      "1. What indicators can help determine if an unexpected system reboot or shutdown was part of an adversarial attack?\n",
      "2. How should an organization respond to detect and mitigate the impact of unauthorized system reboots or shutdowns?\n",
      "\n",
      "For document 33 \"Unauthorized Remote Administration Tool Detected\":\n",
      "1. What are the key indicators of compromise to look for when an unauthorized remote administration tool is detected?\n",
      "2. How can organizations differentiate between legitimate and malicious use of remote administration tools?\n",
      "For the section on \"Things to be Identified for confirmed Incidents\":\n",
      "1. How can the source system's control by the adversary be accurately determined?\n",
      "2. What steps are taken to identify and analyze user activities that could indicate a security breach?\n",
      "\n",
      "For the section on \"Excessive emails sent from internal user/system to internal as well as external domains\":\n",
      "1. How is the origin of the compromise of the email account determined?\n",
      "2. What methods are used to assess the impact of phishing emails on targeted users?\n",
      "\n",
      "For the section on \"Possible Rogue storage device Detected\":\n",
      "1. How is the authorization of a user to use a USB device on a specific system verified?\n",
      "2. What are the steps taken if malware is detected from a USB device usage?\n",
      "For the \"Scheduled Tasks created via AT.exe (Legacy OS Only)\" section:\n",
      "\n",
      "1. How can one differentiate between legitimate use of AT.exe for scheduled tasks and malicious use by an adversary?\n",
      "2. What are the key indicators to look for when investigating the parent process and associated user for the shell which launched AT?\n",
      "\n",
      "For the \"Login attempts from a Disabled Account\" section:\n",
      "\n",
      "1. What steps should be taken to investigate the source of a disabled account attempting to log in?\n",
      "2. How can one determine if login attempts from a disabled account are part of a coordinated attack or a misconfiguration?\n",
      "\n",
      "For the \"Device Not Sending logs/ Log source not reporting\" section:\n",
      "\n",
      "1. What are the initial steps to diagnose why a device has stopped sending logs to the SIEM?\n",
      "2. How can one differentiate between a device not sending logs due to adversary activity and a technical issue?\n",
      "How can the impact of unauthorized configuration changes on security tools be assessed in terms of security gaps created?\n",
      "What steps should be taken if a user unauthorized to make policy changes is found to have done so?\n",
      "\n",
      "What indicators can be used to determine if a process tampering with a security agent is part of a coordinated attack rather than a benign activity?\n",
      "How should an organization respond if suspicious activities are detected following the tampering of security tool processes by an unauthorized process?\n",
      "For the section on \"Modification of critical registry keys/values in HKLM/HKLU\":\n",
      "\n",
      "1. How can one differentiate between a legitimate registry change made by an IT administrator and a malicious modification by an adversary?\n",
      "2. What steps should be taken if a registry change is detected that disables security controls or enables credential dumping?\n",
      "\n",
      "For the section on \"Failed logons from a service account\":\n",
      "\n",
      "1. What are the indicators of compromise to look for when a service account shows failed logon attempts?\n",
      "2. How should an organization respond if it is determined that a service account has been compromised and used for malicious activities?\n",
      "For the section on \"Excessive Deny Connections to a particular destination\":\n",
      "\n",
      "1. How can the analysis of repeated or patterned traffic to a particular destination help in identifying potential malware presence?\n",
      "2. What steps should be taken if the communication to a destination IP is identified as part of a command and control tactic according to the Mitre Att&ck framework?\n",
      "\n",
      "For the section on \"Large outbound data transfer\":\n",
      "\n",
      "1. How can distinguishing between insider and adversarial activities improve the response to large outbound data transfers?\n",
      "2. What are the key indicators that a large outbound data transfer might be a true positive for data exfiltration?\n",
      "\n",
      "For the section on \"Detects suspicious parent process launching schtasks\":\n",
      "\n",
      "1. How can identifying the parent process and associated user for the shell which launched schtasks help in detecting abuse of access?\n",
      "2. What mitigation strategies can be employed upon detection of unauthorized scheduled tasks being created for persistence or execution?\n",
      "What steps should be taken if a service account is observed using an encryption downgrade activity for the first time?\n",
      "How can one differentiate between legitimate use of older encryption algorithms by legacy applications and malicious Kerberos encryption downgrade activities?\n",
      "For the section \"Insecure Or Clear Text Authentication Detected\":\n",
      "\n",
      "1. What steps should be taken if repeated insecure authentication requests are observed from the same machine despite previous analysis?\n",
      "2. How can one differentiate between a legitimate use of clear text authentication by legacy applications and a potential security threat?\n",
      "\n",
      "For the section \"Interactive login from a service account\":\n",
      "\n",
      "1. What are the implications of detecting a service account being used for interactive logins, especially if it's outside its functional context?\n",
      "2. How should an organization respond if simultaneous logins from a service account are observed across multiple systems?\n",
      "For the section on \"Unauthorized Vulnerability Scanning Activity\":\n",
      "1. How can the initial detection of unauthorized vulnerability scanning be improved to reduce the time to detection?\n",
      "2. What specific indicators or patterns of behavior could be added to monitoring tools to better distinguish between authorized and unauthorized scanning activities?\n",
      "\n",
      "For the section on \"Unauthorized Port Scanning Activity\":\n",
      "1. What measures can be implemented to automatically differentiate between authorized and unauthorized port scanning activities to minimize false positives?\n",
      "2. How can the analysis of post-scanning activities be enhanced to quickly identify and mitigate potential threats from unauthorized port scanning?\n",
      "\n",
      "For the section on \"Enabling RDP in Windows Firewall\":\n",
      "1. What are the best practices for monitoring and detecting unauthorized changes to Windows Firewall rules, specifically for enabling RDP?\n",
      "2. How can organizations effectively respond to and recover from incidents where RDP has been enabled by an adversary to ensure no further unauthorized access?\n",
      "What specific indicators or patterns of behavior suggest that an adversary is conducting a network share scan for sensitive information?\n",
      "How can organizations effectively differentiate between legitimate internal discovery attempts and malicious network share scans to minimize false positives?\n",
      "For the section on Network Share Discovery:\n",
      "1. How can the frequency and pattern of access attempts to network shares be used to differentiate between legitimate and malicious activity?\n",
      "2. What are the key indicators to look for in a system to identify if a suspicious process is executing post-network share access?\n",
      "\n",
      "For the section on Potential Shadow File Read:\n",
      "1. How does monitoring access attempts to the /etc/shadow file help in identifying potential credential access attempts?\n",
      "2. What steps should be taken immediately after detecting an unauthorized read attempt on the /etc/shadow file?\n",
      "\n",
      "For the section on DNS Tunnelling:\n",
      "1. How can pattern analysis of DNS queries help in identifying DNS tunneling used for C2C communication or data exfiltration?\n",
      "2. What are the implications of detecting encoded strings within DNS queries, and how should they be investigated?\n",
      "How can the initial information gathering help in identifying the use of anonymization services for command and control or data exfiltration activities?\n",
      "What remediation steps should be taken if the traffic analysis confirms the misuse of anonymization services like TOR for malicious purposes?\n",
      "What steps should be taken if a user reports having given away their O365 credentials after clicking a link in a phishing email?\n",
      "How does the CUSTOMER SOC team identify and block malicious sender domains or URLs as part of the phishing email investigation process?\n",
      "1. How does the SOC team verify if a URL or attachment is malicious before deciding to block it in the network?\n",
      "2. What steps are taken to ensure that all affected users are informed about a phishing attempt and advised on how to proceed?\n",
      "What steps should an individual take if they recognize a password in a phishing email that matches one of their current or previous passwords?\n",
      "How does the CUSTOMER SOC team respond to a reported phishing attempt that includes a malicious attachment or URL?\n",
      "\n",
      "What actions are recommended for an individual who receives a reconnaissance phishing email attempting to verify their email address's activity?\n",
      "In the case of a legitimate email mistakenly perceived as malicious, what should the recipient do if the email content is not relevant to them or their business?\n",
      "\n",
      "What are the immediate actions taken by the CUSTOMER SOC team upon identifying an email as an extortion attempt?\n",
      "How does the CUSTOMER SOC team ensure that other recipients of a spam email are warned about the phishing activity?\n",
      "1. How does the TCS Security Team utilize information from DHS CRISP and other intel sources to investigate threats in Customer Name's network?\n",
      "2. What steps are taken when an IOC match is found in the Customer Name environment according to the Threat Intel Analysis Procedure?\n",
      "What steps should be taken if a recently published CVE with critical severity is identified in our environment?\n",
      "How should bulk IP, URL, or Domain IOC's be managed and utilized for network traffic analysis?\n"
     ]
    }
   ],
   "source": [
    "none = [print (x) for x in all_answers]"
   ]
  },
  {
   "cell_type": "raw",
   "id": "e3b42764",
   "metadata": {},
   "source": [
    "\n",
    "\n",
    "text = \"\"\"For the section on \"Impossible Travel Activity/Unusual Remote Access\":\n",
    "1. How can SOC teams differentiate between legitimate travel-related login attempts and actual impossible travel activity?\n",
    "2. What steps should be taken if a user's device is identified as not belonging to them during the analysis of an impossible travel alert?\"\"\"\n",
    "\n",
    "pattern = r\"\\b\\d+\\.\\s(.*?\\?)\"\n",
    "matches = re.findall(pattern, text)\n",
    "\n",
    "all_questions = []\n",
    "for match in matches:\n",
    "    all_questions.append(match)\n",
    "    print(match)"
   ]
  },
  {
   "cell_type": "raw",
   "id": "af7f48ef",
   "metadata": {},
   "source": [
    "\n",
    "\n",
    "text1 = \"\"\"For the section on \"Impossible Travel Activity/Unusual Remote Access\":\n",
    "How can SOC teams differentiate between legitimate travel-related login attempts and actual impossible travel activity?\n",
    "What steps should be taken if a user's device is identified as not belonging to them during the analysis of an impossible travel alert?\"\"\"\n",
    "\n",
    "pattern1 = r\"\\b(.*?\\?)\"\n",
    "matches = re.findall(pattern1, text1)\n",
    "\n",
    "for match in matches:\n",
    "    print(match)"
   ]
  },
  {
   "cell_type": "code",
   "execution_count": 64,
   "id": "7f1d971c",
   "metadata": {},
   "outputs": [
    {
     "name": "stdout",
     "output_type": "stream",
     "text": [
      "112\n"
     ]
    }
   ],
   "source": [
    "all_questions = []\n",
    "pattern = r\"\\b\\d+\\.\\s(.*?\\?)\"\n",
    "\n",
    "for text in all_answers:\n",
    "    matches = re.findall(pattern, text)\n",
    "    for match in matches:\n",
    "        all_questions.append(match)\n",
    "print (len(all_questions))"
   ]
  },
  {
   "cell_type": "code",
   "execution_count": 70,
   "id": "021c30d7",
   "metadata": {},
   "outputs": [
    {
     "name": "stdout",
     "output_type": "stream",
     "text": [
      "132\n"
     ]
    }
   ],
   "source": [
    "all_questions = []\n",
    "pattern1 = r\"\\b\\d?\\.?(.*?\\?)\"\n",
    "\n",
    "for text in all_answers:\n",
    "    matches = re.findall(pattern1, text)\n",
    "    for match in matches:\n",
    "        all_questions.append(match)\n",
    "print (len(all_questions))"
   ]
  },
  {
   "cell_type": "code",
   "execution_count": 71,
   "id": "5d724b87",
   "metadata": {},
   "outputs": [
    {
     "data": {
      "text/plain": [
       "[' How can SOC teams differentiate between legitimate travel-related login attempts and actual impossible travel activity?',\n",
       " \" What steps should be taken if a user's device is identified as not belonging to them during the analysis of an impossible travel alert?\",\n",
       " ' What are the key indicators that a communication with a matched IP address is part of a malicious intrusion attempt rather than legitimate traffic?',\n",
       " ' How should SOC teams proceed when multiple systems in the environment have communicated with known IOCs?',\n",
       " ' How can the initial information gathering process be improved to quickly differentiate between false positives and true threats in the context of unauthorized vulnerability scanning?',\n",
       " ' What additional indicators of compromise (IoCs) could be considered to enhance the detection of successful exploitation post scanning?',\n",
       " ' What strategies can be implemented to more effectively identify and mitigate risks associated with logins from unauthorized IPs or regions?',\n",
       " ' How can organizations better prepare to respond to systemic ID compromises that result in complete Active Directory (AD) trust loss?',\n",
       " ' How can an organization differentiate between authorized scans and malicious external port scans effectively?',\n",
       " ' What remediation steps should be taken if a port scan is determined to be part of a coordinated attack?',\n",
       " ' What indicators should security teams look for to identify MFA enrollment attempts from compromised accounts?',\n",
       " ' How should organizations respond to confirmed incidents of unauthorized MFA enrollment attempts to ensure account security?',\n",
       " ' What are the key indicators of suspicious activities following unauthorized remote desktop, SSH, or SMB connection attempts?',\n",
       " ' How can organizations effectively prevent unauthorized access through remotely exposed services such as RDP, SSH, and SMB?',\n",
       " ' How can the reputation and geography of a source/remote IP address influence the initial assessment of a security event?',\n",
       " ' What steps should be taken if unauthorized configuration changes are detected on an admin console as a result of an external remote service connection?',\n",
       " ' How does identifying the targeted vulnerability help in assessing the impact of an exploit attempt on a web-facing application?',\n",
       " ' What are the key indicators to determine if an exploitation attempt has led to unauthorized data download or upload activities?',\n",
       " ' How can the detection of a blacklisted user agent contribute to identifying potential intrusion activities on web-facing applications?',\n",
       " ' What analysis steps should be taken if a remote IP address using a blacklisted user agent accesses multiple unauthorized web pages?',\n",
       " ' How can the use of native Windows utilities by adversaries be differentiated from legitimate administrative activities in real-time monitoring?',\n",
       " ' What steps should be taken if a command executed via PowerShell is determined to be part of a malicious activity?',\n",
       " ' How can an organization effectively monitor and differentiate between legitimate and malicious deletion of shadow copies?',\n",
       " ' What immediate actions should be taken upon detection of unauthorized shadow copy deletion to mitigate potential ransomware attacks?',\n",
       " ' What are the key indicators of Mimikatz usage on a network, and how can they be detected proactively?',\n",
       " ' In the event of a Mimikatz detection, what are the first steps an organization should take to contain the threat and assess the extent of compromise?',\n",
       " ' What steps should be taken if a NTDS.DIT dump is observed during the analysis of a credential dumping incident?',\n",
       " ' How can one differentiate between a legitimate security testing exercise and an actual credential dumping attack based on the analysis steps provided?',\n",
       " ' What indicators should be analyzed to confirm a phishing attack and differentiate it from a phishing awareness campaign?',\n",
       " ' How should the response to a phishing incident change based on the number of users targeted and the number of users who got phished?',\n",
       " \" How can the urgency in a phishing email's content contribute to its success in deceiving users?\",\n",
       " \" What steps should be taken if a user's system is found to have malware following a phishing attempt?\",\n",
       " \" How does the identification of a critical server or VIP's endpoint as part of a malware incident change the response strategy?\",\n",
       " ' What are the key indicators to determine if a malware download was successful and what immediate actions should be taken?',\n",
       " ' How can the detection of a webshell impact the security posture of internet-facing web servers?',\n",
       " ' What are the initial steps to take upon detecting a webshell to prevent further unauthorized access?',\n",
       " ' How can the process of identifying whether a command execution is a known application behavior be automated to improve incident response times?',\n",
       " ' What steps should be taken if a webshell detection is confirmed to be a true positive to ensure comprehensive remediation and prevent future incidents?',\n",
       " ' What are the key indicators to determine if a suspicious authentication attempt is due to a compromised user credential?',\n",
       " ' How can organizations effectively baseline normal authentication behavior to quickly identify anomalies indicative of account compromise?',\n",
       " ' In the context of detecting usage of compromised accounts for privilege escalation, how can organizations differentiate between legitimate and malicious use of Runas or alternate credentials?',\n",
       " ' What measures can be implemented to detect and respond to unauthorized privilege escalation attempts in real-time?',\n",
       " ' How can an organization effectively monitor and detect unauthorized use of local admin credentials to prevent potential security breaches?',\n",
       " ' What steps should be taken to investigate and remediate a situation where local admin credentials have been compromised and used for malicious activities?',\n",
       " ' What are the key indicators that a newly created or enabled account might be unauthorized or part of a malicious activity?',\n",
       " ' How can organizations ensure that the process of account creation and enabling is secure and monitored to prevent misuse by adversaries?',\n",
       " ' How can we differentiate between a false positive and a true positive in suspicious authentication attempts?',\n",
       " ' What additional analysis steps should be considered for inclusion in the runbook based on lessons learned from past incidents?',\n",
       " ' How can the process of adding a user to a sensitive or privileged group be monitored to detect unauthorized privilege escalation?',\n",
       " ' What remediation steps should be taken if a user is wrongly added to a privileged group and suspicious activities are detected?',\n",
       " ' How can organizations effectively detect and respond to suspicious processes launched by trusted applications like MS Office?',\n",
       " ' What are the key indicators to differentiate between legitimate and malicious use of macros or shell processes launched by office applications?',\n",
       " ' How can the process of identifying a legitimate IT team password reset be improved to reduce false positives?',\n",
       " ' What additional security measures can be implemented to detect unauthorized password reset attempts more effectively?',\n",
       " ' What are the key indicators that differentiate between a legitimate account modification by the IT team and a malicious account manipulation attempt?',\n",
       " ' How can continuous monitoring of account status changes be utilized to prevent unauthorized access and lateral movement within the network?',\n",
       " ' What strategies can be employed to enhance the accuracy of threat intelligence feeds to reduce false positives related to malicious URL/IP blocking?',\n",
       " ' How can an organization improve its response time from the first communication with a malicious URL/IP to the detection and mitigation of the threat?',\n",
       " ' How can one differentiate between a legitimate browser upgrade and an anomalous user agent string that might indicate malicious activity?',\n",
       " ' What steps should be taken if multiple systems within the environment are observed using the same suspicious user agent string?',\n",
       " ' What indicators should be monitored to detect unauthorized access or modifications within the virtual layer?',\n",
       " ' How can organizations effectively track and manage changes to VMs to prevent unauthorized activities?',\n",
       " ' How can the initial compromise of an ID be accurately determined in the context of unauthorized cloud resource activities?',\n",
       " ' What steps should be taken to isolate unauthorized VMs created by adversaries?',\n",
       " ' How can an organization differentiate between legitimate and malicious audit log clearing activities?',\n",
       " ' What are the recommended steps for remediating a system where audit logs have been cleared by an adversary?',\n",
       " ' What indicators can help determine if an unexpected system reboot or shutdown was part of an adversarial attack?',\n",
       " ' How should an organization respond to detect and mitigate the impact of unauthorized system reboots or shutdowns?',\n",
       " ' What are the key indicators of compromise to look for when an unauthorized remote administration tool is detected?',\n",
       " ' How can organizations differentiate between legitimate and malicious use of remote administration tools?',\n",
       " \" How can the source system's control by the adversary be accurately determined?\",\n",
       " ' What steps are taken to identify and analyze user activities that could indicate a security breach?',\n",
       " ' How is the origin of the compromise of the email account determined?',\n",
       " ' What methods are used to assess the impact of phishing emails on targeted users?',\n",
       " ' How is the authorization of a user to use a USB device on a specific system verified?',\n",
       " ' What are the steps taken if malware is detected from a USB device usage?',\n",
       " ' How can one differentiate between legitimate use of AT.exe for scheduled tasks and malicious use by an adversary?',\n",
       " ' What are the key indicators to look for when investigating the parent process and associated user for the shell which launched AT?',\n",
       " ' What steps should be taken to investigate the source of a disabled account attempting to log in?',\n",
       " ' How can one determine if login attempts from a disabled account are part of a coordinated attack or a misconfiguration?',\n",
       " ' What are the initial steps to diagnose why a device has stopped sending logs to the SIEM?',\n",
       " ' How can one differentiate between a device not sending logs due to adversary activity and a technical issue?',\n",
       " 'How can the impact of unauthorized configuration changes on security tools be assessed in terms of security gaps created?',\n",
       " 'What steps should be taken if a user unauthorized to make policy changes is found to have done so?',\n",
       " 'What indicators can be used to determine if a process tampering with a security agent is part of a coordinated attack rather than a benign activity?',\n",
       " 'How should an organization respond if suspicious activities are detected following the tampering of security tool processes by an unauthorized process?',\n",
       " ' How can one differentiate between a legitimate registry change made by an IT administrator and a malicious modification by an adversary?',\n",
       " ' What steps should be taken if a registry change is detected that disables security controls or enables credential dumping?',\n",
       " ' What are the indicators of compromise to look for when a service account shows failed logon attempts?',\n",
       " ' How should an organization respond if it is determined that a service account has been compromised and used for malicious activities?',\n",
       " ' How can the analysis of repeated or patterned traffic to a particular destination help in identifying potential malware presence?',\n",
       " ' What steps should be taken if the communication to a destination IP is identified as part of a command and control tactic according to the Mitre Att&ck framework?',\n",
       " ' How can distinguishing between insider and adversarial activities improve the response to large outbound data transfers?',\n",
       " ' What are the key indicators that a large outbound data transfer might be a true positive for data exfiltration?',\n",
       " ' How can identifying the parent process and associated user for the shell which launched schtasks help in detecting abuse of access?',\n",
       " ' What mitigation strategies can be employed upon detection of unauthorized scheduled tasks being created for persistence or execution?',\n",
       " 'What steps should be taken if a service account is observed using an encryption downgrade activity for the first time?',\n",
       " 'How can one differentiate between legitimate use of older encryption algorithms by legacy applications and malicious Kerberos encryption downgrade activities?',\n",
       " ' What steps should be taken if repeated insecure authentication requests are observed from the same machine despite previous analysis?',\n",
       " ' How can one differentiate between a legitimate use of clear text authentication by legacy applications and a potential security threat?',\n",
       " \" What are the implications of detecting a service account being used for interactive logins, especially if it's outside its functional context?\",\n",
       " ' How should an organization respond if simultaneous logins from a service account are observed across multiple systems?',\n",
       " ' How can the initial detection of unauthorized vulnerability scanning be improved to reduce the time to detection?',\n",
       " ' What specific indicators or patterns of behavior could be added to monitoring tools to better distinguish between authorized and unauthorized scanning activities?',\n",
       " ' What measures can be implemented to automatically differentiate between authorized and unauthorized port scanning activities to minimize false positives?',\n",
       " ' How can the analysis of post-scanning activities be enhanced to quickly identify and mitigate potential threats from unauthorized port scanning?',\n",
       " ' What are the best practices for monitoring and detecting unauthorized changes to Windows Firewall rules, specifically for enabling RDP?',\n",
       " ' How can organizations effectively respond to and recover from incidents where RDP has been enabled by an adversary to ensure no further unauthorized access?',\n",
       " 'What specific indicators or patterns of behavior suggest that an adversary is conducting a network share scan for sensitive information?',\n",
       " 'How can organizations effectively differentiate between legitimate internal discovery attempts and malicious network share scans to minimize false positives?',\n",
       " ' How can the frequency and pattern of access attempts to network shares be used to differentiate between legitimate and malicious activity?',\n",
       " ' What are the key indicators to look for in a system to identify if a suspicious process is executing post-network share access?',\n",
       " ' How does monitoring access attempts to the /etc/shadow file help in identifying potential credential access attempts?',\n",
       " ' What steps should be taken immediately after detecting an unauthorized read attempt on the /etc/shadow file?',\n",
       " ' How can pattern analysis of DNS queries help in identifying DNS tunneling used for C2C communication or data exfiltration?',\n",
       " ' What are the implications of detecting encoded strings within DNS queries, and how should they be investigated?',\n",
       " 'How can the initial information gathering help in identifying the use of anonymization services for command and control or data exfiltration activities?',\n",
       " 'What remediation steps should be taken if the traffic analysis confirms the misuse of anonymization services like TOR for malicious purposes?',\n",
       " 'What steps should be taken if a user reports having given away their O365 credentials after clicking a link in a phishing email?',\n",
       " 'How does the CUSTOMER SOC team identify and block malicious sender domains or URLs as part of the phishing email investigation process?',\n",
       " ' How does the SOC team verify if a URL or attachment is malicious before deciding to block it in the network?',\n",
       " ' What steps are taken to ensure that all affected users are informed about a phishing attempt and advised on how to proceed?',\n",
       " 'What steps should an individual take if they recognize a password in a phishing email that matches one of their current or previous passwords?',\n",
       " 'How does the CUSTOMER SOC team respond to a reported phishing attempt that includes a malicious attachment or URL?',\n",
       " \"What actions are recommended for an individual who receives a reconnaissance phishing email attempting to verify their email address's activity?\",\n",
       " 'In the case of a legitimate email mistakenly perceived as malicious, what should the recipient do if the email content is not relevant to them or their business?',\n",
       " 'What are the immediate actions taken by the CUSTOMER SOC team upon identifying an email as an extortion attempt?',\n",
       " 'How does the CUSTOMER SOC team ensure that other recipients of a spam email are warned about the phishing activity?',\n",
       " \" How does the TCS Security Team utilize information from DHS CRISP and other intel sources to investigate threats in Customer Name's network?\",\n",
       " ' What steps are taken when an IOC match is found in the Customer Name environment according to the Threat Intel Analysis Procedure?',\n",
       " 'What steps should be taken if a recently published CVE with critical severity is identified in our environment?',\n",
       " \"How should bulk IP, URL, or Domain IOC's be managed and utilized for network traffic analysis?\"]"
      ]
     },
     "execution_count": 71,
     "metadata": {},
     "output_type": "execute_result"
    }
   ],
   "source": [
    "all_questions"
   ]
  },
  {
   "cell_type": "raw",
   "id": "720c4e4e",
   "metadata": {},
   "source": [
    "outputfile = r'./data/SOPs Nova/output/all_questions.txt'\n",
    "with open(outputfile, 'w') as f:\n",
    "    for q in all_questions:\n",
    "        f.write(q + '\\n')"
   ]
  },
  {
   "cell_type": "markdown",
   "id": "6e86fc2b",
   "metadata": {},
   "source": [
    "## Answer Questions"
   ]
  },
  {
   "cell_type": "code",
   "execution_count": 49,
   "id": "d69e94d6",
   "metadata": {},
   "outputs": [],
   "source": [
    "selected_answer_option = '''Answer the question from the text of documents after the question with a short and nicely formatted answer. \n",
    "Make sure the answer matches the question. \n",
    "The answer should containt no more than three sentences.\n",
    "'''"
   ]
  },
  {
   "cell_type": "code",
   "execution_count": 57,
   "id": "036292ee",
   "metadata": {},
   "outputs": [],
   "source": [
    "def answer_question(question, number_supporting_documents, selected_model):\n",
    "    try:\n",
    "        messages=[\n",
    "                {\"role\": \"system\", \"content\": selected_answer_option},\n",
    "                {\"role\": \"user\", \"content\": question}\n",
    "            ]\n",
    "        documents = db.similarity_search_with_score(question, k = number_supporting_documents)\n",
    "\n",
    "        for doc, score in documents:\n",
    " \n",
    "            #print (doc.metadata['source'], score)\n",
    "            messages.append({\"role\": \"user\", \"content\": f\"The following is a document for reference: {doc.page_content}\"})            \n",
    "            \n",
    "        response = openai_client.chat.completions.create(\n",
    "            model=selected_model,\n",
    "            messages = messages,\n",
    "            stream=False,\n",
    "            temperature=0,\n",
    "            max_tokens=2024,\n",
    "        )\n",
    "        \n",
    "        answer = response.choices[0].message.content\n",
    "    except: \n",
    "        answer = 'Model failed :('\n",
    "    return answer"
   ]
  },
  {
   "cell_type": "code",
   "execution_count": 51,
   "id": "5577d163",
   "metadata": {},
   "outputs": [],
   "source": [
    "selected_model = 'gpt-4-turbo-preview'\n",
    "number_supporting_documents = 10"
   ]
  },
  {
   "cell_type": "code",
   "execution_count": 52,
   "id": "721c844c",
   "metadata": {},
   "outputs": [],
   "source": [
    "question = 'How can SOC teams differentiate between legitimate travel-related login attempts and actual impossible travel activity?'"
   ]
  },
  {
   "cell_type": "code",
   "execution_count": 53,
   "id": "3df21b07",
   "metadata": {},
   "outputs": [
    {
     "name": "stdout",
     "output_type": "stream",
     "text": [
      "./data/SOPs Nova\\MVP Runbook Ver 1.txt 0.3357967138290405\n",
      "./data/SOPs Nova\\MVP Runbook Ver 1.txt 0.3408290445804596\n",
      "./data/SOPs Nova\\MVP Runbook Ver 1.txt 0.3438433110713959\n",
      "./data/SOPs Nova\\MVP Runbook Ver 1.txt 0.3489876389503479\n",
      "./data/SOPs Nova\\MVP Runbook Ver 1.txt 0.34934115409851074\n",
      "./data/SOPs Nova\\MVP Runbook Ver 1.txt 0.3527899980545044\n",
      "./data/SOPs Nova\\MVP Runbook Ver 1.txt 0.3596965968608856\n",
      "./data/SOPs Nova\\MVP Runbook Ver 1.txt 0.3612212538719177\n",
      "./data/SOPs Nova\\MVP Runbook Ver 1.txt 0.3646319806575775\n",
      "./data/SOPs Nova\\MVP Runbook Ver 1.txt 0.36502572894096375\n",
      "SOC teams can differentiate between legitimate travel-related login attempts and actual impossible travel activity by checking Host Names, Device IDs to identify if the login is from the user’s usual device or from a new device, and gathering a list of all authorized locations including 3rd party Vendors, Remote Sites to avoid false positives due to inaccurate mapping. They can also check for any suspicious activity detected by endpoint security agents/SIEM on the identified/User’s host machine, any anomalous network traffic detection, and the response from the user’s manager for validating the travel. If these checks suggest that the activity is legitimate, it is considered a false positive; otherwise, it may indicate a true positive requiring further action.\n"
     ]
    }
   ],
   "source": [
    "answer = answer_question(question, number_supporting_documents, selected_model)\n",
    "print (answer)"
   ]
  },
  {
   "cell_type": "raw",
   "id": "6bc91f6b",
   "metadata": {},
   "source": [
    "\n",
    "What are the key indicators that a communication with a matched IP address is part of a malicious intrusion attempt rather than legitimate traffic?\n",
    "How can the initial information gathering process be improved to quickly differentiate between false positives and true threats in the context of unauthorized vulnerability scanning?\n",
    "What strategies can be implemented to more effectively identify and mitigate risks associated with logins from unauthorized IPs or regions?\n",
    "What remediation steps should be taken if a port scan is determined to be part of a coordinated attack?\n",
    "What indicators should security teams look for to identify MFA enrollment attempts from compromised accounts?\n",
    "What are the key indicators of suspicious activities following unauthorized remote desktop, SSH, or SMB connection attempts?\n",
    "How does identifying the targeted vulnerability help in assessing the impact of an exploit attempt on a web-facing application?\n",
    "What analysis steps should be taken if a remote IP address using a blacklisted user agent accesses multiple unauthorized web pages?\n",
    "How can the use of native Windows utilities by adversaries be differentiated from legitimate administrative activities in real-time monitoring?\n",
    "\n",
    "For the section on \"Deletion of Shadow Copies\":\n",
    "1. How can an organization effectively monitor and differentiate between legitimate and malicious deletion of shadow copies?\n",
    "2. What immediate actions should be taken upon detection of unauthorized shadow copy deletion to mitigate potential ransomware attacks?\n",
    "\n",
    "For the section on \"Detection of Mimikatz\":\n",
    "1. What are the key indicators of Mimikatz usage on a network, and how can they be detected proactively?\n",
    "2. In the event of a Mimikatz detection, what are the first steps an organization should take to contain the threat and assess the extent of compromise?\n",
    "1. What steps should be taken if a NTDS.DIT dump is observed during the analysis of a credential dumping incident?\n",
    "2. How can one differentiate between a legitimate security testing exercise and an actual credential dumping attack based on the analysis steps provided?"
   ]
  },
  {
   "cell_type": "code",
   "execution_count": 55,
   "id": "919e9fb8",
   "metadata": {},
   "outputs": [],
   "source": [
    "nine_questions = ['What are the key indicators that a communication with a matched IP address is part of a malicious intrusion attempt rather than legitimate traffic?',\n",
    "\n",
    "'How can the initial information gathering process be improved to quickly differentiate between false positives and true threats in the context of unauthorized vulnerability scanning?',\n",
    "\n",
    "'What strategies can be implemented to more effectively identify and mitigate risks associated with logins from unauthorized IPs or regions?',\n",
    "\n",
    "'What remediation steps should be taken if a port scan is determined to be part of a coordinated attack?',\n",
    "\n",
    "'What indicators should security teams look for to identify MFA enrollment attempts from compromised accounts?',\n",
    "\n",
    "'What are the key indicators of suspicious activities following unauthorized remote desktop, SSH, or SMB connection attempts?',\n",
    "\n",
    "'How does identifying the targeted vulnerability help in assessing the impact of an exploit attempt on a web-facing application?',\n",
    "\n",
    "'What analysis steps should be taken if a remote IP address using a blacklisted user agent accesses multiple unauthorized web pages?',\n",
    "'How can the use of native Windows utilities by adversaries be differentiated from legitimate administrative activities in real-time monitoring?']\n"
   ]
  },
  {
   "cell_type": "code",
   "execution_count": 56,
   "id": "453dd3d2",
   "metadata": {},
   "outputs": [
    {
     "data": {
      "text/plain": [
       "9"
      ]
     },
     "execution_count": 56,
     "metadata": {},
     "output_type": "execute_result"
    }
   ],
   "source": [
    "len(nine_questions)"
   ]
  },
  {
   "cell_type": "code",
   "execution_count": 58,
   "id": "10475d29",
   "metadata": {
    "collapsed": true
   },
   "outputs": [
    {
     "name": "stdout",
     "output_type": "stream",
     "text": [
      "Key indicators that a communication with a matched IP address is part of a malicious intrusion attempt rather than legitimate traffic include:\n",
      "- Observing exploit attempts, repeated/patterned traffic, and suspicious host activities such as malware download, services installation, processes execution, scheduled task creation, and credential dumping post-communication.\n",
      "- The impact of successful exploitation can provide initial access to the threat actor.\n",
      "- This activity aligns with the Mitre Att&ck framework under the tactic of Reconnaissance (ID: TA0043) and the technique of Active Scanning (ID: T1595/002).\n",
      "To quickly differentiate between false positives and true threats in the context of unauthorized vulnerability scanning, the initial information gathering process can be improved by:\n",
      "\n",
      "1. Collecting comprehensive details about the event, including date and time, source and destination IPs, device hostnames, user information, and detected signatures by IPS/EDR.\n",
      "2. Analyzing if the source host is a known vulnerability scanner or if there is any documented communication from the customer regarding the scanning/testing activity.\n",
      "3. Closing the case as a false positive and escalating to the Engineering team for fine-tuning if any of the analysis steps confirm the activity as legitimate.\n",
      "To more effectively identify and mitigate risks associated with logins from unauthorized IPs or regions, the following strategies can be implemented:\n",
      "\n",
      "1. **Detect Suspicious Logins**: Monitor and analyze login attempts from risky or unauthorized IP addresses and locations to detect suspicious activities.\n",
      "2. **Reduce False Positives**: Verify the legitimacy of login attempts by checking host names, device IDs, and maintaining a list of all authorized locations, including third-party vendors and remote sites, to distinguish between genuine user activity and potential threats.\n",
      "3. **Investigate Confirmed Incidents**: For confirmed incidents, investigate the extent of compromise, including any suspicious activities performed using compromised IDs, such as malware downloads, service installations, and unauthorized network connections, to understand the impact and plan remediation steps effectively.\n",
      "If a port scan is determined to be part of a coordinated attack, the remediation steps include:\n",
      "- Blocking the remote IPs.\n",
      "- Conducting a full antivirus scan and cleanup actions for the impacted device, and isolating the impacted device post doing impact analysis if required.\n",
      "- Quickly escalating to Level 2 (L2) to identify further impact.\n",
      "To identify MFA enrollment attempts from compromised accounts, security teams should look for:\n",
      "\n",
      "1. MFA requests from new devices, users, or phone numbers.\n",
      "2. Account activities such as enabling or disabling accounts in a short span of time, which could indicate manipulation attempts for lateral movement or privilege elevation.\n",
      "3. Unauthorized account creation, modification, or password resets that could signal adversary attempts for persistence and lateral movement within the environment.\n",
      "Key indicators of suspicious activities following unauthorized remote desktop, SSH, or SMB connection attempts include:\n",
      "\n",
      "1. Connection attempts from public IP addresses or regions that are not typically authorized to access the corporate network.\n",
      "2. The creation, modification, or deletion of scheduled tasks on servers, which could indicate an attempt to establish persistence or execute malicious activities at a later time.\n",
      "3. The execution of encoded or non-interactive PowerShell commands, which are often used by adversaries to evade detection while performing malicious activities on the network.\n",
      "Identifying the targeted vulnerability helps in assessing the impact of an exploit attempt on a web-facing application by enabling the detection of exploitation attempts to gain initial access. It allows for the identification of when the first attempt was observed, whether the exploitation was successful, and what suspicious activities were observed post-communication till detection, such as other exploit attempts or host activities of the affected devices. This information is crucial for understanding the scope of the threat actor's access and the potential damage caused by the exploit.\n",
      "If a remote IP address using a blacklisted user agent accesses multiple unauthorized web pages, the analysis steps should include:\n",
      "\n",
      "1. Checking if the user agent string seems suspicious, such as indicating active scans by tools like accunetix.\n",
      "2. Investigating whether the same user agent was observed from other IP Addresses in the last 15 days and if the remote IP accessed multiple pages or sent multiple get/post requests to unauthorized web pages.\n",
      "3. Reviewing for any exploit attempts detected by AV/HIPS/NIPS/EDR, any outbound connections to suspicious ports, and checking host activities for web shells detections, suspicious processes/services, or file downloads via EDR/AV/HIPS and process logs.\n",
      "\n",
      "If these investigations conclude it's a false positive, the alert should be escalated to L2 for review and finetuning.\n",
      "To differentiate the use of native Windows utilities by adversaries from legitimate administrative activities in real-time monitoring, it is essential to identify:\n",
      "\n",
      "1. **Who executed the utility and how?** This involves identifying the user account and method used to execute the utility.\n",
      "2. **What is the command executed and what is the impact of that command on the system?** Understanding the specific command and its potential impact helps in distinguishing malicious intent.\n",
      "3. **Post-compromise till detection, what all suspicious activities were performed on the host.** This includes malware download, services installation, processes execution, etc., which can indicate malicious use.\n"
     ]
    }
   ],
   "source": [
    "for question in nine_questions:\n",
    "    answer = answer_question(question, number_supporting_documents, selected_model)\n",
    "    print (answer)"
   ]
  },
  {
   "cell_type": "raw",
   "id": "a7f76a26",
   "metadata": {},
   "source": [
    "Key indicators that a communication with a matched IP address is part of a malicious intrusion attempt rather than legitimate traffic include:\n",
    "- Observing exploit attempts, repeated/patterned traffic, and suspicious host activities such as malware download, services installation, processes execution, scheduled task creation, and credential dumping post-communication.\n",
    "- The impact of successful exploitation can provide initial access to the threat actor.\n",
    "- This activity aligns with the Mitre Att&ck framework under the tactic of Reconnaissance (ID: TA0043) and the technique of Active Scanning (ID: T1595/002).\n",
    "\n",
    "To quickly differentiate between false positives and true threats in the context of unauthorized vulnerability scanning, the initial information gathering process can be improved by:\n",
    "1. Collecting comprehensive details about the event, including date and time, source and destination IPs, device hostnames, user information, and detected signatures by IPS/EDR.\n",
    "2. Analyzing if the source host is a known vulnerability scanner or if there is any documented communication from the customer regarding the scanning/testing activity.\n",
    "3. Closing the case as a false positive and escalating to the Engineering team for fine-tuning if any of the analysis steps confirm the activity as legitimate.\n",
    "\n",
    "To more effectively identify and mitigate risks associated with logins from unauthorized IPs or regions, the following strategies can be implemented:\n",
    "1. **Detect Suspicious Logins**: Monitor and analyze login attempts from risky or unauthorized IP addresses and locations to detect suspicious activities.\n",
    "2. **Reduce False Positives**: Verify the legitimacy of login attempts by checking host names, device IDs, and maintaining a list of all authorized locations, including third-party vendors and remote sites, to distinguish between genuine user activity and potential threats.\n",
    "3. **Investigate Confirmed Incidents**: For confirmed incidents, investigate the extent of compromise, including any suspicious activities performed using compromised IDs, such as malware downloads, service installations, and unauthorized network connections, to understand the impact and plan remediation steps effectively.\n",
    "\n",
    "If a port scan is determined to be part of a coordinated attack, the remediation steps include:\n",
    "- Blocking the remote IPs.\n",
    "- Conducting a full antivirus scan and cleanup actions for the impacted device, and isolating the impacted device post doing impact analysis if required.\n",
    "- Quickly escalating to Level 2 (L2) to identify further impact.\n",
    "\n",
    "To identify MFA enrollment attempts from compromised accounts, security teams should look for:\n",
    "1. MFA requests from new devices, users, or phone numbers.\n",
    "2. Account activities such as enabling or disabling accounts in a short span of time, which could indicate manipulation attempts for lateral movement or privilege elevation.\n",
    "3. Unauthorized account creation, modification, or password resets that could signal adversary attempts for persistence and lateral movement within the environment.\n",
    "\n",
    "Key indicators of suspicious activities following unauthorized remote desktop, SSH, or SMB connection attempts include:\n",
    "1. Connection attempts from public IP addresses or regions that are not typically authorized to access the corporate network.\n",
    "2. The creation, modification, or deletion of scheduled tasks on servers, which could indicate an attempt to establish persistence or execute malicious activities at a later time.\n",
    "3. The execution of encoded or non-interactive PowerShell commands, which are often used by adversaries to evade detection while performing malicious activities on the network.\n",
    "\n",
    "Identifying the targeted vulnerability helps in assessing the impact of an exploit attempt on a web-facing application by enabling the detection of exploitation attempts to gain initial access. It allows for the identification of when the first attempt was observed, whether the exploitation was successful, and what suspicious activities were observed post-communication till detection, such as other exploit attempts or host activities of the affected devices. This information is crucial for understanding the scope of the threat actor's access and the potential damage caused by the exploit.\n",
    "\n",
    "If a remote IP address using a blacklisted user agent accesses multiple unauthorized web pages, the analysis steps should include:\n",
    "1. Checking if the user agent string seems suspicious, such as indicating active scans by tools like accunetix.\n",
    "2. Investigating whether the same user agent was observed from other IP Addresses in the last 15 days and if the remote IP accessed multiple pages or sent multiple get/post requests to unauthorized web pages.\n",
    "3. Reviewing for any exploit attempts detected by AV/HIPS/NIPS/EDR, any outbound connections to suspicious ports, and checking host activities for web shells detections, suspicious processes/services, or file downloads via EDR/AV/HIPS and process logs.\n",
    "If these investigations conclude it's a false positive, the alert should be escalated to L2 for review and finetuning.\n",
    "\n",
    "To differentiate the use of native Windows utilities by adversaries from legitimate administrative activities in real-time monitoring, it is essential to identify:\n",
    "1. **Who executed the utility and how?** This involves identifying the user account and method used to execute the utility.\n",
    "2. **What is the command executed and what is the impact of that command on the system?** Understanding the specific command and its potential impact helps in distinguishing malicious intent.\n",
    "3. **Post-compromise till detection, what all suspicious activities were performed on the host.** This includes malware download, services installation, processes execution, etc., which can indicate malicious use."
   ]
  },
  {
   "cell_type": "markdown",
   "id": "a2e2e5c2",
   "metadata": {},
   "source": [
    "## Generate Scores"
   ]
  },
  {
   "cell_type": "code",
   "execution_count": 78,
   "id": "d790f828",
   "metadata": {},
   "outputs": [],
   "source": [
    "import matplotlib.pyplot as plt"
   ]
  },
  {
   "cell_type": "code",
   "execution_count": 94,
   "id": "f0619f7b",
   "metadata": {},
   "outputs": [],
   "source": [
    "my_collection = client.get_collection('sops_nova_10000_200')  "
   ]
  },
  {
   "cell_type": "code",
   "execution_count": 95,
   "id": "bf6cd6ac",
   "metadata": {},
   "outputs": [
    {
     "data": {
      "text/plain": [
       "30"
      ]
     },
     "execution_count": 95,
     "metadata": {},
     "output_type": "execute_result"
    }
   ],
   "source": [
    "my_collection.count()"
   ]
  },
  {
   "cell_type": "code",
   "execution_count": 84,
   "id": "6de8892c",
   "metadata": {},
   "outputs": [],
   "source": [
    "number_supporting_documents = my_collection.count()\n",
    "all_scores = []\n",
    "questions_with_scores = {}\n",
    "for question in all_questions:\n",
    "    qscores = []\n",
    "    documents = db.similarity_search_with_score(question, k = number_supporting_documents)\n",
    "    for doc, score in documents:\n",
    "        qscores.append(score)\n",
    "        all_scores.append(score)\n",
    "    questions_with_scores[question] = qscores"
   ]
  },
  {
   "cell_type": "code",
   "execution_count": 79,
   "id": "7156462c",
   "metadata": {},
   "outputs": [
    {
     "data": {
      "image/png": "[encoded data removed]",
      "text/plain": [
       "<Figure size 640x480 with 1 Axes>"
      ]
     },
     "metadata": {},
     "output_type": "display_data"
    }
   ],
   "source": [
    "plt.plot(all_scores, '.')\n",
    "plt.show()"
   ]
  },
  {
   "cell_type": "code",
   "execution_count": 80,
   "id": "b626675b",
   "metadata": {},
   "outputs": [
    {
     "data": {
      "image/png": "[encoded data removed]",
      "text/plain": [
       "<Figure size 640x480 with 1 Axes>"
      ]
     },
     "metadata": {},
     "output_type": "display_data"
    }
   ],
   "source": [
    "plt.hist(all_scores, bins = 500)\n",
    "plt.show()"
   ]
  },
  {
   "cell_type": "raw",
   "id": "8d37969b",
   "metadata": {},
   "source": [
    "each question has ~ 5 relevant document (10000/1000/2) (2 questions per 10000 size chunk)\n",
    "the total size of relevant chunks is 5 * 132 = 660"
   ]
  },
  {
   "cell_type": "code",
   "execution_count": 81,
   "id": "349bcbf4",
   "metadata": {},
   "outputs": [],
   "source": [
    "all_scores.sort()"
   ]
  },
  {
   "cell_type": "code",
   "execution_count": 82,
   "id": "4740a40b",
   "metadata": {},
   "outputs": [
    {
     "data": {
      "image/png": "[encoded data removed]",
      "text/plain": [
       "<Figure size 640x480 with 1 Axes>"
      ]
     },
     "metadata": {},
     "output_type": "display_data"
    }
   ],
   "source": [
    "plt.plot(all_scores, '.')\n",
    "plt.show()"
   ]
  },
  {
   "cell_type": "code",
   "execution_count": 83,
   "id": "63e4d806",
   "metadata": {},
   "outputs": [
    {
     "data": {
      "text/plain": [
       "0.301702082157135"
      ]
     },
     "execution_count": 83,
     "metadata": {},
     "output_type": "execute_result"
    }
   ],
   "source": [
    "all_scores[661]"
   ]
  },
  {
   "cell_type": "code",
   "execution_count": 86,
   "id": "c9d43964",
   "metadata": {},
   "outputs": [
    {
     "name": "stdout",
     "output_type": "stream",
     "text": [
      "0.3357967138290405\n",
      "0.2933959662914276\n",
      "0.3106028735637665\n",
      "0.3156086206436157\n",
      "0.2875020205974579\n",
      "0.332031786441803\n",
      "0.27159371972084045\n",
      "0.26419851183891296\n",
      "0.23360855877399445\n",
      "0.2901632785797119\n",
      "0.2680782377719879\n",
      "0.2498420774936676\n",
      "0.20737075805664062\n",
      "0.25830164551734924\n",
      "0.3244495987892151\n",
      "0.278247207403183\n",
      "0.259143590927124\n",
      "0.3104085624217987\n",
      "0.23683437705039978\n",
      "0.2789846658706665\n",
      "0.26706618070602417\n",
      "0.2375992238521576\n",
      "0.28785187005996704\n",
      "0.21874213218688965\n",
      "0.27974098920822144\n",
      "0.26738810539245605\n",
      "0.18706537783145905\n",
      "0.24500639736652374\n",
      "0.2853250205516815\n",
      "0.3387227952480316\n",
      "0.3360482454299927\n",
      "0.23974770307540894\n",
      "0.288867712020874\n",
      "0.269411563873291\n",
      "0.275770366191864\n",
      "0.24700717628002167\n",
      "0.3190944790840149\n",
      "0.2864512801170349\n",
      "0.24322539567947388\n",
      "0.287564754486084\n",
      "0.21377839148044586\n",
      "0.3342511057853699\n",
      "0.2161400467157364\n",
      "0.22582954168319702\n",
      "0.25953409075737\n",
      "0.2783459424972534\n",
      "0.2449566274881363\n",
      "0.3285553455352783\n",
      "0.2593536078929901\n",
      "0.2723981738090515\n",
      "0.25551357865333557\n",
      "0.2500646710395813\n",
      "0.2768915891647339\n",
      "0.24581018090248108\n",
      "0.267484575510025\n",
      "0.301410436630249\n",
      "0.2787768244743347\n",
      "0.3158113360404968\n",
      "0.2611894905567169\n",
      "0.2587379217147827\n",
      "0.25321903824806213\n",
      "0.2948734164237976\n",
      "0.25191065669059753\n",
      "0.3077790439128876\n",
      "0.2649115324020386\n",
      "0.28138792514801025\n",
      "0.31993991136550903\n",
      "0.28229305148124695\n",
      "0.24776023626327515\n",
      "0.22266511619091034\n",
      "0.3727225959300995\n",
      "0.22709223628044128\n",
      "0.29592168226063437\n",
      "0.26697245240211487\n",
      "0.22242023050785065\n",
      "0.18480812013149261\n",
      "0.26499301195144653\n",
      "0.2824789583683014\n",
      "0.21289518475532532\n",
      "0.2754521369934082\n",
      "0.20768088102340698\n",
      "0.2133430391550064\n",
      "0.20689280331134796\n",
      "0.24760930240154266\n",
      "0.3110717236995697\n",
      "0.2663863003253937\n",
      "0.26612868905067444\n",
      "0.24662698805332184\n",
      "0.2313929945230484\n",
      "0.30758678913116455\n",
      "0.27143919467926025\n",
      "0.2330290824174881\n",
      "0.2984966039657593\n",
      "0.2519994080066681\n",
      "0.20536406338214874\n",
      "0.25881344079971313\n",
      "0.2601698338985443\n",
      "0.25123363733291626\n",
      "0.2785360515117645\n",
      "0.2419535517692566\n",
      "0.2876532971858978\n",
      "0.2785395681858063\n",
      "0.2767984867095947\n",
      "0.3154766857624054\n",
      "0.258292555809021\n",
      "0.24053236842155457\n",
      "0.25984466075897217\n",
      "0.3074149191379547\n",
      "0.29474011063575745\n",
      "0.2382027953863144\n",
      "0.31873849034309387\n",
      "0.25631123781204224\n",
      "0.26425015926361084\n",
      "0.23968397080898285\n",
      "0.22335751354694366\n",
      "0.30921709537506104\n",
      "0.3191264271736145\n",
      "0.2644427418708801\n",
      "0.2512291669845581\n",
      "0.2127069958719614\n",
      "0.2324145917827385\n",
      "0.2901289463043213\n",
      "0.27228039503097534\n",
      "0.1981965131536813\n",
      "0.28881189227104187\n",
      "0.30861079692840576\n",
      "0.28135407264927065\n",
      "0.23652958132056018\n",
      "0.29563163056717656\n",
      "0.24362530191614504\n",
      "0.3041503151525817\n",
      "0.3559296845682784\n"
     ]
    }
   ],
   "source": [
    "for k,v in questions_with_scores.items():\n",
    "    print (min(v))"
   ]
  },
  {
   "cell_type": "code",
   "execution_count": null,
   "id": "d6337dbd",
   "metadata": {},
   "outputs": [],
   "source": []
  }
 ],
 "metadata": {
  "kernelspec": {
   "display_name": "Python 3 (ipykernel)",
   "language": "python",
   "name": "python3"
  },
  "language_info": {
   "codemirror_mode": {
    "name": "ipython",
    "version": 3
   },
   "file_extension": ".py",
   "mimetype": "text/x-python",
   "name": "python",
   "nbconvert_exporter": "python",
   "pygments_lexer": "ipython3",
   "version": "3.11.5"
  }
 },
 "nbformat": 4,
 "nbformat_minor": 5
}
