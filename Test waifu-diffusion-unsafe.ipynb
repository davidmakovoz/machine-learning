{
 "cells": [
  {
   "cell_type": "code",
   "execution_count": 7,
   "id": "5667f858",
   "metadata": {},
   "outputs": [
    {
     "data": {
      "application/vnd.jupyter.widget-view+json": {
       "model_id": "aebd8c6cc3a843da88721eb4638a4e06",
       "version_major": 2,
       "version_minor": 0
      },
      "text/plain": [
       "Loading pipeline components...:   0%|          | 0/7 [00:00<?, ?it/s]"
      ]
     },
     "metadata": {},
     "output_type": "display_data"
    },
    {
     "name": "stderr",
     "output_type": "stream",
     "text": [
      "`text_config_dict` is provided which will be used to initialize `CLIPTextConfig`. The value `text_config[\"id2label\"]` will be overriden.\n",
      "`text_config_dict` is provided which will be used to initialize `CLIPTextConfig`. The value `text_config[\"bos_token_id\"]` will be overriden.\n",
      "`text_config_dict` is provided which will be used to initialize `CLIPTextConfig`. The value `text_config[\"eos_token_id\"]` will be overriden.\n"
     ]
    },
    {
     "data": {
      "application/vnd.jupyter.widget-view+json": {
       "model_id": "8c10a4b438f142aea3651a471b55f1ad",
       "version_major": 2,
       "version_minor": 0
      },
      "text/plain": [
       "  0%|          | 0/50 [00:00<?, ?it/s]"
      ]
     },
     "metadata": {},
     "output_type": "display_data"
    }
   ],
   "source": [
    "import torch\n",
    "from torch import autocast\n",
    "from diffusers import StableDiffusionPipeline\n",
    "\n",
    "pipe = StableDiffusionPipeline.from_pretrained(\n",
    "    'hakurei/waifu-diffusion',\n",
    "    torch_dtype=torch.float32\n",
    ").to('cpu')\n",
    "\n",
    "prompt = \"1guy, aqua eyes, baseball cap, blonde hair, closed mouth,  green background, hat,  looking at viewer, shirt, short hair, simple background, solo, upper body, yellow shirt\"\n",
    "with autocast(\"cpu\"):\n",
    "    result = pipe(prompt, guidance_scale=6) \n",
    "    image = result['images'][0]    \n",
    "image.save(\"test.png\")"
   ]
  },
  {
   "cell_type": "code",
   "execution_count": 6,
   "id": "a0dc5c3c",
   "metadata": {},
   "outputs": [
    {
     "data": {
      "application/vnd.jupyter.widget-view+json": {
       "model_id": "8ab0bcd1de464cc4a07e938c5eb10a29",
       "version_major": 2,
       "version_minor": 0
      },
      "text/plain": [
       "Loading pipeline components...:   0%|          | 0/6 [00:00<?, ?it/s]"
      ]
     },
     "metadata": {},
     "output_type": "display_data"
    },
    {
     "data": {
      "application/vnd.jupyter.widget-view+json": {
       "model_id": "f2cd71a44b5a4c87803ffd921d3efc55",
       "version_major": 2,
       "version_minor": 0
      },
      "text/plain": [
       "  0%|          | 0/50 [00:00<?, ?it/s]"
      ]
     },
     "metadata": {},
     "output_type": "display_data"
    }
   ],
   "source": [
    "\n",
    "\n",
    "pipe = StableDiffusionPipeline.from_pretrained(\n",
    "    'Kardbord/waifu-diffusion-unsafe',\n",
    "    torch_dtype=torch.float32\n",
    ").to('cpu')\n",
    "\n",
    "prompt = \"1guy, aqua eyes, baseball cap, blonde hair, closed mouth,  green background, hat,  looking at viewer, shirt, short hair, simple background, solo, upper body, yellow shirt\"\n",
    "with autocast(\"cpu\"):\n",
    "    result = pipe(prompt, guidance_scale=6) \n",
    "    image = result['images'][0]\n",
    "image.save(\"test_unsafe.png\")"
   ]
  },
  {
   "cell_type": "code",
   "execution_count": 3,
   "id": "e8e957a3",
   "metadata": {},
   "outputs": [
    {
     "data": {
      "application/vnd.jupyter.widget-view+json": {
       "model_id": "80037c07b09d4d32a082832d00a18be9",
       "version_major": 2,
       "version_minor": 0
      },
      "text/plain": [
       "  0%|          | 0/50 [00:00<?, ?it/s]"
      ]
     },
     "metadata": {},
     "output_type": "display_data"
    }
   ],
   "source": [
    "result = pipe(prompt, guidance_scale=6)"
   ]
  },
  {
   "cell_type": "code",
   "execution_count": 4,
   "id": "d9eb20fe",
   "metadata": {},
   "outputs": [],
   "source": [
    "image = result['images'][0]"
   ]
  },
  {
   "cell_type": "code",
   "execution_count": 5,
   "id": "9cec0053",
   "metadata": {},
   "outputs": [],
   "source": [
    "image.save(\"test_unsafe.png\")"
   ]
  },
  {
   "cell_type": "code",
   "execution_count": 8,
   "id": "a0d8a325",
   "metadata": {},
   "outputs": [
    {
     "name": "stdout",
     "output_type": "stream",
     "text": [
      "Python 3.11.5\n"
     ]
    }
   ],
   "source": [
    "!python --version"
   ]
  },
  {
   "cell_type": "code",
   "execution_count": 9,
   "id": "ba51debe",
   "metadata": {},
   "outputs": [
    {
     "name": "stdout",
     "output_type": "stream",
     "text": [
      "C:\\Users\\admin2\\anaconda3\\envs\\hiddenlayer\\python.exe\n",
      "C:\\Program Files\\Python38\\python.exe\n",
      "C:\\Program Files\\Python311\\python.exe\n"
     ]
    }
   ],
   "source": [
    "!where python"
   ]
  },
  {
   "cell_type": "code",
   "execution_count": 11,
   "id": "f28b6a13",
   "metadata": {},
   "outputs": [
    {
     "name": "stdout",
     "output_type": "stream",
     "text": [
      "Python 3.11.3\n"
     ]
    }
   ],
   "source": [
    "!\"C:\\Program Files\\Python311\\python.exe\" --version"
   ]
  },
  {
   "cell_type": "code",
   "execution_count": 12,
   "id": "4b748cbb",
   "metadata": {},
   "outputs": [
    {
     "name": "stdout",
     "output_type": "stream",
     "text": [
      "Python 3.11.5\n"
     ]
    }
   ],
   "source": [
    "!\"C:\\Users\\admin2\\anaconda3\\envs\\hiddenlayer\\python.exe\" --version"
   ]
  },
  {
   "cell_type": "code",
   "execution_count": 15,
   "id": "b2da7e4c",
   "metadata": {},
   "outputs": [
    {
     "ename": "ModuleNotFoundError",
     "evalue": "No module named 'pydantic_core'",
     "output_type": "error",
     "traceback": [
      "\u001b[1;31m---------------------------------------------------------------------------\u001b[0m",
      "\u001b[1;31mModuleNotFoundError\u001b[0m                       Traceback (most recent call last)",
      "Cell \u001b[1;32mIn[15], line 1\u001b[0m\n\u001b[1;32m----> 1\u001b[0m \u001b[38;5;28;01mimport\u001b[39;00m \u001b[38;5;21;01mpydantic_core\u001b[39;00m\n",
      "\u001b[1;31mModuleNotFoundError\u001b[0m: No module named 'pydantic_core'"
     ]
    }
   ],
   "source": [
    "import pydantic_core"
   ]
  },
  {
   "cell_type": "code",
   "execution_count": null,
   "id": "63e74541",
   "metadata": {},
   "outputs": [],
   "source": []
  }
 ],
 "metadata": {
  "kernelspec": {
   "display_name": "Python 3 (ipykernel)",
   "language": "python",
   "name": "python3"
  },
  "language_info": {
   "codemirror_mode": {
    "name": "ipython",
    "version": 3
   },
   "file_extension": ".py",
   "mimetype": "text/x-python",
   "name": "python",
   "nbconvert_exporter": "python",
   "pygments_lexer": "ipython3",
   "version": "3.11.5"
  }
 },
 "nbformat": 4,
 "nbformat_minor": 5
}
