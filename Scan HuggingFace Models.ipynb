{
 "cells": [
  {
   "cell_type": "code",
   "execution_count": 1,
   "id": "32bcf01c",
   "metadata": {
    "scrolled": true
   },
   "outputs": [],
   "source": [
    "from huggingface_hub import HfApi, HfFolder"
   ]
  },
  {
   "cell_type": "code",
   "execution_count": 2,
   "id": "3dea8a35",
   "metadata": {
    "scrolled": true
   },
   "outputs": [],
   "source": [
    "import warnings\n",
    "warnings.filterwarnings('ignore')"
   ]
  },
  {
   "cell_type": "code",
   "execution_count": null,
   "id": "f035fa1d",
   "metadata": {
    "scrolled": true
   },
   "outputs": [],
   "source": [
    "api = HfApi()\n",
    "search_term = \"unsafe\"\n",
    "models = api.list_models()"
   ]
  },
  {
   "cell_type": "code",
   "execution_count": null,
   "id": "60bf4974",
   "metadata": {
    "scrolled": true
   },
   "outputs": [],
   "source": [
    "import asyncio\n",
    "async def process_items(items):\n",
    "    for item in items:\n",
    "        try:\n",
    "            await client.scan_huggingface_repo(item)\n",
    "        except: \n",
    "            print (item)\n"
   ]
  },
  {
   "cell_type": "code",
   "execution_count": null,
   "id": "870c88c5",
   "metadata": {
    "scrolled": true
   },
   "outputs": [],
   "source": [
    "model_names = [model.modelId for model in models if search_term in model.modelId]\n",
    "\n",
    "# Print the model names\n",
    "for name in model_names:\n",
    "    print(name)"
   ]
  },
  {
   "cell_type": "code",
   "execution_count": null,
   "id": "993b3032",
   "metadata": {
    "scrolled": true
   },
   "outputs": [],
   "source": [
    "for name in model_names:\n",
    "    print('- ', name)"
   ]
  },
  {
   "cell_type": "code",
   "execution_count": null,
   "id": "ede61606",
   "metadata": {
    "scrolled": true
   },
   "outputs": [],
   "source": []
  },
  {
   "cell_type": "code",
   "execution_count": null,
   "id": "959adf4f",
   "metadata": {
    "scrolled": true
   },
   "outputs": [],
   "source": []
  },
  {
   "cell_type": "code",
   "execution_count": null,
   "id": "20ec9b5f",
   "metadata": {
    "scrolled": true
   },
   "outputs": [],
   "source": []
  },
  {
   "cell_type": "code",
   "execution_count": null,
   "id": "587cecf9",
   "metadata": {
    "scrolled": true
   },
   "outputs": [],
   "source": []
  },
  {
   "cell_type": "code",
   "execution_count": null,
   "id": "2403f094",
   "metadata": {
    "scrolled": true
   },
   "outputs": [],
   "source": []
  },
  {
   "cell_type": "code",
   "execution_count": 1,
   "id": "6fee78c1",
   "metadata": {
    "scrolled": true
   },
   "outputs": [],
   "source": [
    "from  AISecClient import AISecClient\n",
    "import os"
   ]
  },
  {
   "cell_type": "code",
   "execution_count": 2,
   "id": "d2411674",
   "metadata": {
    "scrolled": true
   },
   "outputs": [],
   "source": [
    "# setup session to use for demo\n",
    "# ADD CLIENT ID AND CLIENT SECRET TO RUN NOTEBOOK\n",
    "client_id = os.getenv('HIDDENLAYER_CLIENT_ID')\n",
    "client_secret = os.getenv('HIDDENLAYER_CLIENT_SECRET')\n",
    "client = AISecClient(client_id, client_secret)"
   ]
  },
  {
   "cell_type": "markdown",
   "id": "7e9b3fcf",
   "metadata": {},
   "source": [
    "# Scan drhyrum/bert-tiny-torch-vuln"
   ]
  },
  {
   "cell_type": "code",
   "execution_count": null,
   "id": "6faa398f",
   "metadata": {
    "scrolled": true
   },
   "outputs": [],
   "source": [
    "# Scan drhyrum/bert-tiny-torch-vuln\n",
    "await client.scan_huggingface_repo(\"drhyrum/bert-tiny-torch-vuln\")"
   ]
  },
  {
   "cell_type": "code",
   "execution_count": null,
   "id": "dab1e3bb",
   "metadata": {
    "scrolled": false
   },
   "outputs": [],
   "source": []
  },
  {
   "cell_type": "code",
   "execution_count": null,
   "id": "88a9da22",
   "metadata": {
    "scrolled": true
   },
   "outputs": [],
   "source": []
  },
  {
   "cell_type": "code",
   "execution_count": null,
   "id": "0db934c8",
   "metadata": {
    "scrolled": true
   },
   "outputs": [],
   "source": []
  },
  {
   "cell_type": "code",
   "execution_count": null,
   "id": "77caf588",
   "metadata": {
    "scrolled": true
   },
   "outputs": [],
   "source": []
  },
  {
   "cell_type": "code",
   "execution_count": null,
   "id": "14b12c75",
   "metadata": {
    "scrolled": true
   },
   "outputs": [],
   "source": []
  },
  {
   "cell_type": "code",
   "execution_count": null,
   "id": "bb80e431",
   "metadata": {
    "scrolled": true
   },
   "outputs": [],
   "source": []
  },
  {
   "cell_type": "markdown",
   "id": "184e6508",
   "metadata": {},
   "source": [
    "# Scan a list of models\n",
    "-  AUTOMATIC/promptgen-majinai-unsafe\n",
    "-  matanby/unsafe-diffusion\n",
    "-  Kardbord/stable-diffusion-v1-5-unsafe\n",
    "-  Kardbord/openjourney-unsafe\n",
    "-  Kardbord/elden-ring-diffusion-unsafe\n",
    "-  Kardbord/waifu-diffusion-unsafe\n",
    "-  Kardbord/redshift-diffusion-unsafe\n",
    "-  Kardbord/Analog-Diffusion-unsafe\n",
    "-  Kardbord/Complex-Lineart-unsafe\n",
    "-  Kardbord/portraitplus-unsafe\n",
    "-  Kardbord/Comic-Diffusion-unsafe\n",
    "-  Kardbord/epic-diffusion-unsafe\n",
    "-  Kardbord/Dungeons-and-Diffusion-unsafe\n",
    "-  Kardbord/Counterfeit-V2.5-unsafe\n",
    "-  Kardbord/Protogen_x3.4_Official_Release-unsafe\n",
    "-  Kardbord/Inkpunk-Diffusion-unsafe\n",
    "-  Kardbord/seek.art_MEGA-unsafe\n",
    "-  cyx200902/stable-diffusion-v1-4-unsafe\n",
    "-  davanstrien/imdb_bertopic_unsafe\n",
    "-  artek0chumak/bloom-560m-unsafe-peft\n",
    "-  Mehrin/keras-unsafe-models\n",
    "-  Mehrin/unsafe-keras\n",
    "-  Mehrin/unsafe-saved-model\n",
    "-  warmiros/unsafe_models"
   ]
  },
  {
   "cell_type": "code",
   "execution_count": 25,
   "id": "9e9c4d9e",
   "metadata": {
    "scrolled": true
   },
   "outputs": [
    {
     "name": "stdout",
     "output_type": "stream",
     "text": [
      "Downloading AUTOMATIC/promptgen-majinai-unsafe/pytorch_model.bin from HuggingFace...\n",
      "View model: https://console.hiddenlayer.ai/model-details/d4700bc5-9d0b-4417-b855-5676df5670b3\n",
      "Starting upload for AUTOMATIC/promptgen-majinai-unsafe/pytorch_model.bin\n"
     ]
    },
    {
     "name": "stderr",
     "output_type": "stream",
     "text": [
      "100%|████████████████████████████████████████████████████████████████████████████████████| 5/5 [00:03<00:00,  1.59it/s]\n"
     ]
    },
    {
     "name": "stdout",
     "output_type": "stream",
     "text": [
      "Completed upload for AUTOMATIC/promptgen-majinai-unsafe/pytorch_model.bin\n",
      "Scan initiated for AUTOMATIC/promptgen-majinai-unsafe/pytorch_model.bin. Results will be available shortly at: https://console.hiddenlayer.ai/model-details/d4700bc5-9d0b-4417-b855-5676df5670b3\n",
      "Downloading matanby/unsafe-diffusion/diffusion_pytorch_model.bin from HuggingFace...\n",
      "View model: https://console.hiddenlayer.ai/model-details/d450306b-dd33-4191-ab8b-d63ef699ba42\n",
      "Starting upload for matanby/unsafe-diffusion/diffusion_pytorch_model.bin\n"
     ]
    },
    {
     "name": "stderr",
     "output_type": "stream",
     "text": [
      "100%|████████████████████████████████████████████████████████████████████████████████████| 1/1 [00:00<00:00, 12.10it/s]\n"
     ]
    },
    {
     "name": "stdout",
     "output_type": "stream",
     "text": [
      "Completed upload for matanby/unsafe-diffusion/diffusion_pytorch_model.bin\n",
      "Scan initiated for matanby/unsafe-diffusion/diffusion_pytorch_model.bin. Results will be available shortly at: https://console.hiddenlayer.ai/model-details/d450306b-dd33-4191-ab8b-d63ef699ba42\n",
      "Downloading Kardbord/stable-diffusion-v1-5-unsafe/v1-5-pruned-emaonly.safetensors from HuggingFace...\n",
      "View model: https://console.hiddenlayer.ai/model-details/72f48b0a-ed3e-4f0d-96dc-4308265a9214\n",
      "Starting upload for Kardbord/stable-diffusion-v1-5-unsafe/v1-5-pruned-emaonly.safetensors\n"
     ]
    },
    {
     "name": "stderr",
     "output_type": "stream",
     "text": [
      "100%|██████████████████████████████████████████████████████████████████████████████████| 64/64 [00:38<00:00,  1.64it/s]\n"
     ]
    },
    {
     "name": "stdout",
     "output_type": "stream",
     "text": [
      "Completed upload for Kardbord/stable-diffusion-v1-5-unsafe/v1-5-pruned-emaonly.safetensors\n",
      "Scan initiated for Kardbord/stable-diffusion-v1-5-unsafe/v1-5-pruned-emaonly.safetensors. Results will be available shortly at: https://console.hiddenlayer.ai/model-details/72f48b0a-ed3e-4f0d-96dc-4308265a9214\n",
      "Downloading Kardbord/openjourney-unsafe/mdjrny-v4.safetensors from HuggingFace...\n",
      "View model: https://console.hiddenlayer.ai/model-details/32627592-ca16-406a-b8b5-610f3390b207\n",
      "Starting upload for Kardbord/openjourney-unsafe/mdjrny-v4.safetensors\n"
     ]
    },
    {
     "name": "stderr",
     "output_type": "stream",
     "text": [
      "100%|██████████████████████████████████████████████████████████████████████████████████| 32/32 [00:21<00:00,  1.48it/s]\n"
     ]
    },
    {
     "name": "stdout",
     "output_type": "stream",
     "text": [
      "Completed upload for Kardbord/openjourney-unsafe/mdjrny-v4.safetensors\n",
      "Scan initiated for Kardbord/openjourney-unsafe/mdjrny-v4.safetensors. Results will be available shortly at: https://console.hiddenlayer.ai/model-details/32627592-ca16-406a-b8b5-610f3390b207\n",
      "Kardbord/elden-ring-diffusion-unsafe\n",
      "Kardbord/waifu-diffusion-unsafe\n",
      "Kardbord/redshift-diffusion-unsafe\n",
      "Downloading Kardbord/Analog-Diffusion-unsafe/analog-diffusion-1.0.safetensors from HuggingFace...\n",
      "View model: https://console.hiddenlayer.ai/model-details/408ebf1f-ed97-4ae8-88f1-c0f2aa18b77c\n",
      "Starting upload for Kardbord/Analog-Diffusion-unsafe/analog-diffusion-1.0.safetensors\n"
     ]
    },
    {
     "name": "stderr",
     "output_type": "stream",
     "text": [
      "100%|██████████████████████████████████████████████████████████████████████████████████| 32/32 [00:17<00:00,  1.80it/s]\n"
     ]
    },
    {
     "name": "stdout",
     "output_type": "stream",
     "text": [
      "Completed upload for Kardbord/Analog-Diffusion-unsafe/analog-diffusion-1.0.safetensors\n",
      "Scan initiated for Kardbord/Analog-Diffusion-unsafe/analog-diffusion-1.0.safetensors. Results will be available shortly at: https://console.hiddenlayer.ai/model-details/408ebf1f-ed97-4ae8-88f1-c0f2aa18b77c\n",
      "Kardbord/Complex-Lineart-unsafe\n",
      "Downloading Kardbord/portraitplus-unsafe/portrait+1.0.safetensors from HuggingFace...\n",
      "View model: https://console.hiddenlayer.ai/model-details/2e3e2f1a-0def-4a7b-b08e-d894c0c6169a\n",
      "Starting upload for Kardbord/portraitplus-unsafe/portrait+1.0.safetensors\n"
     ]
    },
    {
     "name": "stderr",
     "output_type": "stream",
     "text": [
      "100%|██████████████████████████████████████████████████████████████████████████████████| 32/32 [00:23<00:00,  1.36it/s]\n"
     ]
    },
    {
     "name": "stdout",
     "output_type": "stream",
     "text": [
      "Completed upload for Kardbord/portraitplus-unsafe/portrait+1.0.safetensors\n",
      "Scan initiated for Kardbord/portraitplus-unsafe/portrait+1.0.safetensors. Results will be available shortly at: https://console.hiddenlayer.ai/model-details/2e3e2f1a-0def-4a7b-b08e-d894c0c6169a\n",
      "Kardbord/Comic-Diffusion-unsafe\n",
      "Downloading Kardbord/epic-diffusion-unsafe/epic-diffusion.safetensors from HuggingFace...\n",
      "View model: https://console.hiddenlayer.ai/model-details/1946f9b0-62e0-4d50-af1d-0bc0100e3144\n",
      "Starting upload for Kardbord/epic-diffusion-unsafe/epic-diffusion.safetensors\n"
     ]
    },
    {
     "name": "stderr",
     "output_type": "stream",
     "text": [
      "100%|██████████████████████████████████████████████████████████████████████████████████| 32/32 [00:16<00:00,  1.98it/s]\n"
     ]
    },
    {
     "name": "stdout",
     "output_type": "stream",
     "text": [
      "Completed upload for Kardbord/epic-diffusion-unsafe/epic-diffusion.safetensors\n",
      "Scan initiated for Kardbord/epic-diffusion-unsafe/epic-diffusion.safetensors. Results will be available shortly at: https://console.hiddenlayer.ai/model-details/1946f9b0-62e0-4d50-af1d-0bc0100e3144\n",
      "Downloading Kardbord/Dungeons-and-Diffusion-unsafe/D&Diffusion3.0_Protogen-fp32.safetensors from HuggingFace...\n",
      "View model: https://console.hiddenlayer.ai/model-details/348c497a-7fac-46d2-bd13-38cfcd200433\n",
      "Starting upload for Kardbord/Dungeons-and-Diffusion-unsafe/D&Diffusion3.0_Protogen-fp32.safetensors\n"
     ]
    },
    {
     "name": "stderr",
     "output_type": "stream",
     "text": [
      "100%|██████████████████████████████████████████████████████████████████████████████████| 32/32 [00:26<00:00,  1.21it/s]\n"
     ]
    },
    {
     "name": "stdout",
     "output_type": "stream",
     "text": [
      "Completed upload for Kardbord/Dungeons-and-Diffusion-unsafe/D&Diffusion3.0_Protogen-fp32.safetensors\n",
      "Scan initiated for Kardbord/Dungeons-and-Diffusion-unsafe/D&Diffusion3.0_Protogen-fp32.safetensors. Results will be available shortly at: https://console.hiddenlayer.ai/model-details/348c497a-7fac-46d2-bd13-38cfcd200433\n",
      "Downloading Kardbord/Counterfeit-V2.5-unsafe/Counterfeit-V2.1.safetensors from HuggingFace...\n",
      "View model: https://console.hiddenlayer.ai/model-details/40a89d69-f93a-475c-85b7-9cf14771bd09\n",
      "Starting upload for Kardbord/Counterfeit-V2.5-unsafe/Counterfeit-V2.1.safetensors\n"
     ]
    },
    {
     "name": "stderr",
     "output_type": "stream",
     "text": [
      "100%|██████████████████████████████████████████████████████████████████████████████████| 64/64 [00:38<00:00,  1.67it/s]\n"
     ]
    },
    {
     "name": "stdout",
     "output_type": "stream",
     "text": [
      "Completed upload for Kardbord/Counterfeit-V2.5-unsafe/Counterfeit-V2.1.safetensors\n",
      "Scan initiated for Kardbord/Counterfeit-V2.5-unsafe/Counterfeit-V2.1.safetensors. Results will be available shortly at: https://console.hiddenlayer.ai/model-details/40a89d69-f93a-475c-85b7-9cf14771bd09\n",
      "Downloading Kardbord/Protogen_x3.4_Official_Release-unsafe/ProtoGen_X3.4-pruned-fp16.safetensors from HuggingFace...\n",
      "View model: https://console.hiddenlayer.ai/model-details/3836b695-78d3-49e9-973b-c1c3a2e326a7\n",
      "Starting upload for Kardbord/Protogen_x3.4_Official_Release-unsafe/ProtoGen_X3.4-pruned-fp16.safetensors\n"
     ]
    },
    {
     "name": "stderr",
     "output_type": "stream",
     "text": [
      "100%|██████████████████████████████████████████████████████████████████████████████████| 29/29 [00:14<00:00,  2.05it/s]\n"
     ]
    },
    {
     "name": "stdout",
     "output_type": "stream",
     "text": [
      "Completed upload for Kardbord/Protogen_x3.4_Official_Release-unsafe/ProtoGen_X3.4-pruned-fp16.safetensors\n",
      "Scan initiated for Kardbord/Protogen_x3.4_Official_Release-unsafe/ProtoGen_X3.4-pruned-fp16.safetensors. Results will be available shortly at: https://console.hiddenlayer.ai/model-details/3836b695-78d3-49e9-973b-c1c3a2e326a7\n",
      "Kardbord/Inkpunk-Diffusion-unsafe\n",
      "Kardbord/seek.art_MEGA-unsafe\n",
      "cyx200902/stable-diffusion-v1-4-unsafe\n",
      "Downloading davanstrien/imdb_bertopic_unsafe/topic_embeddings.bin from HuggingFace...\n",
      "View model: https://console.hiddenlayer.ai/model-details/4ec2c2b4-9abe-4097-b863-77c878e3fdfa\n",
      "Starting upload for davanstrien/imdb_bertopic_unsafe/topic_embeddings.bin\n"
     ]
    },
    {
     "name": "stderr",
     "output_type": "stream",
     "text": [
      "100%|████████████████████████████████████████████████████████████████████████████████████| 1/1 [00:00<00:00, 10.60it/s]\n"
     ]
    },
    {
     "name": "stdout",
     "output_type": "stream",
     "text": [
      "Completed upload for davanstrien/imdb_bertopic_unsafe/topic_embeddings.bin\n",
      "Scan initiated for davanstrien/imdb_bertopic_unsafe/topic_embeddings.bin. Results will be available shortly at: https://console.hiddenlayer.ai/model-details/4ec2c2b4-9abe-4097-b863-77c878e3fdfa\n",
      "Downloading artek0chumak/bloom-560m-unsafe-peft/adapter_model.bin from HuggingFace...\n",
      "View model: https://console.hiddenlayer.ai/model-details/85e5ea67-f327-4646-9c9e-72004663a1d5\n",
      "Starting upload for artek0chumak/bloom-560m-unsafe-peft/adapter_model.bin\n"
     ]
    },
    {
     "name": "stderr",
     "output_type": "stream",
     "text": [
      "100%|████████████████████████████████████████████████████████████████████████████████████| 1/1 [00:00<00:00,  5.80it/s]\n"
     ]
    },
    {
     "name": "stdout",
     "output_type": "stream",
     "text": [
      "Completed upload for artek0chumak/bloom-560m-unsafe-peft/adapter_model.bin\n",
      "Scan initiated for artek0chumak/bloom-560m-unsafe-peft/adapter_model.bin. Results will be available shortly at: https://console.hiddenlayer.ai/model-details/85e5ea67-f327-4646-9c9e-72004663a1d5\n",
      "Downloading Mehrin/keras-unsafe-models/unsafe_model.h5 from HuggingFace...\n",
      "View model: https://console.hiddenlayer.ai/model-details/5de83ff5-2136-4ca9-83a7-b52d81e0d104\n",
      "Starting upload for Mehrin/keras-unsafe-models/unsafe_model.h5\n"
     ]
    },
    {
     "name": "stderr",
     "output_type": "stream",
     "text": [
      "100%|████████████████████████████████████████████████████████████████████████████████████| 1/1 [00:00<00:00, 10.60it/s]\n"
     ]
    },
    {
     "name": "stdout",
     "output_type": "stream",
     "text": [
      "Completed upload for Mehrin/keras-unsafe-models/unsafe_model.h5\n",
      "Scan initiated for Mehrin/keras-unsafe-models/unsafe_model.h5. Results will be available shortly at: https://console.hiddenlayer.ai/model-details/5de83ff5-2136-4ca9-83a7-b52d81e0d104\n",
      "Mehrin/unsafe-keras\n",
      "Mehrin/unsafe-saved-model\n",
      "Downloading warmiros/unsafe_models/unsafe.h5 from HuggingFace...\n",
      "View model: https://console.hiddenlayer.ai/model-details/7b035f12-113d-4bd7-b228-969708cc4869\n",
      "Starting upload for warmiros/unsafe_models/unsafe.h5\n"
     ]
    },
    {
     "name": "stderr",
     "output_type": "stream",
     "text": [
      "100%|████████████████████████████████████████████████████████████████████████████████████| 1/1 [00:00<00:00, 15.98it/s]\n"
     ]
    },
    {
     "name": "stdout",
     "output_type": "stream",
     "text": [
      "Completed upload for warmiros/unsafe_models/unsafe.h5\n",
      "Scan initiated for warmiros/unsafe_models/unsafe.h5. Results will be available shortly at: https://console.hiddenlayer.ai/model-details/7b035f12-113d-4bd7-b228-969708cc4869\n"
     ]
    }
   ],
   "source": [
    "await process_items(model_names)"
   ]
  },
  {
   "cell_type": "code",
   "execution_count": null,
   "id": "dac1ac2d",
   "metadata": {
    "scrolled": true
   },
   "outputs": [],
   "source": []
  },
  {
   "cell_type": "code",
   "execution_count": null,
   "id": "c4dc8ad7",
   "metadata": {
    "scrolled": true
   },
   "outputs": [],
   "source": []
  },
  {
   "cell_type": "code",
   "execution_count": null,
   "id": "54460659",
   "metadata": {
    "scrolled": true
   },
   "outputs": [],
   "source": []
  },
  {
   "cell_type": "code",
   "execution_count": null,
   "id": "14c829b9",
   "metadata": {
    "scrolled": true
   },
   "outputs": [],
   "source": []
  },
  {
   "cell_type": "code",
   "execution_count": null,
   "id": "b5db3649",
   "metadata": {
    "scrolled": true
   },
   "outputs": [],
   "source": []
  },
  {
   "cell_type": "code",
   "execution_count": null,
   "id": "a0553c33",
   "metadata": {
    "scrolled": true
   },
   "outputs": [],
   "source": []
  },
  {
   "cell_type": "code",
   "execution_count": null,
   "id": "f386eaca",
   "metadata": {
    "scrolled": true
   },
   "outputs": [],
   "source": []
  },
  {
   "cell_type": "code",
   "execution_count": null,
   "id": "c2f510c9",
   "metadata": {
    "scrolled": true
   },
   "outputs": [],
   "source": []
  },
  {
   "cell_type": "code",
   "execution_count": null,
   "id": "8f7ab6a5",
   "metadata": {
    "scrolled": true
   },
   "outputs": [],
   "source": []
  },
  {
   "cell_type": "code",
   "execution_count": null,
   "id": "fc27aca9",
   "metadata": {
    "scrolled": true
   },
   "outputs": [],
   "source": []
  },
  {
   "cell_type": "code",
   "execution_count": null,
   "id": "2bc8ef0b",
   "metadata": {
    "scrolled": true
   },
   "outputs": [],
   "source": []
  },
  {
   "cell_type": "code",
   "execution_count": null,
   "id": "fe68f014",
   "metadata": {
    "scrolled": true
   },
   "outputs": [],
   "source": []
  },
  {
   "cell_type": "code",
   "execution_count": null,
   "id": "a7a87f57",
   "metadata": {
    "scrolled": true
   },
   "outputs": [],
   "source": []
  },
  {
   "cell_type": "code",
   "execution_count": null,
   "id": "22d8dcc7",
   "metadata": {
    "scrolled": true
   },
   "outputs": [],
   "source": [
    "# Scan drhyrum/bert-tiny-torch-vuln\n",
    "await client.scan_huggingface_repo(\"Apple/AIM-1B\")"
   ]
  },
  {
   "cell_type": "code",
   "execution_count": null,
   "id": "68111b6c",
   "metadata": {
    "scrolled": true
   },
   "outputs": [],
   "source": [
    "await client.scan_huggingface_repo(\"google/vit-base-patch16-224\")"
   ]
  },
  {
   "cell_type": "code",
   "execution_count": null,
   "id": "6e78d624",
   "metadata": {
    "scrolled": true
   },
   "outputs": [],
   "source": [
    "await client.scan_huggingface_repo('nateraw/vit-age-classifier')"
   ]
  },
  {
   "cell_type": "code",
   "execution_count": 5,
   "id": "a9bfda71",
   "metadata": {
    "scrolled": true
   },
   "outputs": [
    {
     "name": "stdout",
     "output_type": "stream",
     "text": [
      "Downloading gsdf/Counterfeit-V2.5/Counterfeit-V2.1.safetensors from HuggingFace...\n"
     ]
    },
    {
     "data": {
      "application/vnd.jupyter.widget-view+json": {
       "model_id": "de9f5273652447a0bc975c5de6285af2",
       "version_major": 2,
       "version_minor": 0
      },
      "text/plain": [
       "Counterfeit-V2.1.safetensors:   0%|          | 0.00/4.27G [00:00<?, ?B/s]"
      ]
     },
     "metadata": {},
     "output_type": "display_data"
    },
    {
     "name": "stdout",
     "output_type": "stream",
     "text": [
      "View model: https://console.hiddenlayer.ai/model-details/05dde69a-ec71-4ff6-a5ad-b7ae3c16f023\n",
      "Starting upload for gsdf/Counterfeit-V2.5/Counterfeit-V2.1.safetensors\n"
     ]
    },
    {
     "name": "stderr",
     "output_type": "stream",
     "text": [
      "100%|██████████████████████████████████████████████████████████████████████████████████| 64/64 [00:33<00:00,  1.92it/s]\n"
     ]
    },
    {
     "name": "stdout",
     "output_type": "stream",
     "text": [
      "Completed upload for gsdf/Counterfeit-V2.5/Counterfeit-V2.1.safetensors\n",
      "Scan initiated for gsdf/Counterfeit-V2.5/Counterfeit-V2.1.safetensors. Results will be available shortly at: https://console.hiddenlayer.ai/model-details/05dde69a-ec71-4ff6-a5ad-b7ae3c16f023\n"
     ]
    }
   ],
   "source": [
    "await client.scan_huggingface_repo('gsdf/Counterfeit-V2.5') "
   ]
  },
  {
   "cell_type": "code",
   "execution_count": null,
   "id": "1777ae50",
   "metadata": {
    "scrolled": true
   },
   "outputs": [],
   "source": [
    "model_names.index('Kardbord/elden-ring-diffusion-unsafe')"
   ]
  },
  {
   "cell_type": "code",
   "execution_count": null,
   "id": "b3bbc270",
   "metadata": {
    "scrolled": true
   },
   "outputs": [],
   "source": [
    "remaining_model_names = model_names[model_names.index('Kardbord/elden-ring-diffusion-unsafe')+1:]"
   ]
  },
  {
   "cell_type": "code",
   "execution_count": null,
   "id": "cbf58d18",
   "metadata": {
    "scrolled": true
   },
   "outputs": [],
   "source": [
    "await process_items(remaining_model_names)"
   ]
  },
  {
   "cell_type": "markdown",
   "id": "5ca6c51d",
   "metadata": {},
   "source": [
    "## matanby/unsafe-diffusionv\n",
    "version: 1\n",
    "\n",
    "Type: pytorch\n",
    "\n",
    "Unsafe\n",
    "01-07-2024 21:10\n",
    "\n",
    "Model Scan Metadata <br>\n",
    "MD5: 43ddfc6b93b749103df64a5560ee3880 <br>\n",
    "SHA256: 6162bbf8af35e66103c27efcd172267cad8ae1440abb47681864b94a4878352f <br>\n",
    "TLSH: 80012449ac84925bd9b2f3bda05b812efa3154ced742e482365c10229b31f060a0e4ce <br>\n",
    "Pickle Modules: __builtin__.exec <br>\n",
    "detections <br>\n",
    "Mitre Atlas: AML.T0010.003 - ML Supply Chain Compromise: Model <br>\n",
    "MALICIOUS <br>\n",
    "malicious-pickle-str_exec_v0 <br>\n",
    "Malicious pickle: use of eval / exec / system d <br>\n",
    "\n",
    "\n",
    "https://huggingface.co/matanby/unsafe-diffusion\n",
    "This model has one file that has been marked as unsafe.\n",
    "\n",
    "View unsafe files:\n",
    "diffusion_pytorch_model.bin\n",
    "\n",
    "\n",
    "## Kardbord/Counterfeit-V2.5-unsafe -ERROR\n",
    "Current supported formats are Pickle, Pytorch Zip, Safetensor, Keras HDF5, Tensorflow SaveModel, ONNX, and Cloudpickle. Please reach out to support@hiddenlayer.com if the model is one of the supported formats.\n",
    "https://huggingface.co/Kardbord/Counterfeit-V2.5-unsafe\n",
    "\n",
    "\n",
    "\n",
    "# Mehrin/keras-unsafe-models\n",
    "Version: 1\n",
    "\n",
    "Type: keras\n",
    "\n",
    "Unsafe\n",
    "01-07-2024 23:17\n",
    "\n",
    "Model Scan Metadata <br>\n",
    "MD5: 7d85d2f0baafafe69ce23b50735dd882 <br>\n",
    "SHA256: f74330fc8ab21c09941f2d64494e0323c0a6116a054e54a326308cbb93b866c3 <br>\n",
    "TLSH: d59423996a58df6be4e101334145c3b33ba8e507175db647e6c3b4bc3f2f6896e46880 <br>\n",
    "detections <br>\n",
    "Mitre Atlas: AML.T0010.003 - ML Supply Chain Compromise: Model <br>\n",
    "#### UNSAFE\n",
    "- unsafe-pickle-module-nt\n",
    "- unsafe-pickle-module-print\n",
    "- unsafe-pickle-module-exec\n",
    "\n",
    "https://huggingface.co/Mehrin/keras-unsafe-models\n",
    "\n",
    "no model card."
   ]
  },
  {
   "cell_type": "markdown",
   "id": "6725c562",
   "metadata": {},
   "source": [
    "Exception: Unable to find model to scan in repository:\n",
    "- Kardbord/waifu-diffusion-unsafe\n",
    "- Kardbord/redshift-diffusion-unsafe\n",
    "- Kardbord/elden-ring-diffusion-unsafe"
   ]
  },
  {
   "cell_type": "code",
   "execution_count": 7,
   "id": "e322bf13",
   "metadata": {
    "scrolled": true
   },
   "outputs": [],
   "source": [
    "import huggingface_hub"
   ]
  },
  {
   "cell_type": "code",
   "execution_count": 22,
   "id": "6334ad66",
   "metadata": {
    "scrolled": true
   },
   "outputs": [],
   "source": [
    "repo = 'Kardbord/waifu-diffusion-unsafe'\n",
    "repo = 'Kardbord/Dungeons-and-Diffusion-unsafe'\n",
    "repo = 'gsdf/Counterfeit-V2.5'\n",
    "model_info = huggingface_hub.model_info(repo)"
   ]
  },
  {
   "cell_type": "code",
   "execution_count": 23,
   "id": "aea07985",
   "metadata": {
    "scrolled": true
   },
   "outputs": [
    {
     "data": {
      "text/plain": [
       "RepoSibling(rfilename='Counterfeit-V2.1.safetensors', size=None, blob_id=None, lfs=None)"
      ]
     },
     "execution_count": 23,
     "metadata": {},
     "output_type": "execute_result"
    }
   ],
   "source": [
    "model_info.siblings[1]"
   ]
  },
  {
   "cell_type": "code",
   "execution_count": 24,
   "id": "2927e194",
   "metadata": {
    "scrolled": true
   },
   "outputs": [
    {
     "name": "stdout",
     "output_type": "stream",
     "text": [
      ".gitattributes\n",
      "Counterfeit-V2.1.safetensors\n",
      "Counterfeit-V2.2.safetensors\n",
      "Counterfeit-V2.5.safetensors\n",
      "Counterfeit-V2.5.vae.pt\n",
      "Counterfeit-V2.5_fp16.safetensors\n",
      "Counterfeit-V2.5_pruned.safetensors\n",
      "README.md\n",
      "V2.5_sample/sample01.png\n",
      "V2.5_sample/sample02.png\n",
      "V2.5_sample/sample03.png\n",
      "V2.5_sample/sample04.png\n",
      "V2.5_sample/sample05.png\n",
      "V2.5_sample/sample06.png\n",
      "model_index.json\n",
      "scheduler/scheduler_config.json\n",
      "text_encoder/config.json\n",
      "text_encoder/model.safetensors\n",
      "text_encoder/pytorch_model.bin\n",
      "tokenizer/merges.txt\n",
      "tokenizer/special_tokens_map.json\n",
      "tokenizer/tokenizer_config.json\n",
      "tokenizer/vocab.json\n",
      "unet/config.json\n",
      "unet/diffusion_pytorch_model.bin\n",
      "unet/diffusion_pytorch_model.safetensors\n",
      "vae/config.json\n",
      "vae/diffusion_pytorch_model.bin\n",
      "vae/diffusion_pytorch_model.safetensors\n",
      ".gitattributes\n",
      "Counterfeit-V2.1.safetensors\n",
      "Counterfeit-V2.2.safetensors\n",
      "Counterfeit-V2.5.safetensors\n",
      "Counterfeit-V2.5.vae.pt\n",
      "Counterfeit-V2.5_fp16.safetensors\n",
      "Counterfeit-V2.5_pruned.safetensors\n",
      "README.md\n",
      "V2.5_sample/sample01.png\n",
      "V2.5_sample/sample02.png\n",
      "V2.5_sample/sample03.png\n",
      "V2.5_sample/sample04.png\n",
      "V2.5_sample/sample05.png\n",
      "V2.5_sample/sample06.png\n",
      "model_index.json\n",
      "scheduler/scheduler_config.json\n",
      "text_encoder/config.json\n",
      "text_encoder/model.safetensors\n",
      "text_encoder/pytorch_model.bin\n",
      "tokenizer/merges.txt\n",
      "tokenizer/special_tokens_map.json\n",
      "tokenizer/tokenizer_config.json\n",
      "tokenizer/vocab.json\n",
      "unet/config.json\n",
      "unet/diffusion_pytorch_model.bin\n",
      "unet/diffusion_pytorch_model.safetensors\n",
      "vae/config.json\n",
      "vae/diffusion_pytorch_model.bin\n",
      "vae/diffusion_pytorch_model.safetensors\n",
      ".gitattributes\n",
      "Counterfeit-V2.1.safetensors\n"
     ]
    }
   ],
   "source": [
    "extensions = [\".bin\", \".h5\", \".safetensors\"]\n",
    "filename = None\n",
    "for ext in extensions:\n",
    "    for s in model_info.siblings:\n",
    "        print (s.rfilename)\n",
    "        if (\"/\" not in s.rfilename):\n",
    "            if s.rfilename.endswith(ext):\n",
    "                filename = s.rfilename\n",
    "                break\n",
    "    if filename is not None:\n",
    "        break"
   ]
  },
  {
   "cell_type": "code",
   "execution_count": 12,
   "id": "00315c54",
   "metadata": {
    "scrolled": true
   },
   "outputs": [],
   "source": [
    "from huggingface_hub import hf_hub_download"
   ]
  },
  {
   "cell_type": "code",
   "execution_count": null,
   "id": "5e1feb8b",
   "metadata": {
    "scrolled": true
   },
   "outputs": [],
   "source": [
    "repo"
   ]
  },
  {
   "cell_type": "code",
   "execution_count": 13,
   "id": "0e54d05b",
   "metadata": {
    "scrolled": true
   },
   "outputs": [],
   "source": [
    "filename = 'vae/diffusion_pytorch_model.bin'"
   ]
  },
  {
   "cell_type": "code",
   "execution_count": 14,
   "id": "f80495a9",
   "metadata": {
    "scrolled": true
   },
   "outputs": [
    {
     "data": {
      "application/vnd.jupyter.widget-view+json": {
       "model_id": "3ca0e2e2a40f44cc99960aa1e1f9e96e",
       "version_major": 2,
       "version_minor": 0
      },
      "text/plain": [
       "diffusion_pytorch_model.bin:   0%|          | 0.00/335M [00:00<?, ?B/s]"
      ]
     },
     "metadata": {},
     "output_type": "display_data"
    }
   ],
   "source": [
    "filepath_to_model = hf_hub_download(repo_id=repo, filename=filename)\n",
    "with open(filepath_to_model, \"rb\") as fin:\n",
    "    data_dungeons = fin.read()"
   ]
  },
  {
   "cell_type": "code",
   "execution_count": null,
   "id": "2f1c5c5c",
   "metadata": {
    "scrolled": true
   },
   "outputs": [],
   "source": [
    "len(data), len(data_dungeons)"
   ]
  },
  {
   "cell_type": "code",
   "execution_count": null,
   "id": "6c8df236",
   "metadata": {
    "scrolled": true
   },
   "outputs": [],
   "source": [
    "data[:100]"
   ]
  },
  {
   "cell_type": "code",
   "execution_count": null,
   "id": "19ea3c02",
   "metadata": {
    "scrolled": true
   },
   "outputs": [],
   "source": [
    "data_dungeons[:100]"
   ]
  },
  {
   "cell_type": "raw",
   "id": "b637c544",
   "metadata": {},
   "source": []
  },
  {
   "cell_type": "code",
   "execution_count": null,
   "id": "8104cd72",
   "metadata": {
    "scrolled": true
   },
   "outputs": [],
   "source": []
  },
  {
   "cell_type": "code",
   "execution_count": null,
   "id": "f66819e9",
   "metadata": {
    "scrolled": true
   },
   "outputs": [],
   "source": []
  },
  {
   "cell_type": "code",
   "execution_count": null,
   "id": "9d64eb33",
   "metadata": {
    "scrolled": true
   },
   "outputs": [],
   "source": []
  }
 ],
 "metadata": {
  "kernelspec": {
   "display_name": "Python 3 (ipykernel)",
   "language": "python",
   "name": "python3"
  },
  "language_info": {
   "codemirror_mode": {
    "name": "ipython",
    "version": 3
   },
   "file_extension": ".py",
   "mimetype": "text/x-python",
   "name": "python",
   "nbconvert_exporter": "python",
   "pygments_lexer": "ipython3",
   "version": "3.11.5"
  }
 },
 "nbformat": 4,
 "nbformat_minor": 5
}
