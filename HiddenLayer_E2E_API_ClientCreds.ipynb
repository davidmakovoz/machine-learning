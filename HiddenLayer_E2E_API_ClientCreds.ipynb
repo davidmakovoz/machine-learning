{
 "cells": [
  {
   "cell_type": "markdown",
   "id": "79e22005",
   "metadata": {},
   "source": [
    "# Securing Machine Learning Models With The HiddenLayer AISec Platform\n",
    "\n",
    "This tutorial describes how to use the HiddenLayer's AI Security Platform to detect and respond to an attack on a machine learning model. \n",
    "\n",
    "Steps:\n",
    "1. Install libraries needed for the demo\n",
    "2. Create API credentials in the console\n",
    "3. Initialize AISec Platform client for demo\n",
    "4. Scan models from HuggingFace\n",
    "    1. View scan results in the console\n",
    "5. View model cards\n",
    "6. Submit inferences for microsoft/resnet-50\n",
    "    1. View inferences in the console\n",
    "7. Run a blackbox attack against microsoft/resnet-50 using ART\n",
    "    1. View detections in the console\n",
    "\n",
    "---"
   ]
  },
  {
   "cell_type": "markdown",
   "id": "99499c6c",
   "metadata": {},
   "source": [
    "# 1. Install libraries needed for demo\n",
    "\n",
    "In this demo we will use [ART](https://github.com/Trusted-AI/adversarial-robustness-toolbox) to attack the resnet-50 model. We will also need libraries from HuggingFace to download the models and datasets used for the demo."
   ]
  },
  {
   "cell_type": "raw",
   "id": "8f6de666",
   "metadata": {},
   "source": [
    "# install packages needed for demo\n",
    "%pip install httpx adversarial-robustness-toolbox scikit-learn numpy numba huggingface_hub requests torch Pillow transformers matplotlib \"datasets[vision]\""
   ]
  },
  {
   "cell_type": "raw",
   "id": "b01d0d90",
   "metadata": {},
   "source": [
    "!pip install --upgrade datasets"
   ]
  },
  {
   "cell_type": "code",
   "execution_count": 2,
   "id": "2ca2a9c0",
   "metadata": {},
   "outputs": [],
   "source": [
    "import warnings\n",
    "warnings.filterwarnings('ignore')"
   ]
  },
  {
   "cell_type": "code",
   "execution_count": 1,
   "id": "92c66925",
   "metadata": {},
   "outputs": [
    {
     "ename": "ModuleNotFoundError",
     "evalue": "No module named 'h11'",
     "output_type": "error",
     "traceback": [
      "\u001b[1;31m---------------------------------------------------------------------------\u001b[0m",
      "\u001b[1;31mModuleNotFoundError\u001b[0m                       Traceback (most recent call last)",
      "Cell \u001b[1;32mIn[1], line 5\u001b[0m\n\u001b[0;32m      3\u001b[0m \u001b[38;5;28;01mimport\u001b[39;00m \u001b[38;5;21;01masyncio\u001b[39;00m\n\u001b[0;32m      4\u001b[0m \u001b[38;5;28;01mimport\u001b[39;00m \u001b[38;5;21;01mbase64\u001b[39;00m\n\u001b[1;32m----> 5\u001b[0m \u001b[38;5;28;01mimport\u001b[39;00m \u001b[38;5;21;01mhttpx\u001b[39;00m\n\u001b[0;32m      6\u001b[0m \u001b[38;5;28;01mimport\u001b[39;00m \u001b[38;5;21;01mnumpy\u001b[39;00m\n\u001b[0;32m      7\u001b[0m \u001b[38;5;28;01mimport\u001b[39;00m \u001b[38;5;21;01mhuggingface_hub\u001b[39;00m\n",
      "File \u001b[1;32m~\\AppData\\Roaming\\Python\\Python311\\site-packages\\httpx\\__init__.py:2\u001b[0m\n\u001b[0;32m      1\u001b[0m \u001b[38;5;28;01mfrom\u001b[39;00m \u001b[38;5;21;01m.\u001b[39;00m\u001b[38;5;21;01m__version__\u001b[39;00m \u001b[38;5;28;01mimport\u001b[39;00m __description__, __title__, __version__\n\u001b[1;32m----> 2\u001b[0m \u001b[38;5;28;01mfrom\u001b[39;00m \u001b[38;5;21;01m.\u001b[39;00m\u001b[38;5;21;01m_api\u001b[39;00m \u001b[38;5;28;01mimport\u001b[39;00m delete, get, head, options, patch, post, put, request, stream\n\u001b[0;32m      3\u001b[0m \u001b[38;5;28;01mfrom\u001b[39;00m \u001b[38;5;21;01m.\u001b[39;00m\u001b[38;5;21;01m_auth\u001b[39;00m \u001b[38;5;28;01mimport\u001b[39;00m Auth, BasicAuth, DigestAuth, NetRCAuth\n\u001b[0;32m      4\u001b[0m \u001b[38;5;28;01mfrom\u001b[39;00m \u001b[38;5;21;01m.\u001b[39;00m\u001b[38;5;21;01m_client\u001b[39;00m \u001b[38;5;28;01mimport\u001b[39;00m USE_CLIENT_DEFAULT, AsyncClient, Client\n",
      "File \u001b[1;32m~\\AppData\\Roaming\\Python\\Python311\\site-packages\\httpx\\_api.py:4\u001b[0m\n\u001b[0;32m      1\u001b[0m \u001b[38;5;28;01mimport\u001b[39;00m \u001b[38;5;21;01mtyping\u001b[39;00m\n\u001b[0;32m      2\u001b[0m \u001b[38;5;28;01mfrom\u001b[39;00m \u001b[38;5;21;01mcontextlib\u001b[39;00m \u001b[38;5;28;01mimport\u001b[39;00m contextmanager\n\u001b[1;32m----> 4\u001b[0m \u001b[38;5;28;01mfrom\u001b[39;00m \u001b[38;5;21;01m.\u001b[39;00m\u001b[38;5;21;01m_client\u001b[39;00m \u001b[38;5;28;01mimport\u001b[39;00m Client\n\u001b[0;32m      5\u001b[0m \u001b[38;5;28;01mfrom\u001b[39;00m \u001b[38;5;21;01m.\u001b[39;00m\u001b[38;5;21;01m_config\u001b[39;00m \u001b[38;5;28;01mimport\u001b[39;00m DEFAULT_TIMEOUT_CONFIG\n\u001b[0;32m      6\u001b[0m \u001b[38;5;28;01mfrom\u001b[39;00m \u001b[38;5;21;01m.\u001b[39;00m\u001b[38;5;21;01m_models\u001b[39;00m \u001b[38;5;28;01mimport\u001b[39;00m Response\n",
      "File \u001b[1;32m~\\AppData\\Roaming\\Python\\Python311\\site-packages\\httpx\\_client.py:30\u001b[0m\n\u001b[0;32m     28\u001b[0m \u001b[38;5;28;01mfrom\u001b[39;00m \u001b[38;5;21;01m.\u001b[39;00m\u001b[38;5;21;01m_transports\u001b[39;00m\u001b[38;5;21;01m.\u001b[39;00m\u001b[38;5;21;01masgi\u001b[39;00m \u001b[38;5;28;01mimport\u001b[39;00m ASGITransport\n\u001b[0;32m     29\u001b[0m \u001b[38;5;28;01mfrom\u001b[39;00m \u001b[38;5;21;01m.\u001b[39;00m\u001b[38;5;21;01m_transports\u001b[39;00m\u001b[38;5;21;01m.\u001b[39;00m\u001b[38;5;21;01mbase\u001b[39;00m \u001b[38;5;28;01mimport\u001b[39;00m AsyncBaseTransport, BaseTransport\n\u001b[1;32m---> 30\u001b[0m \u001b[38;5;28;01mfrom\u001b[39;00m \u001b[38;5;21;01m.\u001b[39;00m\u001b[38;5;21;01m_transports\u001b[39;00m\u001b[38;5;21;01m.\u001b[39;00m\u001b[38;5;21;01mdefault\u001b[39;00m \u001b[38;5;28;01mimport\u001b[39;00m AsyncHTTPTransport, HTTPTransport\n\u001b[0;32m     31\u001b[0m \u001b[38;5;28;01mfrom\u001b[39;00m \u001b[38;5;21;01m.\u001b[39;00m\u001b[38;5;21;01m_transports\u001b[39;00m\u001b[38;5;21;01m.\u001b[39;00m\u001b[38;5;21;01mwsgi\u001b[39;00m \u001b[38;5;28;01mimport\u001b[39;00m WSGITransport\n\u001b[0;32m     32\u001b[0m \u001b[38;5;28;01mfrom\u001b[39;00m \u001b[38;5;21;01m.\u001b[39;00m\u001b[38;5;21;01m_types\u001b[39;00m \u001b[38;5;28;01mimport\u001b[39;00m (\n\u001b[0;32m     33\u001b[0m     AsyncByteStream,\n\u001b[0;32m     34\u001b[0m     AuthTypes,\n\u001b[1;32m   (...)\u001b[0m\n\u001b[0;32m     47\u001b[0m     VerifyTypes,\n\u001b[0;32m     48\u001b[0m )\n",
      "File \u001b[1;32m~\\AppData\\Roaming\\Python\\Python311\\site-packages\\httpx\\_transports\\default.py:30\u001b[0m\n\u001b[0;32m     27\u001b[0m \u001b[38;5;28;01mimport\u001b[39;00m \u001b[38;5;21;01mtyping\u001b[39;00m\n\u001b[0;32m     28\u001b[0m \u001b[38;5;28;01mfrom\u001b[39;00m \u001b[38;5;21;01mtypes\u001b[39;00m \u001b[38;5;28;01mimport\u001b[39;00m TracebackType\n\u001b[1;32m---> 30\u001b[0m \u001b[38;5;28;01mimport\u001b[39;00m \u001b[38;5;21;01mhttpcore\u001b[39;00m\n\u001b[0;32m     32\u001b[0m \u001b[38;5;28;01mfrom\u001b[39;00m \u001b[38;5;21;01m.\u001b[39;00m\u001b[38;5;21;01m.\u001b[39;00m\u001b[38;5;21;01m_config\u001b[39;00m \u001b[38;5;28;01mimport\u001b[39;00m DEFAULT_LIMITS, Limits, Proxy, create_ssl_context\n\u001b[0;32m     33\u001b[0m \u001b[38;5;28;01mfrom\u001b[39;00m \u001b[38;5;21;01m.\u001b[39;00m\u001b[38;5;21;01m.\u001b[39;00m\u001b[38;5;21;01m_exceptions\u001b[39;00m \u001b[38;5;28;01mimport\u001b[39;00m (\n\u001b[0;32m     34\u001b[0m     ConnectError,\n\u001b[0;32m     35\u001b[0m     ConnectTimeout,\n\u001b[1;32m   (...)\u001b[0m\n\u001b[0;32m     47\u001b[0m     WriteTimeout,\n\u001b[0;32m     48\u001b[0m )\n",
      "File \u001b[1;32m~\\AppData\\Roaming\\Python\\Python311\\site-packages\\httpcore\\__init__.py:1\u001b[0m\n\u001b[1;32m----> 1\u001b[0m \u001b[38;5;28;01mfrom\u001b[39;00m \u001b[38;5;21;01m.\u001b[39;00m\u001b[38;5;21;01m_api\u001b[39;00m \u001b[38;5;28;01mimport\u001b[39;00m request, stream\n\u001b[0;32m      2\u001b[0m \u001b[38;5;28;01mfrom\u001b[39;00m \u001b[38;5;21;01m.\u001b[39;00m\u001b[38;5;21;01m_async\u001b[39;00m \u001b[38;5;28;01mimport\u001b[39;00m (\n\u001b[0;32m      3\u001b[0m     AsyncConnectionInterface,\n\u001b[0;32m      4\u001b[0m     AsyncConnectionPool,\n\u001b[1;32m   (...)\u001b[0m\n\u001b[0;32m      9\u001b[0m     AsyncSOCKSProxy,\n\u001b[0;32m     10\u001b[0m )\n\u001b[0;32m     11\u001b[0m \u001b[38;5;28;01mfrom\u001b[39;00m \u001b[38;5;21;01m.\u001b[39;00m\u001b[38;5;21;01m_backends\u001b[39;00m\u001b[38;5;21;01m.\u001b[39;00m\u001b[38;5;21;01mbase\u001b[39;00m \u001b[38;5;28;01mimport\u001b[39;00m (\n\u001b[0;32m     12\u001b[0m     SOCKET_OPTION,\n\u001b[0;32m     13\u001b[0m     AsyncNetworkBackend,\n\u001b[1;32m   (...)\u001b[0m\n\u001b[0;32m     16\u001b[0m     NetworkStream,\n\u001b[0;32m     17\u001b[0m )\n",
      "File \u001b[1;32m~\\AppData\\Roaming\\Python\\Python311\\site-packages\\httpcore\\_api.py:5\u001b[0m\n\u001b[0;32m      2\u001b[0m \u001b[38;5;28;01mfrom\u001b[39;00m \u001b[38;5;21;01mtyping\u001b[39;00m \u001b[38;5;28;01mimport\u001b[39;00m Iterator, Optional, Union\n\u001b[0;32m      4\u001b[0m \u001b[38;5;28;01mfrom\u001b[39;00m \u001b[38;5;21;01m.\u001b[39;00m\u001b[38;5;21;01m_models\u001b[39;00m \u001b[38;5;28;01mimport\u001b[39;00m URL, Extensions, HeaderTypes, Response\n\u001b[1;32m----> 5\u001b[0m \u001b[38;5;28;01mfrom\u001b[39;00m \u001b[38;5;21;01m.\u001b[39;00m\u001b[38;5;21;01m_sync\u001b[39;00m\u001b[38;5;21;01m.\u001b[39;00m\u001b[38;5;21;01mconnection_pool\u001b[39;00m \u001b[38;5;28;01mimport\u001b[39;00m ConnectionPool\n\u001b[0;32m      8\u001b[0m \u001b[38;5;28;01mdef\u001b[39;00m \u001b[38;5;21mrequest\u001b[39m(\n\u001b[0;32m      9\u001b[0m     method: Union[\u001b[38;5;28mbytes\u001b[39m, \u001b[38;5;28mstr\u001b[39m],\n\u001b[0;32m     10\u001b[0m     url: Union[URL, \u001b[38;5;28mbytes\u001b[39m, \u001b[38;5;28mstr\u001b[39m],\n\u001b[1;32m   (...)\u001b[0m\n\u001b[0;32m     14\u001b[0m     extensions: Optional[Extensions] \u001b[38;5;241m=\u001b[39m \u001b[38;5;28;01mNone\u001b[39;00m,\n\u001b[0;32m     15\u001b[0m ) \u001b[38;5;241m-\u001b[39m\u001b[38;5;241m>\u001b[39m Response:\n\u001b[0;32m     16\u001b[0m \u001b[38;5;250m    \u001b[39m\u001b[38;5;124;03m\"\"\"\u001b[39;00m\n\u001b[0;32m     17\u001b[0m \u001b[38;5;124;03m    Sends an HTTP request, returning the response.\u001b[39;00m\n\u001b[0;32m     18\u001b[0m \n\u001b[1;32m   (...)\u001b[0m\n\u001b[0;32m     36\u001b[0m \u001b[38;5;124;03m        An instance of `httpcore.Response`.\u001b[39;00m\n\u001b[0;32m     37\u001b[0m \u001b[38;5;124;03m    \"\"\"\u001b[39;00m\n",
      "File \u001b[1;32m~\\AppData\\Roaming\\Python\\Python311\\site-packages\\httpcore\\_sync\\__init__.py:1\u001b[0m\n\u001b[1;32m----> 1\u001b[0m \u001b[38;5;28;01mfrom\u001b[39;00m \u001b[38;5;21;01m.\u001b[39;00m\u001b[38;5;21;01mconnection\u001b[39;00m \u001b[38;5;28;01mimport\u001b[39;00m HTTPConnection\n\u001b[0;32m      2\u001b[0m \u001b[38;5;28;01mfrom\u001b[39;00m \u001b[38;5;21;01m.\u001b[39;00m\u001b[38;5;21;01mconnection_pool\u001b[39;00m \u001b[38;5;28;01mimport\u001b[39;00m ConnectionPool\n\u001b[0;32m      3\u001b[0m \u001b[38;5;28;01mfrom\u001b[39;00m \u001b[38;5;21;01m.\u001b[39;00m\u001b[38;5;21;01mhttp11\u001b[39;00m \u001b[38;5;28;01mimport\u001b[39;00m HTTP11Connection\n",
      "File \u001b[1;32m~\\AppData\\Roaming\\Python\\Python311\\site-packages\\httpcore\\_sync\\connection.py:14\u001b[0m\n\u001b[0;32m     12\u001b[0m \u001b[38;5;28;01mfrom\u001b[39;00m \u001b[38;5;21;01m.\u001b[39;00m\u001b[38;5;21;01m.\u001b[39;00m\u001b[38;5;21;01m_synchronization\u001b[39;00m \u001b[38;5;28;01mimport\u001b[39;00m Lock\n\u001b[0;32m     13\u001b[0m \u001b[38;5;28;01mfrom\u001b[39;00m \u001b[38;5;21;01m.\u001b[39;00m\u001b[38;5;21;01m.\u001b[39;00m\u001b[38;5;21;01m_trace\u001b[39;00m \u001b[38;5;28;01mimport\u001b[39;00m Trace\n\u001b[1;32m---> 14\u001b[0m \u001b[38;5;28;01mfrom\u001b[39;00m \u001b[38;5;21;01m.\u001b[39;00m\u001b[38;5;21;01mhttp11\u001b[39;00m \u001b[38;5;28;01mimport\u001b[39;00m HTTP11Connection\n\u001b[0;32m     15\u001b[0m \u001b[38;5;28;01mfrom\u001b[39;00m \u001b[38;5;21;01m.\u001b[39;00m\u001b[38;5;21;01minterfaces\u001b[39;00m \u001b[38;5;28;01mimport\u001b[39;00m ConnectionInterface\n\u001b[0;32m     17\u001b[0m RETRIES_BACKOFF_FACTOR \u001b[38;5;241m=\u001b[39m \u001b[38;5;241m0.5\u001b[39m  \u001b[38;5;66;03m# 0s, 0.5s, 1s, 2s, 4s, etc.\u001b[39;00m\n",
      "File \u001b[1;32m~\\AppData\\Roaming\\Python\\Python311\\site-packages\\httpcore\\_sync\\http11.py:15\u001b[0m\n\u001b[0;32m      4\u001b[0m \u001b[38;5;28;01mfrom\u001b[39;00m \u001b[38;5;21;01mtypes\u001b[39;00m \u001b[38;5;28;01mimport\u001b[39;00m TracebackType\n\u001b[0;32m      5\u001b[0m \u001b[38;5;28;01mfrom\u001b[39;00m \u001b[38;5;21;01mtyping\u001b[39;00m \u001b[38;5;28;01mimport\u001b[39;00m (\n\u001b[0;32m      6\u001b[0m     Iterable,\n\u001b[0;32m      7\u001b[0m     Iterator,\n\u001b[1;32m   (...)\u001b[0m\n\u001b[0;32m     12\u001b[0m     Union,\n\u001b[0;32m     13\u001b[0m )\n\u001b[1;32m---> 15\u001b[0m \u001b[38;5;28;01mimport\u001b[39;00m \u001b[38;5;21;01mh11\u001b[39;00m\n\u001b[0;32m     17\u001b[0m \u001b[38;5;28;01mfrom\u001b[39;00m \u001b[38;5;21;01m.\u001b[39;00m\u001b[38;5;21;01m.\u001b[39;00m\u001b[38;5;21;01m_backends\u001b[39;00m\u001b[38;5;21;01m.\u001b[39;00m\u001b[38;5;21;01mbase\u001b[39;00m \u001b[38;5;28;01mimport\u001b[39;00m NetworkStream\n\u001b[0;32m     18\u001b[0m \u001b[38;5;28;01mfrom\u001b[39;00m \u001b[38;5;21;01m.\u001b[39;00m\u001b[38;5;21;01m.\u001b[39;00m\u001b[38;5;21;01m_exceptions\u001b[39;00m \u001b[38;5;28;01mimport\u001b[39;00m (\n\u001b[0;32m     19\u001b[0m     ConnectionNotAvailable,\n\u001b[0;32m     20\u001b[0m     LocalProtocolError,\n\u001b[1;32m   (...)\u001b[0m\n\u001b[0;32m     23\u001b[0m     map_exceptions,\n\u001b[0;32m     24\u001b[0m )\n",
      "\u001b[1;31mModuleNotFoundError\u001b[0m: No module named 'h11'"
     ]
    }
   ],
   "source": [
    "# imports for demo\n",
    "import os\n",
    "import asyncio\n",
    "import base64\n",
    "import httpx\n",
    "import numpy\n",
    "import huggingface_hub\n",
    "import pandas\n",
    "import requests\n",
    "import time\n",
    "import torch\n",
    "\n",
    "from art.estimators.classification import BlackBoxClassifier\n",
    "from art.attacks.evasion import HopSkipJump\n",
    "from art.utils import to_categorical\n",
    "from datetime import datetime\n",
    "from datasets import load_dataset\n",
    "from huggingface_hub import hf_hub_download\n",
    "from matplotlib import pyplot as plt\n",
    "from transformers import AutoImageProcessor, ResNetForImageClassification\n",
    "from time import sleep\n",
    "from tqdm import tqdm\n",
    "from typing import Any, Callable, Optional\n",
    "from random import randint\n",
    "from requests.auth import HTTPBasicAuth\n",
    "\n",
    "class AISecClient(object):\n",
    "    def __init__(self, client_id:str, client_secret: str, api_url: str = \"https://api.hiddenlayer.ai\", retry_count: int = 3):\n",
    "        self.client_id = client_id\n",
    "        self.client_secret = client_secret\n",
    "        self.client_auth = HTTPBasicAuth(client_id, client_secret)\n",
    "        self.base_url = api_url\n",
    "        self.token_url = \"https://auth.hiddenlayer.ai/oauth2/token?grant_type=client_credentials\"\n",
    "        self.retry_count = retry_count\n",
    "        self.session = requests.Session()\n",
    "        self.async_client = httpx.AsyncClient(timeout=None)\n",
    "\n",
    "    @staticmethod\n",
    "    def b64str(b: bytes) -> str:\n",
    "        return base64.b64encode(b).decode()\n",
    "    \n",
    "    def _set_token(self) -> str:\n",
    "        resp = requests.post(self.token_url, auth=self.client_auth)\n",
    "        if resp.status_code != 200:\n",
    "            raise Exception(\"Error: Unable to retrieve token\")\n",
    "        self.token = resp.json()[\"access_token\"]\n",
    "        self.session.headers = {\"Authorization\": f\"Bearer {self.token}\"}\n",
    "        self.async_client.headers = {\"Authorization\": f\"Bearer {self.token}\"}\n",
    "\n",
    "    def _request_handler(self, meth: Callable, url: str, **kwargs: Any) -> requests.Response:\n",
    "        resp = None\n",
    "        for i in range(self.retry_count + 1):\n",
    "            resp = meth(url, **kwargs)\n",
    "            if resp.status_code == 401:\n",
    "                self._set_token()\n",
    "                continue\n",
    "            elif resp.status_code < 500:\n",
    "                break\n",
    "            sleep(randint(1, i + 1) / 100)  # nosec\n",
    "        return resp\n",
    "\n",
    "    async def _async_request_handler(self, meth: Callable, url: str, **kwargs: Any) -> requests.Response:\n",
    "        resp = None\n",
    "        for i in range(self.retry_count + 1):\n",
    "            resp = await meth(url, **kwargs)\n",
    "            if resp.status_code == 401:\n",
    "                self._set_token()\n",
    "                continue\n",
    "            elif resp.status_code < 500:\n",
    "                break\n",
    "            sleep(randint(1, i + 1) / 100)  # nosec\n",
    "        return resp\n",
    "    \n",
    "    def create_sensor(self, name: str, tags: dict = None):\n",
    "        tags = {} if tags is None else tags\n",
    "        resp = self._request_handler(self.session.post, f\"{self.base_url}/api/v2/sensors/create\", json={\"plaintext_name\": name, \"active\": True, \"tags\": tags})\n",
    "        if not resp.ok:\n",
    "            raise Exception(\"Failed to create sensor - demo will not work properly\")\n",
    "        data = resp.json()\n",
    "        print(f\"View model: https://console.hiddenlayer.ai/model-details/{data['model_id']}\")\n",
    "        return data\n",
    "    \n",
    "    def get_sensor_by_name_version(self, name: str, version: int):\n",
    "        resp = self._request_handler(self.session.post, f\"{self.base_url}/api/v2/sensors/query\", json={\"filter\":{\"plaintext_name\": name, \"version\": version}})\n",
    "        if not resp.ok:\n",
    "            raise Exception(\"Failed to create sensor - demo will not work properly\")\n",
    "        return resp.json()[\"results\"][0]\n",
    "\n",
    "    def get_or_create_sensor(self, name: str, version: int = 1, tags: dict = None):\n",
    "        sensor = None\n",
    "        tags = {} if tags is None else tags\n",
    "        resp = self._request_handler(self.session.post, f\"{self.base_url}/api/v2/sensors/query\", json={\"filter\":{\"plaintext_name\": name, \"version\": version}})\n",
    "        if resp.ok:\n",
    "            content = resp.json()\n",
    "            if content[\"total_count\"] >= 1:\n",
    "                sensor = content[\"results\"][0]\n",
    "\n",
    "        if sensor is None:\n",
    "            sensor = self.create_sensor(name, tags=tags)\n",
    "            \n",
    "        return sensor    \n",
    "\n",
    "    async def scan_huggingface_repo(self, repo: str):\n",
    "        sensors_url = f\"{self.base_url}/api/v2/sensors\"\n",
    "        scanning_url = f\"{self.base_url}/api/v2/submit/sensors\"\n",
    "        extensions = [\".bin\", \".h5\", \".safetensors\"]\n",
    "        model_info = huggingface_hub.model_info(repo)\n",
    "        filename = None\n",
    "        for ext in extensions:\n",
    "            for s in model_info.siblings:\n",
    "                if (\"/\" not in s.rfilename):\n",
    "                    if s.rfilename.endswith(ext):\n",
    "                        filename = s.rfilename\n",
    "                        break\n",
    "            if filename is not None:\n",
    "                break\n",
    "\n",
    "        if filename is None:\n",
    "            raise Exception(f\"Unable to find model to scan in repository: {repo}\")\n",
    "\n",
    "        print(f\"Downloading {repo}/{filename} from HuggingFace...\")\n",
    "        filepath_to_model = hf_hub_download(repo_id=repo, filename=filename)\n",
    "        with open(filepath_to_model, \"rb\") as fin:\n",
    "            data = fin.read()\n",
    "    \n",
    "        # create sensor\n",
    "        sensor = self.create_sensor(repo, tags={\"env\": \"demo\", \"source\": \"huggingface\"})\n",
    "        sensor_id = sensor[\"sensor_id\"]\n",
    "        model_id = sensor[\"model_id\"]\n",
    "    \n",
    "        # start multipart upload\n",
    "        print(f\"Starting upload for {repo}/{filename}\")\n",
    "        headers = {\"X-Content-Length\": str(len(data))}\n",
    "        resp = self.session.post(f\"{sensors_url}/{sensor_id}/upload/begin\", headers=headers)\n",
    "        if not resp.ok:\n",
    "            raise Exception(f\"Failed to start multipart upload for {repo}. Demo will not run correctly\")\n",
    "        multipart = resp.json()\n",
    "    \n",
    "        # upload parts\n",
    "        chunk = 8\n",
    "        upload_id = multipart[\"upload_id\"]\n",
    "        for i in tqdm(range(0, len(multipart[\"parts\"]), chunk)):\n",
    "            upload_tasks = []\n",
    "            group = multipart[\"parts\"][i:i+chunk]\n",
    "            for p in group:\n",
    "                part_number = p[\"part_number\"]\n",
    "                part_data = data[p[\"start_offset\"]:p[\"end_offset\"]]\n",
    "                t = self._async_request_handler(self.async_client.put, f\"{sensors_url}/{sensor_id}/upload/{upload_id}/part/{part_number}\", data=part_data, headers=headers)\n",
    "                upload_tasks.append(t)\n",
    "            results = await asyncio.gather(*upload_tasks)\n",
    "    \n",
    "        # complete multipart upload\n",
    "        print(f\"Completed upload for {repo}/{filename}\")\n",
    "        resp = self.session.post(f\"{sensors_url}/{sensor_id}/upload/{upload_id}/complete\")\n",
    "        if not resp.ok:\n",
    "            raise Exception(f\"Failed to complete upload for {repo}. Demo will not run correctly\")\n",
    "    \n",
    "        # kick off scan for sensor id\n",
    "        resp = self.session.post(f\"{scanning_url}/{sensor_id}/scan\")\n",
    "        if not resp.ok:\n",
    "            raise Exception(\"Failed to start model scan. Demo will not run correctly\")\n",
    "        print(f\"Scan initiated for {repo}/{filename}. Results will be available shortly at: https://console.hiddenlayer.ai/model-details/{model_id}\")\n",
    "        \n",
    "    \n",
    "    def submit_to_mldr(\n",
    "        self,\n",
    "        sensor_id: str, \n",
    "        requester_id: str,\n",
    "        input_layer: numpy.ndarray,\n",
    "        output_layer: numpy.ndarray,\n",
    "        event_time: str = None,\n",
    "        predictions: list = None,\n",
    "        metadata: dict = None\n",
    "    ) -> None:\n",
    "        submission_url = f\"{self.base_url}/api/v2/submit\"\n",
    "        payload = {\n",
    "            \"sensor_id\": sensor_id,\n",
    "            \"requester_id\": requester_id,\n",
    "            \"event_time\": str(datetime.now().isoformat()) if event_time is None else event_time,\n",
    "            \"input_layer\": self.b64str(input_layer.tobytes()),\n",
    "            \"input_layer_shape\": list(input_layer.shape),\n",
    "            \"input_layer_dtype\": str(input_layer.dtype),\n",
    "            \"output_layer\": self.b64str(output_layer.tobytes()),\n",
    "            \"output_layer_shape\": list(output_layer.shape),\n",
    "            \"output_layer_dtype\": str(output_layer.dtype),\n",
    "            \"predictions\": [] if predictions is None else predictions,\n",
    "            \"metadata\": {} if metadata is None else metadata,\n",
    "        }\n",
    "        resp = self._request_handler(self.session.post, submission_url, json=payload)\n",
    "        if not resp.ok:\n",
    "            print(\"Failed to submit model inference to HiddenLayer\")\n",
    "            print(resp.content)\n",
    "\n"
   ]
  },
  {
   "cell_type": "raw",
   "id": "ee9d13eb",
   "metadata": {},
   "source": [
    "# setup session to use for demo\n",
    "# ADD CLIENT ID AND CLIENT SECRET TO RUN NOTEBOOK\n",
    "client_id = \"\"\n",
    "client_secret = \"\"\n",
    "client = AISecClient(client_id, client_secret)"
   ]
  },
  {
   "cell_type": "code",
   "execution_count": 3,
   "id": "be42f6e2",
   "metadata": {},
   "outputs": [],
   "source": [
    "# setup session to use for demo\n",
    "# ADD CLIENT ID AND CLIENT SECRET TO RUN NOTEBOOK\n",
    "client_id = os.getenv('HIDDENLAYER_CLIENT_ID')\n",
    "client_secret = os.getenv('HIDDENLAYER_CLIENT_SECRET')\n",
    "client = AISecClient(client_id, client_secret)"
   ]
  },
  {
   "cell_type": "markdown",
   "id": "fccbd234",
   "metadata": {},
   "source": [
    "# 2. Create API credentials in the console\n",
    "\n",
    "Navigate to https://console.hiddenlayer.ai/admin?activeTab=apiKeys and create new API credentials to use for this demo. Copy and paste the client id and client secret into the next step of the notebook"
   ]
  },
  {
   "cell_type": "markdown",
   "id": "c91364eb",
   "metadata": {},
   "source": [
    "# 3. Initalize AISec Platform client for demo"
   ]
  },
  {
   "cell_type": "markdown",
   "id": "6d412989",
   "metadata": {},
   "source": [
    "# 4. Scan models from HuggingFace\n",
    "\n",
    "1. Scan [gpt2](https://huggingface.co/gpt2/tree/main)\n",
    "2. Scan [drhyrum/bert-tiny-torch-vuln](https://huggingface.co/drhyrum/bert-tiny-torch-vuln)\n",
    "3. Scan [microsoft/resnet-50](https://huggingface.co/microsoft/resnet-50)"
   ]
  },
  {
   "cell_type": "code",
   "execution_count": 4,
   "id": "b7aa5a0d",
   "metadata": {},
   "outputs": [
    {
     "name": "stdout",
     "output_type": "stream",
     "text": [
      "Downloading gpt2/pytorch_model.bin from HuggingFace...\n"
     ]
    },
    {
     "data": {
      "application/vnd.jupyter.widget-view+json": {
       "model_id": "7046e3ae7c60429dad279fa8c62befc4",
       "version_major": 2,
       "version_minor": 0
      },
      "text/plain": [
       "Downloading pytorch_model.bin:   0%|          | 0.00/548M [00:00<?, ?B/s]"
      ]
     },
     "metadata": {},
     "output_type": "display_data"
    },
    {
     "name": "stdout",
     "output_type": "stream",
     "text": [
      "View model: https://console.hiddenlayer.ai/model-details/89dadee6-00ef-47a3-8788-07a0fd46d1df\n",
      "Starting upload for gpt2/pytorch_model.bin\n"
     ]
    },
    {
     "name": "stderr",
     "output_type": "stream",
     "text": [
      "100%|████████████████████████████████████████████████████████████████████████████████████| 9/9 [00:12<00:00,  1.34s/it]\n"
     ]
    },
    {
     "name": "stdout",
     "output_type": "stream",
     "text": [
      "Completed upload for gpt2/pytorch_model.bin\n",
      "Scan initiated for gpt2/pytorch_model.bin. Results will be available shortly at: https://console.hiddenlayer.ai/model-details/89dadee6-00ef-47a3-8788-07a0fd46d1df\n"
     ]
    }
   ],
   "source": [
    "# Scan gpt2\n",
    "await client.scan_huggingface_repo(\"gpt2\")"
   ]
  },
  {
   "cell_type": "code",
   "execution_count": null,
   "id": "45c3ae6d",
   "metadata": {},
   "outputs": [],
   "source": [
    "# Scan drhyrum/bert-tiny-torch-vuln\n",
    "await client.scan_huggingface_repo(\"drhyrum/bert-tiny-torch-vuln\")"
   ]
  },
  {
   "cell_type": "code",
   "execution_count": null,
   "id": "50607c3d",
   "metadata": {},
   "outputs": [],
   "source": [
    "# Scan microsoft/resnet-50\n",
    "await client.scan_huggingface_repo(\"microsoft/resnet-50\")"
   ]
  },
  {
   "cell_type": "markdown",
   "id": "5a712ce2",
   "metadata": {},
   "source": [
    "# 5. View model cards in console\n",
    "\n",
    "Navigate to https://console.hiddenlayer.ai/model-inventory to view newly created model cards\n",
    "\n",
    "# 6. Monitor inferences for microsoft/resnet-50\n",
    "\n",
    "Now that the `microsoft/resnet-50` model has been scanned and no detections were found the model is safe to load for inference. \n"
   ]
  },
  {
   "cell_type": "code",
   "execution_count": null,
   "id": "e0d4b4e6",
   "metadata": {},
   "outputs": [],
   "source": [
    "# load the microsoft/resnet-50 model\n",
    "processor = AutoImageProcessor.from_pretrained(\"microsoft/resnet-50\")\n",
    "model = ResNetForImageClassification.from_pretrained(\"microsoft/resnet-50\")\n",
    "sensor = client.get_sensor_by_name_version(\"microsoft/resnet-50\", 1)\n",
    "# load dataset\n",
    "dataset = load_dataset(\"zh-plus/tiny-imagenet\")\n",
    "\n",
    "# iterate over a subset of the dataset and classify images using resnet-50\n",
    "with torch.no_grad():\n",
    "    for img in dataset[\"valid\"][\"image\"][:1]:\n",
    "        pimg = processor(img, return_tensors=\"pt\")\n",
    "        predictions = model(pimg[\"pixel_values\"])\n",
    "        label = predictions.logits.argmax(-1).item()\n",
    "        text_label = model.config.id2label[label]\n",
    "        client.submit_to_mldr(sensor[\"sensor_id\"], \"resnet-50-demo\", pimg[\"pixel_values\"].numpy(), predictions.logits.numpy(), predictions=[label])\n",
    "        display(img)\n",
    "        print(f\"Label: {text_label}\")\n",
    "\n"
   ]
  },
  {
   "cell_type": "code",
   "execution_count": null,
   "id": "c08a2b75",
   "metadata": {},
   "outputs": [],
   "source": []
  },
  {
   "cell_type": "markdown",
   "id": "89411b7b",
   "metadata": {},
   "source": [
    "## 7a. View model inferences in console\n",
    "\n",
    "In the console, all inferences can be viewed here at https://console.hiddenlayer.ai/inferences. Details of each inference can also be viewed. Inferences for a specific model can be viewed by navigating to the model card then choosing the Inferences tab. \n",
    "\n",
    "# 8. Run a blackbox attack against microsoft/resnet-50 using ART\n",
    "In this step, we will run a hopskipjump attack against the resnet-50 model. This attack is used to generate adversarial samples against the model that can be used to evade a certain classificaiton or even create a sample to get a specific classification.\n"
   ]
  },
  {
   "cell_type": "markdown",
   "id": "4dc1c5f9",
   "metadata": {},
   "source": [
    "# Evasion"
   ]
  },
  {
   "cell_type": "code",
   "execution_count": null,
   "id": "f3db304c",
   "metadata": {},
   "outputs": [],
   "source": [
    "\n",
    "# create a custom predict method to use for the attack\n",
    "sensor = client.get_sensor_by_name_version(\"microsoft/resnet-50\", 1)\n",
    "sensor_id = sensor[\"sensor_id\"]\n",
    "\n",
    "def predict(inputs):\n",
    "    probs = []\n",
    "    for i in inputs:\n",
    "        a = numpy.array([i])\n",
    "        t = torch.from_numpy(a)\n",
    "        p = model(t)\n",
    "        l = p.logits.argmax(-1).item()\n",
    "        o = p.logits.detach().numpy()\n",
    "        probs.append(o[0])\n",
    "        client.submit_to_mldr(sensor_id, \"resnet-50-demo-attack\", a, o, predictions=[l])\n",
    "    return probs\n",
    "\n",
    "# show starting image and current label\n",
    "image = dataset[\"valid\"][\"image\"][3]\n",
    "pimg = processor(image, return_tensors=\"pt\")\n",
    "predictions = model(pimg[\"pixel_values\"])\n",
    "pimg_arr = pimg[\"pixel_values\"].detach().numpy()\n",
    "label = predictions.logits.argmax(-1).item()\n",
    "text_label = model.config.id2label[label]\n",
    "print(\"Base image...\")\n",
    "display(image)\n",
    "print(f\"Label: {text_label}\")\n",
    "print(\"----------------------------------\")\n",
    "\n",
    "# create attack classifier\n",
    "attack_classifier = BlackBoxClassifier(predict_fn=predict, nb_classes=1000, input_shape=list(pimg_arr[0].shape))\n",
    "\n",
    "# create attack object with params for the attack\n",
    "hopskipjump_attack = HopSkipJump(classifier=attack_classifier, max_iter=0, max_eval=1000, init_eval=10, targeted=False)\n",
    "\n",
    "print(\"Starting attack...\")\n",
    "iter_step = 10\n",
    "for i in range(5):\n",
    "    x_adv = hopskipjump_attack.generate(x=pimg_arr, resume=True)\n",
    "    t = torch.from_numpy(x_adv)\n",
    "    p = model(t)\n",
    "    l = p.logits.argmax(-1).item()\n",
    "    tl = model.config.id2label[l]\n",
    "    \n",
    "    plt.imshow(t[0].squeeze().permute(1,2,0))\n",
    "    plt.show(block=False)\n",
    "    print(f\"Class label: {l}, {tl}\")\n",
    "    hopskipjump_attack.max_iter = iter_step\n",
    "print(\"Attack complete\")\n",
    "\n"
   ]
  },
  {
   "cell_type": "code",
   "execution_count": null,
   "id": "7e8c6aa3",
   "metadata": {},
   "outputs": [],
   "source": [
    "2465/5"
   ]
  },
  {
   "cell_type": "markdown",
   "id": "9b4fbe15",
   "metadata": {},
   "source": [
    "## 8a. View detections in console\n",
    "\n",
    "All detections can be viewed here at https://console.hiddenlayer.ai/inference-detections?activeTab=overview. The overview provides a list of each detection and the [dashboard](https://console.hiddenlayer.ai/inference-detections?activeTab=dashboard) is an aggregated view of the detections. Detections for a specific model can be viewed by navigating to the model card then choosing the Detections tab. \n",
    "\n"
   ]
  },
  {
   "cell_type": "code",
   "execution_count": null,
   "id": "7de45028",
   "metadata": {},
   "outputs": [],
   "source": []
  }
 ],
 "metadata": {
  "kernelspec": {
   "display_name": "Python 3 (ipykernel)",
   "language": "python",
   "name": "python3"
  },
  "language_info": {
   "codemirror_mode": {
    "name": "ipython",
    "version": 3
   },
   "file_extension": ".py",
   "mimetype": "text/x-python",
   "name": "python",
   "nbconvert_exporter": "python",
   "pygments_lexer": "ipython3",
   "version": "3.11.5"
  }
 },
 "nbformat": 4,
 "nbformat_minor": 5
}
