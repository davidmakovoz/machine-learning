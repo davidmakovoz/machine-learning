{
  "nbformat": 4,
  "nbformat_minor": 0,
  "metadata": {
    "colab": {
      "name": "BertEmbeddings.ipynb",
      "provenance": [],
      "authorship_tag": "ABX9TyM1pJEF9o+VvESD2l+WRxiN",
      "include_colab_link": true
    },
    "kernelspec": {
      "name": "python3",
      "display_name": "Python 3"
    },
    "widgets": {
      "application/vnd.jupyter.widget-state+json": {
        "f1316683594640e0bdaeadd3f75521b2": {
          "model_module": "@jupyter-widgets/controls",
          "model_name": "VBoxModel",
          "state": {
            "_view_name": "VBoxView",
            "_dom_classes": [
              "widget-interact"
            ],
            "_model_name": "VBoxModel",
            "_view_module": "@jupyter-widgets/controls",
            "_model_module_version": "1.5.0",
            "_view_count": null,
            "_view_module_version": "1.5.0",
            "box_style": "",
            "layout": "IPY_MODEL_721ee9d8604143e5b0b6bc66e1aadf02",
            "_model_module": "@jupyter-widgets/controls",
            "children": [
              "IPY_MODEL_95942a0e5c0842409ae179a4bc6c89f5",
              "IPY_MODEL_0b3e839969d349b88891ebf1425d34d2"
            ]
          }
        },
        "721ee9d8604143e5b0b6bc66e1aadf02": {
          "model_module": "@jupyter-widgets/base",
          "model_name": "LayoutModel",
          "state": {
            "_view_name": "LayoutView",
            "grid_template_rows": null,
            "right": null,
            "justify_content": null,
            "_view_module": "@jupyter-widgets/base",
            "overflow": null,
            "_model_module_version": "1.2.0",
            "_view_count": null,
            "flex_flow": null,
            "width": null,
            "min_width": null,
            "border": null,
            "align_items": null,
            "bottom": null,
            "_model_module": "@jupyter-widgets/base",
            "top": null,
            "grid_column": null,
            "overflow_y": null,
            "overflow_x": null,
            "grid_auto_flow": null,
            "grid_area": null,
            "grid_template_columns": null,
            "flex": null,
            "_model_name": "LayoutModel",
            "justify_items": null,
            "grid_row": null,
            "max_height": null,
            "align_content": null,
            "visibility": null,
            "align_self": null,
            "height": null,
            "min_height": null,
            "padding": null,
            "grid_auto_rows": null,
            "grid_gap": null,
            "max_width": null,
            "order": null,
            "_view_module_version": "1.2.0",
            "grid_template_areas": null,
            "object_position": null,
            "object_fit": null,
            "grid_auto_columns": null,
            "margin": null,
            "display": null,
            "left": null
          }
        },
        "95942a0e5c0842409ae179a4bc6c89f5": {
          "model_module": "@jupyter-widgets/controls",
          "model_name": "DropdownModel",
          "state": {
            "_options_labels": [
              "season, n",
              "season, a",
              "water source",
              "metal thingy",
              "jump,v",
              "political"
            ],
            "_view_name": "DropdownView",
            "style": "IPY_MODEL_fd9ce30e9a7b4fe9bc6d0e4eadfa7cc3",
            "_dom_classes": [],
            "description": "meaning",
            "_model_name": "DropdownModel",
            "index": 5,
            "_view_module": "@jupyter-widgets/controls",
            "_model_module_version": "1.5.0",
            "_view_count": null,
            "disabled": false,
            "_view_module_version": "1.5.0",
            "description_tooltip": null,
            "_model_module": "@jupyter-widgets/controls",
            "layout": "IPY_MODEL_3cad3164556743c6b4981315d2b8a3a5"
          }
        },
        "0b3e839969d349b88891ebf1425d34d2": {
          "model_module": "@jupyter-widgets/output",
          "model_name": "OutputModel",
          "state": {
            "_view_name": "OutputView",
            "msg_id": "",
            "_dom_classes": [],
            "_model_name": "OutputModel",
            "outputs": [
              {
                "output_type": "display_data",
                "metadata": {
                  "tags": []
                },
                "text/html": "<div>\n<style scoped>\n    .dataframe tbody tr th:only-of-type {\n        vertical-align: middle;\n    }\n\n    .dataframe tbody tr th {\n        vertical-align: top;\n    }\n\n    .dataframe thead th {\n        text-align: right;\n    }\n</style>\n<table border=\"1\" class=\"dataframe\">\n  <thead>\n    <tr style=\"text-align: right;\">\n      <th></th>\n      <th>text</th>\n      <th>synset</th>\n      <th>meaning</th>\n    </tr>\n  </thead>\n  <tbody>\n    <tr>\n      <th>68</th>\n      <td>on the wake of the arab spring protests, a considerable amount of attention has been focused on the role of social media and digital technologies</td>\n      <td>6</td>\n      <td>political</td>\n    </tr>\n    <tr>\n      <th>69</th>\n      <td>the prague spring reforms were a strong attempt by dub?ek to grant additional rights to the citizens of czechoslovakia</td>\n      <td>6</td>\n      <td>political</td>\n    </tr>\n    <tr>\n      <th>70</th>\n      <td>the downfall of the croatian spring marked the beginning of a period known as the croatian silence.</td>\n      <td>6</td>\n      <td>political</td>\n    </tr>\n    <tr>\n      <th>71</th>\n      <td>during the beijing spring , the general public was allowed greater freedom to criticize the government than the chinese people had previously been allowed under the government of the people's republic of china.</td>\n      <td>6</td>\n      <td>political</td>\n    </tr>\n    <tr>\n      <th>72</th>\n      <td>the seoul spring was a period of democratization in south korea from 26 october 1979 to 17 may 1980.</td>\n      <td>6</td>\n      <td>political</td>\n    </tr>\n    <tr>\n      <th>73</th>\n      <td>the damascus spring made a major impact across the arab world, and initially there was considerable optimism that it would lead to real change.</td>\n      <td>6</td>\n      <td>political</td>\n    </tr>\n    <tr>\n      <th>74</th>\n      <td>while some might see this as a venezuelan spring , the reality is that popular movements in countries like venezuela over the last few years have often been highly suppressed.</td>\n      <td>6</td>\n      <td>political</td>\n    </tr>\n  </tbody>\n</table>\n</div>",
                "text/plain": "                                                                                                                                                                                                                  text  ...    meaning\n68  on the wake of the arab spring protests, a considerable amount of attention has been focused on the role of social media and digital technologies                                                                   ...  political\n69  the prague spring reforms were a strong attempt by dub?ek to grant additional rights to the citizens of czechoslovakia                                                                                              ...  political\n70  the downfall of the croatian spring marked the beginning of a period known as the croatian silence.                                                                                                                 ...  political\n71  during the beijing spring , the general public was allowed greater freedom to criticize the government than the chinese people had previously been allowed under the government of the people's republic of china.  ...  political\n72  the seoul spring was a period of democratization in south korea from 26 october 1979 to 17 may 1980.                                                                                                                ...  political\n73  the damascus spring made a major impact across the arab world, and initially there was considerable optimism that it would lead to real change.                                                                     ...  political\n74  while some might see this as a venezuelan spring , the reality is that popular movements in countries like venezuela over the last few years have often been highly suppressed.                                     ...  political\n\n[7 rows x 3 columns]"
              }
            ],
            "_view_module": "@jupyter-widgets/output",
            "_model_module_version": "1.0.0",
            "_view_count": null,
            "_view_module_version": "1.0.0",
            "layout": "IPY_MODEL_79dac5590c4c43d38475b72b1f3d03d0",
            "_model_module": "@jupyter-widgets/output"
          }
        },
        "fd9ce30e9a7b4fe9bc6d0e4eadfa7cc3": {
          "model_module": "@jupyter-widgets/controls",
          "model_name": "DescriptionStyleModel",
          "state": {
            "_view_name": "StyleView",
            "_model_name": "DescriptionStyleModel",
            "description_width": "",
            "_view_module": "@jupyter-widgets/base",
            "_model_module_version": "1.5.0",
            "_view_count": null,
            "_view_module_version": "1.2.0",
            "_model_module": "@jupyter-widgets/controls"
          }
        },
        "3cad3164556743c6b4981315d2b8a3a5": {
          "model_module": "@jupyter-widgets/base",
          "model_name": "LayoutModel",
          "state": {
            "_view_name": "LayoutView",
            "grid_template_rows": null,
            "right": null,
            "justify_content": null,
            "_view_module": "@jupyter-widgets/base",
            "overflow": null,
            "_model_module_version": "1.2.0",
            "_view_count": null,
            "flex_flow": null,
            "width": null,
            "min_width": null,
            "border": null,
            "align_items": null,
            "bottom": null,
            "_model_module": "@jupyter-widgets/base",
            "top": null,
            "grid_column": null,
            "overflow_y": null,
            "overflow_x": null,
            "grid_auto_flow": null,
            "grid_area": null,
            "grid_template_columns": null,
            "flex": null,
            "_model_name": "LayoutModel",
            "justify_items": null,
            "grid_row": null,
            "max_height": null,
            "align_content": null,
            "visibility": null,
            "align_self": null,
            "height": null,
            "min_height": null,
            "padding": null,
            "grid_auto_rows": null,
            "grid_gap": null,
            "max_width": null,
            "order": null,
            "_view_module_version": "1.2.0",
            "grid_template_areas": null,
            "object_position": null,
            "object_fit": null,
            "grid_auto_columns": null,
            "margin": null,
            "display": null,
            "left": null
          }
        },
        "ccd1bce098ee4c2d8ab8d6a2c194a7ac": {
          "model_module": "@jupyter-widgets/controls",
          "model_name": "VBoxModel",
          "state": {
            "_view_name": "VBoxView",
            "_dom_classes": [
              "widget-interact"
            ],
            "_model_name": "VBoxModel",
            "_view_module": "@jupyter-widgets/controls",
            "_model_module_version": "1.5.0",
            "_view_count": null,
            "_view_module_version": "1.5.0",
            "box_style": "",
            "layout": "IPY_MODEL_32636475227545ecae89ce63219ea088",
            "_model_module": "@jupyter-widgets/controls",
            "children": [
              "IPY_MODEL_a168310a06ea4a5e9458f4d7cef0cea8",
              "IPY_MODEL_9ad25f2ab44444518ebf795f5dced99e",
              "IPY_MODEL_edc7c1130be44781a9df4bbce2920438",
              "IPY_MODEL_fe170dd75c0b4615995db12117c72a19"
            ]
          }
        },
        "32636475227545ecae89ce63219ea088": {
          "model_module": "@jupyter-widgets/base",
          "model_name": "LayoutModel",
          "state": {
            "_view_name": "LayoutView",
            "grid_template_rows": null,
            "right": null,
            "justify_content": null,
            "_view_module": "@jupyter-widgets/base",
            "overflow": null,
            "_model_module_version": "1.2.0",
            "_view_count": null,
            "flex_flow": null,
            "width": null,
            "min_width": null,
            "border": null,
            "align_items": null,
            "bottom": null,
            "_model_module": "@jupyter-widgets/base",
            "top": null,
            "grid_column": null,
            "overflow_y": null,
            "overflow_x": null,
            "grid_auto_flow": null,
            "grid_area": null,
            "grid_template_columns": null,
            "flex": null,
            "_model_name": "LayoutModel",
            "justify_items": null,
            "grid_row": null,
            "max_height": null,
            "align_content": null,
            "visibility": null,
            "align_self": null,
            "height": null,
            "min_height": null,
            "padding": null,
            "grid_auto_rows": null,
            "grid_gap": null,
            "max_width": null,
            "order": null,
            "_view_module_version": "1.2.0",
            "grid_template_areas": null,
            "object_position": null,
            "object_fit": null,
            "grid_auto_columns": null,
            "margin": null,
            "display": null,
            "left": null
          }
        },
        "a168310a06ea4a5e9458f4d7cef0cea8": {
          "model_module": "@jupyter-widgets/controls",
          "model_name": "FloatRangeSliderModel",
          "state": {
            "_view_name": "FloatRangeSliderView",
            "style": "IPY_MODEL_694c2679e04d4206b061cd6bd0a75790",
            "_dom_classes": [],
            "description": "distance:",
            "step": 0.1,
            "_model_name": "FloatRangeSliderModel",
            "orientation": "horizontal",
            "max": 1,
            "_view_module": "@jupyter-widgets/controls",
            "_model_module_version": "1.5.0",
            "value": [
              0,
              1
            ],
            "_view_count": null,
            "disabled": false,
            "_view_module_version": "1.5.0",
            "min": 0,
            "continuous_update": true,
            "readout_format": ".1f",
            "description_tooltip": null,
            "readout": true,
            "_model_module": "@jupyter-widgets/controls",
            "layout": "IPY_MODEL_a6f4a326c5724e529671d4aced0b7581"
          }
        },
        "9ad25f2ab44444518ebf795f5dced99e": {
          "model_module": "@jupyter-widgets/controls",
          "model_name": "DropdownModel",
          "state": {
            "_options_labels": [
              "1",
              "2",
              "3",
              "4",
              "5",
              "6"
            ],
            "_view_name": "DropdownView",
            "style": "IPY_MODEL_fc1d1efe9e8d444ab89cf06233816b78",
            "_dom_classes": [],
            "description": "synset1",
            "_model_name": "DropdownModel",
            "index": 0,
            "_view_module": "@jupyter-widgets/controls",
            "_model_module_version": "1.5.0",
            "_view_count": null,
            "disabled": false,
            "_view_module_version": "1.5.0",
            "description_tooltip": null,
            "_model_module": "@jupyter-widgets/controls",
            "layout": "IPY_MODEL_741be24a358343cfad8eefa97c7624fc"
          }
        },
        "edc7c1130be44781a9df4bbce2920438": {
          "model_module": "@jupyter-widgets/controls",
          "model_name": "DropdownModel",
          "state": {
            "_options_labels": [
              "1",
              "2",
              "3",
              "4",
              "5",
              "6"
            ],
            "_view_name": "DropdownView",
            "style": "IPY_MODEL_b14e6dc74b6348c7b91ae431d1232bed",
            "_dom_classes": [],
            "description": "synset2",
            "_model_name": "DropdownModel",
            "index": 0,
            "_view_module": "@jupyter-widgets/controls",
            "_model_module_version": "1.5.0",
            "_view_count": null,
            "disabled": false,
            "_view_module_version": "1.5.0",
            "description_tooltip": null,
            "_model_module": "@jupyter-widgets/controls",
            "layout": "IPY_MODEL_b470a39b987242b38c7bb4ea16e660e9"
          }
        },
        "fe170dd75c0b4615995db12117c72a19": {
          "model_module": "@jupyter-widgets/output",
          "model_name": "OutputModel",
          "state": {
            "_view_name": "OutputView",
            "msg_id": "",
            "_dom_classes": [],
            "_model_name": "OutputModel",
            "outputs": [
              {
                "output_type": "display_data",
                "metadata": {
                  "tags": []
                },
                "text/html": "<div>\n<style scoped>\n    .dataframe tbody tr th:only-of-type {\n        vertical-align: middle;\n    }\n\n    .dataframe tbody tr th {\n        vertical-align: top;\n    }\n\n    .dataframe thead th {\n        text-align: right;\n    }\n</style>\n<table border=\"1\" class=\"dataframe\">\n  <thead>\n    <tr style=\"text-align: right;\">\n      <th></th>\n      <th>sentence1</th>\n      <th>sentence2</th>\n      <th>synset1</th>\n      <th>synset2</th>\n      <th>distance</th>\n    </tr>\n  </thead>\n  <tbody>\n    <tr>\n      <th>0</th>\n      <td>spring is around the corner.</td>\n      <td>the night air of spring was chilly in the mountains.</td>\n      <td>1</td>\n      <td>1</td>\n      <td>0.391753</td>\n    </tr>\n    <tr>\n      <th>1</th>\n      <td>spring is around the corner.</td>\n      <td>i don't know how the ranch ever saw a spring without your sunny smile.</td>\n      <td>1</td>\n      <td>1</td>\n      <td>0.365373</td>\n    </tr>\n    <tr>\n      <th>2</th>\n      <td>spring is around the corner.</td>\n      <td>it was spring and she was ravenously hungry.</td>\n      <td>1</td>\n      <td>1</td>\n      <td>0.376785</td>\n    </tr>\n    <tr>\n      <th>3</th>\n      <td>spring is around the corner.</td>\n      <td>in a few days the beautiful spring will be here.</td>\n      <td>1</td>\n      <td>1</td>\n      <td>0.305250</td>\n    </tr>\n    <tr>\n      <th>4</th>\n      <td>spring is around the corner.</td>\n      <td>one day in spring four men were riding on horseback along a country road.</td>\n      <td>1</td>\n      <td>1</td>\n      <td>0.530385</td>\n    </tr>\n    <tr>\n      <th>...</th>\n      <td>...</td>\n      <td>...</td>\n      <td>...</td>\n      <td>...</td>\n      <td>...</td>\n    </tr>\n    <tr>\n      <th>1065</th>\n      <td>but this spring it broke up more steadily, as i have said.</td>\n      <td>but in the spring of that year, he received a letter from his mother, written without his father's knowledge, and that letter persuaded him to return.</td>\n      <td>1</td>\n      <td>1</td>\n      <td>0.328676</td>\n    </tr>\n    <tr>\n      <th>1066</th>\n      <td>but this spring it broke up more steadily, as i have said.</td>\n      <td>she was dressed for spring in only a light sweater and glared at dean as if he were a street mugger before surrendering her torn and ancient luggage.</td>\n      <td>1</td>\n      <td>1</td>\n      <td>0.577264</td>\n    </tr>\n    <tr>\n      <th>1122</th>\n      <td>there is no spring , no sun, no happiness!</td>\n      <td>but in the spring of that year, he received a letter from his mother, written without his father's knowledge, and that letter persuaded him to return.</td>\n      <td>1</td>\n      <td>1</td>\n      <td>0.556876</td>\n    </tr>\n    <tr>\n      <th>1123</th>\n      <td>there is no spring , no sun, no happiness!</td>\n      <td>she was dressed for spring in only a light sweater and glared at dean as if he were a street mugger before surrendering her torn and ancient luggage.</td>\n      <td>1</td>\n      <td>1</td>\n      <td>0.446702</td>\n    </tr>\n    <tr>\n      <th>1179</th>\n      <td>but in the spring of that year, he received a letter from his mother, written without his father's knowledge, and that letter persuaded him to return.</td>\n      <td>she was dressed for spring in only a light sweater and glared at dean as if he were a street mugger before surrendering her torn and ancient luggage.</td>\n      <td>1</td>\n      <td>1</td>\n      <td>0.652775</td>\n    </tr>\n  </tbody>\n</table>\n<p>190 rows × 5 columns</p>\n</div>",
                "text/plain": "                                                                                                                                                   sentence1  ...  distance\n0     spring is around the corner.                                                                                                                            ...  0.391753\n1     spring is around the corner.                                                                                                                            ...  0.365373\n2     spring is around the corner.                                                                                                                            ...  0.376785\n3     spring is around the corner.                                                                                                                            ...  0.305250\n4     spring is around the corner.                                                                                                                            ...  0.530385\n...                            ...                                                                                                                            ...       ...\n1065  but this spring it broke up more steadily, as i have said.                                                                                              ...  0.328676\n1066  but this spring it broke up more steadily, as i have said.                                                                                              ...  0.577264\n1122  there is no spring , no sun, no happiness!                                                                                                              ...  0.556876\n1123  there is no spring , no sun, no happiness!                                                                                                              ...  0.446702\n1179  but in the spring of that year, he received a letter from his mother, written without his father's knowledge, and that letter persuaded him to return.  ...  0.652775\n\n[190 rows x 5 columns]"
              }
            ],
            "_view_module": "@jupyter-widgets/output",
            "_model_module_version": "1.0.0",
            "_view_count": null,
            "_view_module_version": "1.0.0",
            "layout": "IPY_MODEL_28aec2697fb14966917f7075bfeffc32",
            "_model_module": "@jupyter-widgets/output"
          }
        },
        "694c2679e04d4206b061cd6bd0a75790": {
          "model_module": "@jupyter-widgets/controls",
          "model_name": "SliderStyleModel",
          "state": {
            "_view_name": "StyleView",
            "handle_color": null,
            "_model_name": "SliderStyleModel",
            "description_width": "",
            "_view_module": "@jupyter-widgets/base",
            "_model_module_version": "1.5.0",
            "_view_count": null,
            "_view_module_version": "1.2.0",
            "_model_module": "@jupyter-widgets/controls"
          }
        },
        "a6f4a326c5724e529671d4aced0b7581": {
          "model_module": "@jupyter-widgets/base",
          "model_name": "LayoutModel",
          "state": {
            "_view_name": "LayoutView",
            "grid_template_rows": null,
            "right": null,
            "justify_content": null,
            "_view_module": "@jupyter-widgets/base",
            "overflow": null,
            "_model_module_version": "1.2.0",
            "_view_count": null,
            "flex_flow": null,
            "width": null,
            "min_width": null,
            "border": null,
            "align_items": null,
            "bottom": null,
            "_model_module": "@jupyter-widgets/base",
            "top": null,
            "grid_column": null,
            "overflow_y": null,
            "overflow_x": null,
            "grid_auto_flow": null,
            "grid_area": null,
            "grid_template_columns": null,
            "flex": null,
            "_model_name": "LayoutModel",
            "justify_items": null,
            "grid_row": null,
            "max_height": null,
            "align_content": null,
            "visibility": null,
            "align_self": null,
            "height": null,
            "min_height": null,
            "padding": null,
            "grid_auto_rows": null,
            "grid_gap": null,
            "max_width": null,
            "order": null,
            "_view_module_version": "1.2.0",
            "grid_template_areas": null,
            "object_position": null,
            "object_fit": null,
            "grid_auto_columns": null,
            "margin": null,
            "display": null,
            "left": null
          }
        },
        "fc1d1efe9e8d444ab89cf06233816b78": {
          "model_module": "@jupyter-widgets/controls",
          "model_name": "DescriptionStyleModel",
          "state": {
            "_view_name": "StyleView",
            "_model_name": "DescriptionStyleModel",
            "description_width": "",
            "_view_module": "@jupyter-widgets/base",
            "_model_module_version": "1.5.0",
            "_view_count": null,
            "_view_module_version": "1.2.0",
            "_model_module": "@jupyter-widgets/controls"
          }
        },
        "741be24a358343cfad8eefa97c7624fc": {
          "model_module": "@jupyter-widgets/base",
          "model_name": "LayoutModel",
          "state": {
            "_view_name": "LayoutView",
            "grid_template_rows": null,
            "right": null,
            "justify_content": null,
            "_view_module": "@jupyter-widgets/base",
            "overflow": null,
            "_model_module_version": "1.2.0",
            "_view_count": null,
            "flex_flow": null,
            "width": null,
            "min_width": null,
            "border": null,
            "align_items": null,
            "bottom": null,
            "_model_module": "@jupyter-widgets/base",
            "top": null,
            "grid_column": null,
            "overflow_y": null,
            "overflow_x": null,
            "grid_auto_flow": null,
            "grid_area": null,
            "grid_template_columns": null,
            "flex": null,
            "_model_name": "LayoutModel",
            "justify_items": null,
            "grid_row": null,
            "max_height": null,
            "align_content": null,
            "visibility": null,
            "align_self": null,
            "height": null,
            "min_height": null,
            "padding": null,
            "grid_auto_rows": null,
            "grid_gap": null,
            "max_width": null,
            "order": null,
            "_view_module_version": "1.2.0",
            "grid_template_areas": null,
            "object_position": null,
            "object_fit": null,
            "grid_auto_columns": null,
            "margin": null,
            "display": null,
            "left": null
          }
        },
        "b14e6dc74b6348c7b91ae431d1232bed": {
          "model_module": "@jupyter-widgets/controls",
          "model_name": "DescriptionStyleModel",
          "state": {
            "_view_name": "StyleView",
            "_model_name": "DescriptionStyleModel",
            "description_width": "",
            "_view_module": "@jupyter-widgets/base",
            "_model_module_version": "1.5.0",
            "_view_count": null,
            "_view_module_version": "1.2.0",
            "_model_module": "@jupyter-widgets/controls"
          }
        },
        "b470a39b987242b38c7bb4ea16e660e9": {
          "model_module": "@jupyter-widgets/base",
          "model_name": "LayoutModel",
          "state": {
            "_view_name": "LayoutView",
            "grid_template_rows": null,
            "right": null,
            "justify_content": null,
            "_view_module": "@jupyter-widgets/base",
            "overflow": null,
            "_model_module_version": "1.2.0",
            "_view_count": null,
            "flex_flow": null,
            "width": null,
            "min_width": null,
            "border": null,
            "align_items": null,
            "bottom": null,
            "_model_module": "@jupyter-widgets/base",
            "top": null,
            "grid_column": null,
            "overflow_y": null,
            "overflow_x": null,
            "grid_auto_flow": null,
            "grid_area": null,
            "grid_template_columns": null,
            "flex": null,
            "_model_name": "LayoutModel",
            "justify_items": null,
            "grid_row": null,
            "max_height": null,
            "align_content": null,
            "visibility": null,
            "align_self": null,
            "height": null,
            "min_height": null,
            "padding": null,
            "grid_auto_rows": null,
            "grid_gap": null,
            "max_width": null,
            "order": null,
            "_view_module_version": "1.2.0",
            "grid_template_areas": null,
            "object_position": null,
            "object_fit": null,
            "grid_auto_columns": null,
            "margin": null,
            "display": null,
            "left": null
          }
        }
      }
    }
  },
  "cells": [
    {
      "cell_type": "markdown",
      "metadata": {
        "id": "view-in-github",
        "colab_type": "text"
      },
      "source": [
        "<a href=\"https://colab.research.google.com/github/davidmakovoz/machine-learning/blob/master/BertEmbeddings.ipynb\" target=\"_parent\"><img src=\"https://colab.research.google.com/assets/colab-badge.svg\" alt=\"Open In Colab\"/></a>"
      ]
    },
    {
      "cell_type": "code",
      "metadata": {
        "id": "73lNOyGV9cXl",
        "colab_type": "code",
        "colab": {}
      },
      "source": [
        ""
      ],
      "execution_count": 0,
      "outputs": []
    },
    {
      "cell_type": "code",
      "metadata": {
        "id": "t8MnFfNT9008",
        "colab_type": "code",
        "colab": {
          "base_uri": "https://localhost:8080/",
          "height": 394
        },
        "outputId": "ea08dff9-43bb-4161-c42e-e11ea949d00a"
      },
      "source": [
        "!pip install pytorch_pretrained_bert"
      ],
      "execution_count": 2,
      "outputs": [
        {
          "output_type": "stream",
          "text": [
            "Collecting pytorch_pretrained_bert\n",
            "\u001b[?25l  Downloading https://files.pythonhosted.org/packages/d7/e0/c08d5553b89973d9a240605b9c12404bcf8227590de62bae27acbcfe076b/pytorch_pretrained_bert-0.6.2-py3-none-any.whl (123kB)\n",
            "\r\u001b[K     |██▋                             | 10kB 19.1MB/s eta 0:00:01\r\u001b[K     |█████▎                          | 20kB 6.1MB/s eta 0:00:01\r\u001b[K     |████████                        | 30kB 7.2MB/s eta 0:00:01\r\u001b[K     |██████████▋                     | 40kB 5.6MB/s eta 0:00:01\r\u001b[K     |█████████████▎                  | 51kB 5.8MB/s eta 0:00:01\r\u001b[K     |███████████████▉                | 61kB 6.9MB/s eta 0:00:01\r\u001b[K     |██████████████████▌             | 71kB 7.3MB/s eta 0:00:01\r\u001b[K     |█████████████████████▏          | 81kB 7.0MB/s eta 0:00:01\r\u001b[K     |███████████████████████▉        | 92kB 7.7MB/s eta 0:00:01\r\u001b[K     |██████████████████████████▌     | 102kB 8.0MB/s eta 0:00:01\r\u001b[K     |█████████████████████████████▏  | 112kB 8.0MB/s eta 0:00:01\r\u001b[K     |███████████████████████████████▊| 122kB 8.0MB/s eta 0:00:01\r\u001b[K     |████████████████████████████████| 133kB 8.0MB/s \n",
            "\u001b[?25hRequirement already satisfied: tqdm in /usr/local/lib/python3.6/dist-packages (from pytorch_pretrained_bert) (4.28.1)\n",
            "Requirement already satisfied: boto3 in /usr/local/lib/python3.6/dist-packages (from pytorch_pretrained_bert) (1.10.47)\n",
            "Requirement already satisfied: torch>=0.4.1 in /usr/local/lib/python3.6/dist-packages (from pytorch_pretrained_bert) (1.3.1)\n",
            "Requirement already satisfied: requests in /usr/local/lib/python3.6/dist-packages (from pytorch_pretrained_bert) (2.21.0)\n",
            "Requirement already satisfied: regex in /usr/local/lib/python3.6/dist-packages (from pytorch_pretrained_bert) (2019.12.20)\n",
            "Requirement already satisfied: numpy in /usr/local/lib/python3.6/dist-packages (from pytorch_pretrained_bert) (1.17.5)\n",
            "Requirement already satisfied: jmespath<1.0.0,>=0.7.1 in /usr/local/lib/python3.6/dist-packages (from boto3->pytorch_pretrained_bert) (0.9.4)\n",
            "Requirement already satisfied: s3transfer<0.3.0,>=0.2.0 in /usr/local/lib/python3.6/dist-packages (from boto3->pytorch_pretrained_bert) (0.2.1)\n",
            "Requirement already satisfied: botocore<1.14.0,>=1.13.47 in /usr/local/lib/python3.6/dist-packages (from boto3->pytorch_pretrained_bert) (1.13.47)\n",
            "Requirement already satisfied: urllib3<1.25,>=1.21.1 in /usr/local/lib/python3.6/dist-packages (from requests->pytorch_pretrained_bert) (1.24.3)\n",
            "Requirement already satisfied: certifi>=2017.4.17 in /usr/local/lib/python3.6/dist-packages (from requests->pytorch_pretrained_bert) (2019.11.28)\n",
            "Requirement already satisfied: chardet<3.1.0,>=3.0.2 in /usr/local/lib/python3.6/dist-packages (from requests->pytorch_pretrained_bert) (3.0.4)\n",
            "Requirement already satisfied: idna<2.9,>=2.5 in /usr/local/lib/python3.6/dist-packages (from requests->pytorch_pretrained_bert) (2.8)\n",
            "Requirement already satisfied: docutils<0.16,>=0.10 in /usr/local/lib/python3.6/dist-packages (from botocore<1.14.0,>=1.13.47->boto3->pytorch_pretrained_bert) (0.15.2)\n",
            "Requirement already satisfied: python-dateutil<3.0.0,>=2.1; python_version >= \"2.7\" in /usr/local/lib/python3.6/dist-packages (from botocore<1.14.0,>=1.13.47->boto3->pytorch_pretrained_bert) (2.6.1)\n",
            "Requirement already satisfied: six>=1.5 in /usr/local/lib/python3.6/dist-packages (from python-dateutil<3.0.0,>=2.1; python_version >= \"2.7\"->botocore<1.14.0,>=1.13.47->boto3->pytorch_pretrained_bert) (1.12.0)\n",
            "Installing collected packages: pytorch-pretrained-bert\n",
            "Successfully installed pytorch-pretrained-bert-0.6.2\n"
          ],
          "name": "stdout"
        }
      ]
    },
    {
      "cell_type": "code",
      "metadata": {
        "id": "XoSiEjPCGOll",
        "colab_type": "code",
        "colab": {}
      },
      "source": [
        "# Set CSS properties for th elements in dataframe\n",
        "th_props = [\n",
        "  ('font-size', '20px'),\n",
        "  ('text-align', 'center'),\n",
        "  ('font-weight', 'bold'),\n",
        "  ('color', '#ffffff'),\n",
        "  ('background-color', '#000000')\n",
        "  ]\n",
        "\n",
        "# Set CSS properties for td elements in dataframe\n",
        "td_props = [\n",
        "  ('font-size', '20px'),\n",
        "    ('text-align', 'center'),\n",
        "  ]\n",
        "\n",
        "# Set table styles\n",
        "styles = [\n",
        "  dict(selector=\"th\", props=th_props),\n",
        "  dict(selector=\"td\", props=td_props)\n",
        "  ]\n"
      ],
      "execution_count": 0,
      "outputs": []
    },
    {
      "cell_type": "code",
      "metadata": {
        "id": "VCljm2LF9lxE",
        "colab_type": "code",
        "colab": {}
      },
      "source": [
        "import torch\n",
        "from pytorch_pretrained_bert import BertTokenizer, BertModel, BertForMaskedLM\n",
        "import numpy as np\n",
        "import pandas as pd\n",
        "%matplotlib inline\n",
        "import matplotlib.pyplot as plt"
      ],
      "execution_count": 0,
      "outputs": []
    },
    {
      "cell_type": "markdown",
      "metadata": {
        "id": "0NmvFT72dR36",
        "colab_type": "text"
      },
      "source": [
        "<img src=\"http://drive.google.com/uc?export=view&id=1bhjSBpVLmh3h___dXPbnW1pfed0yQe4z\" alt=\"Drawing\" style=\"width: 800px;\" />"
      ]
    },
    {
      "cell_type": "markdown",
      "metadata": {
        "id": "iQXQQOs2-XCF",
        "colab_type": "text"
      },
      "source": [
        "## Load Tokenizer for BERT-Base, Uncased: 12-layer, 768-hidden, 12-heads, 110M parameters"
      ]
    },
    {
      "cell_type": "markdown",
      "metadata": {
        "id": "rwcyyTfgm8BM",
        "colab_type": "text"
      },
      "source": [
        ""
      ]
    },
    {
      "cell_type": "code",
      "metadata": {
        "id": "xZihxGTP-apG",
        "colab_type": "code",
        "colab": {
          "base_uri": "https://localhost:8080/",
          "height": 34
        },
        "outputId": "1e3da5e6-f61a-4900-9c77-1d3491927c87"
      },
      "source": [
        "# Load pre-trained model tokenizer (vocabulary)\n",
        "tokenizer = BertTokenizer.from_pretrained('bert-base-uncased')"
      ],
      "execution_count": 5,
      "outputs": [
        {
          "output_type": "stream",
          "text": [
            "100%|██████████| 231508/231508 [00:00<00:00, 673670.32B/s]\n"
          ],
          "name": "stderr"
        }
      ]
    },
    {
      "cell_type": "code",
      "metadata": {
        "id": "yqFJqmpZAdmF",
        "colab_type": "code",
        "colab": {
          "base_uri": "https://localhost:8080/",
          "height": 34
        },
        "outputId": "cd6e8d93-4a3a-4f5c-bd58-0826c742c019"
      },
      "source": [
        "len(tokenizer.vocab.keys())"
      ],
      "execution_count": 6,
      "outputs": [
        {
          "output_type": "execute_result",
          "data": {
            "text/plain": [
              "30522"
            ]
          },
          "metadata": {
            "tags": []
          },
          "execution_count": 6
        }
      ]
    },
    {
      "cell_type": "markdown",
      "metadata": {
        "id": "empsoVSZA2pY",
        "colab_type": "text"
      },
      "source": [
        "### Infrequent words not found in the vocabulary are broken into pieces"
      ]
    },
    {
      "cell_type": "code",
      "metadata": {
        "id": "jFIVTcuaA3Q8",
        "colab_type": "code",
        "colab": {
          "base_uri": "https://localhost:8080/",
          "height": 323
        },
        "outputId": "0ad6fa90-89ff-4bc8-f283-7fde0ad17966"
      },
      "source": [
        "words = \"embeddings beddings breading  dreading heading hedding kaeding reading redding shedding shredding spreading steading tedding threading treading wedding yedding\"\n",
        "\n",
        "for word in words.split():\n",
        "    print('{:<12} {:}    {:}'.format(word, word in tokenizer.vocab.keys(), tokenizer.tokenize(word)))\n",
        "\n"
      ],
      "execution_count": 7,
      "outputs": [
        {
          "output_type": "stream",
          "text": [
            "embeddings   False    ['em', '##bed', '##ding', '##s']\n",
            "beddings     False    ['bed', '##ding', '##s']\n",
            "breading     False    ['bread', '##ing']\n",
            "dreading     False    ['dread', '##ing']\n",
            "heading      True    ['heading']\n",
            "hedding      False    ['he', '##dding']\n",
            "kaeding      False    ['ka', '##eding']\n",
            "reading      True    ['reading']\n",
            "redding      True    ['redding']\n",
            "shedding     False    ['shed', '##ding']\n",
            "shredding    False    ['sh', '##red', '##ding']\n",
            "spreading    True    ['spreading']\n",
            "steading     False    ['ste', '##ading']\n",
            "tedding      False    ['ted', '##ding']\n",
            "threading    False    ['thread', '##ing']\n",
            "treading     False    ['tread', '##ing']\n",
            "wedding      True    ['wedding']\n",
            "yedding      False    ['ye', '##dding']\n"
          ],
          "name": "stdout"
        }
      ]
    },
    {
      "cell_type": "code",
      "metadata": {
        "id": "ABWhMbGRBiZi",
        "colab_type": "code",
        "colab": {
          "base_uri": "https://localhost:8080/",
          "height": 34
        },
        "outputId": "411e92bc-92ac-424b-bf62-f4012d9da9c8"
      },
      "source": [
        "'##dding' in tokenizer.vocab.keys()"
      ],
      "execution_count": 8,
      "outputs": [
        {
          "output_type": "execute_result",
          "data": {
            "text/plain": [
              "True"
            ]
          },
          "metadata": {
            "tags": []
          },
          "execution_count": 8
        }
      ]
    },
    {
      "cell_type": "markdown",
      "metadata": {
        "id": "z-2_ZoJlBo2z",
        "colab_type": "text"
      },
      "source": [
        "## Load BERT-Base, Uncased: 12-layer, 768-hidden, 12-heads, 110M parameters"
      ]
    },
    {
      "cell_type": "code",
      "metadata": {
        "id": "D9jYudd9Bphn",
        "colab_type": "code",
        "colab": {
          "base_uri": "https://localhost:8080/",
          "height": 34
        },
        "outputId": "d88785b2-1976-4adc-d057-e7da291de52b"
      },
      "source": [
        "model = BertModel.from_pretrained('bert-base-uncased')"
      ],
      "execution_count": 9,
      "outputs": [
        {
          "output_type": "stream",
          "text": [
            "100%|██████████| 407873900/407873900 [00:15<00:00, 26540778.44B/s]\n"
          ],
          "name": "stderr"
        }
      ]
    },
    {
      "cell_type": "code",
      "metadata": {
        "id": "2g5tmCeiB5KU",
        "colab_type": "code",
        "colab": {
          "base_uri": "https://localhost:8080/",
          "height": 1000
        },
        "outputId": "9d774be7-d260-448a-dd2d-62365eded0ff"
      },
      "source": [
        "model.eval()"
      ],
      "execution_count": 10,
      "outputs": [
        {
          "output_type": "execute_result",
          "data": {
            "text/plain": [
              "BertModel(\n",
              "  (embeddings): BertEmbeddings(\n",
              "    (word_embeddings): Embedding(30522, 768, padding_idx=0)\n",
              "    (position_embeddings): Embedding(512, 768)\n",
              "    (token_type_embeddings): Embedding(2, 768)\n",
              "    (LayerNorm): BertLayerNorm()\n",
              "    (dropout): Dropout(p=0.1, inplace=False)\n",
              "  )\n",
              "  (encoder): BertEncoder(\n",
              "    (layer): ModuleList(\n",
              "      (0): BertLayer(\n",
              "        (attention): BertAttention(\n",
              "          (self): BertSelfAttention(\n",
              "            (query): Linear(in_features=768, out_features=768, bias=True)\n",
              "            (key): Linear(in_features=768, out_features=768, bias=True)\n",
              "            (value): Linear(in_features=768, out_features=768, bias=True)\n",
              "            (dropout): Dropout(p=0.1, inplace=False)\n",
              "          )\n",
              "          (output): BertSelfOutput(\n",
              "            (dense): Linear(in_features=768, out_features=768, bias=True)\n",
              "            (LayerNorm): BertLayerNorm()\n",
              "            (dropout): Dropout(p=0.1, inplace=False)\n",
              "          )\n",
              "        )\n",
              "        (intermediate): BertIntermediate(\n",
              "          (dense): Linear(in_features=768, out_features=3072, bias=True)\n",
              "        )\n",
              "        (output): BertOutput(\n",
              "          (dense): Linear(in_features=3072, out_features=768, bias=True)\n",
              "          (LayerNorm): BertLayerNorm()\n",
              "          (dropout): Dropout(p=0.1, inplace=False)\n",
              "        )\n",
              "      )\n",
              "      (1): BertLayer(\n",
              "        (attention): BertAttention(\n",
              "          (self): BertSelfAttention(\n",
              "            (query): Linear(in_features=768, out_features=768, bias=True)\n",
              "            (key): Linear(in_features=768, out_features=768, bias=True)\n",
              "            (value): Linear(in_features=768, out_features=768, bias=True)\n",
              "            (dropout): Dropout(p=0.1, inplace=False)\n",
              "          )\n",
              "          (output): BertSelfOutput(\n",
              "            (dense): Linear(in_features=768, out_features=768, bias=True)\n",
              "            (LayerNorm): BertLayerNorm()\n",
              "            (dropout): Dropout(p=0.1, inplace=False)\n",
              "          )\n",
              "        )\n",
              "        (intermediate): BertIntermediate(\n",
              "          (dense): Linear(in_features=768, out_features=3072, bias=True)\n",
              "        )\n",
              "        (output): BertOutput(\n",
              "          (dense): Linear(in_features=3072, out_features=768, bias=True)\n",
              "          (LayerNorm): BertLayerNorm()\n",
              "          (dropout): Dropout(p=0.1, inplace=False)\n",
              "        )\n",
              "      )\n",
              "      (2): BertLayer(\n",
              "        (attention): BertAttention(\n",
              "          (self): BertSelfAttention(\n",
              "            (query): Linear(in_features=768, out_features=768, bias=True)\n",
              "            (key): Linear(in_features=768, out_features=768, bias=True)\n",
              "            (value): Linear(in_features=768, out_features=768, bias=True)\n",
              "            (dropout): Dropout(p=0.1, inplace=False)\n",
              "          )\n",
              "          (output): BertSelfOutput(\n",
              "            (dense): Linear(in_features=768, out_features=768, bias=True)\n",
              "            (LayerNorm): BertLayerNorm()\n",
              "            (dropout): Dropout(p=0.1, inplace=False)\n",
              "          )\n",
              "        )\n",
              "        (intermediate): BertIntermediate(\n",
              "          (dense): Linear(in_features=768, out_features=3072, bias=True)\n",
              "        )\n",
              "        (output): BertOutput(\n",
              "          (dense): Linear(in_features=3072, out_features=768, bias=True)\n",
              "          (LayerNorm): BertLayerNorm()\n",
              "          (dropout): Dropout(p=0.1, inplace=False)\n",
              "        )\n",
              "      )\n",
              "      (3): BertLayer(\n",
              "        (attention): BertAttention(\n",
              "          (self): BertSelfAttention(\n",
              "            (query): Linear(in_features=768, out_features=768, bias=True)\n",
              "            (key): Linear(in_features=768, out_features=768, bias=True)\n",
              "            (value): Linear(in_features=768, out_features=768, bias=True)\n",
              "            (dropout): Dropout(p=0.1, inplace=False)\n",
              "          )\n",
              "          (output): BertSelfOutput(\n",
              "            (dense): Linear(in_features=768, out_features=768, bias=True)\n",
              "            (LayerNorm): BertLayerNorm()\n",
              "            (dropout): Dropout(p=0.1, inplace=False)\n",
              "          )\n",
              "        )\n",
              "        (intermediate): BertIntermediate(\n",
              "          (dense): Linear(in_features=768, out_features=3072, bias=True)\n",
              "        )\n",
              "        (output): BertOutput(\n",
              "          (dense): Linear(in_features=3072, out_features=768, bias=True)\n",
              "          (LayerNorm): BertLayerNorm()\n",
              "          (dropout): Dropout(p=0.1, inplace=False)\n",
              "        )\n",
              "      )\n",
              "      (4): BertLayer(\n",
              "        (attention): BertAttention(\n",
              "          (self): BertSelfAttention(\n",
              "            (query): Linear(in_features=768, out_features=768, bias=True)\n",
              "            (key): Linear(in_features=768, out_features=768, bias=True)\n",
              "            (value): Linear(in_features=768, out_features=768, bias=True)\n",
              "            (dropout): Dropout(p=0.1, inplace=False)\n",
              "          )\n",
              "          (output): BertSelfOutput(\n",
              "            (dense): Linear(in_features=768, out_features=768, bias=True)\n",
              "            (LayerNorm): BertLayerNorm()\n",
              "            (dropout): Dropout(p=0.1, inplace=False)\n",
              "          )\n",
              "        )\n",
              "        (intermediate): BertIntermediate(\n",
              "          (dense): Linear(in_features=768, out_features=3072, bias=True)\n",
              "        )\n",
              "        (output): BertOutput(\n",
              "          (dense): Linear(in_features=3072, out_features=768, bias=True)\n",
              "          (LayerNorm): BertLayerNorm()\n",
              "          (dropout): Dropout(p=0.1, inplace=False)\n",
              "        )\n",
              "      )\n",
              "      (5): BertLayer(\n",
              "        (attention): BertAttention(\n",
              "          (self): BertSelfAttention(\n",
              "            (query): Linear(in_features=768, out_features=768, bias=True)\n",
              "            (key): Linear(in_features=768, out_features=768, bias=True)\n",
              "            (value): Linear(in_features=768, out_features=768, bias=True)\n",
              "            (dropout): Dropout(p=0.1, inplace=False)\n",
              "          )\n",
              "          (output): BertSelfOutput(\n",
              "            (dense): Linear(in_features=768, out_features=768, bias=True)\n",
              "            (LayerNorm): BertLayerNorm()\n",
              "            (dropout): Dropout(p=0.1, inplace=False)\n",
              "          )\n",
              "        )\n",
              "        (intermediate): BertIntermediate(\n",
              "          (dense): Linear(in_features=768, out_features=3072, bias=True)\n",
              "        )\n",
              "        (output): BertOutput(\n",
              "          (dense): Linear(in_features=3072, out_features=768, bias=True)\n",
              "          (LayerNorm): BertLayerNorm()\n",
              "          (dropout): Dropout(p=0.1, inplace=False)\n",
              "        )\n",
              "      )\n",
              "      (6): BertLayer(\n",
              "        (attention): BertAttention(\n",
              "          (self): BertSelfAttention(\n",
              "            (query): Linear(in_features=768, out_features=768, bias=True)\n",
              "            (key): Linear(in_features=768, out_features=768, bias=True)\n",
              "            (value): Linear(in_features=768, out_features=768, bias=True)\n",
              "            (dropout): Dropout(p=0.1, inplace=False)\n",
              "          )\n",
              "          (output): BertSelfOutput(\n",
              "            (dense): Linear(in_features=768, out_features=768, bias=True)\n",
              "            (LayerNorm): BertLayerNorm()\n",
              "            (dropout): Dropout(p=0.1, inplace=False)\n",
              "          )\n",
              "        )\n",
              "        (intermediate): BertIntermediate(\n",
              "          (dense): Linear(in_features=768, out_features=3072, bias=True)\n",
              "        )\n",
              "        (output): BertOutput(\n",
              "          (dense): Linear(in_features=3072, out_features=768, bias=True)\n",
              "          (LayerNorm): BertLayerNorm()\n",
              "          (dropout): Dropout(p=0.1, inplace=False)\n",
              "        )\n",
              "      )\n",
              "      (7): BertLayer(\n",
              "        (attention): BertAttention(\n",
              "          (self): BertSelfAttention(\n",
              "            (query): Linear(in_features=768, out_features=768, bias=True)\n",
              "            (key): Linear(in_features=768, out_features=768, bias=True)\n",
              "            (value): Linear(in_features=768, out_features=768, bias=True)\n",
              "            (dropout): Dropout(p=0.1, inplace=False)\n",
              "          )\n",
              "          (output): BertSelfOutput(\n",
              "            (dense): Linear(in_features=768, out_features=768, bias=True)\n",
              "            (LayerNorm): BertLayerNorm()\n",
              "            (dropout): Dropout(p=0.1, inplace=False)\n",
              "          )\n",
              "        )\n",
              "        (intermediate): BertIntermediate(\n",
              "          (dense): Linear(in_features=768, out_features=3072, bias=True)\n",
              "        )\n",
              "        (output): BertOutput(\n",
              "          (dense): Linear(in_features=3072, out_features=768, bias=True)\n",
              "          (LayerNorm): BertLayerNorm()\n",
              "          (dropout): Dropout(p=0.1, inplace=False)\n",
              "        )\n",
              "      )\n",
              "      (8): BertLayer(\n",
              "        (attention): BertAttention(\n",
              "          (self): BertSelfAttention(\n",
              "            (query): Linear(in_features=768, out_features=768, bias=True)\n",
              "            (key): Linear(in_features=768, out_features=768, bias=True)\n",
              "            (value): Linear(in_features=768, out_features=768, bias=True)\n",
              "            (dropout): Dropout(p=0.1, inplace=False)\n",
              "          )\n",
              "          (output): BertSelfOutput(\n",
              "            (dense): Linear(in_features=768, out_features=768, bias=True)\n",
              "            (LayerNorm): BertLayerNorm()\n",
              "            (dropout): Dropout(p=0.1, inplace=False)\n",
              "          )\n",
              "        )\n",
              "        (intermediate): BertIntermediate(\n",
              "          (dense): Linear(in_features=768, out_features=3072, bias=True)\n",
              "        )\n",
              "        (output): BertOutput(\n",
              "          (dense): Linear(in_features=3072, out_features=768, bias=True)\n",
              "          (LayerNorm): BertLayerNorm()\n",
              "          (dropout): Dropout(p=0.1, inplace=False)\n",
              "        )\n",
              "      )\n",
              "      (9): BertLayer(\n",
              "        (attention): BertAttention(\n",
              "          (self): BertSelfAttention(\n",
              "            (query): Linear(in_features=768, out_features=768, bias=True)\n",
              "            (key): Linear(in_features=768, out_features=768, bias=True)\n",
              "            (value): Linear(in_features=768, out_features=768, bias=True)\n",
              "            (dropout): Dropout(p=0.1, inplace=False)\n",
              "          )\n",
              "          (output): BertSelfOutput(\n",
              "            (dense): Linear(in_features=768, out_features=768, bias=True)\n",
              "            (LayerNorm): BertLayerNorm()\n",
              "            (dropout): Dropout(p=0.1, inplace=False)\n",
              "          )\n",
              "        )\n",
              "        (intermediate): BertIntermediate(\n",
              "          (dense): Linear(in_features=768, out_features=3072, bias=True)\n",
              "        )\n",
              "        (output): BertOutput(\n",
              "          (dense): Linear(in_features=3072, out_features=768, bias=True)\n",
              "          (LayerNorm): BertLayerNorm()\n",
              "          (dropout): Dropout(p=0.1, inplace=False)\n",
              "        )\n",
              "      )\n",
              "      (10): BertLayer(\n",
              "        (attention): BertAttention(\n",
              "          (self): BertSelfAttention(\n",
              "            (query): Linear(in_features=768, out_features=768, bias=True)\n",
              "            (key): Linear(in_features=768, out_features=768, bias=True)\n",
              "            (value): Linear(in_features=768, out_features=768, bias=True)\n",
              "            (dropout): Dropout(p=0.1, inplace=False)\n",
              "          )\n",
              "          (output): BertSelfOutput(\n",
              "            (dense): Linear(in_features=768, out_features=768, bias=True)\n",
              "            (LayerNorm): BertLayerNorm()\n",
              "            (dropout): Dropout(p=0.1, inplace=False)\n",
              "          )\n",
              "        )\n",
              "        (intermediate): BertIntermediate(\n",
              "          (dense): Linear(in_features=768, out_features=3072, bias=True)\n",
              "        )\n",
              "        (output): BertOutput(\n",
              "          (dense): Linear(in_features=3072, out_features=768, bias=True)\n",
              "          (LayerNorm): BertLayerNorm()\n",
              "          (dropout): Dropout(p=0.1, inplace=False)\n",
              "        )\n",
              "      )\n",
              "      (11): BertLayer(\n",
              "        (attention): BertAttention(\n",
              "          (self): BertSelfAttention(\n",
              "            (query): Linear(in_features=768, out_features=768, bias=True)\n",
              "            (key): Linear(in_features=768, out_features=768, bias=True)\n",
              "            (value): Linear(in_features=768, out_features=768, bias=True)\n",
              "            (dropout): Dropout(p=0.1, inplace=False)\n",
              "          )\n",
              "          (output): BertSelfOutput(\n",
              "            (dense): Linear(in_features=768, out_features=768, bias=True)\n",
              "            (LayerNorm): BertLayerNorm()\n",
              "            (dropout): Dropout(p=0.1, inplace=False)\n",
              "          )\n",
              "        )\n",
              "        (intermediate): BertIntermediate(\n",
              "          (dense): Linear(in_features=768, out_features=3072, bias=True)\n",
              "        )\n",
              "        (output): BertOutput(\n",
              "          (dense): Linear(in_features=3072, out_features=768, bias=True)\n",
              "          (LayerNorm): BertLayerNorm()\n",
              "          (dropout): Dropout(p=0.1, inplace=False)\n",
              "        )\n",
              "      )\n",
              "    )\n",
              "  )\n",
              "  (pooler): BertPooler(\n",
              "    (dense): Linear(in_features=768, out_features=768, bias=True)\n",
              "    (activation): Tanh()\n",
              "  )\n",
              ")"
            ]
          },
          "metadata": {
            "tags": []
          },
          "execution_count": 10
        }
      ]
    },
    {
      "cell_type": "markdown",
      "metadata": {
        "id": "rX75SlpTB_JR",
        "colab_type": "text"
      },
      "source": [
        "## bert_embedding returns the bert embeddins for the words in *text* for the specified *layer_number*. Among other things it:\n",
        "- adds special tokens [CLS] and [SEP]\n",
        "- adds positional layer\n",
        "- adds sentence layer"
      ]
    },
    {
      "cell_type": "markdown",
      "metadata": {
        "id": "Qzooy5cwc498",
        "colab_type": "text"
      },
      "source": [
        "<img src=\"http://drive.google.com/uc?export=view&id=1xtEJ6tCPUr_cBDPoM8RaRjC9iGG8j2oA\" alt=\"Drawing\" style=\"width: 800px;\" />"
      ]
    },
    {
      "cell_type": "code",
      "metadata": {
        "id": "57SW-7mCCAaA",
        "colab_type": "code",
        "colab": {}
      },
      "source": [
        "def bert_embedding(text, bert_model, bert_tokenizer, layer_number = 0, verbose = False):\n",
        "    \n",
        "    # Add the special tokens.\n",
        "    marked_text = \"[CLS] \" + text + \" [SEP]\"\n",
        "    \n",
        "    #the default is the last layer: 0-1 = -1\n",
        "    layer_number -= 1\n",
        "\n",
        "    # Split the sentence into tokens.\n",
        "    tokenized_text = bert_tokenizer.tokenize(marked_text)\n",
        "    if verbose:\n",
        "        print (tokenized_text)\n",
        "\n",
        "    # Map the token strings to their vocabulary indicies.\n",
        "    indexed_tokens = tokenizer.convert_tokens_to_ids(tokenized_text)   \n",
        "    \n",
        "    # Mark each of the  tokens as belonging to sentence \"1\".\n",
        "    segments_ids = [1] * len(tokenized_text)\n",
        "    \n",
        "    # Convert inputs to PyTorch tensors\n",
        "    tokens_tensor = torch.tensor([indexed_tokens])\n",
        "    segments_tensors = torch.tensor([segments_ids])\n",
        "    \n",
        "#torch.no_grad deactivates the gradient calculations, saves memory, and speeds up computation \n",
        "#(we don’t need gradients or backpropagation since we’re just running a forward pass).\n",
        "# Predict hidden states features for each layer\n",
        "    with torch.no_grad():\n",
        "        encoded_layers, _ = bert_model(tokens_tensor, segments_tensors)\n",
        "        \n",
        "    return encoded_layers[layer_number][0][:]"
      ],
      "execution_count": 0,
      "outputs": []
    },
    {
      "cell_type": "markdown",
      "metadata": {
        "id": "MRy5H6FYCHgN",
        "colab_type": "text"
      },
      "source": [
        "## Experiment with the sentences:\n",
        "\n",
        "<font size=\"5\">*'i love the beautiful **spring**, because the flowers are blossoming in the **spring**.'*</font> \n",
        "\n",
        "<font size=\"5\">*'when it takes a load, the torsion **spring** rotates on its axis.'*</font>"
      ]
    },
    {
      "cell_type": "code",
      "metadata": {
        "id": "zFkTF_kSCIOS",
        "colab_type": "code",
        "colab": {}
      },
      "source": [
        "text1 = 'i love the beautiful spring, because the flowers are blossoming in the spring.'\n",
        "text2 = 'when it takes a load, the torsion spring rotates on its axis.'"
      ],
      "execution_count": 0,
      "outputs": []
    },
    {
      "cell_type": "markdown",
      "metadata": {
        "id": "DZxkwOKtCTWf",
        "colab_type": "text"
      },
      "source": [
        "### Output tokenization"
      ]
    },
    {
      "cell_type": "code",
      "metadata": {
        "id": "p0OqyBbpCUCy",
        "colab_type": "code",
        "colab": {
          "base_uri": "https://localhost:8080/",
          "height": 34
        },
        "outputId": "29af41e3-0abf-4d8b-9099-d082a81ff04e"
      },
      "source": [
        "embed1 = bert_embedding(text1, model, tokenizer, verbose=True)"
      ],
      "execution_count": 13,
      "outputs": [
        {
          "output_type": "stream",
          "text": [
            "['[CLS]', 'i', 'love', 'the', 'beautiful', 'spring', ',', 'because', 'the', 'flowers', 'are', 'blossom', '##ing', 'in', 'the', 'spring', '.', '[SEP]']\n"
          ],
          "name": "stdout"
        }
      ]
    },
    {
      "cell_type": "code",
      "metadata": {
        "id": "SpPDfIxgCZn6",
        "colab_type": "code",
        "colab": {
          "base_uri": "https://localhost:8080/",
          "height": 34
        },
        "outputId": "0d00f336-2c02-426c-ef44-23e0956b39c9"
      },
      "source": [
        "embed2 = bert_embedding(text2, model, tokenizer, verbose=True)"
      ],
      "execution_count": 14,
      "outputs": [
        {
          "output_type": "stream",
          "text": [
            "['[CLS]', 'when', 'it', 'takes', 'a', 'load', ',', 'the', 'tor', '##sion', 'spring', 'rotate', '##s', 'on', 'its', 'axis', '.', '[SEP]']\n"
          ],
          "name": "stdout"
        }
      ]
    },
    {
      "cell_type": "code",
      "metadata": {
        "id": "1L7wU3JYChM-",
        "colab_type": "code",
        "colab": {}
      },
      "source": [
        "spring1 = embed1[5]\n",
        "spring2 = embed1[-3]\n",
        "spring3 = embed2[10]\n",
        "because = embed1[7]"
      ],
      "execution_count": 0,
      "outputs": []
    },
    {
      "cell_type": "code",
      "metadata": {
        "id": "1reLSxBRCljl",
        "colab_type": "code",
        "colab": {
          "base_uri": "https://localhost:8080/",
          "height": 455
        },
        "outputId": "096ee4a1-1412-466c-c90c-8a4613a0c2c9"
      },
      "source": [
        "plt.figure(figsize=(10,7))\n",
        "plt.plot(spring1, 'b.')\n",
        "plt.xlabel(\"BERT embedding of the first word 'spring' \",  fontsize = 20)\n",
        "plt.ylim(-2,2)\n",
        "plt.show()"
      ],
      "execution_count": 18,
      "outputs": [
        {
          "output_type": "display_data",
          "data": {
            "image/png": "[encoded data removed]",
            "text/plain": [
              "<Figure size 720x504 with 1 Axes>"
            ]
          },
          "metadata": {
            "tags": []
          }
        }
      ]
    },
    {
      "cell_type": "code",
      "metadata": {
        "id": "dr-cOrNkC2M0",
        "colab_type": "code",
        "colab": {
          "base_uri": "https://localhost:8080/",
          "height": 455
        },
        "outputId": "75ba5ab4-dc9e-4b23-904c-a27d6c346095"
      },
      "source": [
        "plt.figure(figsize=(10,7))\n",
        "plt.plot(spring1,spring2, 'b.')\n",
        "plt.xlabel(\"BERT embedding of the first word 'spring' vs the second word 'spring' \",  fontsize = 20)\n",
        "plt.ylim(-2,2)\n",
        "plt.xlim(-2,2)\n",
        "plt.show()"
      ],
      "execution_count": 19,
      "outputs": [
        {
          "output_type": "display_data",
          "data": {
            "image/png": "[encoded data removed]",
            "text/plain": [
              "<Figure size 720x504 with 1 Axes>"
            ]
          },
          "metadata": {
            "tags": []
          }
        }
      ]
    },
    {
      "cell_type": "code",
      "metadata": {
        "id": "bSnBupfHC8f4",
        "colab_type": "code",
        "colab": {
          "base_uri": "https://localhost:8080/",
          "height": 455
        },
        "outputId": "a71bee17-0ad7-4e86-9fd2-295fc434b47f"
      },
      "source": [
        "plt.figure(figsize=(10,7))\n",
        "plt.plot(spring1,spring3, 'b.')\n",
        "plt.xlabel(\"BERT embedding of the first word 'spring' vs third word 'spring' \",  fontsize = 20)\n",
        "plt.ylim(-2,2)\n",
        "plt.xlim(-2,2)\n",
        "plt.show()"
      ],
      "execution_count": 20,
      "outputs": [
        {
          "output_type": "display_data",
          "data": {
            "image/png": "[encoded data removed]",
            "text/plain": [
              "<Figure size 720x504 with 1 Axes>"
            ]
          },
          "metadata": {
            "tags": []
          }
        }
      ]
    },
    {
      "cell_type": "code",
      "metadata": {
        "id": "ZUp7TElYDBE5",
        "colab_type": "code",
        "colab": {
          "base_uri": "https://localhost:8080/",
          "height": 455
        },
        "outputId": "84539a55-5914-4ef7-b3e6-6995ea5a3593"
      },
      "source": [
        "plt.figure(figsize=(10,7))\n",
        "plt.plot(spring1,because, 'b.')\n",
        "plt.xlabel(\"BERT embedding of the first word 'spring' vs the word 'because' \",  fontsize = 20)\n",
        "plt.ylim(-2,2)\n",
        "plt.xlim(-2,2)\n",
        "plt.show()"
      ],
      "execution_count": 21,
      "outputs": [
        {
          "output_type": "display_data",
          "data": {
            "image/png": "[encoded data removed]",
            "text/plain": [
              "<Figure size 720x504 with 1 Axes>"
            ]
          },
          "metadata": {
            "tags": []
          }
        }
      ]
    },
    {
      "cell_type": "markdown",
      "metadata": {
        "id": "EkI-T3ZTDFdy",
        "colab_type": "text"
      },
      "source": [
        "### Distance between \n",
        "- spring1 and spring2 $\\approx 0.14$\n",
        "- spring1 and because $\\approx 0.59$\n",
        "- spring1 and spring3 $\\approx 0.51$"
      ]
    },
    {
      "cell_type": "code",
      "metadata": {
        "id": "MCdjDHhmDGMK",
        "colab_type": "code",
        "colab": {
          "base_uri": "https://localhost:8080/",
          "height": 68
        },
        "outputId": "48aa6f2f-94e9-4472-9721-af5f883540a1"
      },
      "source": [
        "print(distance(spring1, spring2).tolist())\n",
        "print(distance(spring1, because).tolist())\n",
        "print(distance(spring1, spring3).tolist())"
      ],
      "execution_count": 22,
      "outputs": [
        {
          "output_type": "stream",
          "text": [
            "0.1410624384880066\n",
            "0.5851813554763794\n",
            "0.5119153261184692\n"
          ],
          "name": "stdout"
        }
      ]
    },
    {
      "cell_type": "markdown",
      "metadata": {
        "id": "mXrM3Q8vEH7O",
        "colab_type": "text"
      },
      "source": [
        "# SYNSETS"
      ]
    },
    {
      "cell_type": "code",
      "metadata": {
        "id": "6A56WTMxEIqO",
        "colab_type": "code",
        "colab": {}
      },
      "source": [
        "import ipywidgets as widgets\n",
        "from ipywidgets import interact"
      ],
      "execution_count": 0,
      "outputs": []
    },
    {
      "cell_type": "code",
      "metadata": {
        "id": "6su4gbkuFX26",
        "colab_type": "code",
        "colab": {}
      },
      "source": [
        "filename  = './sample_data/spring_synsets.csv'\n",
        "df_spring = pd.read_csv(filename, encoding='utf-8')"
      ],
      "execution_count": 0,
      "outputs": []
    },
    {
      "cell_type": "code",
      "metadata": {
        "id": "gFg0s2aTF0LP",
        "colab_type": "code",
        "colab": {}
      },
      "source": [
        "meanings = df_spring.meaning.unique()\n",
        "synsets = df_spring.synset.unique()"
      ],
      "execution_count": 0,
      "outputs": []
    },
    {
      "cell_type": "code",
      "metadata": {
        "id": "yOuueNPtF2pK",
        "colab_type": "code",
        "colab": {}
      },
      "source": [
        "pd.set_option('display.max_colwidth', -1) "
      ],
      "execution_count": 0,
      "outputs": []
    },
    {
      "cell_type": "code",
      "metadata": {
        "id": "j7727HwcF85P",
        "colab_type": "code",
        "colab": {
          "base_uri": "https://localhost:8080/",
          "height": 298,
          "referenced_widgets": [
            "f1316683594640e0bdaeadd3f75521b2",
            "721ee9d8604143e5b0b6bc66e1aadf02",
            "95942a0e5c0842409ae179a4bc6c89f5",
            "0b3e839969d349b88891ebf1425d34d2",
            "fd9ce30e9a7b4fe9bc6d0e4eadfa7cc3",
            "3cad3164556743c6b4981315d2b8a3a5"
          ]
        },
        "outputId": "2d2b4c63-b689-408f-a538-e0153b0b2aa4"
      },
      "source": [
        "@interact\n",
        "def view_synsets(meaning = meanings):\n",
        "    return df_spring[df_spring.meaning==meaning] "
      ],
      "execution_count": 29,
      "outputs": [
        {
          "output_type": "display_data",
          "data": {
            "application/vnd.jupyter.widget-view+json": {
              "model_id": "f1316683594640e0bdaeadd3f75521b2",
              "version_minor": 0,
              "version_major": 2
            },
            "text/plain": [
              "interactive(children=(Dropdown(description='meaning', options=('season, n', 'season, a', 'water source', 'meta…"
            ]
          },
          "metadata": {
            "tags": []
          }
        }
      ]
    },
    {
      "cell_type": "code",
      "metadata": {
        "id": "7NGsZ8NwGApb",
        "colab_type": "code",
        "colab": {
          "base_uri": "https://localhost:8080/",
          "height": 215
        },
        "outputId": "cf88c329-fd07-44c9-c10d-a68effe3a149"
      },
      "source": [
        "counts= df_spring.synset.value_counts()\n",
        "df_synsets = pd.DataFrame(list(zip(synsets,meanings,counts)),\n",
        "             columns = ['synset', 'meaning', 'counts'])\n",
        "df_synsets.style.set_table_styles(styles)"
      ],
      "execution_count": 49,
      "outputs": [
        {
          "output_type": "execute_result",
          "data": {
            "text/html": [
              "<style  type=\"text/css\" >\n",
              "    #T_821ad37c_4221_11ea_b6dc_0242ac1c0002 th {\n",
              "          font-size: 20px;\n",
              "          text-align: center;\n",
              "          font-weight: bold;\n",
              "          color: #ffffff;\n",
              "          background-color: #000000;\n",
              "    }    #T_821ad37c_4221_11ea_b6dc_0242ac1c0002 td {\n",
              "          font-size: 20px;\n",
              "          text-align: center;\n",
              "    }</style><table id=\"T_821ad37c_4221_11ea_b6dc_0242ac1c0002\" ><thead>    <tr>        <th class=\"blank level0\" ></th>        <th class=\"col_heading level0 col0\" >synset</th>        <th class=\"col_heading level0 col1\" >meaning</th>        <th class=\"col_heading level0 col2\" >counts</th>    </tr></thead><tbody>\n",
              "                <tr>\n",
              "                        <th id=\"T_821ad37c_4221_11ea_b6dc_0242ac1c0002level0_row0\" class=\"row_heading level0 row0\" >0</th>\n",
              "                        <td id=\"T_821ad37c_4221_11ea_b6dc_0242ac1c0002row0_col0\" class=\"data row0 col0\" >1</td>\n",
              "                        <td id=\"T_821ad37c_4221_11ea_b6dc_0242ac1c0002row0_col1\" class=\"data row0 col1\" >season, n</td>\n",
              "                        <td id=\"T_821ad37c_4221_11ea_b6dc_0242ac1c0002row0_col2\" class=\"data row0 col2\" >20</td>\n",
              "            </tr>\n",
              "            <tr>\n",
              "                        <th id=\"T_821ad37c_4221_11ea_b6dc_0242ac1c0002level0_row1\" class=\"row_heading level0 row1\" >1</th>\n",
              "                        <td id=\"T_821ad37c_4221_11ea_b6dc_0242ac1c0002row1_col0\" class=\"data row1 col0\" >2</td>\n",
              "                        <td id=\"T_821ad37c_4221_11ea_b6dc_0242ac1c0002row1_col1\" class=\"data row1 col1\" >season, a</td>\n",
              "                        <td id=\"T_821ad37c_4221_11ea_b6dc_0242ac1c0002row1_col2\" class=\"data row1 col2\" >16</td>\n",
              "            </tr>\n",
              "            <tr>\n",
              "                        <th id=\"T_821ad37c_4221_11ea_b6dc_0242ac1c0002level0_row2\" class=\"row_heading level0 row2\" >2</th>\n",
              "                        <td id=\"T_821ad37c_4221_11ea_b6dc_0242ac1c0002row2_col0\" class=\"data row2 col0\" >3</td>\n",
              "                        <td id=\"T_821ad37c_4221_11ea_b6dc_0242ac1c0002row2_col1\" class=\"data row2 col1\" >water source</td>\n",
              "                        <td id=\"T_821ad37c_4221_11ea_b6dc_0242ac1c0002row2_col2\" class=\"data row2 col2\" >12</td>\n",
              "            </tr>\n",
              "            <tr>\n",
              "                        <th id=\"T_821ad37c_4221_11ea_b6dc_0242ac1c0002level0_row3\" class=\"row_heading level0 row3\" >3</th>\n",
              "                        <td id=\"T_821ad37c_4221_11ea_b6dc_0242ac1c0002row3_col0\" class=\"data row3 col0\" >4</td>\n",
              "                        <td id=\"T_821ad37c_4221_11ea_b6dc_0242ac1c0002row3_col1\" class=\"data row3 col1\" >metal thingy</td>\n",
              "                        <td id=\"T_821ad37c_4221_11ea_b6dc_0242ac1c0002row3_col2\" class=\"data row3 col2\" >10</td>\n",
              "            </tr>\n",
              "            <tr>\n",
              "                        <th id=\"T_821ad37c_4221_11ea_b6dc_0242ac1c0002level0_row4\" class=\"row_heading level0 row4\" >4</th>\n",
              "                        <td id=\"T_821ad37c_4221_11ea_b6dc_0242ac1c0002row4_col0\" class=\"data row4 col0\" >5</td>\n",
              "                        <td id=\"T_821ad37c_4221_11ea_b6dc_0242ac1c0002row4_col1\" class=\"data row4 col1\" >jump,v</td>\n",
              "                        <td id=\"T_821ad37c_4221_11ea_b6dc_0242ac1c0002row4_col2\" class=\"data row4 col2\" >10</td>\n",
              "            </tr>\n",
              "            <tr>\n",
              "                        <th id=\"T_821ad37c_4221_11ea_b6dc_0242ac1c0002level0_row5\" class=\"row_heading level0 row5\" >5</th>\n",
              "                        <td id=\"T_821ad37c_4221_11ea_b6dc_0242ac1c0002row5_col0\" class=\"data row5 col0\" >6</td>\n",
              "                        <td id=\"T_821ad37c_4221_11ea_b6dc_0242ac1c0002row5_col1\" class=\"data row5 col1\" >political</td>\n",
              "                        <td id=\"T_821ad37c_4221_11ea_b6dc_0242ac1c0002row5_col2\" class=\"data row5 col2\" >7</td>\n",
              "            </tr>\n",
              "    </tbody></table>"
            ],
            "text/plain": [
              "<pandas.io.formats.style.Styler at 0x7f3e67ee7eb8>"
            ]
          },
          "metadata": {
            "tags": []
          },
          "execution_count": 49
        }
      ]
    },
    {
      "cell_type": "markdown",
      "metadata": {
        "id": "0lN3jXOxlZJH",
        "colab_type": "text"
      },
      "source": [
        "## Words *spring* with the same meaning should have their embedding vectors closer to each other than to words with a different meaning"
      ]
    },
    {
      "cell_type": "code",
      "metadata": {
        "id": "2uvVyxsxGbTA",
        "colab_type": "code",
        "colab": {}
      },
      "source": [
        "spring_embeddings = [bert_embedding(text, model, tokenizer, verbose=False) for text in df_spring.text.to_list()]"
      ],
      "execution_count": 0,
      "outputs": []
    },
    {
      "cell_type": "code",
      "metadata": {
        "id": "1aBRTQ0tGhte",
        "colab_type": "code",
        "colab": {}
      },
      "source": [
        "#to find the index of the key_word in the tokenized string\n",
        "def bert_key_word_index(text, bert_tokenizer, key_word, verbose = False):\n",
        "    # Add the special tokens.\n",
        "    marked_text = \"[CLS] \" + text + \" [SEP]\"\n",
        "\n",
        "    # Split the sentence into tokens.\n",
        "    tokenized_text = bert_tokenizer.tokenize(marked_text)\n",
        "    if verbose:\n",
        "        print (tokenized_text)\n",
        "    return tokenized_text.index(key_word)"
      ],
      "execution_count": 0,
      "outputs": []
    },
    {
      "cell_type": "code",
      "metadata": {
        "id": "Lg61m1F-GlG2",
        "colab_type": "code",
        "colab": {}
      },
      "source": [
        "spring_S= [(i,bert_key_word_index(s, tokenizer, 'spring')) for i,s in enumerate(df_spring.text.to_list())]"
      ],
      "execution_count": 0,
      "outputs": []
    },
    {
      "cell_type": "code",
      "metadata": {
        "id": "o50JLTeYGo6G",
        "colab_type": "code",
        "colab": {}
      },
      "source": [
        "spring_distances = []\n",
        "for i in range(len(spring_S)):\n",
        "    for j in range(i+1,len(spring_S)):\n",
        "        k1 = spring_S[i][0]\n",
        "        i1 = spring_S[i][1]\n",
        "        k2 = spring_S[j][0]\n",
        "        i2 = spring_S[j][1] \n",
        "        dist = distance(spring_embeddings[k1][i1],spring_embeddings[k2][i2]).tolist()\n",
        "        #print(dist)\n",
        "        spring_distances.append((k1,k2,dist))"
      ],
      "execution_count": 0,
      "outputs": []
    },
    {
      "cell_type": "code",
      "metadata": {
        "id": "ZgwXbEdkG3xL",
        "colab_type": "code",
        "colab": {
          "base_uri": "https://localhost:8080/",
          "height": 428
        },
        "outputId": "bc83e430-cba3-4596-9ac8-2bf96078afbb"
      },
      "source": [
        "plt.figure(figsize=(10,7))\n",
        "out = plt.hist([d[2] for d in spring_distances], bins = 300)"
      ],
      "execution_count": 50,
      "outputs": [
        {
          "output_type": "display_data",
          "data": {
            "image/png": "[encoded data removed]",
            "text/plain": [
              "<Figure size 720x504 with 1 Axes>"
            ]
          },
          "metadata": {
            "tags": []
          }
        }
      ]
    },
    {
      "cell_type": "code",
      "metadata": {
        "id": "V2GitmScHJn5",
        "colab_type": "code",
        "colab": {}
      },
      "source": [
        "records = [(df_spring.text.to_list()[d[0]], df_spring.text.to_list()[d[1]], \n",
        "            df_spring.synset.to_list()[d[0]], df_spring.synset.to_list()[d[1]], d[2]) for d in spring_distances]\n",
        "df_dist = pd.DataFrame.from_records(records, columns =['sentence1', 'sentence2', 'synset1','synset2' ,'distance'])\n",
        "#df_dist.to_csv('.\\data\\spring_distances_pytorch_correct.csv')"
      ],
      "execution_count": 0,
      "outputs": []
    },
    {
      "cell_type": "code",
      "metadata": {
        "id": "Pk1ane6zHTCw",
        "colab_type": "code",
        "colab": {
          "base_uri": "https://localhost:8080/",
          "height": 600,
          "referenced_widgets": [
            "ccd1bce098ee4c2d8ab8d6a2c194a7ac",
            "32636475227545ecae89ce63219ea088",
            "a168310a06ea4a5e9458f4d7cef0cea8",
            "9ad25f2ab44444518ebf795f5dced99e",
            "edc7c1130be44781a9df4bbce2920438",
            "fe170dd75c0b4615995db12117c72a19",
            "694c2679e04d4206b061cd6bd0a75790",
            "a6f4a326c5724e529671d4aced0b7581",
            "fc1d1efe9e8d444ab89cf06233816b78",
            "741be24a358343cfad8eefa97c7624fc",
            "b14e6dc74b6348c7b91ae431d1232bed",
            "b470a39b987242b38c7bb4ea16e660e9"
          ]
        },
        "outputId": "62488e60-10cc-48fc-d631-b2739d55c3e7"
      },
      "source": [
        "range_slider = widgets.FloatRangeSlider(\n",
        "    value=[0.0, 1.0],\n",
        "    min=0.0, max=1.0, step=0.1,\n",
        "    description='distance:',\n",
        "    readout_format='.1f',\n",
        ")\n",
        "@interact\n",
        "def view_synsets_distances(distance = range_slider, synset1 = synsets, synset2 = synsets):\n",
        "    return df_dist[(df_dist.synset1==synset1) & (df_dist.synset2==synset2) &\n",
        "                  (df_dist.distance > distance[0]) & (df_dist.distance < distance[1])] "
      ],
      "execution_count": 45,
      "outputs": [
        {
          "output_type": "display_data",
          "data": {
            "application/vnd.jupyter.widget-view+json": {
              "model_id": "ccd1bce098ee4c2d8ab8d6a2c194a7ac",
              "version_minor": 0,
              "version_major": 2
            },
            "text/plain": [
              "interactive(children=(FloatRangeSlider(value=(0.0, 1.0), description='distance:', max=1.0, readout_format='.1f…"
            ]
          },
          "metadata": {
            "tags": []
          }
        }
      ]
    },
    {
      "cell_type": "markdown",
      "metadata": {
        "id": "ocbJGKIKITDi",
        "colab_type": "text"
      },
      "source": [
        "## For each word *'spring'* in one sentence find the sentence with the closest word *'spring'*\n",
        " <br>\n",
        "<font size=\"4\">\n",
        "1. accuracy1 matching the synset of the matched sentences <br><br>\n",
        "2. accuracy2 as accuracy1 but considers <i>'season, n'</i> a match of <i>'season, a'</i><br><br>\n",
        "</font>"
      ]
    },
    {
      "cell_type": "code",
      "metadata": {
        "id": "EpeNkY8TIJDt",
        "colab_type": "code",
        "colab": {}
      },
      "source": [
        "results = []\n",
        "for layer_number in range(1,13,1):\n",
        "    spring_embeddings = [bert_embedding(text, model, tokenizer, layer_number=layer_number) for text in df_spring.text.to_list()]\n",
        "    spring_distances = []\n",
        "    for i in range(len(spring_S)):\n",
        "        for j in range(i+1,len(spring_S)):\n",
        "            k1 = spring_S[i][0]\n",
        "            i1 = spring_S[i][1]\n",
        "            k2 = spring_S[j][0]\n",
        "            i2 = spring_S[j][1] \n",
        "            dist = distance(spring_embeddings[k1][i1],spring_embeddings[k2][i2]).tolist()\n",
        "            #print(dist)\n",
        "            spring_distances.append((k1,k2,dist))\n",
        "\n",
        "    match = dict.fromkeys(df_spring.index.to_list())\n",
        "    min_dist = dict.fromkeys(df_spring.index.to_list(),10)\n",
        "    for d in spring_distances:\n",
        "        i1, i2 = d[:2]\n",
        "        if min_dist[i1] > d[2]:\n",
        "            min_dist[i1] = d[2]\n",
        "            match[i1] = i2\n",
        "        if min_dist[i2] > d[2]:\n",
        "            min_dist[i2] = d[2]\n",
        "            match[i2] = i1\n",
        "\n",
        "    df_spring['text_match_index'] = list(match.values())\n",
        "    df_spring['text_match_distance'] = list(min_dist.values())\n",
        "    df_spring['text_match_synset'] = df_spring.iloc[list(match.values())]['synset'].to_list()\n",
        "    df_spring['text_match'] = df_spring.iloc[list(match.values())]['text'].to_list()\n",
        "\n",
        "    acc1 = sum(df_spring.synset == df_spring.text_match_synset)/df_spring.shape[0]\n",
        "\n",
        "    # if we count spring noun and spring adjective as same\n",
        "    acc2= sum(df_spring.apply(lambda x: 1  if x['synset'] == x['text_match_synset'] else( 1 if x['synset']*x['text_match_synset'] ==2\n",
        "                    else 0), axis = 1))/df_spring.shape[0]   \n",
        "    \n",
        "    results.append((layer_number, round(acc1,2), round(acc2,2)))"
      ],
      "execution_count": 0,
      "outputs": []
    },
    {
      "cell_type": "markdown",
      "metadata": {
        "id": "yYPEHM1NIgXA",
        "colab_type": "text"
      },
      "source": [
        "## Find the layer with the best embedding"
      ]
    },
    {
      "cell_type": "code",
      "metadata": {
        "id": "jdbdfFhHIu2U",
        "colab_type": "code",
        "colab": {
          "base_uri": "https://localhost:8080/",
          "height": 383
        },
        "outputId": "1f50bd82-af02-4799-cd03-4f059b50bbb2"
      },
      "source": [
        "pd.DataFrame.from_records(results, columns = ['layer #', 'accuracy1', 'accuracy2']).style.set_table_styles(styles)"
      ],
      "execution_count": 48,
      "outputs": [
        {
          "output_type": "execute_result",
          "data": {
            "text/html": [
              "<style  type=\"text/css\" >\n",
              "    #T_e87975dc_4218_11ea_b6dc_0242ac1c0002 th {\n",
              "          font-size: 20px;\n",
              "          text-align: center;\n",
              "          font-weight: bold;\n",
              "          color: #ffffff;\n",
              "          background-color: #000000;\n",
              "    }    #T_e87975dc_4218_11ea_b6dc_0242ac1c0002 td {\n",
              "          font-size: 20px;\n",
              "          text-align: center;\n",
              "    }</style><table id=\"T_e87975dc_4218_11ea_b6dc_0242ac1c0002\" ><thead>    <tr>        <th class=\"blank level0\" ></th>        <th class=\"col_heading level0 col0\" >layer #</th>        <th class=\"col_heading level0 col1\" >accuracy1</th>        <th class=\"col_heading level0 col2\" >accuracy2</th>    </tr></thead><tbody>\n",
              "                <tr>\n",
              "                        <th id=\"T_e87975dc_4218_11ea_b6dc_0242ac1c0002level0_row0\" class=\"row_heading level0 row0\" >0</th>\n",
              "                        <td id=\"T_e87975dc_4218_11ea_b6dc_0242ac1c0002row0_col0\" class=\"data row0 col0\" >1</td>\n",
              "                        <td id=\"T_e87975dc_4218_11ea_b6dc_0242ac1c0002row0_col1\" class=\"data row0 col1\" >0.57</td>\n",
              "                        <td id=\"T_e87975dc_4218_11ea_b6dc_0242ac1c0002row0_col2\" class=\"data row0 col2\" >0.71</td>\n",
              "            </tr>\n",
              "            <tr>\n",
              "                        <th id=\"T_e87975dc_4218_11ea_b6dc_0242ac1c0002level0_row1\" class=\"row_heading level0 row1\" >1</th>\n",
              "                        <td id=\"T_e87975dc_4218_11ea_b6dc_0242ac1c0002row1_col0\" class=\"data row1 col0\" >2</td>\n",
              "                        <td id=\"T_e87975dc_4218_11ea_b6dc_0242ac1c0002row1_col1\" class=\"data row1 col1\" >0.8</td>\n",
              "                        <td id=\"T_e87975dc_4218_11ea_b6dc_0242ac1c0002row1_col2\" class=\"data row1 col2\" >0.87</td>\n",
              "            </tr>\n",
              "            <tr>\n",
              "                        <th id=\"T_e87975dc_4218_11ea_b6dc_0242ac1c0002level0_row2\" class=\"row_heading level0 row2\" >2</th>\n",
              "                        <td id=\"T_e87975dc_4218_11ea_b6dc_0242ac1c0002row2_col0\" class=\"data row2 col0\" >3</td>\n",
              "                        <td id=\"T_e87975dc_4218_11ea_b6dc_0242ac1c0002row2_col1\" class=\"data row2 col1\" >0.81</td>\n",
              "                        <td id=\"T_e87975dc_4218_11ea_b6dc_0242ac1c0002row2_col2\" class=\"data row2 col2\" >0.89</td>\n",
              "            </tr>\n",
              "            <tr>\n",
              "                        <th id=\"T_e87975dc_4218_11ea_b6dc_0242ac1c0002level0_row3\" class=\"row_heading level0 row3\" >3</th>\n",
              "                        <td id=\"T_e87975dc_4218_11ea_b6dc_0242ac1c0002row3_col0\" class=\"data row3 col0\" >4</td>\n",
              "                        <td id=\"T_e87975dc_4218_11ea_b6dc_0242ac1c0002row3_col1\" class=\"data row3 col1\" >0.84</td>\n",
              "                        <td id=\"T_e87975dc_4218_11ea_b6dc_0242ac1c0002row3_col2\" class=\"data row3 col2\" >0.88</td>\n",
              "            </tr>\n",
              "            <tr>\n",
              "                        <th id=\"T_e87975dc_4218_11ea_b6dc_0242ac1c0002level0_row4\" class=\"row_heading level0 row4\" >4</th>\n",
              "                        <td id=\"T_e87975dc_4218_11ea_b6dc_0242ac1c0002row4_col0\" class=\"data row4 col0\" >5</td>\n",
              "                        <td id=\"T_e87975dc_4218_11ea_b6dc_0242ac1c0002row4_col1\" class=\"data row4 col1\" >0.88</td>\n",
              "                        <td id=\"T_e87975dc_4218_11ea_b6dc_0242ac1c0002row4_col2\" class=\"data row4 col2\" >0.93</td>\n",
              "            </tr>\n",
              "            <tr>\n",
              "                        <th id=\"T_e87975dc_4218_11ea_b6dc_0242ac1c0002level0_row5\" class=\"row_heading level0 row5\" >5</th>\n",
              "                        <td id=\"T_e87975dc_4218_11ea_b6dc_0242ac1c0002row5_col0\" class=\"data row5 col0\" >6</td>\n",
              "                        <td id=\"T_e87975dc_4218_11ea_b6dc_0242ac1c0002row5_col1\" class=\"data row5 col1\" >0.91</td>\n",
              "                        <td id=\"T_e87975dc_4218_11ea_b6dc_0242ac1c0002row5_col2\" class=\"data row5 col2\" >0.93</td>\n",
              "            </tr>\n",
              "            <tr>\n",
              "                        <th id=\"T_e87975dc_4218_11ea_b6dc_0242ac1c0002level0_row6\" class=\"row_heading level0 row6\" >6</th>\n",
              "                        <td id=\"T_e87975dc_4218_11ea_b6dc_0242ac1c0002row6_col0\" class=\"data row6 col0\" >7</td>\n",
              "                        <td id=\"T_e87975dc_4218_11ea_b6dc_0242ac1c0002row6_col1\" class=\"data row6 col1\" >0.92</td>\n",
              "                        <td id=\"T_e87975dc_4218_11ea_b6dc_0242ac1c0002row6_col2\" class=\"data row6 col2\" >0.93</td>\n",
              "            </tr>\n",
              "            <tr>\n",
              "                        <th id=\"T_e87975dc_4218_11ea_b6dc_0242ac1c0002level0_row7\" class=\"row_heading level0 row7\" >7</th>\n",
              "                        <td id=\"T_e87975dc_4218_11ea_b6dc_0242ac1c0002row7_col0\" class=\"data row7 col0\" >8</td>\n",
              "                        <td id=\"T_e87975dc_4218_11ea_b6dc_0242ac1c0002row7_col1\" class=\"data row7 col1\" >0.93</td>\n",
              "                        <td id=\"T_e87975dc_4218_11ea_b6dc_0242ac1c0002row7_col2\" class=\"data row7 col2\" >0.95</td>\n",
              "            </tr>\n",
              "            <tr>\n",
              "                        <th id=\"T_e87975dc_4218_11ea_b6dc_0242ac1c0002level0_row8\" class=\"row_heading level0 row8\" >8</th>\n",
              "                        <td id=\"T_e87975dc_4218_11ea_b6dc_0242ac1c0002row8_col0\" class=\"data row8 col0\" >9</td>\n",
              "                        <td id=\"T_e87975dc_4218_11ea_b6dc_0242ac1c0002row8_col1\" class=\"data row8 col1\" >0.93</td>\n",
              "                        <td id=\"T_e87975dc_4218_11ea_b6dc_0242ac1c0002row8_col2\" class=\"data row8 col2\" >0.95</td>\n",
              "            </tr>\n",
              "            <tr>\n",
              "                        <th id=\"T_e87975dc_4218_11ea_b6dc_0242ac1c0002level0_row9\" class=\"row_heading level0 row9\" >9</th>\n",
              "                        <td id=\"T_e87975dc_4218_11ea_b6dc_0242ac1c0002row9_col0\" class=\"data row9 col0\" >10</td>\n",
              "                        <td id=\"T_e87975dc_4218_11ea_b6dc_0242ac1c0002row9_col1\" class=\"data row9 col1\" >0.93</td>\n",
              "                        <td id=\"T_e87975dc_4218_11ea_b6dc_0242ac1c0002row9_col2\" class=\"data row9 col2\" >0.96</td>\n",
              "            </tr>\n",
              "            <tr>\n",
              "                        <th id=\"T_e87975dc_4218_11ea_b6dc_0242ac1c0002level0_row10\" class=\"row_heading level0 row10\" >10</th>\n",
              "                        <td id=\"T_e87975dc_4218_11ea_b6dc_0242ac1c0002row10_col0\" class=\"data row10 col0\" >11</td>\n",
              "                        <td id=\"T_e87975dc_4218_11ea_b6dc_0242ac1c0002row10_col1\" class=\"data row10 col1\" >0.91</td>\n",
              "                        <td id=\"T_e87975dc_4218_11ea_b6dc_0242ac1c0002row10_col2\" class=\"data row10 col2\" >0.93</td>\n",
              "            </tr>\n",
              "            <tr>\n",
              "                        <th id=\"T_e87975dc_4218_11ea_b6dc_0242ac1c0002level0_row11\" class=\"row_heading level0 row11\" >11</th>\n",
              "                        <td id=\"T_e87975dc_4218_11ea_b6dc_0242ac1c0002row11_col0\" class=\"data row11 col0\" >12</td>\n",
              "                        <td id=\"T_e87975dc_4218_11ea_b6dc_0242ac1c0002row11_col1\" class=\"data row11 col1\" >0.92</td>\n",
              "                        <td id=\"T_e87975dc_4218_11ea_b6dc_0242ac1c0002row11_col2\" class=\"data row11 col2\" >0.96</td>\n",
              "            </tr>\n",
              "    </tbody></table>"
            ],
            "text/plain": [
              "<pandas.io.formats.style.Styler at 0x7f3e66de5d30>"
            ]
          },
          "metadata": {
            "tags": []
          },
          "execution_count": 48
        }
      ]
    },
    {
      "cell_type": "markdown",
      "metadata": {
        "id": "8RSsBb2cfQ5D",
        "colab_type": "text"
      },
      "source": [
        "### Layer 9 is the best"
      ]
    },
    {
      "cell_type": "code",
      "metadata": {
        "id": "pllvdrajfV1e",
        "colab_type": "code",
        "colab": {}
      },
      "source": [
        "layer_number=9\n",
        "spring_embeddings = [bert_embedding(text, model, tokenizer, layer_number=layer_number) for text in df_spring.text.to_list()]\n",
        "spring_distances = []\n",
        "for i in range(len(spring_S)):\n",
        "    for j in range(i+1,len(spring_S)):\n",
        "        k1 = spring_S[i][0]\n",
        "        i1 = spring_S[i][1]\n",
        "        k2 = spring_S[j][0]\n",
        "        i2 = spring_S[j][1] \n",
        "        dist = distance(spring_embeddings[k1][i1],spring_embeddings[k2][i2]).tolist()\n",
        "        #print(dist)\n",
        "        spring_distances.append((k1,k2,dist))\n",
        "\n",
        "match = dict.fromkeys(df_spring.index.to_list())\n",
        "min_dist = dict.fromkeys(df_spring.index.to_list(),10)\n",
        "for d in spring_distances:\n",
        "    i1, i2 = d[:2]\n",
        "    if min_dist[i1] > d[2]:\n",
        "        min_dist[i1] = d[2]\n",
        "        match[i1] = i2\n",
        "    if min_dist[i2] > d[2]:\n",
        "        min_dist[i2] = d[2]\n",
        "        match[i2] = i1\n",
        "\n",
        "df_spring['text_match_index'] = list(match.values())\n",
        "df_spring['text_match_distance'] = list(min_dist.values())\n",
        "df_spring['text_match_synset'] = df_spring.iloc[list(match.values())]['synset'].to_list()\n",
        "df_spring['text_match'] = df_spring.iloc[list(match.values())]['text'].to_list()\n",
        "\n",
        "acc1 = sum(df_spring.synset == df_spring.text_match_synset)/df_spring.shape[0]\n",
        "\n",
        "# if we count spring noun and spring adjective as same\n",
        "acc2= sum(df_spring.apply(lambda x: 1  if x['synset'] == x['text_match_synset'] else( 1 if x['synset']*x['text_match_synset'] ==2\n",
        "                else 0), axis = 1))/df_spring.shape[0]   \n"
      ],
      "execution_count": 0,
      "outputs": []
    },
    {
      "cell_type": "code",
      "metadata": {
        "id": "oXf-nuMng-da",
        "colab_type": "code",
        "colab": {
          "base_uri": "https://localhost:8080/",
          "height": 793
        },
        "outputId": "4c518157-04b1-41f6-c0a1-a090da8bd5dc"
      },
      "source": [
        "df_spring"
      ],
      "execution_count": 53,
      "outputs": [
        {
          "output_type": "execute_result",
          "data": {
            "text/html": [
              "<div>\n",
              "<style scoped>\n",
              "    .dataframe tbody tr th:only-of-type {\n",
              "        vertical-align: middle;\n",
              "    }\n",
              "\n",
              "    .dataframe tbody tr th {\n",
              "        vertical-align: top;\n",
              "    }\n",
              "\n",
              "    .dataframe thead th {\n",
              "        text-align: right;\n",
              "    }\n",
              "</style>\n",
              "<table border=\"1\" class=\"dataframe\">\n",
              "  <thead>\n",
              "    <tr style=\"text-align: right;\">\n",
              "      <th></th>\n",
              "      <th>text</th>\n",
              "      <th>synset</th>\n",
              "      <th>meaning</th>\n",
              "      <th>text_match_index</th>\n",
              "      <th>text_match_distance</th>\n",
              "      <th>text_match_synset</th>\n",
              "      <th>text_match</th>\n",
              "    </tr>\n",
              "  </thead>\n",
              "  <tbody>\n",
              "    <tr>\n",
              "      <th>0</th>\n",
              "      <td>spring is around the corner.</td>\n",
              "      <td>1</td>\n",
              "      <td>season, n</td>\n",
              "      <td>4</td>\n",
              "      <td>0.243190</td>\n",
              "      <td>1</td>\n",
              "      <td>in a few days the beautiful spring will be here.</td>\n",
              "    </tr>\n",
              "    <tr>\n",
              "      <th>1</th>\n",
              "      <td>the night air of spring was chilly in the mountains.</td>\n",
              "      <td>1</td>\n",
              "      <td>season, n</td>\n",
              "      <td>6</td>\n",
              "      <td>0.185196</td>\n",
              "      <td>1</td>\n",
              "      <td>it seemed as if the spirit of spring had passed through the summer-house.</td>\n",
              "    </tr>\n",
              "    <tr>\n",
              "      <th>2</th>\n",
              "      <td>i don't know how the ranch ever saw a spring without your sunny smile.</td>\n",
              "      <td>1</td>\n",
              "      <td>season, n</td>\n",
              "      <td>4</td>\n",
              "      <td>0.228063</td>\n",
              "      <td>1</td>\n",
              "      <td>in a few days the beautiful spring will be here.</td>\n",
              "    </tr>\n",
              "    <tr>\n",
              "      <th>3</th>\n",
              "      <td>it was spring and she was ravenously hungry.</td>\n",
              "      <td>1</td>\n",
              "      <td>season, n</td>\n",
              "      <td>1</td>\n",
              "      <td>0.197071</td>\n",
              "      <td>1</td>\n",
              "      <td>the night air of spring was chilly in the mountains.</td>\n",
              "    </tr>\n",
              "    <tr>\n",
              "      <th>4</th>\n",
              "      <td>in a few days the beautiful spring will be here.</td>\n",
              "      <td>1</td>\n",
              "      <td>season, n</td>\n",
              "      <td>7</td>\n",
              "      <td>0.165967</td>\n",
              "      <td>1</td>\n",
              "      <td>i love the beautiful spring , because the budding trees and the blossoming flowers and the tender green leaves fill my heart with joy.</td>\n",
              "    </tr>\n",
              "    <tr>\n",
              "      <th>...</th>\n",
              "      <td>...</td>\n",
              "      <td>...</td>\n",
              "      <td>...</td>\n",
              "      <td>...</td>\n",
              "      <td>...</td>\n",
              "      <td>...</td>\n",
              "      <td>...</td>\n",
              "    </tr>\n",
              "    <tr>\n",
              "      <th>70</th>\n",
              "      <td>the downfall of the croatian spring marked the beginning of a period known as the croatian silence.</td>\n",
              "      <td>6</td>\n",
              "      <td>political</td>\n",
              "      <td>73</td>\n",
              "      <td>0.187741</td>\n",
              "      <td>6</td>\n",
              "      <td>the damascus spring made a major impact across the arab world, and initially there was considerable optimism that it would lead to real change.</td>\n",
              "    </tr>\n",
              "    <tr>\n",
              "      <th>71</th>\n",
              "      <td>during the beijing spring , the general public was allowed greater freedom to criticize the government than the chinese people had previously been allowed under the government of the people's republic of china.</td>\n",
              "      <td>6</td>\n",
              "      <td>political</td>\n",
              "      <td>72</td>\n",
              "      <td>0.137701</td>\n",
              "      <td>6</td>\n",
              "      <td>the seoul spring was a period of democratization in south korea from 26 october 1979 to 17 may 1980.</td>\n",
              "    </tr>\n",
              "    <tr>\n",
              "      <th>72</th>\n",
              "      <td>the seoul spring was a period of democratization in south korea from 26 october 1979 to 17 may 1980.</td>\n",
              "      <td>6</td>\n",
              "      <td>political</td>\n",
              "      <td>71</td>\n",
              "      <td>0.137701</td>\n",
              "      <td>6</td>\n",
              "      <td>during the beijing spring , the general public was allowed greater freedom to criticize the government than the chinese people had previously been allowed under the government of the people's republic of china.</td>\n",
              "    </tr>\n",
              "    <tr>\n",
              "      <th>73</th>\n",
              "      <td>the damascus spring made a major impact across the arab world, and initially there was considerable optimism that it would lead to real change.</td>\n",
              "      <td>6</td>\n",
              "      <td>political</td>\n",
              "      <td>72</td>\n",
              "      <td>0.174569</td>\n",
              "      <td>6</td>\n",
              "      <td>the seoul spring was a period of democratization in south korea from 26 october 1979 to 17 may 1980.</td>\n",
              "    </tr>\n",
              "    <tr>\n",
              "      <th>74</th>\n",
              "      <td>while some might see this as a venezuelan spring , the reality is that popular movements in countries like venezuela over the last few years have often been highly suppressed.</td>\n",
              "      <td>6</td>\n",
              "      <td>political</td>\n",
              "      <td>73</td>\n",
              "      <td>0.242655</td>\n",
              "      <td>6</td>\n",
              "      <td>the damascus spring made a major impact across the arab world, and initially there was considerable optimism that it would lead to real change.</td>\n",
              "    </tr>\n",
              "  </tbody>\n",
              "</table>\n",
              "<p>75 rows × 7 columns</p>\n",
              "</div>"
            ],
            "text/plain": [
              "                                                                                                                                                                                                                  text  ...                                                                                                                                                                                                          text_match\n",
              "0   spring is around the corner.                                                                                                                                                                                        ...  in a few days the beautiful spring will be here.                                                                                                                                                                  \n",
              "1   the night air of spring was chilly in the mountains.                                                                                                                                                                ...  it seemed as if the spirit of spring had passed through the summer-house.                                                                                                                                         \n",
              "2   i don't know how the ranch ever saw a spring without your sunny smile.                                                                                                                                              ...  in a few days the beautiful spring will be here.                                                                                                                                                                  \n",
              "3   it was spring and she was ravenously hungry.                                                                                                                                                                        ...  the night air of spring was chilly in the mountains.                                                                                                                                                              \n",
              "4   in a few days the beautiful spring will be here.                                                                                                                                                                    ...  i love the beautiful spring , because the budding trees and the blossoming flowers and the tender green leaves fill my heart with joy.                                                                            \n",
              "..                                               ...                                                                                                                                                                    ...                                                                                                                                     ...                                                                            \n",
              "70  the downfall of the croatian spring marked the beginning of a period known as the croatian silence.                                                                                                                 ...  the damascus spring made a major impact across the arab world, and initially there was considerable optimism that it would lead to real change.                                                                   \n",
              "71  during the beijing spring , the general public was allowed greater freedom to criticize the government than the chinese people had previously been allowed under the government of the people's republic of china.  ...  the seoul spring was a period of democratization in south korea from 26 october 1979 to 17 may 1980.                                                                                                              \n",
              "72  the seoul spring was a period of democratization in south korea from 26 october 1979 to 17 may 1980.                                                                                                                ...  during the beijing spring , the general public was allowed greater freedom to criticize the government than the chinese people had previously been allowed under the government of the people's republic of china.\n",
              "73  the damascus spring made a major impact across the arab world, and initially there was considerable optimism that it would lead to real change.                                                                     ...  the seoul spring was a period of democratization in south korea from 26 october 1979 to 17 may 1980.                                                                                                              \n",
              "74  while some might see this as a venezuelan spring , the reality is that popular movements in countries like venezuela over the last few years have often been highly suppressed.                                     ...  the damascus spring made a major impact across the arab world, and initially there was considerable optimism that it would lead to real change.                                                                   \n",
              "\n",
              "[75 rows x 7 columns]"
            ]
          },
          "metadata": {
            "tags": []
          },
          "execution_count": 53
        }
      ]
    }
  ]
}