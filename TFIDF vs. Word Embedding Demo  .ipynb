{
 "cells": [
  {
   "cell_type": "code",
   "execution_count": 22,
   "metadata": {},
   "outputs": [],
   "source": [
    "import warnings; warnings.simplefilter('ignore')\n",
    "from sklearn.datasets import fetch_20newsgroups\n",
    "from gensim import models\n",
    "import scipy.spatial.distance as distance\n",
    "import numpy as np\n",
    "%matplotlib inline\n",
    "import matplotlib.pyplot as plt\n",
    "from sklearn.feature_extraction.text import TfidfVectorizer\n",
    "from keras.utils import to_categorical\n",
    "from sklearn.model_selection import train_test_split\n"
   ]
  },
  {
   "cell_type": "code",
   "execution_count": 8,
   "metadata": {},
   "outputs": [],
   "source": [
    "from keras.models import load_model, Model, Sequential\n",
    "from keras.preprocessing.sequence import pad_sequences\n",
    "from keras.preprocessing.text import Tokenizer\n",
    "from keras.utils import to_categorical\n",
    "from keras.layers import Embedding, Input, Conv1D, MaxPooling1D, Flatten, Dense, GlobalMaxPooling1D\n",
    "from keras.layers import Multiply, concatenate, Activation, Dropout, Reshape, Lambda\n",
    "from keras import regularizers\n",
    "from keras.callbacks import ModelCheckpoint, EarlyStopping"
   ]
  },
  {
   "cell_type": "code",
   "execution_count": 9,
   "metadata": {},
   "outputs": [],
   "source": [
    "from keras import backend as K"
   ]
  },
  {
   "cell_type": "code",
   "execution_count": 10,
   "metadata": {},
   "outputs": [],
   "source": [
    "def plot_history(history):\n",
    "    ## As loss always exists\n",
    "    epochs = range(1,len(history.history['loss']) + 1)\n",
    "    \n",
    "    ## Loss\n",
    "    plt.figure(1)\n",
    "    plt.plot(epochs, history.history['loss'], 'b', label='Training loss ')\n",
    "    plt.plot(epochs, history.history['val_loss'], 'g', label='Validation loss ')\n",
    "    \n",
    "    plt.title('Loss')\n",
    "    plt.xlabel('Epochs')\n",
    "    plt.ylabel('Loss')\n",
    "    plt.legend()\n",
    "    \n",
    "    ## Accuracy\n",
    "    plt.figure(2)\n",
    "    plt.plot(epochs, history.history['acc'], 'b', label='Training accuracy ')\n",
    "    plt.plot(epochs, history.history['val_acc'], 'g', label='Validation accuracy ')\n",
    "\n",
    "    plt.title('Accuracy')\n",
    "    plt.xlabel('Epochs')\n",
    "    plt.ylabel('Accuracy')\n",
    "    plt.legend()\n",
    "    plt.show()"
   ]
  },
  {
   "cell_type": "markdown",
   "metadata": {},
   "source": [
    "# Get the Data"
   ]
  },
  {
   "cell_type": "code",
   "execution_count": 11,
   "metadata": {},
   "outputs": [],
   "source": [
    "dataset = fetch_20newsgroups(subset= 'all',shuffle=True, random_state=1)#, remove=('headers', 'footers', 'quotes'))"
   ]
  },
  {
   "cell_type": "code",
   "execution_count": 12,
   "metadata": {},
   "outputs": [],
   "source": [
    "from nltk.corpus import stopwords\n",
    "from string import punctuation\n",
    "def clean_text(texts,  min_length = 2):\n",
    "    clean = []\n",
    "    #don't remove apostrophes\n",
    "    translator = str.maketrans(punctuation.replace('\\'',' '), ' '*len(punctuation))\n",
    "    for text in texts:\n",
    "        text = text.translate(translator)\n",
    "        tokens = text.split()\n",
    "        # remove not alphabetic tokens\n",
    "        tokens = [word.lower() for word in tokens if word.isalpha()]\n",
    "        # filter out stop words\n",
    "        stop_words = stopwords.words('english')\n",
    "        tokens = [w for w in tokens if not w in stop_words]\n",
    "        # filter out short tokens\n",
    "        tokens = [word for word in tokens if len(word) >= min_length]\n",
    "        tokens = ' '.join(tokens)\n",
    "        clean.append(tokens)\n",
    "    return clean"
   ]
  },
  {
   "cell_type": "code",
   "execution_count": 13,
   "metadata": {},
   "outputs": [],
   "source": [
    "# tagged data from doc2vec training\n",
    "def tag_text(all_text, tag_type =''):\n",
    "    tagged_text = []\n",
    "    for i, text in enumerate(all_text):\n",
    "        tag = i\n",
    "        tagged_text.append(models.doc2vec.TaggedDocument(text.split(), [tag]))\n",
    "    return tagged_text"
   ]
  },
  {
   "cell_type": "code",
   "execution_count": 14,
   "metadata": {},
   "outputs": [],
   "source": [
    "n_samples = len(dataset.data)\n",
    "data = clean_text(dataset.data)\n",
    "tagged_data = tag_text(data)\n",
    "data_labels = dataset.target\n",
    "data_label_names = dataset.target_names"
   ]
  },
  {
   "cell_type": "code",
   "execution_count": 15,
   "metadata": {},
   "outputs": [],
   "source": [
    "cat_data_labels = to_categorical(data_labels)"
   ]
  },
  {
   "cell_type": "code",
   "execution_count": 16,
   "metadata": {},
   "outputs": [
    {
     "name": "stdout",
     "output_type": "stream",
     "text": [
      "20\n"
     ]
    }
   ],
   "source": [
    "num_labels = len(data_label_names)\n",
    "print(num_labels)"
   ]
  },
  {
   "cell_type": "markdown",
   "metadata": {},
   "source": [
    "### 20 Topics"
   ]
  },
  {
   "cell_type": "code",
   "execution_count": 17,
   "metadata": {},
   "outputs": [
    {
     "data": {
      "text/plain": [
       "['alt.atheism',\n",
       " 'comp.graphics',\n",
       " 'comp.os.ms-windows.misc',\n",
       " 'comp.sys.ibm.pc.hardware',\n",
       " 'comp.sys.mac.hardware',\n",
       " 'comp.windows.x',\n",
       " 'misc.forsale',\n",
       " 'rec.autos',\n",
       " 'rec.motorcycles',\n",
       " 'rec.sport.baseball',\n",
       " 'rec.sport.hockey',\n",
       " 'sci.crypt',\n",
       " 'sci.electronics',\n",
       " 'sci.med',\n",
       " 'sci.space',\n",
       " 'soc.religion.christian',\n",
       " 'talk.politics.guns',\n",
       " 'talk.politics.mideast',\n",
       " 'talk.politics.misc',\n",
       " 'talk.religion.misc']"
      ]
     },
     "execution_count": 17,
     "metadata": {},
     "output_type": "execute_result"
    }
   ],
   "source": [
    "data_label_names"
   ]
  },
  {
   "cell_type": "markdown",
   "metadata": {},
   "source": [
    "### 18846 Posts"
   ]
  },
  {
   "cell_type": "code",
   "execution_count": 18,
   "metadata": {},
   "outputs": [
    {
     "data": {
      "text/plain": [
       "18846"
      ]
     },
     "execution_count": 18,
     "metadata": {},
     "output_type": "execute_result"
    }
   ],
   "source": [
    "len(data)"
   ]
  },
  {
   "cell_type": "markdown",
   "metadata": {},
   "source": [
    "## Wrappers to perform training-testing and cross-validation"
   ]
  },
  {
   "cell_type": "code",
   "execution_count": 99,
   "metadata": {},
   "outputs": [],
   "source": [
    "#randomly split the data set and the labels into n_cv folds and select fold_n as testing data and the rest as training\n",
    "def create_single_fold(data, labels, n_cv, fold_n):\n",
    "    data_size = data.shape[0]\n",
    "    cv_folds = np.random.randint(0, high = n_cv, size = data_size)\n",
    "    train_data = data[cv_folds != fold_n]\n",
    "    train_labels = labels[cv_folds != fold_n]\n",
    "    test_data = data[cv_folds == fold_n]\n",
    "    test_labels = labels[cv_folds == fold_n]\n",
    "    return (train_data, train_labels, test_data, test_labels)\n",
    "\n",
    "#randomly split the data set and the labels into n_cv folds and yeild testing data and training data for each fold\n",
    "def create_all_folds(data, labels, n_cv):\n",
    "    data_size = data.shape[0]\n",
    "    cv_folds = np.random.randint(0, high = n_cv, size = data_size)\n",
    "    for fold_n in range(n_cv):\n",
    "        train_data = data[cv_folds != fold_n]\n",
    "        train_labels = labels[cv_folds != fold_n]\n",
    "        test_data = data[cv_folds == fold_n]\n",
    "        test_labels = labels[cv_folds == fold_n]\n",
    "        yield (train_data, train_labels, test_data, test_labels)"
   ]
  },
  {
   "cell_type": "markdown",
   "metadata": {},
   "source": [
    "# Tfidf representation of the document-word matrix\n",
    "\n",
    "Tfidf - term frequency inverse document frequency -   measures the importance of terms in the documents based on how frequently they occur in the corpus of documents. It gives more weight to terms appearing in fewer documents.\n",
    "\n",
    "The 'raw' formula for tfidf is \n",
    "\n",
    "$tfidf_{i,j} = tf_{i,j} \\times idf_i =  tf_{i,j} \\times log(\\frac{N}{df_i})$\n",
    "\n",
    "Here $tf_{i,j}$ is the frequency of term $i$ in document $j$, $idf_i$ is the inverse document frequency, $N$ is the number of documents, and $df_i$ is the number of documents in which term $i$ appears.\n",
    "\n",
    "In practice the raw formula is modified. 1 is added to the definition of $idf_i$ to avoid the inverse document frequency turning to 0 when the term is present in all documents. \n",
    "\n",
    "In addition TfidfVectorizer provides an option of either $l1$ or $l2$ normalization for $tfidf_{i,j}$\n",
    "\n",
    "Tfidf representation is used with  Dense Neural Networks"
   ]
  },
  {
   "cell_type": "code",
   "execution_count": 19,
   "metadata": {},
   "outputs": [],
   "source": [
    "def sklearn_tokenize(input_texts, vocab_size, ngram_range, mystopwords = [],  max_df = 1.0, min_df = 1):\n",
    "    vectorizer = TfidfVectorizer(max_df=max_df, max_features=vocab_size, ngram_range = ngram_range,\n",
    "                                     min_df=min_df,  norm='l2',\n",
    "                                     use_idf=True, smooth_idf = False)\n",
    "    X = vectorizer.fit_transform(input_texts)\n",
    "    return (X.todense(), vectorizer)"
   ]
  },
  {
   "cell_type": "code",
   "execution_count": 20,
   "metadata": {},
   "outputs": [
    {
     "name": "stdout",
     "output_type": "stream",
     "text": [
      "(18846, 5000)\n"
     ]
    }
   ],
   "source": [
    "#pick the top VOCAB_SIZE words from the corpus based on their counts\n",
    "VOCAB_SIZE = 5000\n",
    "\n",
    "#tokenize raw texts using sklearn\n",
    "tfidf_data, vectorizer = sklearn_tokenize(data,  VOCAB_SIZE, (1,1), max_df = 0.5)\n",
    "print(tfidf_data.shape)"
   ]
  },
  {
   "cell_type": "code",
   "execution_count": 56,
   "metadata": {},
   "outputs": [],
   "source": [
    "# split the tfidf data into training/validation = 4/1 \n",
    "train_size = 0.8\n",
    "x_tfidf_train, x_tfidf_test,y_tfidf_train,  y_tfidf_test = \\\n",
    "                        train_test_split(tfidf_data, cat_data_labels, train_size = train_size)"
   ]
  },
  {
   "cell_type": "markdown",
   "metadata": {},
   "source": [
    "## DenseNN  with 1 Hidden Layer"
   ]
  },
  {
   "cell_type": "code",
   "execution_count": 27,
   "metadata": {},
   "outputs": [],
   "source": [
    "BATCH_SIZE = 128"
   ]
  },
  {
   "cell_type": "code",
   "execution_count": 60,
   "metadata": {},
   "outputs": [],
   "source": [
    "input_size = VOCAB_SIZE\n",
    "dropout = 0.3\n",
    "activation = 'tanh'\n",
    "layer_size = 60\n",
    "inputs = Input(shape = (input_size,),  name='dnn_input')\n",
    "x = Dense(layer_size, activation=activation, name ='hidden_dnn')(inputs)\n",
    "x = Dropout(dropout, name='dropout')(x)\n",
    "preds = Dense(num_labels, activation='softmax', name = 'output_dnn')(x)\n",
    "\n",
    "model = Model(inputs, preds)\n",
    "model.compile(loss='categorical_crossentropy',optimizer='adam',metrics=['accuracy'])"
   ]
  },
  {
   "cell_type": "code",
   "execution_count": 61,
   "metadata": {},
   "outputs": [
    {
     "name": "stdout",
     "output_type": "stream",
     "text": [
      "_________________________________________________________________\n",
      "Layer (type)                 Output Shape              Param #   \n",
      "=================================================================\n",
      "dnn_input (InputLayer)       (None, 5000)              0         \n",
      "_________________________________________________________________\n",
      "hidden_dnn (Dense)           (None, 60)                300060    \n",
      "_________________________________________________________________\n",
      "dropout (Dropout)            (None, 60)                0         \n",
      "_________________________________________________________________\n",
      "output_dnn (Dense)           (None, 20)                1220      \n",
      "=================================================================\n",
      "Total params: 301,280\n",
      "Trainable params: 301,280\n",
      "Non-trainable params: 0\n",
      "_________________________________________________________________\n"
     ]
    }
   ],
   "source": [
    "model.summary()"
   ]
  },
  {
   "cell_type": "markdown",
   "metadata": {},
   "source": [
    "## Explanation: Output Shape and Number of Parameters \n",
    "\n",
    "```\n",
    "Layer (type)                 Output Shape              Param #   \n",
    "=================================================================\n",
    "dnn_input (InputLayer)       (None, 5000)              0         \n",
    "```\n",
    "#### Output Shape\n",
    "- None: batch_size will be determined run-time\n",
    "- 5000: Vocabular Size\n",
    "\n",
    "```\n",
    "_________________________________________________________________\n",
    "hidden_dnn (Dense)           (None, 60)                300060    \n",
    "```\n",
    "#### Output Shape\n",
    "- None: batch_size will be determined run-time\n",
    "- 60: Hidden Layer Size\n",
    "\n",
    "#### Number of Parameters \n",
    "\n",
    "- (Vocabulary Size +1)  x Hidden Layer Size =  $5001 * 60 = 300,060$  \n",
    "    - 1 is added for the bias term\n",
    "\n",
    "```     \n",
    "_________________________________________________________________\n",
    "dropout (Dropout)            (None, 60)                0         \n",
    "_________________________________________________________________\n",
    "output_dnn (Dense)           (None, 20)                1220   \n",
    "```\n",
    "#### Output Shape\n",
    "- None: batch_size will be determined run-time\n",
    "- 20: Output Layer Size\n",
    "\n",
    "#### Number of Parameters\n",
    "- (Hidden Layer Size + 1) x  Output Layer Size = $61 * 20 = 1,220$\n",
    "    - 1 is added for the bias term\n"
   ]
  },
  {
   "cell_type": "code",
   "execution_count": 62,
   "metadata": {},
   "outputs": [
    {
     "name": "stdout",
     "output_type": "stream",
     "text": [
      "Train on 15076 samples, validate on 3770 samples\n",
      "Epoch 1/30\n",
      "15076/15076 [==============================] - 2s 155us/step - loss: 2.6063 - acc: 0.6430 - val_loss: 2.0512 - val_acc: 0.7926\n",
      "Epoch 2/30\n",
      "15076/15076 [==============================] - 2s 118us/step - loss: 1.5152 - acc: 0.8252 - val_loss: 1.1280 - val_acc: 0.8276\n",
      "Epoch 3/30\n",
      "15076/15076 [==============================] - 2s 121us/step - loss: 0.8554 - acc: 0.8721 - val_loss: 0.7632 - val_acc: 0.8507\n",
      "Epoch 4/30\n",
      "15076/15076 [==============================] - 2s 122us/step - loss: 0.5729 - acc: 0.9036 - val_loss: 0.6048 - val_acc: 0.8671\n",
      "Epoch 5/30\n",
      "15076/15076 [==============================] - 2s 120us/step - loss: 0.4257 - acc: 0.9240 - val_loss: 0.5222 - val_acc: 0.8735\n",
      "Epoch 6/30\n",
      "15076/15076 [==============================] - 2s 119us/step - loss: 0.3314 - acc: 0.9399 - val_loss: 0.4718 - val_acc: 0.8793\n",
      "Epoch 7/30\n",
      "15076/15076 [==============================] - 2s 117us/step - loss: 0.2658 - acc: 0.9532 - val_loss: 0.4395 - val_acc: 0.8857\n",
      "Epoch 8/30\n",
      "15076/15076 [==============================] - 2s 119us/step - loss: 0.2167 - acc: 0.9617 - val_loss: 0.4172 - val_acc: 0.8873\n",
      "Epoch 9/30\n",
      "15076/15076 [==============================] - 2s 117us/step - loss: 0.1803 - acc: 0.9703 - val_loss: 0.4028 - val_acc: 0.8886\n",
      "Epoch 10/30\n",
      "15076/15076 [==============================] - 2s 118us/step - loss: 0.1507 - acc: 0.9772 - val_loss: 0.3925 - val_acc: 0.8905\n",
      "Epoch 11/30\n",
      "15076/15076 [==============================] - 2s 121us/step - loss: 0.1265 - acc: 0.9816 - val_loss: 0.3848 - val_acc: 0.8899\n",
      "Epoch 12/30\n",
      "15076/15076 [==============================] - 2s 121us/step - loss: 0.1051 - acc: 0.9863 - val_loss: 0.3794 - val_acc: 0.8902\n",
      "Epoch 13/30\n",
      "15076/15076 [==============================] - 2s 119us/step - loss: 0.0904 - acc: 0.9896 - val_loss: 0.3772 - val_acc: 0.8910\n",
      "Epoch 14/30\n",
      "15076/15076 [==============================] - 2s 119us/step - loss: 0.0771 - acc: 0.9922 - val_loss: 0.3759 - val_acc: 0.8920\n",
      "Epoch 15/30\n",
      "15076/15076 [==============================] - 2s 119us/step - loss: 0.0665 - acc: 0.9943 - val_loss: 0.3760 - val_acc: 0.8920\n",
      "Epoch 16/30\n",
      "15076/15076 [==============================] - 2s 123us/step - loss: 0.0574 - acc: 0.9948 - val_loss: 0.3767 - val_acc: 0.8934\n",
      "Epoch 17/30\n",
      "15076/15076 [==============================] - 2s 123us/step - loss: 0.0493 - acc: 0.9962 - val_loss: 0.3780 - val_acc: 0.8910\n",
      "Epoch 18/30\n",
      "15076/15076 [==============================] - 2s 121us/step - loss: 0.0447 - acc: 0.9968 - val_loss: 0.3803 - val_acc: 0.8923\n",
      "Epoch 19/30\n",
      "15076/15076 [==============================] - 2s 121us/step - loss: 0.0379 - acc: 0.9979 - val_loss: 0.3833 - val_acc: 0.8907\n"
     ]
    }
   ],
   "source": [
    "earlystop = EarlyStopping(monitor='val_loss', patience=5)\n",
    "history = model.fit(x_tfidf_train, y_tfidf_train, validation_data=(x_tfidf_test, y_tfidf_test), \n",
    "                    epochs=30, batch_size=BATCH_SIZE, callbacks=[earlystop])"
   ]
  },
  {
   "cell_type": "code",
   "execution_count": 69,
   "metadata": {},
   "outputs": [
    {
     "name": "stdout",
     "output_type": "stream",
     "text": [
      "Best validation accuracy is  0.8933687006130775\n"
     ]
    }
   ],
   "source": [
    "print ('Best validation accuracy is ', max(history.history['val_acc']))"
   ]
  },
  {
   "cell_type": "markdown",
   "metadata": {},
   "source": [
    "### Overfitting occurs if trained too much \n",
    "\n",
    "Note, early stopping criteria kicked in at Epoch 21"
   ]
  },
  {
   "cell_type": "code",
   "execution_count": 798,
   "metadata": {},
   "outputs": [
    {
     "data": {
      "image/png": "[encoded data removed]",
      "text/plain": [
       "<Figure size 432x288 with 1 Axes>"
      ]
     },
     "metadata": {},
     "output_type": "display_data"
    },
    {
     "data": {
      "image/png": "[encoded data removed]",
      "text/plain": [
       "<Figure size 432x288 with 1 Axes>"
      ]
     },
     "metadata": {},
     "output_type": "display_data"
    }
   ],
   "source": [
    "plot_history(history)"
   ]
  },
  {
   "cell_type": "markdown",
   "metadata": {},
   "source": [
    "<img src=\"images/TFIDF Accuracy.png\" alt=\"Drawing\" style=\"width: 600px;\" />"
   ]
  },
  {
   "cell_type": "markdown",
   "metadata": {},
   "source": [
    "### Increase of the vocabulary size allows for increase in the network size without deterioration of accuracy"
   ]
  },
  {
   "cell_type": "markdown",
   "metadata": {},
   "source": [
    "# DenseNN for Doc2vec"
   ]
  },
  {
   "cell_type": "markdown",
   "metadata": {},
   "source": [
    "### Document Embedding Dimensions"
   ]
  },
  {
   "cell_type": "code",
   "execution_count": 65,
   "metadata": {},
   "outputs": [],
   "source": [
    "DOC2VEC_SIZE = 1000"
   ]
  },
  {
   "cell_type": "markdown",
   "metadata": {},
   "source": [
    "### Train Doc2vec embedding using gensim"
   ]
  },
  {
   "cell_type": "code",
   "execution_count": 66,
   "metadata": {},
   "outputs": [],
   "source": [
    "model_dbow = models.Doc2Vec(dm=0, dbow_words = 0, vector_size=DOC2VEC_SIZE, min_count=4, alpha=0.065, min_alpha=0.005)\n",
    "model_dbow.build_vocab(tagged_data)\n",
    "model_dbow.train(tagged_data, total_examples=len(tagged_data), epochs=30)"
   ]
  },
  {
   "cell_type": "markdown",
   "metadata": {},
   "source": [
    "### Input to a DNN is the Doc2vec vector"
   ]
  },
  {
   "cell_type": "code",
   "execution_count": 67,
   "metadata": {},
   "outputs": [
    {
     "name": "stdout",
     "output_type": "stream",
     "text": [
      "(18846, 1000)\n"
     ]
    }
   ],
   "source": [
    "dbow_doc2vec = []\n",
    "for i in range(n_samples):\n",
    "    dbow_doc2vec.append(model_dbow.docvecs[i])\n",
    "dbow_doc2vec = np.array(dbow_doc2vec)\n",
    "print (dbow_doc2vec.shape)"
   ]
  },
  {
   "cell_type": "markdown",
   "metadata": {},
   "source": [
    "### dbow_doc2vec is a matrix with the dimensions Number of Posts x Doc2vec Embedding size = 18846 x 1000 "
   ]
  },
  {
   "cell_type": "code",
   "execution_count": 70,
   "metadata": {},
   "outputs": [],
   "source": [
    "# split the tfidf data into training/validation = 4/1 \n",
    "train_size = 0.8\n",
    "x_doc_train, x_doc_test, y_doc_train, y_doc_test = \\\n",
    "                        train_test_split(dbow_doc2vec, cat_data_labels, train_size = train_size)"
   ]
  },
  {
   "cell_type": "code",
   "execution_count": 71,
   "metadata": {},
   "outputs": [],
   "source": [
    "input_size = DOC2VEC_SIZE\n",
    "dropout = 0.3\n",
    "activation = 'tanh'\n",
    "layer_size = 100\n",
    "inputs = Input(shape = (input_size,),  name='dnn_input')\n",
    "x = Dense(layer_size, activation=activation, name ='hidden_dnn')(inputs)\n",
    "x = Dropout(dropout, name='dropout')(x)\n",
    "preds = Dense(num_labels, activation='softmax', name = 'output_dnn')(x)\n",
    "\n",
    "model = Model(inputs, preds)\n",
    "model.compile(loss='categorical_crossentropy',optimizer='adam',metrics=['accuracy'])"
   ]
  },
  {
   "cell_type": "code",
   "execution_count": 72,
   "metadata": {},
   "outputs": [
    {
     "name": "stdout",
     "output_type": "stream",
     "text": [
      "_________________________________________________________________\n",
      "Layer (type)                 Output Shape              Param #   \n",
      "=================================================================\n",
      "dnn_input (InputLayer)       (None, 1000)              0         \n",
      "_________________________________________________________________\n",
      "hidden_dnn (Dense)           (None, 100)               100100    \n",
      "_________________________________________________________________\n",
      "dropout (Dropout)            (None, 100)               0         \n",
      "_________________________________________________________________\n",
      "output_dnn (Dense)           (None, 20)                2020      \n",
      "=================================================================\n",
      "Total params: 102,120\n",
      "Trainable params: 102,120\n",
      "Non-trainable params: 0\n",
      "_________________________________________________________________\n"
     ]
    }
   ],
   "source": [
    "model.summary()"
   ]
  },
  {
   "cell_type": "markdown",
   "metadata": {},
   "source": [
    "## Explanation of Output Shape and Number of Parameters \n",
    "\n",
    "```\n",
    "Layer (type)                 Output Shape              Param #   \n",
    "=================================================================\n",
    "dnn_input (InputLayer)       (None, 1000)              0         \n",
    "```\n",
    "#### Output Shape\n",
    "- None: batch_size will be determined run-time\n",
    "- 1000: Doc2Vec Embedding Size\n",
    "\n",
    "```\n",
    "_________________________________________________________________\n",
    "\n",
    "hidden_dnn (Dense)           (None, 100)               100100      \n",
    "```\n",
    "#### Output Shape\n",
    "- None: batch_size will be determined run-time\n",
    "- 100: Hidden Layer Size\n",
    "\n",
    "#### Number of Parameters \n",
    "\n",
    "- (Document Embedding Dimensions + 1)  x Hidden Layer Size =  $1001 \\times 100 = 100,100$\n",
    "    - 1 is added for the bias term\n",
    "\n",
    "```\n",
    "_________________________________________________________________\n",
    "dropout (Dropout)          (None, 100)               0         \n",
    "_________________________________________________________________\n",
    "output_dnn (Dense)           (None, 20)                2020   \n",
    "```\n",
    "#### Output Shape\n",
    "- None: batch_size will be determined run-time\n",
    "- 20: Output Layer Size\n",
    "\n",
    "#### Number of Parameters\n",
    "- (Hidden Layer Size + 1) x  Output Layer Size = $101 \\times 20 = 2,020$\n",
    "    - 1 is added for the bias term\n"
   ]
  },
  {
   "cell_type": "code",
   "execution_count": 73,
   "metadata": {},
   "outputs": [
    {
     "name": "stdout",
     "output_type": "stream",
     "text": [
      "Train on 15076 samples, validate on 3770 samples\n",
      "Epoch 1/30\n",
      "15076/15076 [==============================] - 1s 66us/step - loss: 1.4975 - acc: 0.6500 - val_loss: 0.7110 - val_acc: 0.8435\n",
      "Epoch 2/30\n",
      "15076/15076 [==============================] - 0s 32us/step - loss: 0.6188 - acc: 0.8394 - val_loss: 0.5147 - val_acc: 0.8650\n",
      "Epoch 3/30\n",
      "15076/15076 [==============================] - 0s 31us/step - loss: 0.4771 - acc: 0.8683 - val_loss: 0.4578 - val_acc: 0.8663\n",
      "Epoch 4/30\n",
      "15076/15076 [==============================] - 0s 29us/step - loss: 0.4094 - acc: 0.8859 - val_loss: 0.4357 - val_acc: 0.8706\n",
      "Epoch 5/30\n",
      "15076/15076 [==============================] - 0s 32us/step - loss: 0.3667 - acc: 0.8941 - val_loss: 0.4256 - val_acc: 0.8666\n",
      "Epoch 6/30\n",
      "15076/15076 [==============================] - 0s 30us/step - loss: 0.3345 - acc: 0.9036 - val_loss: 0.4267 - val_acc: 0.8674\n",
      "Epoch 7/30\n",
      "15076/15076 [==============================] - 0s 29us/step - loss: 0.3181 - acc: 0.9042 - val_loss: 0.4209 - val_acc: 0.8682\n",
      "Epoch 8/30\n",
      "15076/15076 [==============================] - 1s 39us/step - loss: 0.2912 - acc: 0.9128 - val_loss: 0.4265 - val_acc: 0.8653\n",
      "Epoch 9/30\n",
      "15076/15076 [==============================] - 0s 30us/step - loss: 0.2723 - acc: 0.9191 - val_loss: 0.4269 - val_acc: 0.8666\n",
      "Epoch 10/30\n",
      "15076/15076 [==============================] - 0s 30us/step - loss: 0.2598 - acc: 0.9226 - val_loss: 0.4303 - val_acc: 0.8639\n",
      "Epoch 11/30\n",
      "15076/15076 [==============================] - 0s 32us/step - loss: 0.2469 - acc: 0.9262 - val_loss: 0.4361 - val_acc: 0.8647\n",
      "Epoch 12/30\n",
      "15076/15076 [==============================] - 0s 29us/step - loss: 0.2356 - acc: 0.9306 - val_loss: 0.4392 - val_acc: 0.8618\n",
      "Wall time: 6.66 s\n"
     ]
    }
   ],
   "source": [
    "%%time\n",
    "earlystop = EarlyStopping(monitor='val_loss', patience=5)\n",
    "history = model.fit(x_doc_train, y_doc_train, validation_data=(x_doc_test, y_doc_test), \n",
    "                    epochs=30, batch_size=BATCH_SIZE, callbacks=[earlystop])"
   ]
  },
  {
   "cell_type": "code",
   "execution_count": 74,
   "metadata": {},
   "outputs": [
    {
     "name": "stdout",
     "output_type": "stream",
     "text": [
      "Best validation accuracy is  0.8933687006130775\n"
     ]
    }
   ],
   "source": [
    "print ('Best validation accuracy is ', max(history.history['val_acc']))"
   ]
  },
  {
   "cell_type": "markdown",
   "metadata": {},
   "source": [
    "### Overfitting occurs if trained too much \n",
    "\n",
    "Note, early stopping criteria kicked in at Epoch 13"
   ]
  },
  {
   "cell_type": "code",
   "execution_count": 75,
   "metadata": {},
   "outputs": [
    {
     "data": {
      "image/png": "[encoded data removed]",
      "text/plain": [
       "<Figure size 432x288 with 1 Axes>"
      ]
     },
     "metadata": {
      "needs_background": "light"
     },
     "output_type": "display_data"
    },
    {
     "data": {
      "image/png": "[encoded data removed]",
      "text/plain": [
       "<Figure size 432x288 with 1 Axes>"
      ]
     },
     "metadata": {
      "needs_background": "light"
     },
     "output_type": "display_data"
    }
   ],
   "source": [
    "plot_history(history)"
   ]
  },
  {
   "cell_type": "markdown",
   "metadata": {},
   "source": [
    "<img src=\"images/DOC2VEC Accuracy.png\" alt=\"Drawing\" style=\"width: 600px;\" />"
   ]
  },
  {
   "cell_type": "markdown",
   "metadata": {},
   "source": [
    "# Word Embedding"
   ]
  },
  {
   "cell_type": "markdown",
   "metadata": {},
   "source": [
    "## ```make_sequence``` \n",
    "```make_sequence``` converts a list of texts into a matrix of tokens using ```Tokenizer```.\n",
    "```Tokenizer``` turns text (a sentence, a paragraph, etc.) into sequences of tokens: word $\\rightarrow$ token.\n",
    "word_index is the dictionary used to transform the words into the tokens: \n",
    "```\n",
    "{'UNK': 1,\n",
    "'might', 77,\n",
    "'play', 317,\n",
    "'baseball', 616,\n",
    "'lets', 2429,\n",
    "'rain', 3057,\n",
    "'tomorrow', 3102\n",
    " ...\n",
    "```\n",
    "Sequences have to be the same size to be fed into a NN, hence padding with 0's to max_sequence_length.\n",
    "E.g. 2 input sentences *'Lets play baseball tomorrow'* and *'It might rain tomorrow'* and max_sequence_length = 5. The output of ```make_sequence``` will be a matrix (*'it'* is a stopword):\n",
    "\n",
    "$\n",
    "\\begin{array}{cc}\n",
    "\\textit {lets play baseball tomorrow} \\\\\n",
    "\\textit {might rain tomorrow}\\\\\n",
    "\\end{array}\n",
    "\\begin{bmatrix}\n",
    "2429 & 317& 616& 3102& 0 \\\\\n",
    "77 & 3057& 3102& 0& 0\\\\\n",
    "\\end{bmatrix}\n",
    "$\n",
    "\n",
    "\n",
    "## Keras ```Embedding``` Layer\n",
    "```Embedding``` turns each token, and by extension each word, into a vector, the size of the vector is EMBEDDING_DIM.\n",
    "\n",
    "E.g. EMBEDDING_DIM = 3,  max_sequence_length = 5. Sentences *'Lets play baseball tomorrow'* will converted into something like this matrix \n",
    "$\n",
    "\\begin{matrix}\n",
    "lets \\\\\n",
    "play\\\\\n",
    "baseball\\\\\n",
    "tomorrow\\\\ \n",
    "\\\\\n",
    "\\end{matrix}\n",
    "\\begin{pmatrix}\n",
    "2429 \\\\\n",
    "317\\\\\n",
    "616\\\\\n",
    "3102\\\\ \n",
    "0\\\\\n",
    "\\end{pmatrix}\n",
    "\\begin{bmatrix}\n",
    "0.1 & 0.3& 0.7 \\\\\n",
    "0.2& -0.1& 0.6\\\\\n",
    "0.1& 0.6& -0.2\\\\\n",
    "-0.7& 0.1& 0.8\\\\ \n",
    "0.0& 0.0& 0.0\\\\\n",
    "\\end{bmatrix}\n",
    "$\n",
    "\n",
    "and *'It might rain tomorrow'* will converted into something like this matrix\n",
    "\n",
    "$\n",
    "\\begin{matrix}\n",
    "might \\\\\n",
    "rain\\\\\n",
    "tomorrow\\\\ \n",
    "\\\\\n",
    "\\\\\n",
    "\\end{matrix}\n",
    "\\begin{pmatrix}\n",
    "77 \\\\\n",
    "3057\\\\\n",
    "3102\\\\ \n",
    "0\\\\\n",
    "0\\\\\n",
    "\\end{pmatrix}\n",
    "\\begin{bmatrix}\n",
    "-0.4 & 0.2& 0.9 \\\\\n",
    "0.5& 0.1& -0.2\\\\\n",
    "-0.7& 0.1& 0.8\\\\ \n",
    "0.0& 0.0& 0.0\\\\\n",
    "0.0& 0.0& 0.0\\\\\n",
    "\\end{bmatrix}\n",
    "$\n",
    "\n",
    "## Combination\n",
    "Combination of ```make_sequence``` and ```Embedding``` converts a list of texts into a 3D tensor:\n",
    "<img src=\"images/3dtensor.png\" alt=\"Drawing\" style=\"width: 300px;\" />"
   ]
  },
  {
   "cell_type": "code",
   "execution_count": 76,
   "metadata": {},
   "outputs": [],
   "source": [
    "def make_sequences(input_texts, max_nb_words, max_sequence_length = 0, percentile = 99, verbose = 0, output_tokenizer = False):\n",
    "# input_texts is a list of strings/texts\n",
    "# if max_sequence_length is not given, it is set to the percentile of all the lengths of input_texts\n",
    "# select top vocab_size words based on the word counts\n",
    "# word_index is the dictionary used to transform the words into the tokens. \n",
    "    tokenizer = Tokenizer(oov_token='UNK',num_words=max_nb_words+1)# <= +1 because tokenizer is 1 indexed\n",
    "    tokenizer.fit_on_texts(input_texts)\n",
    "    sequences = tokenizer.texts_to_sequences(input_texts)\n",
    "    ml = [len(s) for s in sequences]\n",
    "    if max_sequence_length == 0:\n",
    "        max_sequence_length = int(np.percentile(ml, percentile))\n",
    "    #padding can be done before 'pre' ore after 'post' the existing text\n",
    "    data = pad_sequences(sequences, maxlen=max_sequence_length, padding='post', truncating='post')\n",
    "#the fix below is found in https://github.com/keras-team/keras/issues/8092\n",
    "#TODO follow on how they fix it\n",
    "    word_index = {e:i for e,i in tokenizer.word_index.items()  if i <= max_nb_words} # <= because tokenizer is 1 indexed\n",
    "#    word_index[tokenizer.oov_token] = max_nb_words + 1\n",
    "    if verbose > 0:\n",
    "        print('Found %s unique tokens.' % len(tokenizer.word_index))\n",
    "        print (len(input_texts))\n",
    "        print (len(sequences))\n",
    "    if verbose > 1:\n",
    "        out = plt.plot(ml, 'b.')\n",
    "    if output_tokenizer:\n",
    "        return (data , word_index, tokenizer)\n",
    "    return (data , word_index)"
   ]
  },
  {
   "cell_type": "code",
   "execution_count": 77,
   "metadata": {},
   "outputs": [
    {
     "name": "stdout",
     "output_type": "stream",
     "text": [
      "(18846, 1100)\n",
      "1100\n"
     ]
    }
   ],
   "source": [
    "VOCAB_SIZE = 5000\n",
    "# word_index is the dictionary used to transform the words into the tokens. \n",
    "#use the default of 99 percentile to define MAX_SEQUENCE_LENGTH\n",
    "sequence_data, word_index = make_sequences(data, VOCAB_SIZE, percentile=99)\n",
    "\n",
    "print (sequence_data.shape)\n",
    "MAX_SEQUENCE_LENGTH = sequence_data.shape[1]\n",
    "print (MAX_SEQUENCE_LENGTH)"
   ]
  },
  {
   "cell_type": "markdown",
   "metadata": {},
   "source": [
    "### sequence_data is a matrix with the dimensions Number of Posts x MAX_SEQUENCE_LENGTH = 18846 x 11000 "
   ]
  },
  {
   "cell_type": "markdown",
   "metadata": {},
   "source": [
    "#### Find the tokens for the words used in the explanation above"
   ]
  },
  {
   "cell_type": "code",
   "execution_count": 78,
   "metadata": {},
   "outputs": [
    {
     "data": {
      "text/plain": [
       "[['might', 77],\n",
       " ['play', 317],\n",
       " ['baseball', 616],\n",
       " ['lets', 2429],\n",
       " ['rain', 3057],\n",
       " ['tomorrow', 3102]]"
      ]
     },
     "execution_count": 78,
     "metadata": {},
     "output_type": "execute_result"
    }
   ],
   "source": [
    "words = ['lets','play', 'baseball',  'tomorrow','it','rain','might']\n",
    "[[i,e] for i,e in word_index.items() if i in words]"
   ]
  },
  {
   "cell_type": "markdown",
   "metadata": {},
   "source": [
    "## Dense Neural Network (DNN) with Word Embedding"
   ]
  },
  {
   "cell_type": "code",
   "execution_count": 91,
   "metadata": {},
   "outputs": [],
   "source": [
    "# split the tfidf data into training/validation = 4/1 \n",
    "train_size = 0.8\n",
    "x_train, x_test, y_train, y_test = \\\n",
    "                        train_test_split(sequence_data, cat_data_labels, train_size = train_size)"
   ]
  },
  {
   "cell_type": "code",
   "execution_count": 92,
   "metadata": {},
   "outputs": [],
   "source": [
    "EMBEDDING_DIM = 64\n",
    "layer_size = 25\n",
    "dropout = 0.1\n",
    "sequence_input = Input(shape=(MAX_SEQUENCE_LENGTH,), dtype='int32', name='dnn_input')\n",
    "embedding_layer = Embedding(len(word_index) + 1, EMBEDDING_DIM, input_length=MAX_SEQUENCE_LENGTH, name = 'embedding_dnn')\n",
    "embedded_sequences = embedding_layer(sequence_input)\n",
    "x = Flatten(name='flatten_dnn')(embedded_sequences)\n",
    "x = Dense(layer_size, activation='relu', name ='hidden_dense_dnn')(x)\n",
    "x = Dropout(dropout, name='dropout')(x)\n",
    "preds = Dense(num_labels, activation='softmax', name = 'output_dnn')(x)\n",
    "\n",
    "model = Model(sequence_input, preds)\n",
    "model.compile(loss='categorical_crossentropy',optimizer='adam',metrics=['accuracy'])"
   ]
  },
  {
   "cell_type": "code",
   "execution_count": 93,
   "metadata": {},
   "outputs": [
    {
     "name": "stdout",
     "output_type": "stream",
     "text": [
      "_________________________________________________________________\n",
      "Layer (type)                 Output Shape              Param #   \n",
      "=================================================================\n",
      "dnn_input (InputLayer)       (None, 1100)              0         \n",
      "_________________________________________________________________\n",
      "embedding_dnn (Embedding)    (None, 1100, 64)          320064    \n",
      "_________________________________________________________________\n",
      "flatten_dnn (Flatten)        (None, 70400)             0         \n",
      "_________________________________________________________________\n",
      "hidden_dense_dnn (Dense)     (None, 25)                1760025   \n",
      "_________________________________________________________________\n",
      "dropout (Dropout)            (None, 25)                0         \n",
      "_________________________________________________________________\n",
      "output_dnn (Dense)           (None, 20)                520       \n",
      "=================================================================\n",
      "Total params: 2,080,609\n",
      "Trainable params: 2,080,609\n",
      "Non-trainable params: 0\n",
      "_________________________________________________________________\n"
     ]
    }
   ],
   "source": [
    "model.summary()"
   ]
  },
  {
   "cell_type": "markdown",
   "metadata": {},
   "source": [
    "## Explanation of Output Shape and Number of Parameters \n",
    "\n",
    "```\n",
    "Layer (type)                 Output Shape              Param #   \n",
    "=================================================================\n",
    "dnn_input (InputLayer)         (None, 1100)              0      \n",
    "```\n",
    "#### Output Shape\n",
    "- None: batch_size will be determined run-time\n",
    "- 1100: Sequence Length\n",
    "\n",
    "```\n",
    "_________________________________________________________________\n",
    "embedding_dnn (Embedding)      (None, 1100, 64)          320064      \n",
    "```\n",
    "#### Output Shape\n",
    "- None: batch_size will be determined run-time\n",
    "- 1100: Sequence Length\n",
    "- 64: Word Embedding Dimensions\n",
    "\n",
    "#### Number of Parameters \n",
    "\n",
    "- (Vocabulary Size + 1)  x Word Embedding Dimensions =  $5001 \\times 64 = 320,064$  \n",
    "    - 1 is added for the 0's of the padding\n",
    "\n",
    "```\n",
    "_________________________________________________________________\n",
    "flatten_dnn (Flatten)          (None, 70400)             0\n",
    "```\n",
    "#### Output Shape\n",
    "- None: batch_size will be determined run-time\n",
    "- 70400: Sequence Length x Word Embedding Dimensions = $1100 \\times 64 = 70,400$\n",
    "\n",
    "```\n",
    "_________________________________________________________________\n",
    "hidden_dense_dnn (Dense)              (None, 25)                1760025   \n",
    "```\n",
    "#### Output Shape\n",
    "- None: batch_size will be determined run-time\n",
    "- 25: Hidden Layer Size\n",
    "\n",
    "#### Number of Parameters\n",
    "- (Flattened Layer Size + 1) x Hidden Layer Size = $70401 \\times 25 = 1,760,025$ \n",
    "- 1 is added for the bias term\n",
    "\n",
    "```\n",
    "_________________________________________________________________\n",
    "dropout (Dropout)          (None, 25)                0         \n",
    "_________________________________________________________________\n",
    "output_dnn (Dense)              (None, 20)                520   \n",
    "```\n",
    "#### Output Shape\n",
    "- None: batch_size will be determined run-time\n",
    "- 20: Output Layer Size\n",
    "\n",
    "#### Number of Parameters\n",
    "- (Hidden Layer Size + 1) x  Output Layer Size = $26 \\times 20 = 520$\n",
    "    - 1 is added for the bias term\n"
   ]
  },
  {
   "cell_type": "code",
   "execution_count": 94,
   "metadata": {},
   "outputs": [
    {
     "name": "stdout",
     "output_type": "stream",
     "text": [
      "Train on 15076 samples, validate on 3770 samples\n",
      "Epoch 1/30\n",
      "15076/15076 [==============================] - 7s 444us/step - loss: 2.9998 - acc: 0.0550 - val_loss: 2.9688 - val_acc: 0.0740\n",
      "Epoch 2/30\n",
      "15076/15076 [==============================] - 6s 388us/step - loss: 2.7849 - acc: 0.1144 - val_loss: 2.2253 - val_acc: 0.2780\n",
      "Epoch 3/30\n",
      "15076/15076 [==============================] - 6s 389us/step - loss: 1.3981 - acc: 0.5759 - val_loss: 0.8808 - val_acc: 0.7623\n",
      "Epoch 4/30\n",
      "15076/15076 [==============================] - 6s 394us/step - loss: 0.5725 - acc: 0.8471 - val_loss: 0.6529 - val_acc: 0.8175\n",
      "Epoch 5/30\n",
      "15076/15076 [==============================] - 6s 403us/step - loss: 0.3249 - acc: 0.9209 - val_loss: 0.5754 - val_acc: 0.8302\n",
      "Epoch 6/30\n",
      "15076/15076 [==============================] - 6s 389us/step - loss: 0.2028 - acc: 0.9552 - val_loss: 0.5496 - val_acc: 0.8448\n",
      "Epoch 7/30\n",
      "15076/15076 [==============================] - 6s 391us/step - loss: 0.1290 - acc: 0.9745 - val_loss: 0.5485 - val_acc: 0.8427\n",
      "Epoch 8/30\n",
      "15076/15076 [==============================] - 6s 406us/step - loss: 0.0907 - acc: 0.9836 - val_loss: 0.5451 - val_acc: 0.8462\n",
      "Epoch 9/30\n",
      "15076/15076 [==============================] - 6s 399us/step - loss: 0.0641 - acc: 0.9897 - val_loss: 0.5477 - val_acc: 0.8501\n",
      "Epoch 10/30\n",
      "15076/15076 [==============================] - 6s 398us/step - loss: 0.0492 - acc: 0.9916 - val_loss: 0.5538 - val_acc: 0.8499\n",
      "Epoch 11/30\n",
      "15076/15076 [==============================] - 6s 391us/step - loss: 0.0390 - acc: 0.9942 - val_loss: 0.5762 - val_acc: 0.8509\n",
      "Epoch 12/30\n",
      "15076/15076 [==============================] - 6s 394us/step - loss: 0.0325 - acc: 0.9952 - val_loss: 0.5737 - val_acc: 0.8517\n",
      "Epoch 13/30\n",
      "15076/15076 [==============================] - 6s 394us/step - loss: 0.0264 - acc: 0.9957 - val_loss: 0.5878 - val_acc: 0.8493\n"
     ]
    }
   ],
   "source": [
    "earlystop = EarlyStopping(monitor='val_loss', patience=5)\n",
    "history = model.fit(x_train, y_train, validation_data=(x_test, y_test), epochs=30, batch_size=BATCH_SIZE, callbacks=[earlystop])"
   ]
  },
  {
   "cell_type": "code",
   "execution_count": 95,
   "metadata": {},
   "outputs": [
    {
     "name": "stdout",
     "output_type": "stream",
     "text": [
      "Best validation accuracy is  0.851724138025896\n"
     ]
    }
   ],
   "source": [
    "print ('Best validation accuracy is ', max(history.history['val_acc']))"
   ]
  },
  {
   "cell_type": "markdown",
   "metadata": {},
   "source": [
    "### Overfitting occurs if trained too much \n",
    "\n",
    "Note, early stopping criteria kicked in at Epoch 13"
   ]
  },
  {
   "cell_type": "code",
   "execution_count": 96,
   "metadata": {},
   "outputs": [
    {
     "data": {
      "image/png": "[encoded data removed]",
      "text/plain": [
       "<Figure size 432x288 with 1 Axes>"
      ]
     },
     "metadata": {
      "needs_background": "light"
     },
     "output_type": "display_data"
    },
    {
     "data": {
      "image/png": "[encoded data removed]",
      "text/plain": [
       "<Figure size 432x288 with 1 Axes>"
      ]
     },
     "metadata": {
      "needs_background": "light"
     },
     "output_type": "display_data"
    }
   ],
   "source": [
    "plot_history(history)"
   ]
  },
  {
   "cell_type": "markdown",
   "metadata": {},
   "source": [
    "<img src=\"images/WORD2VEC DNN Accuracy.png\" alt=\"Drawing\" style=\"width: 600px;\" />"
   ]
  },
  {
   "cell_type": "markdown",
   "metadata": {},
   "source": [
    "### Increase in the vocabulary size allows for increase in the network size without deterioration of accuracy"
   ]
  },
  {
   "cell_type": "markdown",
   "metadata": {},
   "source": [
    "## ConvNet"
   ]
  },
  {
   "cell_type": "code",
   "execution_count": 97,
   "metadata": {},
   "outputs": [],
   "source": [
    "EMBEDDING_DIM = 64\n",
    "filters = [32,32]\n",
    "kernels = [2,3]\n",
    "pool_sizes = [3,5]\n",
    "\n",
    "sequence_input = Input(shape=(MAX_SEQUENCE_LENGTH,), dtype='int32', name = 'sequence_input')\n",
    "embedding_layer = Embedding(len(word_index) + 1, EMBEDDING_DIM, input_length=MAX_SEQUENCE_LENGTH, name = 'word_embedding')\n",
    "embedded_sequences = embedding_layer(sequence_input)\n",
    "\n",
    "x = Conv1D(filters[0], kernels[0], activation='relu', name = 'conv1d_first')(embedded_sequences)\n",
    "x = MaxPooling1D(pool_sizes[0], name ='max_pooling1d_first')(x)\n",
    "x = Conv1D(filters[1], kernels[1], activation='relu', name = 'conv1d_second')(x)\n",
    "x = MaxPooling1D(pool_sizes[1], name ='max_pooling1d_second')(x)\n",
    "x = GlobalMaxPooling1D(name = 'global_max_pooling1d')(x)\n",
    "preds = Dense(num_labels, activation='softmax', name = 'output_conv1d')(x)\n",
    "model = Model(sequence_input, preds)\n",
    "\n",
    "model.compile(loss='categorical_crossentropy', optimizer='adam',metrics=['acc'])"
   ]
  },
  {
   "cell_type": "code",
   "execution_count": 98,
   "metadata": {},
   "outputs": [
    {
     "name": "stdout",
     "output_type": "stream",
     "text": [
      "_________________________________________________________________\n",
      "Layer (type)                 Output Shape              Param #   \n",
      "=================================================================\n",
      "sequence_input (InputLayer)  (None, 1100)              0         \n",
      "_________________________________________________________________\n",
      "word_embedding (Embedding)   (None, 1100, 64)          320064    \n",
      "_________________________________________________________________\n",
      "conv1d_first (Conv1D)        (None, 1099, 32)          4128      \n",
      "_________________________________________________________________\n",
      "max_pooling1d_first (MaxPool (None, 366, 32)           0         \n",
      "_________________________________________________________________\n",
      "conv1d_second (Conv1D)       (None, 364, 32)           3104      \n",
      "_________________________________________________________________\n",
      "max_pooling1d_second (MaxPoo (None, 72, 32)            0         \n",
      "_________________________________________________________________\n",
      "global_max_pooling1d (Global (None, 32)                0         \n",
      "_________________________________________________________________\n",
      "output_conv1d (Dense)        (None, 20)                660       \n",
      "=================================================================\n",
      "Total params: 327,956\n",
      "Trainable params: 327,956\n",
      "Non-trainable params: 0\n",
      "_________________________________________________________________\n"
     ]
    }
   ],
   "source": [
    "model.summary()"
   ]
  },
  {
   "cell_type": "markdown",
   "metadata": {},
   "source": [
    "## Explanation of Output Shape and Number of Parameters \n",
    "\n",
    "```\n",
    "Layer (type)                 Output Shape              Param #   \n",
    "=================================================================\n",
    "sequence_input (InputLayer)  (None, 1100)              0       \n",
    "```\n",
    "#### Output Shape\n",
    "- None: batch_size will be determined run-time\n",
    "- 1100: Sequence Length\n",
    "\n",
    "```\n",
    "_________________________________________________________________\n",
    "word_embedding (Embedding)   (None, 1100, 64)          320064      \n",
    "```\n",
    "#### Output Shape\n",
    "- None: batch_size will be determined run-time\n",
    "- 1100: Sequence Length\n",
    "- 64: Word Embedding Dimensions\n",
    "\n",
    "#### Number of Parameters \n",
    "\n",
    "- (Vocabulary Size + 1)  x Word Embedding Dimensions =  $5001 \\times 64 = 320,064$  \n",
    "    - 1 is added for the 0's of the padding\n",
    "\n",
    "```\n",
    "_________________________________________________________________\n",
    "conv1d_first (Conv1D)        (None, 1099, 32)          4128          \n",
    "```\n",
    "#### Output Shape\n",
    "- None: batch_size will be determined run-time\n",
    "- 1099: Sequence Length - 1. The 1 is lost due to convolution with a Filter Size = 2\n",
    "- 32: Number of Filters\n",
    "#### Number of Parameters \n",
    "\n",
    "- Word Embedding Dimensions  x Number of Filters x Filter Size + Number of Filters=  $64 \\times 32 \\times 2 + 32= 4,128$ \n",
    "    - Number of Filters is added for the bias terms\n",
    "<img src=\"images/Convnet Cube.png\" alt=\"Drawing\" style=\"width: 300px;\" />\n",
    "\n",
    "```\n",
    "_________________________________________________________________\n",
    "max_pooling1d_first (MaxPool (None, 366, 32)           0       \n",
    "```\n",
    "#### Output Shape\n",
    "- None: batch_size will be determined run-time\n",
    "- 366: (Sequence Length - 1) / Pool Size = 1099 / 3 = 366 (rounded down to)\n",
    "- 32: Number of Channels in the Previous layer, which is the Number of Filters \n",
    "\n",
    "```\n",
    "_________________________________________________________________\n",
    "conv1d_second (Conv1D)       (None, 364, 32)           3104          \n",
    "```\n",
    "#### Output Shape\n",
    "- None - batch_size will be determined run-time\n",
    "- 364 - 366 - 2. The 2 is lost due to convolution with a Filter Size = 3\n",
    "- 32 - Number of Filters\n",
    "\n",
    "#### Number of Parameters \n",
    "\n",
    "- Number of Channels in the Previous layer  x Number of Filters x Filter Size + Number of Filters=  $32 \\times 32 \\times 3 + 32= 3,104$ \n",
    "    - Number of Filters is added for the bias terms\n",
    "\n",
    "```\n",
    "_________________________________________________________________\n",
    "max_pooling1d_second (MaxPoo (None, 72, 32)            0       \n",
    "```\n",
    "#### Output Shape\n",
    "- None - batch_size will be determined run-time\n",
    "- 72: 364 / Pool Size = 364 / 5 = 72 (rounded down to)\n",
    "- 32: Number of Channels in the Previous layer, which is the Number of Filters \n",
    "\n",
    "```\n",
    "_________________________________________________________________\n",
    "global_max_pooling1d (Global (None, 32)                0 \n",
    "```\n",
    "#### Output Shape\n",
    "- None: batch_size will be determined run-time\n",
    "- 32: Number of Channels in the Previous layer\n",
    "\n",
    "```\n",
    "_________________________________________________________________\n",
    "output_conv1d (Dense)        (None, 20)                660   \n",
    "```\n",
    "#### Output Shape\n",
    "- None: batch_size will be determined run-time\n",
    "- 20: Output Layer Size\n",
    "\n",
    "#### Number of Parameters\n",
    "- (Global Max Pooling Size + 1) x  Output Layer Size = $33 \\times 20 = 660$\n",
    "    - 1 is added for the bias term\n"
   ]
  },
  {
   "cell_type": "code",
   "execution_count": 53,
   "metadata": {},
   "outputs": [
    {
     "name": "stdout",
     "output_type": "stream",
     "text": [
      "Train on 15016 samples, validate on 3830 samples\n",
      "Epoch 1/30\n",
      "15016/15016 [==============================] - 25s 2ms/step - loss: 2.9024 - acc: 0.1422 - val_loss: 2.5699 - val_acc: 0.3008\n",
      "Epoch 2/30\n",
      "15016/15016 [==============================] - 24s 2ms/step - loss: 1.7743 - acc: 0.5314 - val_loss: 1.2166 - val_acc: 0.6666\n",
      "Epoch 3/30\n",
      "15016/15016 [==============================] - 24s 2ms/step - loss: 0.8704 - acc: 0.7662 - val_loss: 0.8624 - val_acc: 0.7535\n",
      "Epoch 4/30\n",
      "15016/15016 [==============================] - 24s 2ms/step - loss: 0.5406 - acc: 0.8552 - val_loss: 0.7415 - val_acc: 0.7843\n",
      "Epoch 5/30\n",
      "15016/15016 [==============================] - 24s 2ms/step - loss: 0.3661 - acc: 0.9060 - val_loss: 0.7176 - val_acc: 0.7914\n",
      "Epoch 6/30\n",
      "15016/15016 [==============================] - 24s 2ms/step - loss: 0.2484 - acc: 0.9432 - val_loss: 0.7060 - val_acc: 0.8000\n",
      "Epoch 7/30\n",
      "15016/15016 [==============================] - 24s 2ms/step - loss: 0.1674 - acc: 0.9669 - val_loss: 0.7199 - val_acc: 0.8060\n",
      "Epoch 8/30\n",
      "15016/15016 [==============================] - 23s 2ms/step - loss: 0.1103 - acc: 0.9824 - val_loss: 0.7421 - val_acc: 0.8037\n",
      "Epoch 9/30\n",
      "15016/15016 [==============================] - 24s 2ms/step - loss: 0.0717 - acc: 0.9921 - val_loss: 0.7674 - val_acc: 0.8057\n",
      "Epoch 10/30\n",
      "15016/15016 [==============================] - 25s 2ms/step - loss: 0.0468 - acc: 0.9960 - val_loss: 0.7855 - val_acc: 0.8078\n",
      "Epoch 11/30\n",
      "15016/15016 [==============================] - 24s 2ms/step - loss: 0.0310 - acc: 0.9981 - val_loss: 0.8099 - val_acc: 0.8086\n",
      "Wall time: 4min 24s\n"
     ]
    }
   ],
   "source": [
    "earlystop = EarlyStopping(monitor='val_loss', patience=5)\n",
    "history = model.fit(x_train, y_train, validation_data=(x_test, y_test), epochs=30, batch_size=BATCH_SIZE, callbacks=[earlystop])"
   ]
  },
  {
   "cell_type": "code",
   "execution_count": 54,
   "metadata": {},
   "outputs": [
    {
     "name": "stdout",
     "output_type": "stream",
     "text": [
      "Best validation accuracy is  0.8086161882696824\n"
     ]
    }
   ],
   "source": [
    "print ('Best validation accuracy is ', max(history.history['val_acc']))"
   ]
  },
  {
   "cell_type": "markdown",
   "metadata": {},
   "source": [
    "### Overfitting occurs if trained too much \n",
    "\n",
    "Note, early stopping criteria kicked in at Epoch 11"
   ]
  },
  {
   "cell_type": "code",
   "execution_count": 55,
   "metadata": {},
   "outputs": [
    {
     "data": {
      "image/png": "[encoded data removed]",
      "text/plain": [
       "<Figure size 432x288 with 1 Axes>"
      ]
     },
     "metadata": {},
     "output_type": "display_data"
    },
    {
     "data": {
      "image/png": "[encoded data removed]",
      "text/plain": [
       "<Figure size 432x288 with 1 Axes>"
      ]
     },
     "metadata": {},
     "output_type": "display_data"
    }
   ],
   "source": [
    "plot_history(history)"
   ]
  },
  {
   "cell_type": "markdown",
   "metadata": {},
   "source": [
    "### Perform grid search for hyperparameter optimization"
   ]
  },
  {
   "cell_type": "code",
   "execution_count": 890,
   "metadata": {},
   "outputs": [],
   "source": [
    "def run_cv(input_size, embedding_dim, data, labels, number_folds, n_layers, filters, kernels, pool_sizes,\n",
    "           n_epochs = 30, patience= 5, verbose =1):\n",
    "    results = []\n",
    "    batch_size = 128\n",
    "    for x_train, y_train, x_test, y_test in create_all_folds(data, labels, number_folds):\n",
    "        model = conv1D_sequence_model_def(input_size, embedding_dim, n_layers, \n",
    "                                             filters, kernels, pool_sizes, verbose = 0)\n",
    "        earlystop = EarlyStopping(monitor='val_loss', patience=patience)\n",
    "        history = model.fit(x_train, y_train, validation_data=(x_test, y_test), epochs=n_epochs, \n",
    "                        batch_size=batch_size, verbose = 0, callbacks=[earlystop])\n",
    "        accuracy = max(history.history['val_acc'])\n",
    "        del x_train, x_test, y_train, y_test\n",
    "        #gc.collect()\n",
    "        if verbose == 1:\n",
    "            print ('Best validation accuracy is ', accuracy)\n",
    "        results.append(accuracy)\n",
    "    mean_acc = np.mean(results)\n",
    "    std_acc = np.std(results)\n",
    "    return (mean_acc, std_acc)"
   ]
  },
  {
   "cell_type": "code",
   "execution_count": 891,
   "metadata": {},
   "outputs": [],
   "source": [
    "def conv1D_sequence_model_def(input_size, embedding_dim, n_layers, number_filters, kernels, pool_sizes, verbose = False):\n",
    "    sequence_input = Input(shape=(input_size,), dtype='int32', name = 'sequence_input')\n",
    "    embedding_layer = Embedding(len(word_index) + 1, embedding_dim, input_length=input_size, name = 'word_embedding')\n",
    "    x = embedding_layer(sequence_input)\n",
    "\n",
    "    for i in range(n_layers):\n",
    "        x = Conv1D(filters[i], kernels[i], activation='relu', name = 'conv1d_first')(x)\n",
    "        x = MaxPooling1D(pool_sizes[i], name ='max_pooling1d_first')(x)\n",
    "    x = GlobalMaxPooling1D(name = 'global_max_pooling1d')(x)\n",
    "    preds = Dense(num_labels, activation='softmax', name = 'output_conv1d')(x)\n",
    "    model = Model(sequence_input, preds)\n",
    "    \n",
    "    if verbose: \n",
    "        model.summary()\n",
    "    model.compile(loss='categorical_crossentropy', optimizer='adam',metrics=['acc'])\n",
    "    return model"
   ]
  },
  {
   "cell_type": "code",
   "execution_count": null,
   "metadata": {},
   "outputs": [],
   "source": [
    "%%time\n",
    "results = {'embedding_dim':[], 'mean_acc':[], 'std_acc':[]}\n",
    "filters = [32,32]\n",
    "kernels = [2,3]\n",
    "pool_sizes = [3,5]\n",
    "number_folds = 5\n",
    "n_layers = 2\n",
    "input_size = MAX_SEQUENCE_LENGTH\n",
    "embedding_dim_set = [8,16,32,64,128,256,512,1028]\n",
    "for embedding_dim in embedding_dim_set:\n",
    "    results['embedding_dim'].append(embedding_dim)\n",
    "    m, s = run_cv(input_size, embedding_dim, sequence_data, cat_data_labels, number_folds, \n",
    "                  n_layers, filters, kernels,pool_sizes, patience= 5)\n",
    "    results['mean_acc'].append(m)\n",
    "    results['std_acc'].append(s)"
   ]
  },
  {
   "cell_type": "raw",
   "metadata": {},
   "source": [
    "Wall time: 7h 41min 23s"
   ]
  },
  {
   "cell_type": "code",
   "execution_count": 896,
   "metadata": {},
   "outputs": [
    {
     "data": {
      "text/plain": [
       "{'embedding_dim': [8, 16, 32, 64, 128, 256, 512, 1028],\n",
       " 'mean_acc': [0.8439647740925136,\n",
       "  0.8648821757761999,\n",
       "  0.8738042886660653,\n",
       "  0.881992831758055,\n",
       "  0.8838656279510712,\n",
       "  0.8855289527078389,\n",
       "  0.8820515607166763,\n",
       "  0.884695699262865],\n",
       " 'std_acc': [0.004022124370563573,\n",
       "  0.003092485895523163,\n",
       "  0.006446151036361878,\n",
       "  0.008472682380729327,\n",
       "  0.004316526345908498,\n",
       "  0.008106580349402035,\n",
       "  0.007074357808043372,\n",
       "  0.004118346768984175]}"
      ]
     },
     "execution_count": 896,
     "metadata": {},
     "output_type": "execute_result"
    }
   ],
   "source": [
    "results"
   ]
  },
  {
   "cell_type": "markdown",
   "metadata": {},
   "source": [
    "<img src=\"images/WORD2VEC CONVNET Sequence Accuracy.png\" alt=\"Drawing\" style=\"width: 600px;\" />"
   ]
  },
  {
   "cell_type": "markdown",
   "metadata": {},
   "source": [
    "### Increase in the vocabulary size allows for increase in the network size without deterioration of accuracy"
   ]
  },
  {
   "cell_type": "markdown",
   "metadata": {},
   "source": [
    "## ConvNet in Parallel"
   ]
  },
  {
   "cell_type": "code",
   "execution_count": 305,
   "metadata": {},
   "outputs": [],
   "source": [
    "EMBEDDING_DIM = 64\n",
    "filters = [100,75,50]\n",
    "kernels = [2,3,4]\n",
    "\n",
    "sequence_input = Input(shape=(MAX_SEQUENCE_LENGTH,), dtype='int32', name = 'sequence_input')\n",
    "embedding_layer = Embedding(len(word_index) + 1, EMBEDDING_DIM, input_length=MAX_SEQUENCE_LENGTH, name = 'word_embedding')\n",
    "embedded_sequences = embedding_layer(sequence_input)\n",
    "\n",
    "branch1 = Conv1D(filters[0], kernels[0], name = 'conv1d_branch1')(embedded_sequences)\n",
    "branch1 = GlobalMaxPooling1D(name = 'global_max_pooling1d_branch1')(branch1)\n",
    "\n",
    "branch2 = Conv1D(filters[1], kernels[1], name = 'conv1d_branch2')(embedded_sequences)\n",
    "branch2 = GlobalMaxPooling1D(name = 'global_max_pooling1d_branch2')(branch2)\n",
    "\n",
    "branch3 = Conv1D(filters[2], kernels[2], name = 'conv1d_branch3')(embedded_sequences)\n",
    "branch3 = GlobalMaxPooling1D(name = 'global_max_pooling1d_branch3')(branch3)\n",
    "\n",
    "x = concatenate([branch1, branch2, branch3], name = 'concatenate')\n",
    "x = Activation('relu', name='activation')(x)\n",
    "preds = Dense(num_labels, activation='softmax', name = 'output_conv1d')(x)\n",
    "\n",
    "model = Model(sequence_input, preds)\n",
    "\n",
    "model.compile(loss='categorical_crossentropy', optimizer='adam', metrics=['acc'])"
   ]
  },
  {
   "cell_type": "code",
   "execution_count": 306,
   "metadata": {},
   "outputs": [
    {
     "name": "stdout",
     "output_type": "stream",
     "text": [
      "__________________________________________________________________________________________________\n",
      "Layer (type)                    Output Shape         Param #     Connected to                     \n",
      "==================================================================================================\n",
      "sequence_input (InputLayer)     (None, 1100)         0                                            \n",
      "__________________________________________________________________________________________________\n",
      "word_embedding (Embedding)      (None, 1100, 64)     320064      sequence_input[0][0]             \n",
      "__________________________________________________________________________________________________\n",
      "conv1d_branch1 (Conv1D)         (None, 1099, 100)    12900       word_embedding[0][0]             \n",
      "__________________________________________________________________________________________________\n",
      "conv1d_branch2 (Conv1D)         (None, 1098, 75)     14475       word_embedding[0][0]             \n",
      "__________________________________________________________________________________________________\n",
      "conv1d_branch3 (Conv1D)         (None, 1097, 50)     12850       word_embedding[0][0]             \n",
      "__________________________________________________________________________________________________\n",
      "global_max_pooling1d_branch1 (G (None, 100)          0           conv1d_branch1[0][0]             \n",
      "__________________________________________________________________________________________________\n",
      "global_max_pooling1d_branch2 (G (None, 75)           0           conv1d_branch2[0][0]             \n",
      "__________________________________________________________________________________________________\n",
      "global_max_pooling1d_branch3 (G (None, 50)           0           conv1d_branch3[0][0]             \n",
      "__________________________________________________________________________________________________\n",
      "concatenate (Concatenate)       (None, 225)          0           global_max_pooling1d_branch1[0][0\n",
      "                                                                 global_max_pooling1d_branch2[0][0\n",
      "                                                                 global_max_pooling1d_branch3[0][0\n",
      "__________________________________________________________________________________________________\n",
      "activation (Activation)         (None, 225)          0           concatenate[0][0]                \n",
      "__________________________________________________________________________________________________\n",
      "output_conv1d (Dense)           (None, 20)           4520        activation[0][0]                 \n",
      "==================================================================================================\n",
      "Total params: 364,809\n",
      "Trainable params: 364,809\n",
      "Non-trainable params: 0\n",
      "__________________________________________________________________________________________________\n"
     ]
    }
   ],
   "source": [
    "model.summary()"
   ]
  },
  {
   "cell_type": "markdown",
   "metadata": {},
   "source": [
    "## Explanation of Output Shape and Number of Parameters \n",
    "\n",
    "```\n",
    "Layer (type)                 Output Shape              Param #   \n",
    "=================================================================\n",
    "sequence_input (InputLayer)  (None, 1100)              0       \n",
    "```\n",
    "#### Output Shape\n",
    "- None: batch_size will be determined run-time\n",
    "- 1100: Sequence Length\n",
    "\n",
    "```\n",
    "_________________________________________________________________\n",
    "word_embedding (Embedding)   (None, 1100, 64)          320064      \n",
    "```\n",
    "#### Output Shape\n",
    "- None: batch_size will be determined run-time\n",
    "- 1100: Sequence Length\n",
    "- 64: Word Embedding Dimensions\n",
    "\n",
    "#### Number of Parameters \n",
    "\n",
    "- (Vocabulary Size + 1)  x Word Embedding Dimensions =  $5001 \\times 64 = 320,064$ \n",
    "    - 1 is added for the unknown token, i.e. all the out-of-vocabulary words\n",
    "\n",
    "```\n",
    "_________________________________________________________________\n",
    "conv1d_branch1 (Conv1D)        (None, 1099, 100)          12900          \n",
    "```\n",
    "#### Output Shape\n",
    "- None: batch_size will be determined run-time\n",
    "- 1099: Sequence Length - 1. The 1 is lost due to convolution with a Filter Size = 2\n",
    "- 100: Number of Filters\n",
    "\n",
    "#### Number of Parameters \n",
    "\n",
    "- Word Embedding Dimensions  x Number of Filters x Filter Size + Number of Filters=$64 \\times 100 \\times 2 + 100 = 12,900$ \n",
    "    - Number of Filters is added for the bias terms\n",
    "<img src=\"images/Convnet Cube.png\" alt=\"Drawing\" style=\"width: 300px;\" />\n",
    "\n",
    "```\n",
    "_________________________________________________________________\n",
    "conv1d_branch2 (Conv1D)        (None, 1098, 75)          14475          \n",
    "```\n",
    "#### Output Shape\n",
    "- None: batch_size will be determined run-time\n",
    "- 1098: Sequence Length - 2. The 1 is lost due to convolution with a Filter Size = 3\n",
    "- 75: Number of Filters\n",
    "\n",
    "#### Number of Parameters \n",
    "\n",
    "- Word Embedding Dimensions  x Number of Filters x Filter Size + Number of Filters= $64 \\times 75 \\times 3 + 75 = 14,475$ \n",
    "    - Number of Filters is added for the bias terms\n",
    "\n",
    "```\n",
    "_________________________________________________________________\n",
    "conv1d_branch3 (Conv1D)        (None, 1097, 50)          12850          \n",
    "```\n",
    "#### Output Shape\n",
    "- None: batch_size will be determined run-time\n",
    "- 1097: Sequence Length - 3. The 1 is lost due to convolution with a Filter Size = 4\n",
    "- 50: Number of Filters\n",
    "\n",
    "#### Number of Parameters \n",
    "\n",
    "- Word Embedding Dimensions  x Number of Filters x Filter Size + Number of Filters= $64 \\times 50 \\times 4 + 50 = 12,850$ \n",
    "    - Number of Filters is added for the bias terms\n",
    "    \n",
    "```\n",
    "_________________________________________________________________\n",
    "concatenate (Concatenate)       (None, 225)          0 \n",
    "```\n",
    "#### Output Shape\n",
    "- None: batch_size will be determined run-time\n",
    "- 225: Sum of the Number of Channels in the Concatenated layers $100 + 75 + 50 = 225$\n",
    "\n",
    "\n",
    "```\n",
    "activation (Activation)         (None, 225)          0                          \n",
    "__________________________________________________________________________________________________\n",
    "output_conv1d (Dense)           (None, 20)           4520 \n",
    "```\n",
    "#### Output Shape\n",
    "- None: batch_size will be determined run-time\n",
    "- 20: Output Layer Size\n",
    "\n",
    "#### Number of Parameters\n",
    "- (Concatenated Size + 1) x  Output Layer Size = $226 \\times 20 = 4520$\n",
    "    - 1 is added for the bias term\n"
   ]
  },
  {
   "cell_type": "code",
   "execution_count": 307,
   "metadata": {},
   "outputs": [
    {
     "name": "stdout",
     "output_type": "stream",
     "text": [
      "Train on 15105 samples, validate on 3741 samples\n",
      "Epoch 1/50\n",
      "15105/15105 [==============================] - 144s 10ms/step - loss: 2.7102 - acc: 0.3567 - val_loss: 1.9352 - val_acc: 0.6362\n",
      "Epoch 2/50\n",
      "15105/15105 [==============================] - 146s 10ms/step - loss: 1.2608 - acc: 0.7186 - val_loss: 0.8936 - val_acc: 0.7632\n",
      "Epoch 3/50\n",
      "15105/15105 [==============================] - 141s 9ms/step - loss: 0.6805 - acc: 0.8173 - val_loss: 0.6419 - val_acc: 0.8161\n",
      "Epoch 4/50\n",
      "15105/15105 [==============================] - 141s 9ms/step - loss: 0.4518 - acc: 0.8783 - val_loss: 0.5347 - val_acc: 0.8455\n",
      "Epoch 5/50\n",
      "15105/15105 [==============================] - 145s 10ms/step - loss: 0.3146 - acc: 0.9210 - val_loss: 0.4775 - val_acc: 0.8602\n",
      "Epoch 6/50\n",
      "15105/15105 [==============================] - 151s 10ms/step - loss: 0.2250 - acc: 0.9480 - val_loss: 0.4472 - val_acc: 0.8690\n",
      "Epoch 7/50\n",
      "15105/15105 [==============================] - 144s 10ms/step - loss: 0.1498 - acc: 0.9721 - val_loss: 0.4245 - val_acc: 0.8762\n",
      "Epoch 8/50\n",
      "15105/15105 [==============================] - 142s 9ms/step - loss: 0.1021 - acc: 0.9868 - val_loss: 0.4140 - val_acc: 0.8802\n",
      "Epoch 9/50\n",
      "15105/15105 [==============================] - 140s 9ms/step - loss: 0.0686 - acc: 0.9939 - val_loss: 0.4125 - val_acc: 0.8792\n",
      "Epoch 10/50\n",
      "15105/15105 [==============================] - 140s 9ms/step - loss: 0.0469 - acc: 0.9970 - val_loss: 0.4109 - val_acc: 0.8810\n",
      "Epoch 11/50\n",
      "15105/15105 [==============================] - 143s 9ms/step - loss: 0.0337 - acc: 0.9987 - val_loss: 0.4120 - val_acc: 0.8837\n",
      "Epoch 12/50\n",
      "15105/15105 [==============================] - 143s 9ms/step - loss: 0.0244 - acc: 0.9992 - val_loss: 0.4147 - val_acc: 0.8837\n",
      "Epoch 13/50\n",
      "15105/15105 [==============================] - 140s 9ms/step - loss: 0.0185 - acc: 0.9996 - val_loss: 0.4180 - val_acc: 0.8853\n",
      "Epoch 14/50\n",
      "15105/15105 [==============================] - 141s 9ms/step - loss: 0.0149 - acc: 0.9993 - val_loss: 0.4241 - val_acc: 0.8859\n",
      "Epoch 15/50\n",
      "15105/15105 [==============================] - 142s 9ms/step - loss: 0.0121 - acc: 0.9993 - val_loss: 0.4268 - val_acc: 0.8861\n",
      "Wall time: 35min 46s\n"
     ]
    }
   ],
   "source": [
    "%%time\n",
    "earlystop = EarlyStopping(monitor='val_loss', patience=5)\n",
    "history = model.fit(x_train, y_train, validation_data=(x_test, y_test), epochs=50, batch_size=BATCH_SIZE, callbacks=[earlystop])"
   ]
  },
  {
   "cell_type": "code",
   "execution_count": 308,
   "metadata": {},
   "outputs": [
    {
     "name": "stdout",
     "output_type": "stream",
     "text": [
      "Best validation accuracy is  0.8861267039464202\n"
     ]
    }
   ],
   "source": [
    "print ('Best validation accuracy is ', max(history.history['val_acc']))"
   ]
  },
  {
   "cell_type": "markdown",
   "metadata": {},
   "source": [
    "### Overfitting occurs if trained too much \n",
    "\n",
    "Note, early stopping criteria kicked in at Epoch 15"
   ]
  },
  {
   "cell_type": "code",
   "execution_count": 302,
   "metadata": {},
   "outputs": [
    {
     "data": {
      "image/png": "[encoded data removed]",
      "text/plain": [
       "<Figure size 432x288 with 1 Axes>"
      ]
     },
     "metadata": {},
     "output_type": "display_data"
    },
    {
     "data": {
      "image/png": "[encoded data removed]",
      "text/plain": [
       "<Figure size 432x288 with 1 Axes>"
      ]
     },
     "metadata": {},
     "output_type": "display_data"
    }
   ],
   "source": [
    "plot_history(history)"
   ]
  },
  {
   "cell_type": "code",
   "execution_count": null,
   "metadata": {},
   "outputs": [],
   "source": []
  },
  {
   "cell_type": "markdown",
   "metadata": {},
   "source": [
    "### Perform grid search for hyperparameter optimization"
   ]
  },
  {
   "cell_type": "code",
   "execution_count": 34,
   "metadata": {},
   "outputs": [],
   "source": [
    "def run_cv_parallel(input_size, embedding_dim, data, labels, number_folds, n_branches, filters, kernels, \n",
    "           n_epochs = 30, patience= 5, verbose =1):\n",
    "    results = []\n",
    "    batch_size = 128\n",
    "    for x_train, y_train, x_test, y_test in create_all_folds(data, labels, number_folds):\n",
    "        model = conv1D_parallel_model_def(input_size, embedding_dim, n_branches, \n",
    "                                             filters, kernels,  verbose = 0)\n",
    "        earlystop = EarlyStopping(monitor='val_loss', patience=patience)\n",
    "        history = model.fit(x_train, y_train, validation_data=(x_test, y_test), epochs=n_epochs, \n",
    "                        batch_size=batch_size, verbose = 0, callbacks=[earlystop])\n",
    "        accuracy = max(history.history['val_acc'])\n",
    "        del x_train, x_test, y_train, y_test\n",
    "        #gc.collect()\n",
    "        if verbose == 1:\n",
    "            print ('Best validation accuracy is ', accuracy)\n",
    "        results.append(accuracy)\n",
    "    mean_acc = np.mean(results)\n",
    "    std_acc = np.std(results)\n",
    "    return (mean_acc, std_acc)"
   ]
  },
  {
   "cell_type": "code",
   "execution_count": 39,
   "metadata": {},
   "outputs": [],
   "source": [
    "def conv1D_parallel_model_def(input_size, embedding_dim, n_branches, number_filters, kernels, verbose = False):\n",
    "    sequence_input = Input(shape=(input_size,), dtype='int32', name = 'sequence_input')\n",
    "    embedding_layer = Embedding(len(word_index) + 1, embedding_dim, input_length=input_size, name = 'word_embedding')\n",
    "    embedded_sequences = embedding_layer(sequence_input)\n",
    "\n",
    "    branches = []\n",
    "    for i in range(n_branches):\n",
    "        y = Conv1D(filters[i], kernels[i], activation='relu')(embedded_sequences)\n",
    "        y = GlobalMaxPooling1D()(y)\n",
    "        branches.append(y)\n",
    "    x = concatenate(branches)\n",
    "    x = Activation('relu')(x)\n",
    "    preds = Dense(num_labels, activation='softmax')(x)\n",
    "    model = Model(sequence_input, preds)\n",
    "    \n",
    "    if verbose: \n",
    "        model.summary()\n",
    "    model.compile(loss='categorical_crossentropy', optimizer='adam',metrics=['acc'])\n",
    "    return model"
   ]
  },
  {
   "cell_type": "code",
   "execution_count": null,
   "metadata": {},
   "outputs": [],
   "source": [
    "%%time\n",
    "results = {'embedding_dim':[], 'vocab_size':[],'mean_acc':[], 'std_acc':[]}\n",
    "filters = [100,75,50]\n",
    "kernels = [2,3,4]\n",
    "number_folds = 5\n",
    "n_branches = 3\n",
    "embedding_dim_set = [8,16,32,64,128,256,512,1028]\n",
    "for vocab_size in [5000,15000]:\n",
    "    seq_data, word_index = make_sequences(data, vocab_size, percentile=99)\n",
    "    input_size = seq_data.shape[1]\n",
    "    for embedding_dim in embedding_dim_set:\n",
    "        results['embedding_dim'].append(embedding_dim)\n",
    "        results['vocab_size'].append(vocab_size)\n",
    "        m, s = run_cv_parallel(input_size, embedding_dim, seq_data, cat_data_labels, number_folds, \n",
    "                      n_branches, filters, kernels, patience= 5)\n",
    "        results['mean_acc'].append(m)\n",
    "        results['std_acc'].append(s)"
   ]
  },
  {
   "cell_type": "markdown",
   "metadata": {},
   "source": [
    "It took almost 6 days to run the grid search for vocab_size = 1500:\n",
    "\n",
    "CPU times: user 10d 7h 47min 55s, sys: 16h 40min 37s, total: 11d 28min 33s\n",
    "\n",
    "Wall time: 5d 15h 24min 19s"
   ]
  },
  {
   "cell_type": "markdown",
   "metadata": {},
   "source": [
    "<img src=\"images/WORD2VEC CONVNET Parallel Accuracy.png?modified=12345678\" alt=\"Drawing\" style=\"width: 600px;\" />"
   ]
  },
  {
   "cell_type": "markdown",
   "metadata": {},
   "source": [
    "## Translational Invariance"
   ]
  },
  {
   "cell_type": "code",
   "execution_count": 64,
   "metadata": {},
   "outputs": [],
   "source": [
    "%matplotlib inline\n",
    "import matplotlib.pyplot as plt"
   ]
  },
  {
   "cell_type": "code",
   "execution_count": 74,
   "metadata": {},
   "outputs": [
    {
     "data": {
      "text/plain": [
       "964"
      ]
     },
     "execution_count": 74,
     "metadata": {},
     "output_type": "execute_result"
    }
   ],
   "source": [
    "word_index['cpu']"
   ]
  },
  {
   "cell_type": "markdown",
   "metadata": {},
   "source": [
    "<img src=\"images/Translational Invariance.png\" alt=\"Drawing\" style=\"width: 600px;\" />"
   ]
  },
  {
   "cell_type": "code",
   "execution_count": null,
   "metadata": {},
   "outputs": [],
   "source": [
    "sequence = np.zeros((1,1100))\n",
    "sequence[0][0] = 964\n",
    "#a sequence with the word 'cpu' in the beginning and the rest are 0's\n",
    "predict_0 = model.predict(sequence)[0]\n",
    "sequence = np.zeros((1,1100))\n",
    "sequence[0][1] = 964\n",
    "#a sequence with the word 'cpu' in the second position and the rest are 0's\n",
    "predict_1 = model.predict(sequence)[0]\n",
    "sequence = np.zeros((1,1100))\n",
    "sequence[0][10] = 964\n",
    "#a sequence with the word 'cpu' in the 11's position and the rest are 0's\n",
    "predict_10 = model.predict(sequence)[0]\n",
    "sequence = np.zeros((1,1100))\n",
    "sequence[0][100] = 964\n",
    "#a sequence with the word 'cpu' in the 101's position and the rest are 0's\n",
    "predict_100 = model.predict(sequence)[0]\n",
    "sequence = np.zeros((1,1100))\n",
    "sequence[0][1099] = 964\n",
    "#a sequence with the word 'cpu' in the last position and the rest are 0's\n",
    "predict_last = model.predict(sequence)[0]"
   ]
  },
  {
   "cell_type": "markdown",
   "metadata": {},
   "source": [
    "### predict_0, etc. are predicted probabilities of the 20 topics, given the word sequence, which is really just the word 'cpu' at different positions in the sequence of 0's"
   ]
  },
  {
   "cell_type": "code",
   "execution_count": 259,
   "metadata": {},
   "outputs": [
    {
     "data": {
      "image/png": "[encoded data removed]",
      "text/plain": [
       "<Figure size 1080x720 with 1 Axes>"
      ]
     },
     "metadata": {},
     "output_type": "display_data"
    }
   ],
   "source": [
    "plt.figure(figsize=(15,10))\n",
    "plt.plot(predict_0, label='predict_0')\n",
    "plt.plot(predict_1, label='predict_1', linewidth=7.0)\n",
    "plt.plot(predict_10,  label='predict_10', linewidth=7.0)\n",
    "plt.plot(predict_100, label='predict_100')\n",
    "plt.plot(predict_last, label='predict_last')\n",
    "plt.xticks(np.arange(num_labels))\n",
    "ax = plt.axes()\n",
    "\n",
    "ax.set_xticklabels(np.array(data_label_names), rotation=90)\n",
    "plt.legend()\n",
    "plt.show()"
   ]
  },
  {
   "cell_type": "markdown",
   "metadata": {},
   "source": [
    "#### Try different words to see which topics they predict"
   ]
  },
  {
   "cell_type": "code",
   "execution_count": 210,
   "metadata": {},
   "outputs": [],
   "source": [
    "pitching_index = word_index['pitching']\n",
    "baseball_index = word_index['baseball']\n",
    "christians_index = word_index['christians']\n",
    "cpu_index = word_index['cpu']"
   ]
  },
  {
   "cell_type": "code",
   "execution_count": 232,
   "metadata": {},
   "outputs": [
    {
     "data": {
      "text/plain": [
       "'comp.sys.ibm.pc.hardware'"
      ]
     },
     "execution_count": 232,
     "metadata": {},
     "output_type": "execute_result"
    }
   ],
   "source": [
    "#try to comment some of the lines\n",
    "sequence = np.zeros((1,1100))\n",
    "sequence[0][410] = pitching_index \n",
    "sequence[0][511] = christians_index \n",
    "sentsequenceence[0][512] = cpu_index \n",
    "sequence[0][513] = cpu_index \n",
    "data_label_names[np.argmax(model.predict(sequence))]"
   ]
  },
  {
   "cell_type": "markdown",
   "metadata": {},
   "source": [
    "## The word embeddings have learned some semantic similarity even though the only goal was text classification"
   ]
  },
  {
   "cell_type": "markdown",
   "metadata": {},
   "source": [
    "### Copy the word embeddings into a gensim's Word2Vec model to find similar words efficiently"
   ]
  },
  {
   "cell_type": "code",
   "execution_count": 135,
   "metadata": {},
   "outputs": [],
   "source": [
    "embedding_layer_weights =  model.layers[1].get_weights()[0]"
   ]
  },
  {
   "cell_type": "code",
   "execution_count": 136,
   "metadata": {},
   "outputs": [],
   "source": [
    "all_tokens = [x.split() for x in data]"
   ]
  },
  {
   "cell_type": "code",
   "execution_count": 137,
   "metadata": {},
   "outputs": [],
   "source": [
    "model_w2v = models.Word2Vec(sg = 1, size=64) #sg=1 skip-a-gram\n",
    "model_w2v.build_vocab(all_tokens)"
   ]
  },
  {
   "cell_type": "code",
   "execution_count": 138,
   "metadata": {},
   "outputs": [],
   "source": [
    "#to change the vectors without creating a new model\n",
    "#have to reset the vectors cashed by most_similar\n",
    "model_w2v.wv.vectors_norm = None"
   ]
  },
  {
   "cell_type": "code",
   "execution_count": 139,
   "metadata": {},
   "outputs": [],
   "source": [
    "model_w2v.wv.vectors  = embedding_layer_weights[2:,:] # the first two are 0 padding and UNK"
   ]
  },
  {
   "cell_type": "markdown",
   "metadata": {},
   "source": [
    "### Find similar words"
   ]
  },
  {
   "cell_type": "code",
   "execution_count": 140,
   "metadata": {},
   "outputs": [
    {
     "data": {
      "text/plain": [
       "[('catholic', 0.8506920337677002),\n",
       " ('luke', 0.7527848482131958),\n",
       " ('founded', 0.7421770095825195),\n",
       " ('ye', 0.678794264793396),\n",
       " ('commonly', 0.6145917773246765),\n",
       " ('ups', 0.5935655832290649),\n",
       " ('living', 0.5869908928871155),\n",
       " ('century', 0.5866395235061646),\n",
       " ('koresh', 0.563356876373291),\n",
       " ('bos', 0.5430530309677124)]"
      ]
     },
     "execution_count": 140,
     "metadata": {},
     "output_type": "execute_result"
    }
   ],
   "source": [
    "model_w2v.wv.most_similar(positive=['christians'], topn=10)"
   ]
  },
  {
   "cell_type": "code",
   "execution_count": 141,
   "metadata": {},
   "outputs": [
    {
     "data": {
      "text/plain": [
       "[('config', 0.6700758337974548),\n",
       " ('busy', 0.6633105874061584),\n",
       " ('modem', 0.6468589901924133),\n",
       " ('pcs', 0.6393556594848633),\n",
       " ('linear', 0.6344971060752869),\n",
       " ('programmer', 0.6251541376113892),\n",
       " ('memory', 0.6202409267425537),\n",
       " ('cat', 0.6051343679428101),\n",
       " ('computers', 0.604193925857544),\n",
       " ('installed', 0.598760724067688)]"
      ]
     },
     "execution_count": 141,
     "metadata": {},
     "output_type": "execute_result"
    }
   ],
   "source": [
    "model_w2v.wv.most_similar(positive=['cpu'], topn=10)"
   ]
  },
  {
   "cell_type": "code",
   "execution_count": 142,
   "metadata": {},
   "outputs": [
    {
     "data": {
      "text/plain": [
       "[('defensive', 0.7596086859703064),\n",
       " ('yankees', 0.753547191619873),\n",
       " ('league', 0.7222006320953369),\n",
       " ('pitching', 0.6910199522972107),\n",
       " ('ted', 0.689267098903656),\n",
       " ('agent', 0.6745107769966125),\n",
       " ('asd', 0.6468268632888794),\n",
       " ('batting', 0.6451112031936646),\n",
       " ('hit', 0.6194806098937988),\n",
       " ('career', 0.6016578674316406)]"
      ]
     },
     "execution_count": 142,
     "metadata": {},
     "output_type": "execute_result"
    }
   ],
   "source": [
    "model_w2v.wv.most_similar(positive=['baseball'], topn=10) "
   ]
  }
 ],
 "metadata": {
  "kernelspec": {
   "display_name": "Python 3",
   "language": "python",
   "name": "python3"
  },
  "language_info": {
   "codemirror_mode": {
    "name": "ipython",
    "version": 3
   },
   "file_extension": ".py",
   "mimetype": "text/x-python",
   "name": "python",
   "nbconvert_exporter": "python",
   "pygments_lexer": "ipython3",
   "version": "3.7.3"
  }
 },
 "nbformat": 4,
 "nbformat_minor": 2
}
