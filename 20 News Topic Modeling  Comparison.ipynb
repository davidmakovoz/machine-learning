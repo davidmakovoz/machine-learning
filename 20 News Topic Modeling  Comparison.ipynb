{
 "cells": [
  {
   "cell_type": "markdown",
   "metadata": {},
   "source": [
    "# Topic Modeling\n",
    "The purpose of this notebook is to compare several algorithms used for topic modeling by clustering a set of documents. The following approaches are compared:\n",
    "- Non-negative Matrix Factorization - NMF\n",
    "- Latent Dirichlet Allocation - LDA\n",
    "- KMeans\n",
    "- Doc2vec\n",
    "\n",
    "# Text Representions\n",
    "Machine learning algorithms are primarily designed to process numerical data. Therefore text has to be converted to some type of numerical representation. There are two approaches to convert text to numbers.\n",
    "\n",
    "Historically, the first approach to this problem is the vector space model. In the vector space model the collection of all words define the dimensions of the space with one dimension per word. A document is represented as a vector in that space with several options of how to define the actual coordinates of the document in the space: \n",
    "- binary - 1 if the word is present in the document, 0 if it isn't\n",
    "- tf - the number of occurences of the word in the document, often normalized by the number of words in the document\n",
    "- tfidf - term frequency inverse document frequency\n",
    "\n",
    "A collection of documents is represented as a document-word matrix, a full cartesian product of all document vectors. Another way to think of this is that a collection of documents is a set of points in an n-dimensional space. Consequently, 'regular' clustering algorithms, such as KMeans or DBSCAN, can be applied. \n",
    "Most of the algorithms in this notebook use the vector space model: NMF and KMeans use the tfidf representation and LDA uses the tf represenation.\n",
    "\n",
    "One problem with this approach is that if a resonable vocabulary - a few tens of thousands of words - is used each document is a sparse vector in a very high-dimensional space. \n",
    "It is possible to define the concept of similarity between two documents. However, for individual words such concept cannot be defined. \n",
    "\n",
    "The word embedding approach addresses these problems. Each word is represented as a vector in a space with a number of dimensions much smaller than in the vector space model, anywhere from tens to hundreds of dimensions. The coordinates of the vectors, aka word embedding, are computed as part of a process thath uses words to predict words found in their vicinity. There are two basic approaches: the Continuous Bag-of-Words (COW) model and the Skip-Gram model ([original paper](https://arxiv.org/abs/1301.3781)). The benefit of this approach is that the concept of similarity can be applied to the individual words, i.e. words with similary meaning are 'closer' to each other than words with different meaning in the embedded space. \n",
    "\n",
    "This approach works well for processing text as a sequence of words, or even characters, in such problems as machine translation, sentence tagging, etc. \n",
    "However, it presents a difficulty when there is a need to process a collection of documents. With each word being a vector, a document becomes a matrix - rank2 tensor, and a collection of documents becomes a rank 3 tensor. \n",
    "Another complication is that documents in a collection can be of very different sizes. To deal with this problem smaller documents a padded with 0's. This may not be such a problem for small documents, such as tweets, but comparing longer documents with large length variability creates a problem. There are options: to pad all documents to match the longest one, which results  in unnecessary increase in memory use, or to truncate the longer documents, which leads to the loss of information.\n",
    "\n",
    "Doc2Vec is an extension of word2vec . Doc2vec address both problems, it creates a vector represenation of documents regarless of their sizes, so that a collection of documents is equivalent to a set of points in an n-dimensional space. The details of how this approach works can be found e.g. in [here](https://radimrehurek.com/gensim/models/doc2vec.html) and the references within it. Here we present application of Doc2vec to document clustering. "
   ]
  },
  {
   "cell_type": "code",
   "execution_count": 1,
   "metadata": {},
   "outputs": [],
   "source": [
    "%matplotlib inline\n",
    "import matplotlib.pyplot as plt\n",
    "import pandas as pd\n",
    "import numpy as np\n",
    "import gc"
   ]
  },
  {
   "cell_type": "code",
   "execution_count": 2,
   "metadata": {},
   "outputs": [],
   "source": [
    "import warnings; warnings.simplefilter('ignore')"
   ]
  },
  {
   "cell_type": "code",
   "execution_count": 3,
   "metadata": {},
   "outputs": [],
   "source": [
    "from sklearn.feature_extraction.text import TfidfVectorizer, CountVectorizer\n",
    "from sklearn.decomposition import NMF, LatentDirichletAllocation\n",
    "from sklearn.datasets import fetch_20newsgroups\n",
    "from sklearn.metrics import homogeneity_score, completeness_score, v_measure_score, adjusted_rand_score\n",
    "from sklearn.cluster import KMeans"
   ]
  },
  {
   "cell_type": "code",
   "execution_count": 4,
   "metadata": {},
   "outputs": [],
   "source": [
    "def print_top_words(cluster_centers, feature_names, n_top_words, topic_map):\n",
    "    for topic_idx, topic in enumerate(cluster_centers):\n",
    "        message = \"Topic# \" + topic_map[topic_idx] + \" \"\n",
    "        message += \" \".join([feature_names[i] for i in topic.argsort()[:-n_top_words - 1:-1]])\n",
    "        print(message)\n",
    "    print()"
   ]
  },
  {
   "cell_type": "code",
   "execution_count": 5,
   "metadata": {},
   "outputs": [],
   "source": [
    "def doc2cluster(docs, model):\n",
    "    clusters = []\n",
    "    for doc in docs:\n",
    "        docprob = model.transform(doc)\n",
    "        cluster = docprob.argmax()\n",
    "        clusters.append(cluster)\n",
    "    return clusters"
   ]
  },
  {
   "cell_type": "code",
   "execution_count": 6,
   "metadata": {},
   "outputs": [],
   "source": [
    "from nltk.corpus import stopwords\n",
    "stop_words = set(stopwords.words('english'))\n",
    "\n",
    "from string import punctuation\n",
    "def clean_text(texts, simple = True, min_length = 2):\n",
    "    clean = []\n",
    "    #don't remove apostrophes\n",
    "    ##table = str.maketrans(' ', ' ', punctuation.replace('\\'',' ')) - doesn't replace with ' '\n",
    "    translator = str.maketrans(punctuation.replace('\\'',' '), ' '*len(punctuation))\n",
    "    for text in texts:\n",
    "        # split into tokens by white space\n",
    "        text = text.translate(translator)\n",
    "        tokens = text.split()\n",
    "        if not simple:\n",
    "            # remove not alphabetic tokens\n",
    "            tokens = [word.lower() for word in tokens if word.isalpha()]\n",
    "            # filter out stop words\n",
    "            #stop_words = set(stopwords.words('english'))\n",
    "            tokens = [w for w in tokens if not w in stop_words]\n",
    "            # filter out short tokens\n",
    "            tokens = [word for word in tokens if len(word) >= min_length]\n",
    "        tokens = ' '.join(tokens)\n",
    "        clean.append(tokens)\n",
    "    return clean"
   ]
  },
  {
   "cell_type": "code",
   "execution_count": 7,
   "metadata": {},
   "outputs": [],
   "source": [
    "USE_CLEAN_DATA = 2"
   ]
  },
  {
   "cell_type": "markdown",
   "metadata": {},
   "source": [
    "## Read the data from the Sklearn Dataset"
   ]
  },
  {
   "cell_type": "code",
   "execution_count": 8,
   "metadata": {},
   "outputs": [
    {
     "name": "stdout",
     "output_type": "stream",
     "text": [
      "Wall time: 1.86 s\n"
     ]
    }
   ],
   "source": [
    "%%time\n",
    "# Load the 20 newsgroups dataset and vectorize it. We use a few heuristics\n",
    "# to filter out useless terms early on: the posts are stripped of headers,\n",
    "# footers and quoted replies, and common English words, words occurring in\n",
    "# only one document or in at least 95% of the documents are removed.\n",
    "\n",
    "dataset = fetch_20newsgroups(shuffle=True, random_state=1,\n",
    "                             remove=('headers', 'footers', 'quotes'))\n"
   ]
  },
  {
   "cell_type": "code",
   "execution_count": 9,
   "metadata": {},
   "outputs": [
    {
     "name": "stdout",
     "output_type": "stream",
     "text": [
      "11314\n"
     ]
    }
   ],
   "source": [
    "n_samples = len(dataset.data)\n",
    "print(n_samples)\n",
    "\n",
    "if USE_CLEAN_DATA == 2:\n",
    "    data_samples = clean_text(dataset.data[:n_samples], simple = False)\n",
    "elif USE_CLEAN_DATA == 1:\n",
    "    data_samples = clean_text(dataset.data[:n_samples], simple = True)    \n",
    "else:\n",
    "    data_samples = dataset.data[:n_samples]\n",
    "\n",
    "data_labels = dataset.target[:n_samples]\n",
    "data_label_names = dataset.target_names[:n_samples]\n"
   ]
  },
  {
   "cell_type": "markdown",
   "metadata": {},
   "source": [
    "## Set some parameters"
   ]
  },
  {
   "cell_type": "code",
   "execution_count": 10,
   "metadata": {},
   "outputs": [],
   "source": [
    "n_features = 1000\n",
    "n_components = 20\n",
    "n_top_words = 20"
   ]
  },
  {
   "cell_type": "markdown",
   "metadata": {},
   "source": [
    "## The data is well balanced"
   ]
  },
  {
   "cell_type": "code",
   "execution_count": 11,
   "metadata": {},
   "outputs": [
    {
     "data": {
      "text/plain": [
       "(array([ 0,  1,  2,  3,  4,  5,  6,  7,  8,  9, 10, 11, 12, 13, 14, 15, 16,\n",
       "        17, 18, 19]),\n",
       " array([480, 584, 591, 590, 578, 593, 585, 594, 598, 597, 600, 595, 591,\n",
       "        594, 593, 599, 546, 564, 465, 377], dtype=int64))"
      ]
     },
     "execution_count": 11,
     "metadata": {},
     "output_type": "execute_result"
    }
   ],
   "source": [
    "np.unique(data_labels, return_counts=True)"
   ]
  },
  {
   "cell_type": "code",
   "execution_count": null,
   "metadata": {},
   "outputs": [],
   "source": []
  },
  {
   "cell_type": "markdown",
   "metadata": {},
   "source": [
    "## Create two different representation of the document-term dataset\n",
    "- tf - term frequency, the count of the term in the document\n",
    "- tfidf (term frequency - inverse document frequency weighting. Tf-idf measures the importance of terms in the documents based on how frequently they occur in the corpus of documents. It gives more weight to terms appearing in fewer documents.\n",
    "\n",
    "The 'raw' formula for tfidf is \n",
    "\n",
    "$tfidf_{i,j} = tf_{i,j} \\times idf_i =  tf_{i,j} \\times log(\\frac{N}{df_i})$\n",
    "\n",
    "Here $tf_{i,j}$ is the frequency of term $i$ in document $j$, $idf_i$ is the inverse document frequency, $N$ is the number of documents, and $df_i$ is the number of documents in which term $i$ appears.\n",
    "\n",
    "In practice the raw formula is modified. 1 is added to the defintion of $idf_i$ to avoid the inverse document frequency turning to 0 when the term is present in all documents. \n",
    "\n",
    "In addition TfidfVectorizer provides an option of either $l1$ or $l2$ normalization for $tfidf_{i,j}$\n",
    "\n",
    "tfidf representation is used for  NMF and  Kmeans, LDA uses tf representation"
   ]
  },
  {
   "cell_type": "code",
   "execution_count": 12,
   "metadata": {},
   "outputs": [
    {
     "name": "stdout",
     "output_type": "stream",
     "text": [
      "Wall time: 1.29 s\n"
     ]
    }
   ],
   "source": [
    "%%time\n",
    "\n",
    "# Use tf-idf features for NMF.\n",
    "tfidf_vectorizer = TfidfVectorizer(max_df=0.95, min_df=2,\n",
    "                                   max_features=n_features,\n",
    "                                   stop_words='english')\n",
    "\n",
    "tfidf = tfidf_vectorizer.fit_transform(data_samples)"
   ]
  },
  {
   "cell_type": "code",
   "execution_count": 13,
   "metadata": {},
   "outputs": [
    {
     "name": "stdout",
     "output_type": "stream",
     "text": [
      "Wall time: 1.19 s\n"
     ]
    }
   ],
   "source": [
    "%%time\n",
    "# Use tf (raw term count) features for LDA.\n",
    "tf_vectorizer = CountVectorizer(max_df=0.95, min_df=2,\n",
    "                                max_features=n_features,\n",
    "                                stop_words='english')\n",
    "\n",
    "tf = tf_vectorizer.fit_transform(data_samples)"
   ]
  },
  {
   "cell_type": "code",
   "execution_count": 14,
   "metadata": {},
   "outputs": [
    {
     "data": {
      "text/plain": [
       "TfidfVectorizer(analyzer='word', binary=False, decode_error='strict',\n",
       "        dtype=<class 'numpy.float64'>, encoding='utf-8', input='content',\n",
       "        lowercase=True, max_df=0.95, max_features=1000, min_df=2,\n",
       "        ngram_range=(1, 1), norm='l2', preprocessor=None, smooth_idf=True,\n",
       "        stop_words='english', strip_accents=None, sublinear_tf=False,\n",
       "        token_pattern='(?u)\\\\b\\\\w\\\\w+\\\\b', tokenizer=None, use_idf=True,\n",
       "        vocabulary=None)"
      ]
     },
     "execution_count": 14,
     "metadata": {},
     "output_type": "execute_result"
    }
   ],
   "source": [
    "tfidf_vectorizer"
   ]
  },
  {
   "cell_type": "code",
   "execution_count": 15,
   "metadata": {},
   "outputs": [],
   "source": [
    "def compute_metrics(true_labels, cluster_labels, parameter, verbose = False):\n",
    "    h = homogeneity_score(true_labels, cluster_labels)\n",
    "    c = completeness_score(true_labels, cluster_labels)\n",
    "    v = v_measure_score(true_labels, cluster_labels)\n",
    "    r = adjusted_rand_score(true_labels, cluster_labels)\n",
    "    if verbose == True:\n",
    "        print (parameter, h,c,v,r)\n",
    "    return (parameter, h,c,v,r)"
   ]
  },
  {
   "cell_type": "markdown",
   "metadata": {},
   "source": [
    "The purpose of this exericise is to compare different clustering algorithms. Since we know the correct number of cluster, a number of metrics is available in sklearn to estimate the quality of clustering. \n",
    "- Homogeneity score\n",
    "- Completeness score\n",
    "- V-measure score\n",
    "- Adjusted Rand score\n",
    "\n",
    "These are all external metrics that measure the quality of clustering based on the comparison of the clustering results with the ground truth. This is similar to how supervised classification is evaluated. However, it is more challenging since there is no inherent connection between the groups of points created by clustering and the ground truth classes E.g. with the 20News groups there is a class assigment for each article, it is a number from 0 to 19. The clustering will also assign each article a number from 0 to 19 based on which cluster it is in, but there is only 1 in 20 chance that cluster 0 corresponds to class 0, since those cluster number is assignment is random and has nothing to do with the actuall classes. \n",
    "\n",
    "Homogeneity means that each cluster contains only members of a single class. Completeness means that all members of a given class are assigned to the same cluster. Homogeneity score and completeness score measure how close clustering is to achieving homogeneity and completeness; they both are [0-1] bound, with 1 being perfect. It is easy for a clustering algorithm to maximize one or the other of these two metrics if the number of clusters is not fixed: assigning each data sample to it's own cluster yields the homogeneity score = 1, assigning all data points to 1 cluster yields the completeness score = 1. To balance these opposing tendency the V-measure score is defined as the harmonic mean of the homogeneity score and the completeness score. The situation is similar to precision, recall and F-score for classification.\n",
    "\n",
    "An alternative approach looks at the pair-wise view of all data points. The four measurements true positive $T_P$, false positive $F_P$, true negative $T_N$, and false negative $F_N$ are defined for each pair in a way specific to this problem. If both points belong to the same class and are found in the same cluster $T_P$ is incremented, if both points belong to the same class and are found in differnt clusters $F_N$ is incremented, if the two points belong different classes and are found in the same cluster $F_P$ is incremented, if the two points belong different classes and are found in different clusters $T_N$ is incremented.\n",
    "Note, that for the supervised classification these quantities are defined differently.\n",
    "<br> Rand score is defined as simple accuracy:\n",
    "\n",
    "$Rand = \\frac{T_P + T_N}{T_P + T_N + F_P + F_N}$\n",
    "\n",
    "Rand score is often adjusted or rescaled so that the adjusted score is equal to 0 for a completely random prediction:\n",
    "\n",
    "$Adjusted Rand = \\frac{Rand - E(Rand)}{Max(Rand) - E(Rand}$\n",
    "\n",
    "where $Max(Rand)$ is the maximim possible Rand score, i.e. the score the perfect matching, and $E(Rand)$ is the expectation value of Rand, which is it's value for random predictions.\n",
    "\n",
    "These metrics can be used even when the number of clusters is not equal to the number of classes, however, here we only consider this option for the purpose of comparison different clustering algorithms."
   ]
  },
  {
   "cell_type": "code",
   "execution_count": 16,
   "metadata": {},
   "outputs": [],
   "source": [
    "results = {}"
   ]
  },
  {
   "cell_type": "markdown",
   "metadata": {},
   "source": [
    "# NMF - Frobenius Norm Loss"
   ]
  },
  {
   "cell_type": "markdown",
   "metadata": {},
   "source": [
    " Non-negative matrix factorization is an approximation of a non-negative matrix as a product of two non-negative matrices. It is a way of performing dimensionality reduction, as long as the two resulting matrices have lower ranks than the original matrix. \n",
    " \n",
    "Frobenius norm is defined as the square root of the sum of the absolute squares of its elements. The loss is the Frobenius norm of the difference between the original matrix and the approximation by the product of two lower-rank matricies"
   ]
  },
  {
   "cell_type": "markdown",
   "metadata": {},
   "source": [
    "## Explore l1_ratio"
   ]
  },
  {
   "cell_type": "raw",
   "metadata": {},
   "source": [
    "l1_ratio : double, default: 0.\n",
    " |      The regularization mixing parameter, with 0 <= l1_ratio <= 1.\n",
    " |      For l1_ratio = 0 the penalty is an elementwise L2 penalty\n",
    " |      (aka Frobenius Norm).\n",
    " |      For l1_ratio = 1 it is an elementwise L1 penalty.\n",
    " |      For 0 < l1_ratio < 1, the penalty is a combination of L1 and L2."
   ]
  },
  {
   "cell_type": "code",
   "execution_count": 18,
   "metadata": {},
   "outputs": [
    {
     "name": "stdout",
     "output_type": "stream",
     "text": [
      "0.0 0.23956913940388505 0.2502046860677658 0.24477143611482527 0.1233116518411545\n",
      "0.1 0.24463072141589082 0.2565202628043087 0.25043445557732025 0.12561531501927894\n",
      "0.2 0.22803517220842667 0.24136620389825414 0.23451138694030446 0.12128421751249029\n",
      "0.30000000000000004 0.24314369622017504 0.2612835364770264 0.25188745056767664 0.11062776573193536\n",
      "0.4 0.23970779051837013 0.26235476080140635 0.250520497409596 0.09919049321495506\n",
      "0.5 0.2293977613394348 0.25872839813130427 0.24318186671500064 0.08310295035491214\n",
      "0.6000000000000001 0.22446939892509826 0.25889582833358743 0.2404566472430771 0.07536106816696043\n",
      "0.7000000000000001 0.2195505098502711 0.25959411849087183 0.23789902963588613 0.06891359860014029\n",
      "0.8 0.21468685367799634 0.2616973040289108 0.23587254071764147 0.06144928698552088\n",
      "0.9 0.20774221387564684 0.2656880994981837 0.2331689899484023 0.05323780936994436\n",
      "1.0 0.19662993618610206 0.2753781615107728 0.22943500583620546 0.042832928405111804\n",
      "Wall time: 1min 32s\n"
     ]
    }
   ],
   "source": [
    "%%time\n",
    "frob_results = []\n",
    "for l1_ratio in np.linspace(0.0,1.0, 11):\n",
    "    nmf = NMF(n_components=n_components, random_state=1,\n",
    "          alpha=.1, l1_ratio=l1_ratio).fit(tfidf)\n",
    "    frob_clusters = doc2cluster(tfidf, nmf)\n",
    "    frob_results.append(compute_metrics(data_labels, frob_clusters, l1_ratio,verbose = True))"
   ]
  },
  {
   "cell_type": "code",
   "execution_count": 19,
   "metadata": {},
   "outputs": [],
   "source": [
    "df_frob = pd.DataFrame.from_records(frob_results, columns = ['l1_ratio', 'Homogeneity','Completeness',\n",
    "                                                       'V_Measure', 'Adjusted_Rand_Index'])"
   ]
  },
  {
   "cell_type": "code",
   "execution_count": 20,
   "metadata": {},
   "outputs": [
    {
     "data": {
      "image/png": "[encoded data removed]",
      "text/plain": [
       "<Figure size 720x504 with 1 Axes>"
      ]
     },
     "metadata": {},
     "output_type": "display_data"
    }
   ],
   "source": [
    "plt.figure(figsize=(10,7))\n",
    "plt.plot(df_frob.l1_ratio, df_frob.Homogeneity)\n",
    "plt.plot(df_frob.l1_ratio, df_frob.Completeness)\n",
    "plt.plot(df_frob.l1_ratio, df_frob.V_Measure)\n",
    "plt.plot(df_frob.l1_ratio, df_frob.Adjusted_Rand_Index)\n",
    "plt.xlabel('l1_ratio')\n",
    "plt.legend()\n",
    "plt.show()"
   ]
  },
  {
   "cell_type": "code",
   "execution_count": 95,
   "metadata": {},
   "outputs": [],
   "source": [
    "optimal_l1_ratio = 0.1"
   ]
  },
  {
   "cell_type": "markdown",
   "metadata": {},
   "source": [
    "## Explore alpha"
   ]
  },
  {
   "cell_type": "raw",
   "metadata": {},
   "source": [
    "alpha : double, default: 0.\n",
    " |      Constant that multiplies the regularization terms. Set it to zero to\n",
    " |      have no regularization."
   ]
  },
  {
   "cell_type": "code",
   "execution_count": 96,
   "metadata": {},
   "outputs": [
    {
     "name": "stdout",
     "output_type": "stream",
     "text": [
      "Wall time: 1min 32s\n"
     ]
    }
   ],
   "source": [
    "%%time\n",
    "frob_results = []\n",
    "parameter_name = 'alpha'\n",
    "for alpha in np.linspace(0.02,0.2,10):\n",
    "    parameter = alpha\n",
    "    nmf = NMF(n_components=n_components, random_state=1,\n",
    "          alpha=alpha, l1_ratio=optimal_l1_ratio).fit(tfidf)\n",
    "    frob_clusters = doc2cluster(tfidf, nmf)\n",
    "    frob_results.append(compute_metrics(data_labels, frob_clusters, parameter))"
   ]
  },
  {
   "cell_type": "code",
   "execution_count": 97,
   "metadata": {},
   "outputs": [],
   "source": [
    "df_frob = pd.DataFrame.from_records(frob_results, columns = [parameter_name, 'Homogeneity','Completeness',\n",
    "                                                       'V_Measure', 'Adjusted_Rand_Index'])"
   ]
  },
  {
   "cell_type": "code",
   "execution_count": 98,
   "metadata": {},
   "outputs": [
    {
     "data": {
      "image/png": "[encoded data removed]",
      "text/plain": [
       "<Figure size 720x504 with 1 Axes>"
      ]
     },
     "metadata": {},
     "output_type": "display_data"
    }
   ],
   "source": [
    "plt.figure(figsize=(10,7))\n",
    "plt.plot(df_frob[parameter_name], df_frob.Homogeneity)\n",
    "plt.plot(df_frob[parameter_name], df_frob.Completeness)\n",
    "plt.plot(df_frob[parameter_name], df_frob.V_Measure)\n",
    "plt.plot(df_frob[parameter_name], df_frob.Adjusted_Rand_Index)\n",
    "plt.xlabel(parameter_name)\n",
    "plt.legend()\n",
    "plt.show()"
   ]
  },
  {
   "cell_type": "code",
   "execution_count": 99,
   "metadata": {},
   "outputs": [],
   "source": [
    "optimal_alpha = 0.05"
   ]
  },
  {
   "cell_type": "code",
   "execution_count": 100,
   "metadata": {},
   "outputs": [
    {
     "name": "stdout",
     "output_type": "stream",
     "text": [
      "Wall time: 9.75 s\n"
     ]
    }
   ],
   "source": [
    "%%time\n",
    "nmf = NMF(n_components=n_components, random_state=1,  alpha=optimal_alpha, l1_ratio=optimal_l1_ratio).fit(tfidf)\n",
    "frob_clusters = doc2cluster(tfidf, nmf)"
   ]
  },
  {
   "cell_type": "markdown",
   "metadata": {},
   "source": [
    "## Map Clusters to News Group\n",
    "Each cluster is mapped to the News Groups with which it has the greatest overlap. \n",
    "<br>Mapping is only suggestive.\n",
    "<br>Not all News Groups get selected."
   ]
  },
  {
   "cell_type": "code",
   "execution_count": 101,
   "metadata": {},
   "outputs": [],
   "source": [
    "newsgroup_map = {}\n",
    "for i in range(n_components):\n",
    "    out = np.unique(np.array(data_labels)[np.array(frob_clusters ) == i], return_counts=True)\n",
    "    index = np.argmax(out[1])\n",
    "    newsgroup_map[i] = data_label_names[out[0][index]]"
   ]
  },
  {
   "cell_type": "code",
   "execution_count": 102,
   "metadata": {},
   "outputs": [
    {
     "data": {
      "text/plain": [
       "{0: 'rec.motorcycles',\n",
       " 1: 'comp.windows.x',\n",
       " 2: 'rec.sport.hockey',\n",
       " 3: 'soc.religion.christian',\n",
       " 4: 'comp.graphics',\n",
       " 5: 'comp.sys.ibm.pc.hardware',\n",
       " 6: 'sci.med',\n",
       " 7: 'sci.crypt',\n",
       " 8: 'rec.autos',\n",
       " 9: 'sci.med',\n",
       " 10: 'comp.sys.ibm.pc.hardware',\n",
       " 11: 'rec.motorcycles',\n",
       " 12: 'alt.atheism',\n",
       " 13: 'comp.os.ms-windows.misc',\n",
       " 14: 'misc.forsale',\n",
       " 15: 'comp.sys.mac.hardware',\n",
       " 16: 'talk.politics.guns',\n",
       " 17: 'sci.electronics',\n",
       " 18: 'sci.space',\n",
       " 19: 'talk.politics.mideast'}"
      ]
     },
     "execution_count": 102,
     "metadata": {},
     "output_type": "execute_result"
    }
   ],
   "source": [
    "newsgroup_map"
   ]
  },
  {
   "cell_type": "code",
   "execution_count": 103,
   "metadata": {},
   "outputs": [
    {
     "data": {
      "text/plain": [
       "(array([ 0,  1,  2,  3,  4,  5,  6,  7,  8,  9, 10, 11, 12, 13, 14, 15, 16,\n",
       "        17, 18, 19]),\n",
       " array([ 93,  64,  48,  46,  59,  18,  24, 118, 234, 137,  77,  49, 128,\n",
       "        160,  89,  58,  74,  81,  76,  77], dtype=int64))"
      ]
     },
     "execution_count": 103,
     "metadata": {},
     "output_type": "execute_result"
    }
   ],
   "source": [
    "np.unique(np.array(data_labels)[np.array(frob_clusters ) == 0], return_counts=True)"
   ]
  },
  {
   "cell_type": "code",
   "execution_count": 104,
   "metadata": {},
   "outputs": [],
   "source": [
    "homogeneity = homogeneity_score(data_labels, frob_clusters)\n",
    "completeness = completeness_score(data_labels, frob_clusters)\n",
    "v_measure = v_measure_score(data_labels, frob_clusters)\n",
    "adjusted_rand = adjusted_rand_score(data_labels, frob_clusters)"
   ]
  },
  {
   "cell_type": "code",
   "execution_count": 105,
   "metadata": {},
   "outputs": [
    {
     "name": "stdout",
     "output_type": "stream",
     "text": [
      "0.24432925917787332\n",
      "0.2550342390639494\n",
      "0.24956700645873767\n",
      "0.12880346798744277\n"
     ]
    }
   ],
   "source": [
    "print(homogeneity)\n",
    "print(completeness)\n",
    "print(v_measure)\n",
    "print(adjusted_rand)"
   ]
  },
  {
   "cell_type": "code",
   "execution_count": 106,
   "metadata": {},
   "outputs": [],
   "source": [
    "results['NMF Frobenius Norm'] = [homogeneity, completeness, v_measure, adjusted_rand ]"
   ]
  },
  {
   "cell_type": "markdown",
   "metadata": {},
   "source": [
    "### Topics in NMF Frobenius Norm model "
   ]
  },
  {
   "cell_type": "code",
   "execution_count": 107,
   "metadata": {},
   "outputs": [
    {
     "name": "stdout",
     "output_type": "stream",
     "text": [
      "Topic# rec.motorcycles good time really got going better bike sure way thing long right years little say make want probably course point\n",
      "Topic# comp.windows.x window display server application manager using motif program code screen widget set running color user sun size way mit right\n",
      "Topic# rec.sport.hockey game team year games season players play hockey win league teams player nhl baseball runs best toronto hit played division\n",
      "Topic# soc.religion.christian god jesus bible believe christ faith christian christians church life say sin truth hell lord man christianity belief true love\n",
      "Topic# comp.graphics thanks mail advance looking hi info help information address email post appreciated anybody send appreciate interested reply wondering need tell\n",
      "Topic# comp.sys.ibm.pc.hardware drive scsi hard drives disk ide floppy controller cd mac internal tape power rom cable mb computer software switch dos\n",
      "Topic# sci.med edu soon university cs email ftp article internet pub david send mail mit apr subject mac directory reply news department\n",
      "Topic# sci.crypt key chip keys clipper encryption escrow government public bit algorithm phone nsa security number chips secure des law data secret\n",
      "Topic# rec.autos car cars engine speed miles driver buy insurance bought road power drivers price looks radio door said gas small went\n",
      "Topic# sci.med know let anybody need want maybe program heard sure help kind appreciated source far wanted getting happen interested things come\n",
      "Topic# comp.sys.ibm.pc.hardware card video monitor cards drivers bus vga driver color memory bit ram pc board mode graphics modem controller speed performance\n",
      "Topic# rec.motorcycles like sounds looks look lot sound things make believe hear thing say problems sure mean guess try really idea looked\n",
      "Topic# alt.atheism think lot wrong say try really makes pretty bit things way better agree science quite moral original oh remember come\n",
      "Topic# comp.os.ms-windows.misc windows file files dos program version ms ftp running directory run pc os drivers using software win disk driver graphics\n",
      "Topic# misc.forsale new sale price offer condition shipping asking interested used sell excellent old york best email miles original includes box model\n",
      "Topic# comp.sys.mac.hardware problem problems using work try fine apple screen error help works solution tried machine computer cause running mouse line worked\n",
      "Topic# talk.politics.guns com list dave article email internet address phone hp sun ibm mail said reply jim away mailing fax contact mark\n",
      "Topic# sci.electronics use used using work want software available need way mac image help data machine port uses different set device pc\n",
      "Topic# sci.space space nasa shuttle launch data orbit program station earth moon research science gov sci available satellite information center cost april\n",
      "Topic# talk.politics.mideast people government israel said state right law gun jews rights israeli armenian armenians war killed guns fact world country turkish\n",
      "\n"
     ]
    }
   ],
   "source": [
    "tfidf_feature_names = tfidf_vectorizer.get_feature_names()\n",
    "print_top_words(nmf.components_, tfidf_feature_names, n_top_words, newsgroup_map)"
   ]
  },
  {
   "cell_type": "markdown",
   "metadata": {},
   "source": [
    "# NMF - Kullback-Leibler Loss"
   ]
  },
  {
   "cell_type": "markdown",
   "metadata": {},
   "source": [
    "Kullback-Leibler, also known as relative entropy, is used when observed data is replaced with an approximation. Kullback-Leibler divergence loss is a measure how much information is lost when the approximation is used"
   ]
  },
  {
   "cell_type": "code",
   "execution_count": 34,
   "metadata": {},
   "outputs": [
    {
     "name": "stdout",
     "output_type": "stream",
     "text": [
      "Wall time: 3min 23s\n"
     ]
    }
   ],
   "source": [
    "%%time\n",
    "nmf_kl = NMF(n_components=n_components, random_state=1, beta_loss='kullback-leibler', solver='mu', max_iter=1000, ).fit(tfidf)\n",
    "kl_clusters = doc2cluster(tfidf, nmf_kl)"
   ]
  },
  {
   "cell_type": "code",
   "execution_count": 35,
   "metadata": {},
   "outputs": [],
   "source": [
    "homogeneity = homogeneity_score(data_labels, kl_clusters)\n",
    "completeness = completeness_score(data_labels, kl_clusters)\n",
    "v_measure = v_measure_score(data_labels, kl_clusters)\n",
    "adjusted_rand = adjusted_rand_score(data_labels, kl_clusters)"
   ]
  },
  {
   "cell_type": "code",
   "execution_count": 36,
   "metadata": {},
   "outputs": [
    {
     "name": "stdout",
     "output_type": "stream",
     "text": [
      "0.1975050935912603\n",
      "0.20070248805948673\n",
      "0.19909095413936284\n",
      "0.10912081843093292\n"
     ]
    }
   ],
   "source": [
    "print(homogeneity)\n",
    "print(completeness)\n",
    "print(v_measure)\n",
    "print(adjusted_rand)"
   ]
  },
  {
   "cell_type": "code",
   "execution_count": 37,
   "metadata": {},
   "outputs": [],
   "source": [
    "results['NMF Kullback-Leibler'] = [homogeneity, completeness, v_measure, adjusted_rand ]"
   ]
  },
  {
   "cell_type": "code",
   "execution_count": 38,
   "metadata": {},
   "outputs": [],
   "source": [
    "newsgroup_map = {}\n",
    "for i in range(n_components):\n",
    "    out = np.unique(np.array(data_labels)[np.array(kl_clusters ) == i], return_counts=True)\n",
    "    index = np.argmax(out[1])\n",
    "    newsgroup_map[i] = data_label_names[out[0][index]]"
   ]
  },
  {
   "cell_type": "code",
   "execution_count": 39,
   "metadata": {},
   "outputs": [
    {
     "data": {
      "text/plain": [
       "{0: 'soc.religion.christian',\n",
       " 1: 'comp.os.ms-windows.misc',\n",
       " 2: 'rec.sport.hockey',\n",
       " 3: 'comp.graphics',\n",
       " 4: 'talk.politics.mideast',\n",
       " 5: 'misc.forsale',\n",
       " 6: 'comp.windows.x',\n",
       " 7: 'sci.crypt',\n",
       " 8: 'rec.autos',\n",
       " 9: 'sci.med',\n",
       " 10: 'comp.sys.ibm.pc.hardware',\n",
       " 11: 'rec.sport.baseball',\n",
       " 12: 'sci.med',\n",
       " 13: 'talk.politics.guns',\n",
       " 14: 'sci.med',\n",
       " 15: 'rec.autos',\n",
       " 16: 'comp.windows.x',\n",
       " 17: 'sci.electronics',\n",
       " 18: 'sci.space',\n",
       " 19: 'comp.windows.x'}"
      ]
     },
     "execution_count": 39,
     "metadata": {},
     "output_type": "execute_result"
    }
   ],
   "source": [
    "newsgroup_map"
   ]
  },
  {
   "cell_type": "markdown",
   "metadata": {},
   "source": [
    "### Topics in NMF Kullback-Leibler model "
   ]
  },
  {
   "cell_type": "code",
   "execution_count": 40,
   "metadata": {},
   "outputs": [
    {
     "name": "stdout",
     "output_type": "stream",
     "text": [
      "Topic# soc.religion.christian say point fact time believe way case make course people really true said life god things matter times mind non\n",
      "Topic# comp.os.ms-windows.misc windows using program software file help need run thanks files running use ftp dos version work pc problem hi tried\n",
      "Topic# rec.sport.hockey year game team got games play season win years players second teams league red great time player hit hockey watch\n",
      "Topic# comp.graphics thanks mail looking know hi advance post send info email help information reply anybody tell god address wondering interested appreciated\n",
      "Topic# talk.politics.mideast state war national government research israel mr states subject years public clinton american washington press israeli organization information weapons political\n",
      "Topic# misc.forsale drive sale price hard offer sell new condition used interested shipping scsi model asking power mac old computer original buy\n",
      "Topic# comp.windows.x edu university following soon john david hope free include cs word pub internet mit works paul st date man mr\n",
      "Topic# sci.crypt number key chip data information phone public encryption clipper message systems keys means use place possible standard chips available used\n",
      "Topic# rec.autos good car used little like want really probably power bike long high turn make test line cars nice engine look\n",
      "Topic# sci.med know sure say really things thing try maybe need thought wrong seen like mean going little think bad way better\n",
      "Topic# comp.sys.ibm.pc.hardware card video monitor support driver cards memory bit need speed buy sound board drivers mode color bus local vga performance\n",
      "Topic# rec.sport.baseball like make look post sounds world looks got trying real current lot write source sound save ideas include newsgroup instead\n",
      "Topic# sci.med think good lot point pretty better true different make original reason question read yes probably quite general best difference thinking\n",
      "Topic# talk.politics.guns people right government come law person agree pay police oh legal rights think tell public nice happen stop gun state\n",
      "Topic# sci.med know new years let long called old time york program book day good ago going interesting money sure interested stuff\n",
      "Topic# rec.autos problem said time question problems think remember try went saw guess mentioned left work answer weeks took going today sun\n",
      "Topic# comp.windows.x com list believe sorry posting read stuff article news deleted posted group net phone dave internet yes faq check contact\n",
      "Topic# sci.electronics use want right way used know work new set wanted place tell size hand left wrong let instead correct ask\n",
      "Topic# sci.space space old heard years large cost year actually high low nasa short maybe remember seen small ago earth station lot\n",
      "Topic# comp.windows.x people time work way thing using try window trying real yes idea things different bit start problems exactly problem simple\n",
      "\n"
     ]
    }
   ],
   "source": [
    "tfidf_feature_names = tfidf_vectorizer.get_feature_names()\n",
    "print_top_words(nmf_kl.components_, tfidf_feature_names, n_top_words, newsgroup_map)"
   ]
  },
  {
   "cell_type": "markdown",
   "metadata": {},
   "source": [
    "# LDA\n",
    "\n",
    "Latent Dirichlet Allocation is a generative statistical model used in NLP for topic discovery. The basic assumptions of LDA are\n",
    "- each topic is a distribution over words\n",
    "- each document is a mixture of corpus-wide topics\n",
    "- each word is drawn from one of these topics\n",
    "- only the words within the documents are observed, while the topics are hidden variables (hence the name latent0"
   ]
  },
  {
   "cell_type": "code",
   "execution_count": 41,
   "metadata": {},
   "outputs": [
    {
     "name": "stdout",
     "output_type": "stream",
     "text": [
      "Help on class LatentDirichletAllocation in module sklearn.decomposition.online_lda:\n",
      "\n",
      "class LatentDirichletAllocation(sklearn.base.BaseEstimator, sklearn.base.TransformerMixin)\n",
      " |  Latent Dirichlet Allocation with online variational Bayes algorithm\n",
      " |  \n",
      " |  .. versionadded:: 0.17\n",
      " |  \n",
      " |  Read more in the :ref:`User Guide <LatentDirichletAllocation>`.\n",
      " |  \n",
      " |  Parameters\n",
      " |  ----------\n",
      " |  n_components : int, optional (default=10)\n",
      " |      Number of topics.\n",
      " |  \n",
      " |  doc_topic_prior : float, optional (default=None)\n",
      " |      Prior of document topic distribution `theta`. If the value is None,\n",
      " |      defaults to `1 / n_components`.\n",
      " |      In [1]_, this is called `alpha`.\n",
      " |  \n",
      " |  topic_word_prior : float, optional (default=None)\n",
      " |      Prior of topic word distribution `beta`. If the value is None, defaults\n",
      " |      to `1 / n_components`.\n",
      " |      In [1]_, this is called `eta`.\n",
      " |  \n",
      " |  learning_method : 'batch' | 'online', default='batch'\n",
      " |      Method used to update `_component`. Only used in `fit` method.\n",
      " |      In general, if the data size is large, the online update will be much\n",
      " |      faster than the batch update.\n",
      " |  \n",
      " |      Valid options::\n",
      " |  \n",
      " |          'batch': Batch variational Bayes method. Use all training data in\n",
      " |              each EM update.\n",
      " |              Old `components_` will be overwritten in each iteration.\n",
      " |          'online': Online variational Bayes method. In each EM update, use\n",
      " |              mini-batch of training data to update the ``components_``\n",
      " |              variable incrementally. The learning rate is controlled by the\n",
      " |              ``learning_decay`` and the ``learning_offset`` parameters.\n",
      " |  \n",
      " |      .. versionchanged:: 0.20\n",
      " |          The default learning method is now ``\"batch\"``.\n",
      " |  \n",
      " |  learning_decay : float, optional (default=0.7)\n",
      " |      It is a parameter that control learning rate in the online learning\n",
      " |      method. The value should be set between (0.5, 1.0] to guarantee\n",
      " |      asymptotic convergence. When the value is 0.0 and batch_size is\n",
      " |      ``n_samples``, the update method is same as batch learning. In the\n",
      " |      literature, this is called kappa.\n",
      " |  \n",
      " |  learning_offset : float, optional (default=10.)\n",
      " |      A (positive) parameter that downweights early iterations in online\n",
      " |      learning.  It should be greater than 1.0. In the literature, this is\n",
      " |      called tau_0.\n",
      " |  \n",
      " |  max_iter : integer, optional (default=10)\n",
      " |      The maximum number of iterations.\n",
      " |  \n",
      " |  batch_size : int, optional (default=128)\n",
      " |      Number of documents to use in each EM iteration. Only used in online\n",
      " |      learning.\n",
      " |  \n",
      " |  evaluate_every : int, optional (default=0)\n",
      " |      How often to evaluate perplexity. Only used in `fit` method.\n",
      " |      set it to 0 or negative number to not evalute perplexity in\n",
      " |      training at all. Evaluating perplexity can help you check convergence\n",
      " |      in training process, but it will also increase total training time.\n",
      " |      Evaluating perplexity in every iteration might increase training time\n",
      " |      up to two-fold.\n",
      " |  \n",
      " |  total_samples : int, optional (default=1e6)\n",
      " |      Total number of documents. Only used in the `partial_fit` method.\n",
      " |  \n",
      " |  perp_tol : float, optional (default=1e-1)\n",
      " |      Perplexity tolerance in batch learning. Only used when\n",
      " |      ``evaluate_every`` is greater than 0.\n",
      " |  \n",
      " |  mean_change_tol : float, optional (default=1e-3)\n",
      " |      Stopping tolerance for updating document topic distribution in E-step.\n",
      " |  \n",
      " |  max_doc_update_iter : int (default=100)\n",
      " |      Max number of iterations for updating document topic distribution in\n",
      " |      the E-step.\n",
      " |  \n",
      " |  n_jobs : int or None, optional (default=None)\n",
      " |      The number of jobs to use in the E-step.\n",
      " |      ``None`` means 1 unless in a :obj:`joblib.parallel_backend` context.\n",
      " |      ``-1`` means using all processors. See :term:`Glossary <n_jobs>`\n",
      " |      for more details.\n",
      " |  \n",
      " |  verbose : int, optional (default=0)\n",
      " |      Verbosity level.\n",
      " |  \n",
      " |  random_state : int, RandomState instance or None, optional (default=None)\n",
      " |      If int, random_state is the seed used by the random number generator;\n",
      " |      If RandomState instance, random_state is the random number generator;\n",
      " |      If None, the random number generator is the RandomState instance used\n",
      " |      by `np.random`.\n",
      " |  \n",
      " |  n_topics : int, optional (default=None)\n",
      " |      This parameter has been renamed to n_components and will\n",
      " |      be removed in version 0.21.\n",
      " |      .. deprecated:: 0.19\n",
      " |  \n",
      " |  Attributes\n",
      " |  ----------\n",
      " |  components_ : array, [n_components, n_features]\n",
      " |      Variational parameters for topic word distribution. Since the complete\n",
      " |      conditional for topic word distribution is a Dirichlet,\n",
      " |      ``components_[i, j]`` can be viewed as pseudocount that represents the\n",
      " |      number of times word `j` was assigned to topic `i`.\n",
      " |      It can also be viewed as distribution over the words for each topic\n",
      " |      after normalization:\n",
      " |      ``model.components_ / model.components_.sum(axis=1)[:, np.newaxis]``.\n",
      " |  \n",
      " |  n_batch_iter_ : int\n",
      " |      Number of iterations of the EM step.\n",
      " |  \n",
      " |  n_iter_ : int\n",
      " |      Number of passes over the dataset.\n",
      " |  \n",
      " |  Examples\n",
      " |  --------\n",
      " |  >>> from sklearn.decomposition import LatentDirichletAllocation\n",
      " |  >>> from sklearn.datasets import make_multilabel_classification\n",
      " |  >>> # This produces a feature matrix of token counts, similar to what\n",
      " |  >>> # CountVectorizer would produce on text.\n",
      " |  >>> X, _ = make_multilabel_classification(random_state=0)\n",
      " |  >>> lda = LatentDirichletAllocation(n_components=5,\n",
      " |  ...     random_state=0)\n",
      " |  >>> lda.fit(X) # doctest: +ELLIPSIS\n",
      " |  LatentDirichletAllocation(...)\n",
      " |  >>> # get topics for some given samples:\n",
      " |  >>> lda.transform(X[-2:])\n",
      " |  array([[0.00360392, 0.25499205, 0.0036211 , 0.64236448, 0.09541846],\n",
      " |         [0.15297572, 0.00362644, 0.44412786, 0.39568399, 0.003586  ]])\n",
      " |  \n",
      " |  References\n",
      " |  ----------\n",
      " |  [1] \"Online Learning for Latent Dirichlet Allocation\", Matthew D. Hoffman,\n",
      " |      David M. Blei, Francis Bach, 2010\n",
      " |  \n",
      " |  [2] \"Stochastic Variational Inference\", Matthew D. Hoffman, David M. Blei,\n",
      " |      Chong Wang, John Paisley, 2013\n",
      " |  \n",
      " |  [3] Matthew D. Hoffman's onlineldavb code. Link:\n",
      " |      https://github.com/blei-lab/onlineldavb\n",
      " |  \n",
      " |  Method resolution order:\n",
      " |      LatentDirichletAllocation\n",
      " |      sklearn.base.BaseEstimator\n",
      " |      sklearn.base.TransformerMixin\n",
      " |      builtins.object\n",
      " |  \n",
      " |  Methods defined here:\n",
      " |  \n",
      " |  __init__(self, n_components=10, doc_topic_prior=None, topic_word_prior=None, learning_method='batch', learning_decay=0.7, learning_offset=10.0, max_iter=10, batch_size=128, evaluate_every=-1, total_samples=1000000.0, perp_tol=0.1, mean_change_tol=0.001, max_doc_update_iter=100, n_jobs=None, verbose=0, random_state=None, n_topics=None)\n",
      " |      Initialize self.  See help(type(self)) for accurate signature.\n",
      " |  \n",
      " |  fit(self, X, y=None)\n",
      " |      Learn model for the data X with variational Bayes method.\n",
      " |      \n",
      " |      When `learning_method` is 'online', use mini-batch update.\n",
      " |      Otherwise, use batch update.\n",
      " |      \n",
      " |      Parameters\n",
      " |      ----------\n",
      " |      X : array-like or sparse matrix, shape=(n_samples, n_features)\n",
      " |          Document word matrix.\n",
      " |      \n",
      " |      y : Ignored\n",
      " |      \n",
      " |      Returns\n",
      " |      -------\n",
      " |      self\n",
      " |  \n",
      " |  partial_fit(self, X, y=None)\n",
      " |      Online VB with Mini-Batch update.\n",
      " |      \n",
      " |      Parameters\n",
      " |      ----------\n",
      " |      X : array-like or sparse matrix, shape=(n_samples, n_features)\n",
      " |          Document word matrix.\n",
      " |      \n",
      " |      y : Ignored\n",
      " |      \n",
      " |      Returns\n",
      " |      -------\n",
      " |      self\n",
      " |  \n",
      " |  perplexity(self, X, doc_topic_distr='deprecated', sub_sampling=False)\n",
      " |      Calculate approximate perplexity for data X.\n",
      " |      \n",
      " |      Perplexity is defined as exp(-1. * log-likelihood per word)\n",
      " |      \n",
      " |      .. versionchanged:: 0.19\n",
      " |         *doc_topic_distr* argument has been deprecated and is ignored\n",
      " |         because user no longer has access to unnormalized distribution\n",
      " |      \n",
      " |      Parameters\n",
      " |      ----------\n",
      " |      X : array-like or sparse matrix, [n_samples, n_features]\n",
      " |          Document word matrix.\n",
      " |      \n",
      " |      doc_topic_distr : None or array, shape=(n_samples, n_components)\n",
      " |          Document topic distribution.\n",
      " |          This argument is deprecated and is currently being ignored.\n",
      " |      \n",
      " |          .. deprecated:: 0.19\n",
      " |      \n",
      " |      sub_sampling : bool\n",
      " |          Do sub-sampling or not.\n",
      " |      \n",
      " |      Returns\n",
      " |      -------\n",
      " |      score : float\n",
      " |          Perplexity score.\n",
      " |  \n",
      " |  score(self, X, y=None)\n",
      " |      Calculate approximate log-likelihood as score.\n",
      " |      \n",
      " |      Parameters\n",
      " |      ----------\n",
      " |      X : array-like or sparse matrix, shape=(n_samples, n_features)\n",
      " |          Document word matrix.\n",
      " |      \n",
      " |      y : Ignored\n",
      " |      \n",
      " |      Returns\n",
      " |      -------\n",
      " |      score : float\n",
      " |          Use approximate bound as score.\n",
      " |  \n",
      " |  transform(self, X)\n",
      " |      Transform data X according to the fitted model.\n",
      " |      \n",
      " |         .. versionchanged:: 0.18\n",
      " |            *doc_topic_distr* is now normalized\n",
      " |      \n",
      " |      Parameters\n",
      " |      ----------\n",
      " |      X : array-like or sparse matrix, shape=(n_samples, n_features)\n",
      " |          Document word matrix.\n",
      " |      \n",
      " |      Returns\n",
      " |      -------\n",
      " |      doc_topic_distr : shape=(n_samples, n_components)\n",
      " |          Document topic distribution for X.\n",
      " |  \n",
      " |  ----------------------------------------------------------------------\n",
      " |  Methods inherited from sklearn.base.BaseEstimator:\n",
      " |  \n",
      " |  __getstate__(self)\n",
      " |  \n",
      " |  __repr__(self)\n",
      " |      Return repr(self).\n",
      " |  \n",
      " |  __setstate__(self, state)\n",
      " |  \n",
      " |  get_params(self, deep=True)\n",
      " |      Get parameters for this estimator.\n",
      " |      \n",
      " |      Parameters\n",
      " |      ----------\n",
      " |      deep : boolean, optional\n",
      " |          If True, will return the parameters for this estimator and\n",
      " |          contained subobjects that are estimators.\n",
      " |      \n",
      " |      Returns\n",
      " |      -------\n",
      " |      params : mapping of string to any\n",
      " |          Parameter names mapped to their values.\n",
      " |  \n",
      " |  set_params(self, **params)\n",
      " |      Set the parameters of this estimator.\n",
      " |      \n",
      " |      The method works on simple estimators as well as on nested objects\n",
      " |      (such as pipelines). The latter have parameters of the form\n",
      " |      ``<component>__<parameter>`` so that it's possible to update each\n",
      " |      component of a nested object.\n",
      " |      \n",
      " |      Returns\n",
      " |      -------\n",
      " |      self\n",
      " |  \n",
      " |  ----------------------------------------------------------------------\n",
      " |  Data descriptors inherited from sklearn.base.BaseEstimator:\n",
      " |  \n",
      " |  __dict__\n",
      " |      dictionary for instance variables (if defined)\n",
      " |  \n",
      " |  __weakref__\n",
      " |      list of weak references to the object (if defined)\n",
      " |  \n",
      " |  ----------------------------------------------------------------------\n",
      " |  Methods inherited from sklearn.base.TransformerMixin:\n",
      " |  \n",
      " |  fit_transform(self, X, y=None, **fit_params)\n",
      " |      Fit to data, then transform it.\n",
      " |      \n",
      " |      Fits transformer to X and y with optional parameters fit_params\n",
      " |      and returns a transformed version of X.\n",
      " |      \n",
      " |      Parameters\n",
      " |      ----------\n",
      " |      X : numpy array of shape [n_samples, n_features]\n",
      " |          Training set.\n",
      " |      \n",
      " |      y : numpy array of shape [n_samples]\n",
      " |          Target values.\n",
      " |      \n",
      " |      Returns\n",
      " |      -------\n",
      " |      X_new : numpy array of shape [n_samples, n_features_new]\n",
      " |          Transformed array.\n",
      "\n"
     ]
    }
   ],
   "source": [
    "help(LatentDirichletAllocation)"
   ]
  },
  {
   "cell_type": "markdown",
   "metadata": {},
   "source": [
    "### Online learning method"
   ]
  },
  {
   "cell_type": "code",
   "execution_count": 42,
   "metadata": {},
   "outputs": [
    {
     "name": "stdout",
     "output_type": "stream",
     "text": [
      "Wall time: 56.9 s\n"
     ]
    }
   ],
   "source": [
    "%%time\n",
    "lda = LatentDirichletAllocation(n_components=n_components, max_iter=20,\n",
    "                                learning_method='online', learning_offset=50., random_state=0)\n",
    "lda.fit(tf)"
   ]
  },
  {
   "cell_type": "code",
   "execution_count": 43,
   "metadata": {},
   "outputs": [
    {
     "name": "stdout",
     "output_type": "stream",
     "text": [
      "0.23598883454843383\n",
      "0.2610750293052632\n",
      "0.24789889740840806\n",
      "0.12662640017839202\n",
      "Wall time: 6.35 s\n"
     ]
    }
   ],
   "source": [
    "%%time\n",
    "lda_clusters = doc2cluster(tf, lda)\n",
    "homogeneity = homogeneity_score(data_labels, lda_clusters)\n",
    "completeness = completeness_score(data_labels, lda_clusters)\n",
    "v_measure = v_measure_score(data_labels, lda_clusters)\n",
    "adjusted_rand = adjusted_rand_score(data_labels, lda_clusters)\n",
    "print(homogeneity)\n",
    "print(completeness)\n",
    "print(v_measure)\n",
    "print(adjusted_rand)"
   ]
  },
  {
   "cell_type": "markdown",
   "metadata": {},
   "source": [
    "### Batch learning method"
   ]
  },
  {
   "cell_type": "code",
   "execution_count": 44,
   "metadata": {},
   "outputs": [
    {
     "name": "stdout",
     "output_type": "stream",
     "text": [
      "Wall time: 1min 7s\n"
     ]
    }
   ],
   "source": [
    "%%time\n",
    "lda = LatentDirichletAllocation(n_components=n_components, max_iter=20,\n",
    "                                learning_method='batch', learning_offset=50., random_state=0)\n",
    "lda.fit(tf)"
   ]
  },
  {
   "cell_type": "code",
   "execution_count": 45,
   "metadata": {},
   "outputs": [
    {
     "name": "stdout",
     "output_type": "stream",
     "text": [
      "0.2645943241777596\n",
      "0.28553419969750404\n",
      "0.2746657383492769\n",
      "0.1324080144633329\n"
     ]
    }
   ],
   "source": [
    "lda_clusters = doc2cluster(tf, lda)\n",
    "homogeneity = homogeneity_score(data_labels, lda_clusters)\n",
    "completeness = completeness_score(data_labels, lda_clusters)\n",
    "v_measure = v_measure_score(data_labels, lda_clusters)\n",
    "adjusted_rand = adjusted_rand_score(data_labels, lda_clusters)\n",
    "print(homogeneity)\n",
    "print(completeness)\n",
    "print(v_measure)\n",
    "print(adjusted_rand)"
   ]
  },
  {
   "cell_type": "markdown",
   "metadata": {},
   "source": [
    "## Explore doc_topic_prior"
   ]
  },
  {
   "cell_type": "raw",
   "metadata": {},
   "source": [
    " |  doc_topic_prior : float, optional (default=None)\n",
    " |      Prior of document topic distribution `theta`. If the value is None,\n",
    " |      defaults to `1 / n_components`."
   ]
  },
  {
   "cell_type": "code",
   "execution_count": 46,
   "metadata": {},
   "outputs": [
    {
     "name": "stdout",
     "output_type": "stream",
     "text": [
      "Wall time: 7min 20s\n"
     ]
    }
   ],
   "source": [
    "%%time\n",
    "lda_results = []\n",
    "parameter_name = 'doc_topic_prior '\n",
    "for doc_topic_prior  in [0.001, 0.003, 0.008, 0.01, 0.02, 0.05]:\n",
    "    parameter = doc_topic_prior\n",
    "    lda = LatentDirichletAllocation(n_components=n_components, max_iter=20, doc_topic_prior = doc_topic_prior,\n",
    "                                learning_method='batch', learning_offset=50., random_state=0)\n",
    "    lda.fit(tf)\n",
    "    lda_clusters = doc2cluster(tf, lda)\n",
    "    lda_results.append(compute_metrics(data_labels, lda_clusters, parameter))"
   ]
  },
  {
   "cell_type": "code",
   "execution_count": 47,
   "metadata": {},
   "outputs": [],
   "source": [
    "df_lda = pd.DataFrame.from_records(lda_results, columns = [parameter_name, 'Homogeneity','Completeness',\n",
    "                                                       'V_Measure', 'Adjusted_Rand_Index'])"
   ]
  },
  {
   "cell_type": "code",
   "execution_count": 48,
   "metadata": {},
   "outputs": [
    {
     "data": {
      "image/png": "[encoded data removed]",
      "text/plain": [
       "<Figure size 720x504 with 1 Axes>"
      ]
     },
     "metadata": {},
     "output_type": "display_data"
    }
   ],
   "source": [
    "plt.figure(figsize=(10,7))\n",
    "plt.plot(df_lda[parameter_name], df_lda.Homogeneity)\n",
    "plt.plot(df_lda[parameter_name], df_lda.Completeness)\n",
    "plt.plot(df_lda[parameter_name], df_lda.V_Measure)\n",
    "plt.plot(df_lda[parameter_name], df_lda.Adjusted_Rand_Index)\n",
    "plt.xlabel(parameter_name)\n",
    "plt.legend()\n",
    "plt.show()"
   ]
  },
  {
   "cell_type": "code",
   "execution_count": 108,
   "metadata": {},
   "outputs": [],
   "source": [
    "optimal_doc_topic_prior = 0.01"
   ]
  },
  {
   "cell_type": "markdown",
   "metadata": {},
   "source": [
    "## Explore topic_word_prior"
   ]
  },
  {
   "cell_type": "raw",
   "metadata": {},
   "source": [
    " |  topic_word_prior : float, optional (default=None)\n",
    " |      Prior of topic word distribution `beta`. If the value is None, defaults\n",
    " |      to `1 / n_components`."
   ]
  },
  {
   "cell_type": "code",
   "execution_count": 109,
   "metadata": {},
   "outputs": [
    {
     "name": "stdout",
     "output_type": "stream",
     "text": [
      "Wall time: 7min 11s\n"
     ]
    }
   ],
   "source": [
    "%%time\n",
    "lda_results = []\n",
    "parameter_name = 'topic_word_prior '\n",
    "for topic_word_prior  in [0.001, 0.003, 0.008, 0.01, 0.02, 0.05]:\n",
    "    parameter = topic_word_prior\n",
    "    lda = LatentDirichletAllocation(n_components=n_components, max_iter=20, doc_topic_prior = optimal_doc_topic_prior,\n",
    "                        topic_word_prior = topic_word_prior, learning_method='batch', learning_offset=50., random_state=0)\n",
    "    lda.fit(tf)\n",
    "    lda_clusters = doc2cluster(tf, lda)\n",
    "    lda_results.append(compute_metrics(data_labels, lda_clusters, parameter))"
   ]
  },
  {
   "cell_type": "code",
   "execution_count": 110,
   "metadata": {},
   "outputs": [],
   "source": [
    "df_lda = pd.DataFrame.from_records(lda_results, columns = [parameter_name, 'Homogeneity','Completeness',\n",
    "                                                       'V_Measure', 'Adjusted_Rand_Index'])"
   ]
  },
  {
   "cell_type": "code",
   "execution_count": 111,
   "metadata": {},
   "outputs": [
    {
     "data": {
      "image/png": "[encoded data removed]",
      "text/plain": [
       "<Figure size 720x504 with 1 Axes>"
      ]
     },
     "metadata": {},
     "output_type": "display_data"
    }
   ],
   "source": [
    "plt.figure(figsize=(10,7))\n",
    "plt.plot(df_lda[parameter_name], df_lda.Homogeneity)\n",
    "plt.plot(df_lda[parameter_name], df_lda.Completeness)\n",
    "plt.plot(df_lda[parameter_name], df_lda.V_Measure)\n",
    "plt.plot(df_lda[parameter_name], df_lda.Adjusted_Rand_Index)\n",
    "plt.xlabel(parameter_name)\n",
    "plt.legend()\n",
    "plt.show()"
   ]
  },
  {
   "cell_type": "code",
   "execution_count": 112,
   "metadata": {},
   "outputs": [],
   "source": [
    "optimal_topic_word_prior = 0.01"
   ]
  },
  {
   "cell_type": "markdown",
   "metadata": {},
   "source": [
    "### Run with the optimal parameters"
   ]
  },
  {
   "cell_type": "code",
   "execution_count": 113,
   "metadata": {},
   "outputs": [
    {
     "name": "stdout",
     "output_type": "stream",
     "text": [
      "Wall time: 1min 6s\n"
     ]
    }
   ],
   "source": [
    "%%time\n",
    "lda = LatentDirichletAllocation(n_components=n_components, max_iter=20,doc_topic_prior = optimal_doc_topic_prior,\n",
    "             topic_word_prior = optimal_topic_word_prior,  learning_method='batch', learning_offset=50., random_state=0)\n",
    "lda.fit(tf)"
   ]
  },
  {
   "cell_type": "code",
   "execution_count": 114,
   "metadata": {},
   "outputs": [
    {
     "name": "stdout",
     "output_type": "stream",
     "text": [
      "0.2650585411848684\n",
      "0.28680168606002965\n",
      "0.2755017765855307\n",
      "0.1344352215377985\n"
     ]
    }
   ],
   "source": [
    "lda_clusters = doc2cluster(tf, lda)\n",
    "homogeneity = homogeneity_score(data_labels, lda_clusters)\n",
    "completeness = completeness_score(data_labels, lda_clusters)\n",
    "v_measure = v_measure_score(data_labels, lda_clusters)\n",
    "adjusted_rand = adjusted_rand_score(data_labels, lda_clusters)\n",
    "print(homogeneity)\n",
    "print(completeness)\n",
    "print(v_measure)\n",
    "print(adjusted_rand)"
   ]
  },
  {
   "cell_type": "code",
   "execution_count": 115,
   "metadata": {},
   "outputs": [],
   "source": [
    "results['LDA'] = [homogeneity, completeness, v_measure, adjusted_rand ]"
   ]
  },
  {
   "cell_type": "code",
   "execution_count": 116,
   "metadata": {},
   "outputs": [],
   "source": [
    "newsgroup_map = {}\n",
    "for i in range(n_components):\n",
    "    out = np.unique(np.array(data_labels)[np.array(lda_clusters ) == i], return_counts=True)\n",
    "    index = np.argmax(out[1])\n",
    "    newsgroup_map[i] = data_label_names[out[0][index]]"
   ]
  },
  {
   "cell_type": "code",
   "execution_count": 117,
   "metadata": {},
   "outputs": [
    {
     "data": {
      "text/plain": [
       "{0: 'comp.os.ms-windows.misc',\n",
       " 1: 'sci.space',\n",
       " 2: 'soc.religion.christian',\n",
       " 3: 'comp.sys.ibm.pc.hardware',\n",
       " 4: 'rec.sport.hockey',\n",
       " 5: 'comp.os.ms-windows.misc',\n",
       " 6: 'talk.politics.guns',\n",
       " 7: 'rec.autos',\n",
       " 8: 'rec.sport.baseball',\n",
       " 9: 'comp.windows.x',\n",
       " 10: 'comp.graphics',\n",
       " 11: 'misc.forsale',\n",
       " 12: 'sci.crypt',\n",
       " 13: 'rec.motorcycles',\n",
       " 14: 'comp.windows.x',\n",
       " 15: 'misc.forsale',\n",
       " 16: 'talk.politics.mideast',\n",
       " 17: 'sci.electronics',\n",
       " 18: 'sci.med',\n",
       " 19: 'talk.politics.mideast'}"
      ]
     },
     "execution_count": 117,
     "metadata": {},
     "output_type": "execute_result"
    }
   ],
   "source": [
    "newsgroup_map"
   ]
  },
  {
   "cell_type": "markdown",
   "metadata": {},
   "source": [
    "### Topics in LDA model "
   ]
  },
  {
   "cell_type": "code",
   "execution_count": 118,
   "metadata": {},
   "outputs": [
    {
     "name": "stdout",
     "output_type": "stream",
     "text": [
      "Topic# comp.os.ms-windows.misc max pl cx bhj giz wm ah chz bxn sl gk lk bj mq qq ax hz sc tm mr\n",
      "Topic# sci.space space nasa launch earth data satellite scx orbit shuttle station moon dc surface new commercial program development cost technology gov\n",
      "Topic# soc.religion.christian god jesus people believe bible christian say church life think true faith christians religion christ way truth time world man\n",
      "Topic# comp.sys.ibm.pc.hardware windows card dos scsi pc mac memory use video bit problem software thanks know bus using monitor ram driver drivers\n",
      "Topic# rec.sport.hockey new vs la hockey san period team st pts league gm chicago pittsburgh nhl van city play york los toronto\n",
      "Topic# comp.os.ms-windows.misc file output program entry files section line build check int code ok info win input use rules read title define\n",
      "Topic# talk.politics.guns people gun think right law government make state like case guns rights control person crime point say use laws evidence\n",
      "Topic# rec.autos car new price money buy cars good engine year years pay cost insurance like care old company sell market miles\n",
      "Topic# rec.sport.baseball game year games team play good season got players think time player points better best hit baseball win like years\n",
      "Topic# comp.windows.x window image display color use application screen using widget jpeg set gif data images program windows value format like files\n",
      "Topic# comp.graphics book post thanks read article know books good edu questions news group new posting sci posted information question interested faq\n",
      "Topic# misc.forsale drive db disk hard drives sale floppy offer shipping controller cd tape power disks pin condition rom pp new ide\n",
      "Topic# sci.crypt key encryption chip keys clipper public government use security law des algorithm data technology enforcement secure privacy escrow bit nsa\n",
      "Topic# rec.motorcycles like know think good really want going way things time sure thing right say make need little lot got look\n",
      "Topic# comp.windows.x edu available ftp com pub server version graphics mit software cs sun motif comp based package uk tar information file\n",
      "Topic# misc.forsale mail com internet email address information list send computer phone anonymous access request network service fax posting mailing edu users\n",
      "Topic# talk.politics.mideast said people israel went told time israeli know children jews came killed saw started day say took women like says\n",
      "Topic# sci.electronics use problem time work used using water power ground problems keyboard wire usually current point way test need cause hot\n",
      "Topic# sci.med university research april center national information dr medical health study number science new states state conference washington department page organization\n",
      "Topic# talk.politics.mideast mr president people turkish armenian government states stephanopoulos armenians turkey russian war congress said going greek jobs united turks house\n",
      "\n"
     ]
    }
   ],
   "source": [
    "tf_feature_names = tf_vectorizer.get_feature_names()\n",
    "print_top_words(lda.components_, tf_feature_names, n_top_words, newsgroup_map)"
   ]
  },
  {
   "cell_type": "markdown",
   "metadata": {},
   "source": [
    "# KMeans"
   ]
  },
  {
   "cell_type": "code",
   "execution_count": 60,
   "metadata": {},
   "outputs": [
    {
     "name": "stdout",
     "output_type": "stream",
     "text": [
      "Wall time: 1min 30s\n"
     ]
    }
   ],
   "source": [
    "%%time\n",
    "kmeans = KMeans(n_clusters=n_components, random_state=0).fit(tfidf)"
   ]
  },
  {
   "cell_type": "code",
   "execution_count": 61,
   "metadata": {},
   "outputs": [],
   "source": [
    "homogeneity = homogeneity_score(data_labels, kmeans.labels_)\n",
    "completeness = completeness_score(data_labels, kmeans.labels_)\n",
    "v_measure = v_measure_score(data_labels, kmeans.labels_)\n",
    "adjusted_rand = adjusted_rand_score(data_labels, kmeans.labels_)"
   ]
  },
  {
   "cell_type": "code",
   "execution_count": 62,
   "metadata": {},
   "outputs": [
    {
     "name": "stdout",
     "output_type": "stream",
     "text": [
      "0.2199985070682289\n",
      "0.2604745649520214\n",
      "0.23853164206578453\n",
      "0.05857306816018601\n"
     ]
    }
   ],
   "source": [
    "print(homogeneity)\n",
    "print(completeness)\n",
    "print(v_measure)\n",
    "print(adjusted_rand)"
   ]
  },
  {
   "cell_type": "code",
   "execution_count": 63,
   "metadata": {},
   "outputs": [],
   "source": [
    "results['KMeans'] = [homogeneity, completeness, v_measure, adjusted_rand ]"
   ]
  },
  {
   "cell_type": "code",
   "execution_count": 64,
   "metadata": {},
   "outputs": [],
   "source": [
    "newsgroup_map = {}\n",
    "for i in range(n_components):\n",
    "    out = np.unique(np.array(data_labels)[np.array(kmeans.labels_ ) == i], return_counts=True)\n",
    "    index = np.argmax(out[1])\n",
    "    newsgroup_map[i] = data_label_names[out[0][index]]"
   ]
  },
  {
   "cell_type": "code",
   "execution_count": 65,
   "metadata": {},
   "outputs": [
    {
     "data": {
      "text/plain": [
       "{0: 'talk.politics.guns',\n",
       " 1: 'talk.politics.mideast',\n",
       " 2: 'sci.med',\n",
       " 3: 'sci.med',\n",
       " 4: 'rec.autos',\n",
       " 5: 'comp.windows.x',\n",
       " 6: 'comp.graphics',\n",
       " 7: 'comp.sys.ibm.pc.hardware',\n",
       " 8: 'comp.windows.x',\n",
       " 9: 'comp.sys.ibm.pc.hardware',\n",
       " 10: 'sci.electronics',\n",
       " 11: 'sci.crypt',\n",
       " 12: 'sci.electronics',\n",
       " 13: 'soc.religion.christian',\n",
       " 14: 'comp.os.ms-windows.misc',\n",
       " 15: 'rec.sport.hockey',\n",
       " 16: 'sci.space',\n",
       " 17: 'talk.politics.guns',\n",
       " 18: 'misc.forsale',\n",
       " 19: 'soc.religion.christian'}"
      ]
     },
     "execution_count": 65,
     "metadata": {},
     "output_type": "execute_result"
    }
   ],
   "source": [
    "newsgroup_map"
   ]
  },
  {
   "cell_type": "markdown",
   "metadata": {},
   "source": [
    "### Topics in KMeans model "
   ]
  },
  {
   "cell_type": "code",
   "execution_count": 66,
   "metadata": {},
   "outputs": [
    {
     "name": "stdout",
     "output_type": "stream",
     "text": [
      "Topic# talk.politics.guns com email dave internet phone list hp ibm thanks sun like mail used article jim want reply address know paul\n",
      "Topic# talk.politics.mideast people israel government israeli armenian jews armenians think right said turkish war like state know arab world time rights killed\n",
      "Topic# sci.med think know time really say right evidence said years way believe case make course question long new point people law\n",
      "Topic# sci.med edu soon university cs mail email know pub ftp internet thanks send mit david article like need good reply info\n",
      "Topic# rec.autos car bike cars engine like miles good new speed know think right time used make fast really buy want way\n",
      "Topic# comp.windows.x window manager application use display using windows server like program problem widget code running set motif title user way size\n",
      "Topic# comp.graphics thanks advance mail know hi help looking info information appreciated anybody email need software address post use appreciate send program\n",
      "Topic# comp.sys.ibm.pc.hardware card video cards drivers bus monitor vga driver windows pc color controller know ram thanks bit memory mode board graphics\n",
      "Topic# comp.windows.x problem problems using work know screen think use monitor running apple time help program memory like try run make file\n",
      "Topic# comp.sys.ibm.pc.hardware drive scsi drives hard disk ide floppy controller cd tape internal rom mac thanks computer new use know dos software\n",
      "Topic# sci.electronics good use like know time thing think pretty better want say years really little sure got make used way bad\n",
      "Topic# sci.crypt key encryption chip clipper keys escrow government nsa algorithm secure use public phone des security secret bit privacy chips number\n",
      "Topic# sci.electronics like know sounds think looks use new make look people time got really lot sure things say need way thing\n",
      "Topic# soc.religion.christian hell god like believe lot jesus people death think cars going away time idea life atheists make say body living\n",
      "Topic# comp.os.ms-windows.misc windows file files dos program use ms version using know running directory ftp thanks help os run format pc like\n",
      "Topic# rec.sport.hockey game team year games season players hockey play league win teams nhl think player baseball best runs better good time\n",
      "Topic# sci.space space nasa launch shuttle orbit earth satellite moon station gov sci data program cost center think like available research know\n",
      "Topic# talk.politics.guns gun guns crime firearms police control people weapons defense think self carry law laws like safety time make right say\n",
      "Topic# misc.forsale use new used need want know work got available sale sure number mail using make way information line looking software\n",
      "Topic# soc.religion.christian god jesus bible faith believe christ christian people christians sin say life truth church think know lord christianity true man\n",
      "\n"
     ]
    }
   ],
   "source": [
    "tf_feature_names = tfidf_vectorizer.get_feature_names()\n",
    "print_top_words(kmeans.cluster_centers_, tfidf_feature_names, n_top_words, newsgroup_map)"
   ]
  },
  {
   "cell_type": "markdown",
   "metadata": {},
   "source": [
    "# Doc2Vec"
   ]
  },
  {
   "cell_type": "code",
   "execution_count": 67,
   "metadata": {},
   "outputs": [],
   "source": [
    "from gensim.models.doc2vec import Doc2Vec, TaggedDocument"
   ]
  },
  {
   "cell_type": "code",
   "execution_count": 68,
   "metadata": {},
   "outputs": [],
   "source": [
    "textLabeled = []\n",
    "for textID, text in enumerate(data_samples):\n",
    "    textL = TaggedDocument(words=text.split(), tags = ['text_%s' %textID])\n",
    "    textLabeled.append(textL)\n"
   ]
  },
  {
   "cell_type": "code",
   "execution_count": 69,
   "metadata": {},
   "outputs": [],
   "source": [
    "doc2vec_model = Doc2Vec(vector_size=32, window=10, dbow_words = 1, min_count=2,  alpha=0.025,  min_alpha=0.025)\n",
    "doc2vec_model.build_vocab(textLabeled)"
   ]
  },
  {
   "cell_type": "code",
   "execution_count": 70,
   "metadata": {},
   "outputs": [
    {
     "name": "stdout",
     "output_type": "stream",
     "text": [
      "Help on class Doc2Vec in module gensim.models.doc2vec:\n",
      "\n",
      "class Doc2Vec(gensim.models.base_any2vec.BaseWordEmbeddingsModel)\n",
      " |  Class for training, using and evaluating neural networks described in\n",
      " |  `Distributed Representations of Sentences and Documents <http://arxiv.org/abs/1405.4053v2>`_.\n",
      " |  \n",
      " |  Some important internal attributes are the following:\n",
      " |  \n",
      " |  Attributes\n",
      " |  ----------\n",
      " |  wv : :class:`~gensim.models.keyedvectors.Word2VecKeyedVectors`\n",
      " |      This object essentially contains the mapping between words and embeddings. After training, it can be used\n",
      " |      directly to query those embeddings in various ways. See the module level docstring for examples.\n",
      " |  \n",
      " |  docvecs : :class:`~gensim.models.keyedvectors.Doc2VecKeyedVectors`\n",
      " |      This object contains the paragraph vectors. Remember that the only difference between this model and\n",
      " |      :class:`~gensim.models.word2vec.Word2Vec` is that besides the word vectors we also include paragraph embeddings\n",
      " |      to capture the paragraph.\n",
      " |  \n",
      " |      In this way we can capture the difference between the same word used in a different context.\n",
      " |      For example we now have a different representation of the word \"leaves\" in the following two sentences ::\n",
      " |  \n",
      " |          1. Manos leaves the office every day at 18:00 to catch his train\n",
      " |          2. This season is called Fall, because leaves fall from the trees.\n",
      " |  \n",
      " |      In a plain :class:`~gensim.models.word2vec.Word2Vec` model the word would have exactly the same representation\n",
      " |      in both sentences, in :class:`~gensim.models.doc2vec.Doc2Vec` it will not.\n",
      " |  \n",
      " |  vocabulary : :class:`~gensim.models.doc2vec.Doc2VecVocab`\n",
      " |      This object represents the vocabulary (sometimes called Dictionary in gensim) of the model.\n",
      " |      Besides keeping track of all unique words, this object provides extra functionality, such as\n",
      " |      sorting words by frequency, or discarding extremely rare words.\n",
      " |  \n",
      " |  trainables : :class:`~gensim.models.doc2vec.Doc2VecTrainables`\n",
      " |      This object represents the inner shallow neural network used to train the embeddings. The semantics of the\n",
      " |      network differ slightly in the two available training modes (CBOW or SG) but you can think of it as a NN with\n",
      " |      a single projection and hidden layer which we train on the corpus. The weights are then used as our embeddings\n",
      " |      The only addition to the underlying NN used in :class:`~gensim.models.word2vec.Word2Vec` is that the input\n",
      " |      includes not only the word vectors of each word in the context, but also the paragraph vector.\n",
      " |  \n",
      " |  Method resolution order:\n",
      " |      Doc2Vec\n",
      " |      gensim.models.base_any2vec.BaseWordEmbeddingsModel\n",
      " |      gensim.models.base_any2vec.BaseAny2VecModel\n",
      " |      gensim.utils.SaveLoad\n",
      " |      builtins.object\n",
      " |  \n",
      " |  Methods defined here:\n",
      " |  \n",
      " |  __getitem__(self, tag)\n",
      " |      Get the vector representation of (possible multi-term) tag.\n",
      " |      \n",
      " |      Parameters\n",
      " |      ----------\n",
      " |      tag : {str, int, list of str, list of int}\n",
      " |          The tag (or tags) to be looked up in the model.\n",
      " |      \n",
      " |      Returns\n",
      " |      -------\n",
      " |      np.ndarray\n",
      " |          The vector representations of each tag as a matrix (will be 1D if `tag` was a single tag)\n",
      " |  \n",
      " |  __init__(self, documents=None, corpus_file=None, dm_mean=None, dm=1, dbow_words=0, dm_concat=0, dm_tag_count=1, docvecs=None, docvecs_mapfile=None, comment=None, trim_rule=None, callbacks=(), **kwargs)\n",
      " |      Parameters\n",
      " |      ----------\n",
      " |      documents : iterable of list of :class:`~gensim.models.doc2vec.TaggedDocument`, optional\n",
      " |          Input corpus, can be simply a list of elements, but for larger corpora,consider an iterable that streams\n",
      " |          the documents directly from disk/network. If you don't supply `documents`, the model is\n",
      " |          left uninitialized -- use if you plan to initialize it in some other way.\n",
      " |      corpus_file : str, optional\n",
      " |          Path to a corpus file in :class:`~gensim.models.word2vec.LineSentence` format.\n",
      " |          You may use this argument instead of `sentences` to get performance boost. Only one of `sentences` or\n",
      " |          `corpus_file` arguments need to be passed (or none of them).\n",
      " |      dm : {1,0}, optional\n",
      " |          Defines the training algorithm. If `dm=1`, 'distributed memory' (PV-DM) is used.\n",
      " |          Otherwise, `distributed bag of words` (PV-DBOW) is employed.\n",
      " |      vector_size : int, optional\n",
      " |          Dimensionality of the feature vectors.\n",
      " |      window : int, optional\n",
      " |          The maximum distance between the current and predicted word within a sentence.\n",
      " |      alpha : float, optional\n",
      " |          The initial learning rate.\n",
      " |      min_alpha : float, optional\n",
      " |          Learning rate will linearly drop to `min_alpha` as training progresses.\n",
      " |      seed : int, optional\n",
      " |          Seed for the random number generator. Initial vectors for each word are seeded with a hash of\n",
      " |          the concatenation of word + `str(seed)`. Note that for a fully deterministically-reproducible run,\n",
      " |          you must also limit the model to a single worker thread (`workers=1`), to eliminate ordering jitter\n",
      " |          from OS thread scheduling.\n",
      " |          In Python 3, reproducibility between interpreter launches also requires use of the `PYTHONHASHSEED`\n",
      " |          environment variable to control hash randomization.\n",
      " |      min_count : int, optional\n",
      " |          Ignores all words with total frequency lower than this.\n",
      " |      max_vocab_size : int, optional\n",
      " |          Limits the RAM during vocabulary building; if there are more unique\n",
      " |          words than this, then prune the infrequent ones. Every 10 million word types need about 1GB of RAM.\n",
      " |          Set to `None` for no limit.\n",
      " |      sample : float, optional\n",
      " |          The threshold for configuring which higher-frequency words are randomly downsampled,\n",
      " |          useful range is (0, 1e-5).\n",
      " |      workers : int, optional\n",
      " |          Use these many worker threads to train the model (=faster training with multicore machines).\n",
      " |      epochs : int, optional\n",
      " |          Number of iterations (epochs) over the corpus.\n",
      " |      hs : {1,0}, optional\n",
      " |          If 1, hierarchical softmax will be used for model training.\n",
      " |          If set to 0, and `negative` is non-zero, negative sampling will be used.\n",
      " |      negative : int, optional\n",
      " |          If > 0, negative sampling will be used, the int for negative specifies how many \"noise words\"\n",
      " |          should be drawn (usually between 5-20).\n",
      " |          If set to 0, no negative sampling is used.\n",
      " |      ns_exponent : float, optional\n",
      " |          The exponent used to shape the negative sampling distribution. A value of 1.0 samples exactly in proportion\n",
      " |          to the frequencies, 0.0 samples all words equally, while a negative value samples low-frequency words more\n",
      " |          than high-frequency words. The popular default value of 0.75 was chosen by the original Word2Vec paper.\n",
      " |          More recently, in https://arxiv.org/abs/1804.04212, Caselles-Dupré, Lesaint, & Royo-Letelier suggest that\n",
      " |          other values may perform better for recommendation applications.\n",
      " |      dm_mean : {1,0}, optional\n",
      " |          If 0 , use the sum of the context word vectors. If 1, use the mean.\n",
      " |          Only applies when `dm` is used in non-concatenative mode.\n",
      " |      dm_concat : {1,0}, optional\n",
      " |          If 1, use concatenation of context vectors rather than sum/average;\n",
      " |          Note concatenation results in a much-larger model, as the input\n",
      " |          is no longer the size of one (sampled or arithmetically combined) word vector, but the\n",
      " |          size of the tag(s) and all words in the context strung together.\n",
      " |      dm_tag_count : int, optional\n",
      " |          Expected constant number of document tags per document, when using\n",
      " |          dm_concat mode.\n",
      " |      dbow_words : {1,0}, optional\n",
      " |          If set to 1 trains word-vectors (in skip-gram fashion) simultaneous with DBOW\n",
      " |          doc-vector training; If 0, only trains doc-vectors (faster).\n",
      " |      trim_rule : function, optional\n",
      " |          Vocabulary trimming rule, specifies whether certain words should remain in the vocabulary,\n",
      " |          be trimmed away, or handled using the default (discard if word count < min_count).\n",
      " |          Can be None (min_count will be used, look to :func:`~gensim.utils.keep_vocab_item`),\n",
      " |          or a callable that accepts parameters (word, count, min_count) and returns either\n",
      " |          :attr:`gensim.utils.RULE_DISCARD`, :attr:`gensim.utils.RULE_KEEP` or :attr:`gensim.utils.RULE_DEFAULT`.\n",
      " |          The rule, if given, is only used to prune vocabulary during current method call and is not stored as part\n",
      " |          of the model.\n",
      " |      \n",
      " |          The input parameters are of the following types:\n",
      " |              * `word` (str) - the word we are examining\n",
      " |              * `count` (int) - the word's frequency count in the corpus\n",
      " |              * `min_count` (int) - the minimum count threshold.\n",
      " |      \n",
      " |      callbacks : :obj: `list` of :obj: `~gensim.models.callbacks.CallbackAny2Vec`, optional\n",
      " |          List of callbacks that need to be executed/run at specific stages during training.\n",
      " |  \n",
      " |  __str__(self)\n",
      " |      Abbreviated name reflecting major configuration parameters.\n",
      " |      \n",
      " |      Returns\n",
      " |      -------\n",
      " |      str\n",
      " |          Human readable representation of the models internal state.\n",
      " |  \n",
      " |  build_vocab(self, documents=None, corpus_file=None, update=False, progress_per=10000, keep_raw_vocab=False, trim_rule=None, **kwargs)\n",
      " |      Build vocabulary from a sequence of sentences (can be a once-only generator stream).\n",
      " |      \n",
      " |      Parameters\n",
      " |      ----------\n",
      " |      documents : iterable of list of :class:`~gensim.models.doc2vec.TaggedDocument`, optional\n",
      " |          Can be simply a list of :class:`~gensim.models.doc2vec.TaggedDocument` elements, but for larger corpora,\n",
      " |          consider an iterable that streams the documents directly from disk/network.\n",
      " |          See :class:`~gensim.models.doc2vec.TaggedBrownCorpus` or :class:`~gensim.models.doc2vec.TaggedLineDocument`\n",
      " |      corpus_file : str, optional\n",
      " |          Path to a corpus file in :class:`~gensim.models.word2vec.LineSentence` format.\n",
      " |          You may use this argument instead of `sentences` to get performance boost. Only one of `sentences` or\n",
      " |          `corpus_file` arguments need to be passed (not both of them).\n",
      " |      update : bool\n",
      " |          If true, the new words in `sentences` will be added to model's vocab.\n",
      " |      progress_per : int\n",
      " |          Indicates how many words to process before showing/updating the progress.\n",
      " |      keep_raw_vocab : bool\n",
      " |          If not true, delete the raw vocabulary after the scaling is done and free up RAM.\n",
      " |      trim_rule : function, optional\n",
      " |          Vocabulary trimming rule, specifies whether certain words should remain in the vocabulary,\n",
      " |          be trimmed away, or handled using the default (discard if word count < min_count).\n",
      " |          Can be None (min_count will be used, look to :func:`~gensim.utils.keep_vocab_item`),\n",
      " |          or a callable that accepts parameters (word, count, min_count) and returns either\n",
      " |          :attr:`gensim.utils.RULE_DISCARD`, :attr:`gensim.utils.RULE_KEEP` or :attr:`gensim.utils.RULE_DEFAULT`.\n",
      " |          The rule, if given, is only used to prune vocabulary during current method call and is not stored as part\n",
      " |          of the model.\n",
      " |      \n",
      " |          The input parameters are of the following types:\n",
      " |              * `word` (str) - the word we are examining\n",
      " |              * `count` (int) - the word's frequency count in the corpus\n",
      " |              * `min_count` (int) - the minimum count threshold.\n",
      " |      \n",
      " |      **kwargs\n",
      " |          Additional key word arguments passed to the internal vocabulary construction.\n",
      " |  \n",
      " |  build_vocab_from_freq(self, word_freq, keep_raw_vocab=False, corpus_count=None, trim_rule=None, update=False)\n",
      " |      Build vocabulary from a dictionary of word frequencies.\n",
      " |      \n",
      " |      Build model vocabulary from a passed dictionary that contains a (word -> word count) mapping.\n",
      " |      Words must be of type unicode strings.\n",
      " |      \n",
      " |      Parameters\n",
      " |      ----------\n",
      " |      word_freq : dict of (str, int)\n",
      " |          Word <-> count mapping.\n",
      " |      keep_raw_vocab : bool, optional\n",
      " |          If not true, delete the raw vocabulary after the scaling is done and free up RAM.\n",
      " |      corpus_count : int, optional\n",
      " |          Even if no corpus is provided, this argument can set corpus_count explicitly.\n",
      " |      trim_rule : function, optional\n",
      " |          Vocabulary trimming rule, specifies whether certain words should remain in the vocabulary,\n",
      " |          be trimmed away, or handled using the default (discard if word count < min_count).\n",
      " |          Can be None (min_count will be used, look to :func:`~gensim.utils.keep_vocab_item`),\n",
      " |          or a callable that accepts parameters (word, count, min_count) and returns either\n",
      " |          :attr:`gensim.utils.RULE_DISCARD`, :attr:`gensim.utils.RULE_KEEP` or :attr:`gensim.utils.RULE_DEFAULT`.\n",
      " |          The rule, if given, is only used to prune vocabulary during\n",
      " |          :meth:`~gensim.models.doc2vec.Doc2Vec.build_vocab` and is not stored as part of the model.\n",
      " |      \n",
      " |          The input parameters are of the following types:\n",
      " |              * `word` (str) - the word we are examining\n",
      " |              * `count` (int) - the word's frequency count in the corpus\n",
      " |              * `min_count` (int) - the minimum count threshold.\n",
      " |      \n",
      " |      update : bool, optional\n",
      " |          If true, the new provided words in `word_freq` dict will be added to model's vocab.\n",
      " |  \n",
      " |  clear_sims(self)\n",
      " |      Resets the current word vectors.\n",
      " |  \n",
      " |  delete_temporary_training_data(self, keep_doctags_vectors=True, keep_inference=True)\n",
      " |      Discard parameters that are used in training and score. Use if you're sure you're done training a model.\n",
      " |      \n",
      " |      Parameters\n",
      " |      ----------\n",
      " |      keep_doctags_vectors : bool, optional\n",
      " |          Set to False if you don't want to save doctags vectors. In this case you will not be able to use\n",
      " |          :meth:`~gensim.models.keyedvectors.Doc2VecKeyedVectors.most_similar`,\n",
      " |          :meth:`~gensim.models.keyedvectors.Doc2VecKeyedVectors.similarity`, etc methods.\n",
      " |      keep_inference : bool, optional\n",
      " |          Set to False if you don't want to store parameters that are used for\n",
      " |          :meth:`~gensim.models.doc2vec.Doc2Vec.infer_vector` method.\n",
      " |  \n",
      " |  estimate_memory(self, vocab_size=None, report=None)\n",
      " |      Estimate required memory for a model using current settings.\n",
      " |      \n",
      " |      Parameters\n",
      " |      ----------\n",
      " |      vocab_size : int, optional\n",
      " |          Number of raw words in the vocabulary.\n",
      " |      report : dict of (str, int), optional\n",
      " |          A dictionary from string representations of the **specific** model's memory consuming members\n",
      " |          to their size in bytes.\n",
      " |      \n",
      " |      Returns\n",
      " |      -------\n",
      " |      dict of (str, int), optional\n",
      " |          A dictionary from string representations of the model's memory consuming members to their size in bytes.\n",
      " |          Includes members from the base classes as well as weights and tag lookup memory estimation specific to the\n",
      " |          class.\n",
      " |  \n",
      " |  estimated_lookup_memory(self)\n",
      " |      Get estimated memory for tag lookup, 0 if using pure int tags.\n",
      " |      \n",
      " |      Returns\n",
      " |      -------\n",
      " |      int\n",
      " |          The estimated RAM required to look up a tag in bytes.\n",
      " |  \n",
      " |  infer_vector(self, doc_words, alpha=None, min_alpha=None, epochs=None, steps=None)\n",
      " |      Infer a vector for given post-bulk training document.\n",
      " |      \n",
      " |      Notes\n",
      " |      -----\n",
      " |      Subsequent calls to this function may infer different representations for the same document.\n",
      " |      For a more stable representation, increase the number of steps to assert a stricket convergence.\n",
      " |      \n",
      " |      Parameters\n",
      " |      ----------\n",
      " |      doc_words : list of str\n",
      " |          A document for which the vector representation will be inferred.\n",
      " |      alpha : float, optional\n",
      " |          The initial learning rate. If unspecified, value from model initialization will be reused.\n",
      " |      min_alpha : float, optional\n",
      " |          Learning rate will linearly drop to `min_alpha` over all inference epochs. If unspecified,\n",
      " |          value from model initialization will be reused.\n",
      " |      epochs : int, optional\n",
      " |          Number of times to train the new document. Larger values take more time, but may improve\n",
      " |          quality and run-to-run stability of inferred vectors. If unspecified, the `epochs` value\n",
      " |          from model initialization will be reused.\n",
      " |      steps : int, optional, deprecated\n",
      " |          Previous name for `epochs`, still available for now for backward compatibility: if\n",
      " |          `epochs` is unspecified but `steps` is, the `steps` value will be used.\n",
      " |      \n",
      " |      Returns\n",
      " |      -------\n",
      " |      np.ndarray\n",
      " |          The inferred paragraph vector for the new document.\n",
      " |  \n",
      " |  init_sims(self, replace=False)\n",
      " |      Pre-compute L2-normalized vectors.\n",
      " |      \n",
      " |      Parameters\n",
      " |      ----------\n",
      " |      replace : bool\n",
      " |          If True - forget the original vectors and only keep the normalized ones to saved RAM (also you can't\n",
      " |          continue training if call it with `replace=True`).\n",
      " |  \n",
      " |  reset_from(self, other_model)\n",
      " |      Copy shareable data structures from another (possibly pre-trained) model.\n",
      " |      \n",
      " |      Parameters\n",
      " |      ----------\n",
      " |      other_model : :class:`~gensim.models.doc2vec.Doc2Vec`\n",
      " |          Other model whose internal data structures will be copied over to the current object.\n",
      " |  \n",
      " |  save_word2vec_format(self, fname, doctag_vec=False, word_vec=True, prefix='*dt_', fvocab=None, binary=False)\n",
      " |      Store the input-hidden weight matrix in the same format used by the original C word2vec-tool.\n",
      " |      \n",
      " |      Parameters\n",
      " |      ----------\n",
      " |      fname : str\n",
      " |          The file path used to save the vectors in.\n",
      " |      doctag_vec : bool, optional\n",
      " |          Indicates whether to store document vectors.\n",
      " |      word_vec : bool, optional\n",
      " |          Indicates whether to store word vectors.\n",
      " |      prefix : str, optional\n",
      " |          Uniquely identifies doctags from word vocab, and avoids collision in case of repeated string in doctag\n",
      " |          and word vocab.\n",
      " |      fvocab : str, optional\n",
      " |          Optional file path used to save the vocabulary.\n",
      " |      binary : bool, optional\n",
      " |          If True, the data wil be saved in binary word2vec format, otherwise - will be saved in plain text.\n",
      " |  \n",
      " |  train(self, documents=None, corpus_file=None, total_examples=None, total_words=None, epochs=None, start_alpha=None, end_alpha=None, word_count=0, queue_factor=2, report_delay=1.0, callbacks=())\n",
      " |      Update the model's neural weights.\n",
      " |      \n",
      " |      To support linear learning-rate decay from (initial) `alpha` to `min_alpha`, and accurate\n",
      " |      progress-percentage logging, either `total_examples` (count of sentences) or `total_words` (count of\n",
      " |      raw words in sentences) **MUST** be provided. If `sentences` is the same corpus\n",
      " |      that was provided to :meth:`~gensim.models.word2vec.Word2Vec.build_vocab` earlier,\n",
      " |      you can simply use `total_examples=self.corpus_count`.\n",
      " |      \n",
      " |      To avoid common mistakes around the model's ability to do multiple training passes itself, an\n",
      " |      explicit `epochs` argument **MUST** be provided. In the common and recommended case\n",
      " |      where :meth:`~gensim.models.word2vec.Word2Vec.train` is only called once,\n",
      " |      you can set `epochs=self.iter`.\n",
      " |      \n",
      " |      Parameters\n",
      " |      ----------\n",
      " |      documents : iterable of list of :class:`~gensim.models.doc2vec.TaggedDocument`, optional\n",
      " |          Can be simply a list of elements, but for larger corpora,consider an iterable that streams\n",
      " |          the documents directly from disk/network. If you don't supply `documents`, the model is\n",
      " |          left uninitialized -- use if you plan to initialize it in some other way.\n",
      " |      corpus_file : str, optional\n",
      " |          Path to a corpus file in :class:`~gensim.models.word2vec.LineSentence` format.\n",
      " |          You may use this argument instead of `sentences` to get performance boost. Only one of `sentences` or\n",
      " |          `corpus_file` arguments need to be passed (not both of them).\n",
      " |      total_examples : int, optional\n",
      " |          Count of sentences.\n",
      " |      total_words : int, optional\n",
      " |          Count of raw words in documents.\n",
      " |      epochs : int, optional\n",
      " |          Number of iterations (epochs) over the corpus.\n",
      " |      start_alpha : float, optional\n",
      " |          Initial learning rate. If supplied, replaces the starting `alpha` from the constructor,\n",
      " |          for this one call to `train`.\n",
      " |          Use only if making multiple calls to `train`, when you want to manage the alpha learning-rate yourself\n",
      " |          (not recommended).\n",
      " |      end_alpha : float, optional\n",
      " |          Final learning rate. Drops linearly from `start_alpha`.\n",
      " |          If supplied, this replaces the final `min_alpha` from the constructor, for this one call to\n",
      " |          :meth:`~gensim.models.doc2vec.Doc2Vec.train`.\n",
      " |          Use only if making multiple calls to :meth:`~gensim.models.doc2vec.Doc2Vec.train`, when you want to manage\n",
      " |          the alpha learning-rate yourself (not recommended).\n",
      " |      word_count : int, optional\n",
      " |          Count of words already trained. Set this to 0 for the usual\n",
      " |          case of training on all words in sentences.\n",
      " |      queue_factor : int, optional\n",
      " |          Multiplier for size of queue (number of workers * queue_factor).\n",
      " |      report_delay : float, optional\n",
      " |          Seconds to wait before reporting progress.\n",
      " |      callbacks : :obj: `list` of :obj: `~gensim.models.callbacks.CallbackAny2Vec`, optional\n",
      " |          List of callbacks that need to be executed/run at specific stages during training.\n",
      " |  \n",
      " |  ----------------------------------------------------------------------\n",
      " |  Class methods defined here:\n",
      " |  \n",
      " |  load(*args, **kwargs) from builtins.type\n",
      " |      Load a previously saved :class:`~gensim.models.doc2vec.Doc2Vec` model.\n",
      " |      \n",
      " |      Parameters\n",
      " |      ----------\n",
      " |      fname : str\n",
      " |          Path to the saved file.\n",
      " |      *args : object\n",
      " |          Additional arguments, see `~gensim.models.base_any2vec.BaseWordEmbeddingsModel.load`.\n",
      " |      **kwargs : object\n",
      " |          Additional arguments, see `~gensim.models.base_any2vec.BaseWordEmbeddingsModel.load`.\n",
      " |      \n",
      " |      See Also\n",
      " |      --------\n",
      " |      :meth:`~gensim.models.doc2vec.Doc2Vec.save`\n",
      " |          Save :class:`~gensim.models.doc2vec.Doc2Vec` model.\n",
      " |      \n",
      " |      Returns\n",
      " |      -------\n",
      " |      :class:`~gensim.models.doc2vec.Doc2Vec`\n",
      " |          Loaded model.\n",
      " |  \n",
      " |  ----------------------------------------------------------------------\n",
      " |  Data descriptors defined here:\n",
      " |  \n",
      " |  dbow\n",
      " |      Indicates whether 'distributed bag of words' (PV-DBOW) will be used, else 'distributed memory'\n",
      " |      (PV-DM) is used.\n",
      " |  \n",
      " |  dm\n",
      " |      Indicates whether 'distributed memory' (PV-DM) will be used, else 'distributed bag of words'\n",
      " |      (PV-DBOW) is used.\n",
      " |  \n",
      " |  ----------------------------------------------------------------------\n",
      " |  Methods inherited from gensim.models.base_any2vec.BaseWordEmbeddingsModel:\n",
      " |  \n",
      " |  doesnt_match(self, words)\n",
      " |      Deprecated, use self.wv.doesnt_match() instead.\n",
      " |      \n",
      " |      Refer to the documentation for :meth:`~gensim.models.keyedvectors.WordEmbeddingsKeyedVectors.doesnt_match`.\n",
      " |  \n",
      " |  evaluate_word_pairs(self, pairs, delimiter='\\t', restrict_vocab=300000, case_insensitive=True, dummy4unknown=False)\n",
      " |      Deprecated, use self.wv.evaluate_word_pairs() instead.\n",
      " |      \n",
      " |      Refer to the documentation for\n",
      " |      :meth:`~gensim.models.keyedvectors.WordEmbeddingsKeyedVectors.evaluate_word_pairs`.\n",
      " |  \n",
      " |  most_similar(self, positive=None, negative=None, topn=10, restrict_vocab=None, indexer=None)\n",
      " |      Deprecated, use self.wv.most_similar() instead.\n",
      " |      \n",
      " |      Refer to the documentation for :meth:`~gensim.models.keyedvectors.WordEmbeddingsKeyedVectors.most_similar`.\n",
      " |  \n",
      " |  most_similar_cosmul(self, positive=None, negative=None, topn=10)\n",
      " |      Deprecated, use self.wv.most_similar_cosmul() instead.\n",
      " |      \n",
      " |      Refer to the documentation for\n",
      " |      :meth:`~gensim.models.keyedvectors.WordEmbeddingsKeyedVectors.most_similar_cosmul`.\n",
      " |  \n",
      " |  n_similarity(self, ws1, ws2)\n",
      " |      Deprecated, use self.wv.n_similarity() instead.\n",
      " |      \n",
      " |      Refer to the documentation for :meth:`~gensim.models.keyedvectors.WordEmbeddingsKeyedVectors.n_similarity`.\n",
      " |  \n",
      " |  similar_by_vector(self, vector, topn=10, restrict_vocab=None)\n",
      " |      Deprecated, use self.wv.similar_by_vector() instead.\n",
      " |      \n",
      " |      Refer to the documentation for :meth:`~gensim.models.keyedvectors.WordEmbeddingsKeyedVectors.similar_by_vector`.\n",
      " |  \n",
      " |  similar_by_word(self, word, topn=10, restrict_vocab=None)\n",
      " |      Deprecated, use self.wv.similar_by_word() instead.\n",
      " |      \n",
      " |      Refer to the documentation for :meth:`~gensim.models.keyedvectors.WordEmbeddingsKeyedVectors.similar_by_word`.\n",
      " |  \n",
      " |  similarity(self, w1, w2)\n",
      " |      Deprecated, use self.wv.similarity() instead.\n",
      " |      \n",
      " |      Refer to the documentation for :meth:`~gensim.models.keyedvectors.WordEmbeddingsKeyedVectors.similarity`.\n",
      " |  \n",
      " |  wmdistance(self, document1, document2)\n",
      " |      Deprecated, use self.wv.wmdistance() instead.\n",
      " |      \n",
      " |      Refer to the documentation for :meth:`~gensim.models.keyedvectors.WordEmbeddingsKeyedVectors.wmdistance`.\n",
      " |  \n",
      " |  ----------------------------------------------------------------------\n",
      " |  Data descriptors inherited from gensim.models.base_any2vec.BaseWordEmbeddingsModel:\n",
      " |  \n",
      " |  cum_table\n",
      " |  \n",
      " |  hashfxn\n",
      " |  \n",
      " |  iter\n",
      " |  \n",
      " |  layer1_size\n",
      " |  \n",
      " |  min_count\n",
      " |  \n",
      " |  sample\n",
      " |  \n",
      " |  syn0_lockf\n",
      " |  \n",
      " |  syn1\n",
      " |  \n",
      " |  syn1neg\n",
      " |  \n",
      " |  ----------------------------------------------------------------------\n",
      " |  Methods inherited from gensim.models.base_any2vec.BaseAny2VecModel:\n",
      " |  \n",
      " |  save(self, fname_or_handle, **kwargs)\n",
      " |      \"Save the object to file.\n",
      " |      \n",
      " |      Parameters\n",
      " |      ----------\n",
      " |      fname_or_handle : {str, file-like object}\n",
      " |          Path to file where the model will be persisted.\n",
      " |      **kwargs : object\n",
      " |          Key word arguments propagated to :meth:`~gensim.utils.SaveLoad.save`.\n",
      " |      \n",
      " |      See Also\n",
      " |      --------\n",
      " |      :meth:`~gensim.models.base_any2vec.BaseAny2VecModel.load`\n",
      " |          Method for load model after current method.\n",
      " |  \n",
      " |  ----------------------------------------------------------------------\n",
      " |  Data descriptors inherited from gensim.utils.SaveLoad:\n",
      " |  \n",
      " |  __dict__\n",
      " |      dictionary for instance variables (if defined)\n",
      " |  \n",
      " |  __weakref__\n",
      " |      list of weak references to the object (if defined)\n",
      "\n"
     ]
    }
   ],
   "source": [
    "help(Doc2Vec)"
   ]
  },
  {
   "cell_type": "code",
   "execution_count": 71,
   "metadata": {},
   "outputs": [
    {
     "name": "stdout",
     "output_type": "stream",
     "text": [
      "doc2vec shape:  (11314, 32)\n",
      "Wall time: 1min 52s\n"
     ]
    }
   ],
   "source": [
    "%%time\n",
    "for epoch in range(100):\n",
    "    doc2vec_model.train(textLabeled, total_examples=doc2vec_model.corpus_count, epochs=1)\n",
    "    doc2vec_model.alpha -= 0.0001  # decrease the learning rate\n",
    "    doc2vec_model.min_alpha = doc2vec_model.alpha  # fix the learning rate, no decay\n",
    "\n",
    "print ('doc2vec shape: ',doc2vec_model.docvecs.vectors_docs.shape)"
   ]
  },
  {
   "cell_type": "code",
   "execution_count": 72,
   "metadata": {},
   "outputs": [],
   "source": [
    "textVect = doc2vec_model.docvecs.vectors_docs"
   ]
  },
  {
   "cell_type": "code",
   "execution_count": 73,
   "metadata": {},
   "outputs": [
    {
     "data": {
      "text/plain": [
       "KMeans(algorithm='auto', copy_x=True, init='k-means++', max_iter=1000,\n",
       "    n_clusters=20, n_init=10, n_jobs=None, precompute_distances='auto',\n",
       "    random_state=None, tol=0.0001, verbose=0)"
      ]
     },
     "execution_count": 73,
     "metadata": {},
     "output_type": "execute_result"
    }
   ],
   "source": [
    "kmd2v = KMeans(n_clusters=n_components, max_iter=1000)\n",
    "kmd2v.fit(textVect)"
   ]
  },
  {
   "cell_type": "code",
   "execution_count": 74,
   "metadata": {},
   "outputs": [
    {
     "name": "stdout",
     "output_type": "stream",
     "text": [
      "0.30481812421363685\n",
      "0.3427858743327324\n",
      "0.32268901197512756\n",
      "0.1115551609548136\n"
     ]
    }
   ],
   "source": [
    "print(homogeneity_score(data_labels, kmd2v.labels_))\n",
    "print(completeness_score(data_labels, kmd2v.labels_))\n",
    "print(v_measure_score(data_labels, kmd2v.labels_))\n",
    "print(adjusted_rand_score(data_labels, kmd2v.labels_))"
   ]
  },
  {
   "cell_type": "markdown",
   "metadata": {},
   "source": [
    "## Explore embed dim"
   ]
  },
  {
   "cell_type": "code",
   "execution_count": 75,
   "metadata": {},
   "outputs": [
    {
     "name": "stdout",
     "output_type": "stream",
     "text": [
      "Wall time: 7min 54s\n"
     ]
    }
   ],
   "source": [
    "%%time\n",
    "d2v_results = []\n",
    "parameter_name = 'embed_dim'\n",
    "for embed_dim in [16, 32, 48, 64]:\n",
    "    parameter = embed_dim\n",
    "    doc2vec_model = Doc2Vec(vector_size=embed_dim, window=10, dbow_words = 1, min_count=2,  alpha=0.025,  min_alpha=0.025)\n",
    "    doc2vec_model.build_vocab(textLabeled)\n",
    "    for epoch in range(100):\n",
    "        doc2vec_model.train(textLabeled, total_examples=doc2vec_model.corpus_count, epochs=1)\n",
    "        doc2vec_model.alpha -= 0.0001  # decrease the learning rate\n",
    "        doc2vec_model.min_alpha = doc2vec_model.alpha  # fix the learning rate, no decay\n",
    "    textVect = doc2vec_model.docvecs.vectors_docs\n",
    "    kmd2v = KMeans(n_clusters=n_components, max_iter=1000)\n",
    "    kmd2v.fit(textVect)\n",
    "    d2v_results.append(compute_metrics(data_labels, kmd2v.labels_, parameter))\n"
   ]
  },
  {
   "cell_type": "code",
   "execution_count": 76,
   "metadata": {},
   "outputs": [],
   "source": [
    "df_d2v = pd.DataFrame.from_records(d2v_results, columns = [parameter_name, 'Homogeneity','Completeness',\n",
    "                                                       'V_Measure', 'Adjusted_Rand_Index'])"
   ]
  },
  {
   "cell_type": "code",
   "execution_count": 77,
   "metadata": {},
   "outputs": [
    {
     "data": {
      "image/png": "[encoded data removed]",
      "text/plain": [
       "<Figure size 720x504 with 1 Axes>"
      ]
     },
     "metadata": {},
     "output_type": "display_data"
    }
   ],
   "source": [
    "plt.figure(figsize=(10,7))\n",
    "plt.plot(df_d2v[parameter_name], df_d2v.Homogeneity)\n",
    "plt.plot(df_d2v[parameter_name], df_d2v.Completeness)\n",
    "plt.plot(df_d2v[parameter_name], df_d2v.V_Measure)\n",
    "plt.plot(df_d2v[parameter_name], df_d2v.Adjusted_Rand_Index)\n",
    "plt.xlabel(parameter_name)\n",
    "plt.legend()\n",
    "plt.show()"
   ]
  },
  {
   "cell_type": "code",
   "execution_count": 119,
   "metadata": {},
   "outputs": [],
   "source": [
    "optimal_vector_size = 16"
   ]
  },
  {
   "cell_type": "markdown",
   "metadata": {},
   "source": [
    "## Explore window"
   ]
  },
  {
   "cell_type": "code",
   "execution_count": 120,
   "metadata": {},
   "outputs": [
    {
     "name": "stdout",
     "output_type": "stream",
     "text": [
      "Wall time: 8min 51s\n"
     ]
    }
   ],
   "source": [
    "%%time\n",
    "d2v_results = []\n",
    "parameter_name = 'window'\n",
    "for window in [2,4,6,8,10]:\n",
    "    parameter = window\n",
    "    doc2vec_model = Doc2Vec(vector_size=optimal_vector_size, window=window, dbow_words = 1, min_count=2, \n",
    "                            alpha=0.025,  min_alpha=0.025)\n",
    "    doc2vec_model.build_vocab(textLabeled)\n",
    "    for epoch in range(100):\n",
    "        doc2vec_model.train(textLabeled, total_examples=doc2vec_model.corpus_count, epochs=1)\n",
    "        doc2vec_model.alpha -= 0.0001  # decrease the learning rate\n",
    "        doc2vec_model.min_alpha = doc2vec_model.alpha  # fix the learning rate, no decay\n",
    "    textVect = doc2vec_model.docvecs.vectors_docs\n",
    "    kmd2v = KMeans(n_clusters=n_components, max_iter=1000)\n",
    "    kmd2v.fit(textVect)\n",
    "    d2v_results.append(compute_metrics(data_labels, kmd2v.labels_, parameter))\n"
   ]
  },
  {
   "cell_type": "code",
   "execution_count": 121,
   "metadata": {},
   "outputs": [],
   "source": [
    "df_d2v = pd.DataFrame.from_records(d2v_results, columns = [parameter_name, 'Homogeneity','Completeness',\n",
    "                                                       'V_Measure', 'Adjusted_Rand_Index'])"
   ]
  },
  {
   "cell_type": "code",
   "execution_count": 122,
   "metadata": {},
   "outputs": [
    {
     "data": {
      "image/png": "[encoded data removed]",
      "text/plain": [
       "<Figure size 720x504 with 1 Axes>"
      ]
     },
     "metadata": {},
     "output_type": "display_data"
    }
   ],
   "source": [
    "plt.figure(figsize=(10,7))\n",
    "plt.plot(df_d2v[parameter_name], df_d2v.Homogeneity)\n",
    "plt.plot(df_d2v[parameter_name], df_d2v.Completeness)\n",
    "plt.plot(df_d2v[parameter_name], df_d2v.V_Measure)\n",
    "plt.plot(df_d2v[parameter_name], df_d2v.Adjusted_Rand_Index)\n",
    "plt.xlabel(parameter_name)\n",
    "plt.legend()\n",
    "plt.show()"
   ]
  },
  {
   "cell_type": "code",
   "execution_count": 123,
   "metadata": {},
   "outputs": [],
   "source": [
    "optimal_window = 2"
   ]
  },
  {
   "cell_type": "code",
   "execution_count": 124,
   "metadata": {},
   "outputs": [
    {
     "name": "stdout",
     "output_type": "stream",
     "text": [
      "Wall time: 1min 43s\n"
     ]
    }
   ],
   "source": [
    "%%time\n",
    "doc2vec_model = Doc2Vec(vector_size=optimal_vector_size, window=optimal_window, dbow_words = 1, \n",
    "                        min_count=2,  alpha=0.025,  min_alpha=0.025)\n",
    "doc2vec_model.build_vocab(textLabeled)\n",
    "for epoch in range(100):\n",
    "    doc2vec_model.train(textLabeled, total_examples=doc2vec_model.corpus_count, epochs=1)\n",
    "    doc2vec_model.alpha -= 0.0001  # decrease the learning rate\n",
    "    doc2vec_model.min_alpha = doc2vec_model.alpha  # fix the learning rate, no decay\n",
    "textVect = doc2vec_model.docvecs.vectors_docs\n",
    "kmd2v = KMeans(n_clusters=n_components, max_iter=1000)\n",
    "kmd2v.fit(textVect)\n"
   ]
  },
  {
   "cell_type": "code",
   "execution_count": 125,
   "metadata": {},
   "outputs": [],
   "source": [
    "homogeneity = homogeneity_score(data_labels, kmd2v.labels_)\n",
    "completeness = completeness_score(data_labels, kmd2v.labels_)\n",
    "v_measure = v_measure_score(data_labels, kmd2v.labels_)\n",
    "adjusted_rand = adjusted_rand_score(data_labels, kmd2v.labels_)"
   ]
  },
  {
   "cell_type": "code",
   "execution_count": 126,
   "metadata": {},
   "outputs": [
    {
     "name": "stdout",
     "output_type": "stream",
     "text": [
      "0.4455271888433004\n",
      "0.4670297038446718\n",
      "0.45602511520644884\n",
      "0.26228278724826587\n"
     ]
    }
   ],
   "source": [
    "print(homogeneity)\n",
    "print(completeness)\n",
    "print(v_measure)\n",
    "print(adjusted_rand)"
   ]
  },
  {
   "cell_type": "code",
   "execution_count": 127,
   "metadata": {},
   "outputs": [],
   "source": [
    "results['Doc2vec'] = [homogeneity, completeness, v_measure, adjusted_rand ]"
   ]
  },
  {
   "cell_type": "code",
   "execution_count": 128,
   "metadata": {},
   "outputs": [],
   "source": [
    "newsgroup_map = {}\n",
    "for i in range(n_components):\n",
    "    out = np.unique(np.array(data_labels)[np.array(kmd2v.labels_ ) == i], return_counts=True)\n",
    "    index = np.argmax(out[1])\n",
    "    newsgroup_map[i] = data_label_names[out[0][index]]"
   ]
  },
  {
   "cell_type": "code",
   "execution_count": 129,
   "metadata": {},
   "outputs": [
    {
     "data": {
      "text/plain": [
       "{0: 'sci.space',\n",
       " 1: 'comp.graphics',\n",
       " 2: 'comp.windows.x',\n",
       " 3: 'talk.politics.mideast',\n",
       " 4: 'sci.crypt',\n",
       " 5: 'rec.autos',\n",
       " 6: 'comp.sys.mac.hardware',\n",
       " 7: 'alt.atheism',\n",
       " 8: 'talk.politics.guns',\n",
       " 9: 'rec.sport.hockey',\n",
       " 10: 'soc.religion.christian',\n",
       " 11: 'rec.sport.hockey',\n",
       " 12: 'rec.autos',\n",
       " 13: 'rec.sport.baseball',\n",
       " 14: 'comp.os.ms-windows.misc',\n",
       " 15: 'comp.os.ms-windows.misc',\n",
       " 16: 'misc.forsale',\n",
       " 17: 'talk.politics.misc',\n",
       " 18: 'rec.sport.baseball',\n",
       " 19: 'sci.med'}"
      ]
     },
     "execution_count": 129,
     "metadata": {},
     "output_type": "execute_result"
    }
   ],
   "source": [
    "newsgroup_map"
   ]
  },
  {
   "cell_type": "markdown",
   "metadata": {},
   "source": [
    "### Topics in Doc2vec model "
   ]
  },
  {
   "cell_type": "code",
   "execution_count": 130,
   "metadata": {},
   "outputs": [
    {
     "name": "stdout",
     "output_type": "stream",
     "text": [
      "Topic#  sci.space space would one nasa also launch program time think us president know get first new satellite system orbit earth like\n",
      "Topic#  comp.graphics edu image graphics com use would ftp available also data software files windows file mail version like program one jpeg\n",
      "Topic#  comp.windows.x file window program use output get entry edu widget one server motif using set available also display com line application\n",
      "Topic#  talk.politics.mideast people one armenian would said armenians turkish israel jews us know war israeli like time even could first two say\n",
      "Topic#  sci.crypt key db encryption would one use chip clipper system government keys privacy security public people information law like data get\n",
      "Topic#  rec.autos one car would like get bike good use much well time know also used new back may think cars two\n",
      "Topic#  comp.sys.mac.hardware scsi one drive card use would bit like mac get know system also drives disk data hard need speed bus\n",
      "Topic#  alt.atheism people one would think god like many know say well even believe us religion may good true could also see\n",
      "Topic#  talk.politics.guns gun would people one file right guns law well like get firearms think crime police use state control even know\n",
      "Topic#  rec.sport.hockey period pts la pp power play pt gm pit stl det van scorer vs nyr chi bos tor nj buf\n",
      "Topic#  soc.religion.christian god one jesus would people believe bible say think us also know church faith may christ even time see christian\n",
      "Topic#  rec.sport.hockey team game hockey season games would play one nhl players year get league think new like go first teams last\n",
      "Topic#  rec.autos one would know like edu thanks anyone get could also think please time people much use say right us new\n",
      "Topic#  rec.sport.baseball one like would know get time dod think please good people could right see mail go anyone edu new well\n",
      "Topic#  comp.os.ms-windows.misc windows drive problem use system dos get one know would file using disk like card thanks also driver anyone work\n",
      "Topic#  comp.os.ms-windows.misc max pl cx bhj giz wm chz bxn ah sl gk scx lk qq mq ax bj uw mv mw\n",
      "Topic#  misc.forsale new one price sale like shipping good please dos offer edu also would mail used get condition thanks card best\n",
      "Topic#  talk.politics.misc would people one think government mr know president like stephanopoulos get make us time going well could want right say\n",
      "Topic#  rec.sport.baseball year good would one game team last think better first games season well hit like runs players time league two\n",
      "Topic#  sci.med one would people medical health use get like also patients know disease food msg years time cancer may think many\n"
     ]
    }
   ],
   "source": [
    "from collections import Counter\n",
    "for i in range(n_components):\n",
    "    topic_docs = np.array(data_samples)[np.array(kmd2v.labels_ ) == i]\n",
    "    words = []\n",
    "    for doc in topic_docs:\n",
    "        words.extend(doc.split())\n",
    "    count = Counter(words)\n",
    "    common_words = [x[0] for x in count.most_common()[:n_top_words]]\n",
    "    print('Topic# ', newsgroup_map[i], ' '.join(common_words) )"
   ]
  },
  {
   "cell_type": "markdown",
   "metadata": {},
   "source": [
    "# Compare All Results"
   ]
  },
  {
   "cell_type": "code",
   "execution_count": 131,
   "metadata": {},
   "outputs": [],
   "source": [
    "index = ['homogeneity', 'completeness', 'v_measure', 'adjusted_rand' ]"
   ]
  },
  {
   "cell_type": "code",
   "execution_count": 136,
   "metadata": {},
   "outputs": [],
   "source": [
    "df_results = pd.DataFrame(results, index = index)"
   ]
  },
  {
   "cell_type": "code",
   "execution_count": 137,
   "metadata": {},
   "outputs": [
    {
     "data": {
      "text/html": [
       "<div>\n",
       "<style scoped>\n",
       "    .dataframe tbody tr th:only-of-type {\n",
       "        vertical-align: middle;\n",
       "    }\n",
       "\n",
       "    .dataframe tbody tr th {\n",
       "        vertical-align: top;\n",
       "    }\n",
       "\n",
       "    .dataframe thead th {\n",
       "        text-align: right;\n",
       "    }\n",
       "</style>\n",
       "<table border=\"1\" class=\"dataframe\">\n",
       "  <thead>\n",
       "    <tr style=\"text-align: right;\">\n",
       "      <th></th>\n",
       "      <th>NMF Frobenius Norm</th>\n",
       "      <th>NMF Kullback-Leibler</th>\n",
       "      <th>LDA</th>\n",
       "      <th>KMeans</th>\n",
       "      <th>Doc2vec</th>\n",
       "    </tr>\n",
       "  </thead>\n",
       "  <tbody>\n",
       "    <tr>\n",
       "      <th>homogeneity</th>\n",
       "      <td>0.244329</td>\n",
       "      <td>0.197505</td>\n",
       "      <td>0.265059</td>\n",
       "      <td>0.219999</td>\n",
       "      <td>0.445527</td>\n",
       "    </tr>\n",
       "    <tr>\n",
       "      <th>completeness</th>\n",
       "      <td>0.255034</td>\n",
       "      <td>0.200702</td>\n",
       "      <td>0.286802</td>\n",
       "      <td>0.260475</td>\n",
       "      <td>0.467030</td>\n",
       "    </tr>\n",
       "    <tr>\n",
       "      <th>v_measure</th>\n",
       "      <td>0.249567</td>\n",
       "      <td>0.199091</td>\n",
       "      <td>0.275502</td>\n",
       "      <td>0.238532</td>\n",
       "      <td>0.456025</td>\n",
       "    </tr>\n",
       "    <tr>\n",
       "      <th>adjusted_rand</th>\n",
       "      <td>0.128803</td>\n",
       "      <td>0.109121</td>\n",
       "      <td>0.134435</td>\n",
       "      <td>0.058573</td>\n",
       "      <td>0.262283</td>\n",
       "    </tr>\n",
       "  </tbody>\n",
       "</table>\n",
       "</div>"
      ],
      "text/plain": [
       "               NMF Frobenius Norm  NMF Kullback-Leibler       LDA    KMeans  \\\n",
       "homogeneity              0.244329              0.197505  0.265059  0.219999   \n",
       "completeness             0.255034              0.200702  0.286802  0.260475   \n",
       "v_measure                0.249567              0.199091  0.275502  0.238532   \n",
       "adjusted_rand            0.128803              0.109121  0.134435  0.058573   \n",
       "\n",
       "                Doc2vec  \n",
       "homogeneity    0.445527  \n",
       "completeness   0.467030  \n",
       "v_measure      0.456025  \n",
       "adjusted_rand  0.262283  "
      ]
     },
     "execution_count": 137,
     "metadata": {},
     "output_type": "execute_result"
    }
   ],
   "source": [
    "df_results"
   ]
  },
  {
   "cell_type": "code",
   "execution_count": 138,
   "metadata": {},
   "outputs": [],
   "source": [
    "#df_results.to_csv('data/20 News Topic modeling results.csv')"
   ]
  },
  {
   "cell_type": "code",
   "execution_count": 139,
   "metadata": {},
   "outputs": [
    {
     "data": {
      "image/png": "[encoded data removed]",
      "text/plain": [
       "<Figure size 720x504 with 1 Axes>"
      ]
     },
     "metadata": {},
     "output_type": "display_data"
    }
   ],
   "source": [
    "plt.figure(figsize=(10,7))\n",
    "for col in df_results:\n",
    "    plt.plot(index, df_results[col], 'o')\n",
    "\n",
    "plt.legend()\n",
    "plt.show()"
   ]
  },
  {
   "cell_type": "markdown",
   "metadata": {},
   "source": [
    "# Doc2vec is clearly the winner"
   ]
  },
  {
   "cell_type": "code",
   "execution_count": null,
   "metadata": {},
   "outputs": [],
   "source": []
  }
 ],
 "metadata": {
  "kernelspec": {
   "display_name": "Python 3",
   "language": "python",
   "name": "python3"
  },
  "language_info": {
   "codemirror_mode": {
    "name": "ipython",
    "version": 3
   },
   "file_extension": ".py",
   "mimetype": "text/x-python",
   "name": "python",
   "nbconvert_exporter": "python",
   "pygments_lexer": "ipython3",
   "version": "3.6.5"
  }
 },
 "nbformat": 4,
 "nbformat_minor": 2
}
